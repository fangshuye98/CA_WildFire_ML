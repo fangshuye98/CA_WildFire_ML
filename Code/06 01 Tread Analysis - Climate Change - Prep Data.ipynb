{
 "cells": [
  {
   "cell_type": "code",
   "execution_count": 2,
   "id": "97059701",
   "metadata": {},
   "outputs": [
    {
     "data": {
      "text/plain": [
       "0"
      ]
     },
     "execution_count": 2,
     "metadata": {},
     "output_type": "execute_result"
    }
   ],
   "source": [
    "# Force garbage collection\n",
    "import gc\n",
    "gc.collect()"
   ]
  },
  {
   "cell_type": "code",
   "execution_count": 1,
   "id": "aa08bc43",
   "metadata": {},
   "outputs": [],
   "source": [
    "import pandas as pd\n",
    "import matplotlib.pyplot as plt\n",
    "import pickle\n",
    "import os"
   ]
  },
  {
   "cell_type": "code",
   "execution_count": 3,
   "id": "8a9f9d35",
   "metadata": {},
   "outputs": [],
   "source": [
    "features = pd.read_parquet('../Clean_Data/Weather_Data_w_Veg_Filter_FOD_FPA_Fire_12KM_Merged_Cleaned_Completed_LogDensity_2001_2020.parquet')\n",
    "features.rename(columns={'Band1': 'population_density'}, inplace=True)\n",
    "features['date'] = features['day'].dt.strftime('%m-%d')\n",
    "# features['date'] = features['day'].astype(str).str[5:10]"
   ]
  },
  {
   "cell_type": "code",
   "execution_count": 4,
   "id": "e2c1f215",
   "metadata": {},
   "outputs": [
    {
     "data": {
      "text/plain": [
       "lon                                                 float64\n",
       "lat                                                 float64\n",
       "day                                          datetime64[ns]\n",
       "dead_fuel_moisture_1000hr                           float32\n",
       "dead_fuel_moisture_100hr                            float32\n",
       "pdsi_pre_interpolated                               float32\n",
       "pdsi_class                                          float32\n",
       "max_air_temperature                                 float64\n",
       "max_relative_humidity                               float32\n",
       "max_wind_speed                                      float32\n",
       "min_air_temperature                                 float64\n",
       "min_relative_humidity                               float32\n",
       "precipitation_amount                                float32\n",
       "specific_humidity                                   float32\n",
       "surface_downwelling_shortwave_flux_in_air           float32\n",
       "wind_from_direction                                 float32\n",
       "wind_speed                                          float32\n",
       "wind_direction_category                            category\n",
       "SWE                                                 float32\n",
       "population_density                                  float32\n",
       "LAI                                                 float32\n",
       "pdsi                                                float32\n",
       "population_density_log                              float32\n",
       "date                                                 object\n",
       "dtype: object"
      ]
     },
     "execution_count": 4,
     "metadata": {},
     "output_type": "execute_result"
    }
   ],
   "source": [
    "features.dtypes"
   ]
  },
  {
   "cell_type": "code",
   "execution_count": 5,
   "id": "e9e39dba",
   "metadata": {},
   "outputs": [],
   "source": [
    "weather_features = ['dead_fuel_moisture_1000hr',\n",
    "       'dead_fuel_moisture_100hr', \n",
    "       'max_air_temperature', \n",
    "       'max_relative_humidity', \n",
    "       #'max_wind_speed',\n",
    "       'min_air_temperature', \n",
    "       'min_relative_humidity', \n",
    "       'precipitation_amount',\n",
    "       'specific_humidity', 'surface_downwelling_shortwave_flux_in_air',\n",
    "       'wind_from_direction', \n",
    "       'wind_speed', \n",
    "       #'wind_direction_category', \n",
    "       'SWE', # snow water equivalent\n",
    "       #'population_density_log',\n",
    "       #'population_density',\n",
    "       #'Band1', \n",
    "       #'LAI', # leaf area index\n",
    "       'pdsi' \n",
    "       #'IS_FIRE', \n",
    "       #'NWCG_CAUSE_CLASSIFICATION',\n",
    "       #'min_FIRE_SIZE', 'max_FIRE_SIZE', 'Year','veg_type_details','fire_attribute', \n",
    "       #'veg', \n",
    "       #'slope_avg', \n",
    "       #'slope_max',\n",
    "       #'road_density_km_km2' \n",
    "       #'road_density_km_km2_log'\n",
    "       ]"
   ]
  },
  {
   "cell_type": "code",
   "execution_count": 6,
   "id": "3245eb38",
   "metadata": {},
   "outputs": [
    {
     "data": {
      "text/plain": [
       "Index(['lon', 'lat', 'day', 'dead_fuel_moisture_1000hr',\n",
       "       'dead_fuel_moisture_100hr', 'pdsi_pre_interpolated', 'pdsi_class',\n",
       "       'max_air_temperature', 'max_relative_humidity', 'max_wind_speed',\n",
       "       'min_air_temperature', 'min_relative_humidity', 'precipitation_amount',\n",
       "       'specific_humidity', 'surface_downwelling_shortwave_flux_in_air',\n",
       "       'wind_from_direction', 'wind_speed', 'wind_direction_category', 'SWE',\n",
       "       'population_density', 'LAI', 'pdsi', 'population_density_log', 'date'],\n",
       "      dtype='object')"
      ]
     },
     "execution_count": 6,
     "metadata": {},
     "output_type": "execute_result"
    }
   ],
   "source": [
    "features.columns"
   ]
  },
  {
   "cell_type": "code",
   "execution_count": 7,
   "id": "8f88f719",
   "metadata": {},
   "outputs": [
    {
     "name": "stdout",
     "output_type": "stream",
     "text": [
      "Missing values in dead_fuel_moisture_1000hr: 0\n",
      "Missing values in dead_fuel_moisture_100hr: 0\n",
      "Missing values in max_air_temperature: 0\n",
      "Missing values in max_relative_humidity: 0\n",
      "Missing values in min_air_temperature: 0\n",
      "Missing values in min_relative_humidity: 0\n",
      "Missing values in precipitation_amount: 0\n",
      "Missing values in specific_humidity: 0\n",
      "Missing values in surface_downwelling_shortwave_flux_in_air: 0\n",
      "Missing values in wind_from_direction: 0\n",
      "Missing values in wind_speed: 0\n",
      "Missing values in SWE: 0\n",
      "Missing values in pdsi: 0\n"
     ]
    }
   ],
   "source": [
    "for col in weather_features:\n",
    "    print(f\"Missing values in {col}: {features[col].isna().sum()}\")"
   ]
  },
  {
   "cell_type": "code",
   "execution_count": 8,
   "id": "48521496",
   "metadata": {},
   "outputs": [],
   "source": [
    "# group by lon, lat, calculate mean for each col in weather_features\n",
    "features_grouped = features.groupby(['lon', 'lat','date'])[weather_features].mean().reset_index()"
   ]
  },
  {
   "cell_type": "code",
   "execution_count": 10,
   "id": "112e65ae",
   "metadata": {},
   "outputs": [],
   "source": [
    "save_path = '../Clean_Data/climatology'\n",
    "# check if the directory exists, if not create it\n",
    "if not os.path.exists(save_path):\n",
    "    os.makedirs(save_path)"
   ]
  },
  {
   "cell_type": "code",
   "execution_count": 11,
   "id": "8c47a6ed",
   "metadata": {},
   "outputs": [],
   "source": [
    "# save to parquet file\n",
    "features_grouped.to_parquet(os.path.join(save_path, 'climatology_2001_2020.parquet'), index=False)"
   ]
  },
  {
   "cell_type": "markdown",
   "id": "23b2efbf",
   "metadata": {},
   "source": [
    "check data"
   ]
  },
  {
   "cell_type": "markdown",
   "id": "1f7e945c",
   "metadata": {},
   "source": [
    "wind direction (not in use)"
   ]
  },
  {
   "cell_type": "code",
   "execution_count": null,
   "id": "fc3e91e7",
   "metadata": {},
   "outputs": [],
   "source": [
    "wind_direction_ranges = {\n",
    "    'N': (337.5, 22.5),\n",
    "    'NE': (22.5, 67.5),\n",
    "    'E': (67.5, 112.5),\n",
    "    'SE': (112.5, 157.5),\n",
    "    'S': (157.5, 202.5),\n",
    "    'SW': (202.5, 247.5),\n",
    "    'W': (247.5, 292.5),\n",
    "    'NW': (292.5, 337.5)\n",
    "}"
   ]
  },
  {
   "cell_type": "code",
   "execution_count": null,
   "id": "5f91c293",
   "metadata": {},
   "outputs": [],
   "source": [
    "# Initialize the wind_direction_category column with None\n",
    "features_grouped['wind_direction_category'] = None\n",
    "\n",
    "# Use numpy to create boolean masks for each wind direction category\n",
    "wind_from_direction = features_grouped['wind_from_direction'].values\n",
    "\n",
    "# Mask for North (N)\n",
    "mask_N = (wind_from_direction >= 337.5) | (wind_from_direction < 22.5)\n",
    "features_grouped.loc[mask_N, 'wind_direction_category'] = 'N'\n",
    "\n",
    "# Masks for other directions\n",
    "for category, (min_angle, max_angle) in wind_direction_ranges.items():\n",
    "    if category != 'N':\n",
    "        mask = (wind_from_direction >= min_angle) & (wind_from_direction < max_angle)\n",
    "        features_grouped.loc[mask, 'wind_direction_category'] = category"
   ]
  },
  {
   "cell_type": "code",
   "execution_count": null,
   "id": "94774251",
   "metadata": {},
   "outputs": [],
   "source": [
    "# order the wind_direction_category from N to NW\n",
    "wind_direction_order = ['N', 'NE', 'E', 'SE', 'S', 'SW', 'W', 'NW']\n",
    "features_grouped['wind_direction_category'] = pd.Categorical(features_grouped['wind_direction_category'], categories=wind_direction_order, ordered=True)"
   ]
  }
 ],
 "metadata": {
  "kernelspec": {
   "display_name": "py311",
   "language": "python",
   "name": "python3"
  },
  "language_info": {
   "codemirror_mode": {
    "name": "ipython",
    "version": 3
   },
   "file_extension": ".py",
   "mimetype": "text/x-python",
   "name": "python",
   "nbconvert_exporter": "python",
   "pygments_lexer": "ipython3",
   "version": "3.11.9"
  }
 },
 "nbformat": 4,
 "nbformat_minor": 5
}
