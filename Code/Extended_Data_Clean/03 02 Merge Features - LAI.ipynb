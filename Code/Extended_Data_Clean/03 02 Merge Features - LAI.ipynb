{
 "cells": [
  {
   "cell_type": "code",
   "execution_count": 3,
   "metadata": {},
   "outputs": [],
   "source": [
    "import pandas as pd\n",
    "import geopandas as gpd\n",
    "import xarray as xr\n",
    "import pyproj\n",
    "from tqdm import tqdm\n",
    "import numpy as np\n",
    "import os"
   ]
  },
  {
   "cell_type": "code",
   "execution_count": 1,
   "metadata": {},
   "outputs": [],
   "source": [
    "import matplotlib.pyplot as plt"
   ]
  },
  {
   "cell_type": "code",
   "execution_count": 4,
   "metadata": {},
   "outputs": [
    {
     "name": "stdout",
     "output_type": "stream",
     "text": [
      "Python version\n",
      "3.11.9 | packaged by Anaconda, Inc. | (main, Apr 19 2024, 16:40:41) [MSC v.1916 64 bit (AMD64)]\n",
      "Pandas version\n",
      "2.2.2\n",
      "Geopandas version\n",
      "0.14.2\n",
      "Xarray version\n",
      "2023.6.0\n",
      "Pyproj version\n",
      "3.6.1\n"
     ]
    }
   ],
   "source": [
    "# check python version and all packages version\n",
    "def check_python_version():\n",
    "    import sys\n",
    "    print(\"Python version\")\n",
    "    print (sys.version)\n",
    "    print(\"Pandas version\")\n",
    "    print(pd.__version__)\n",
    "    print(\"Geopandas version\")\n",
    "    print(gpd.__version__)\n",
    "    print(\"Xarray version\")\n",
    "    print(xr.__version__)\n",
    "    print(\"Pyproj version\")\n",
    "    print(pyproj.__version__)\n",
    "\n",
    "check_python_version()"
   ]
  },
  {
   "cell_type": "code",
   "execution_count": 5,
   "metadata": {},
   "outputs": [
    {
     "data": {
      "text/plain": [
       "['LAI.parquet']"
      ]
     },
     "execution_count": 5,
     "metadata": {},
     "output_type": "execute_result"
    }
   ],
   "source": [
    "input_path = '../../Clean_Data/Extended_Data_w_Veg_Filter/Vegetation'\n",
    "# list files\n",
    "files = os.listdir(input_path)\n",
    "files"
   ]
  },
  {
   "cell_type": "code",
   "execution_count": 6,
   "metadata": {},
   "outputs": [],
   "source": [
    "file_name = files[0]  # Change this to the specific file you want to read\n",
    "lai_dat = pd.read_parquet(os.path.join(input_path, file_name))"
   ]
  },
  {
   "cell_type": "code",
   "execution_count": 7,
   "metadata": {},
   "outputs": [
    {
     "data": {
      "text/plain": [
       "(147037409, 4)"
      ]
     },
     "execution_count": 7,
     "metadata": {},
     "output_type": "execute_result"
    }
   ],
   "source": [
    "lai_dat.shape"
   ]
  },
  {
   "cell_type": "code",
   "execution_count": 8,
   "metadata": {},
   "outputs": [
    {
     "data": {
      "text/plain": [
       "time    0.000000\n",
       "lat     0.000000\n",
       "lon     0.000000\n",
       "LAI     0.055762\n",
       "dtype: float64"
      ]
     },
     "execution_count": 8,
     "metadata": {},
     "output_type": "execute_result"
    }
   ],
   "source": [
    "# missing rate\n",
    "lai_dat.isnull().mean()"
   ]
  },
  {
   "cell_type": "code",
   "execution_count": 9,
   "metadata": {},
   "outputs": [
    {
     "data": {
      "text/plain": [
       "time    datetime64[ns]\n",
       "lat            float64\n",
       "lon            float64\n",
       "LAI            float64\n",
       "dtype: object"
      ]
     },
     "execution_count": 9,
     "metadata": {},
     "output_type": "execute_result"
    }
   ],
   "source": [
    "lai_dat.dtypes"
   ]
  },
  {
   "cell_type": "code",
   "execution_count": 10,
   "metadata": {},
   "outputs": [
    {
     "name": "stdout",
     "output_type": "stream",
     "text": [
      "1994-01-01 00:00:00\n",
      "2021-12-27 00:00:00\n"
     ]
    }
   ],
   "source": [
    "# check min and max of time\n",
    "print(lai_dat['time'].min())\n",
    "print(lai_dat['time'].max())"
   ]
  },
  {
   "cell_type": "code",
   "execution_count": 11,
   "metadata": {},
   "outputs": [
    {
     "data": {
      "text/plain": [
       "147037409"
      ]
     },
     "execution_count": 11,
     "metadata": {},
     "output_type": "execute_result"
    }
   ],
   "source": [
    "lai_dat.shape[0]"
   ]
  },
  {
   "cell_type": "code",
   "execution_count": 10,
   "metadata": {},
   "outputs": [
    {
     "data": {
      "text/plain": [
       "147037409"
      ]
     },
     "execution_count": 10,
     "metadata": {},
     "output_type": "execute_result"
    }
   ],
   "source": [
    "lai_dat[['time','lat','lon']].drop_duplicates().shape[0]"
   ]
  },
  {
   "cell_type": "code",
   "execution_count": 12,
   "metadata": {},
   "outputs": [],
   "source": [
    "# assert error if time, lat, lon are not unique\n",
    "assert lai_dat[['time','lat','lon']].drop_duplicates().shape[0] == lai_dat.shape[0], \"Time, lat, lon are not unique\""
   ]
  },
  {
   "cell_type": "markdown",
   "metadata": {},
   "source": [
    "## MERGE w the WEATHER WEATHER DATA"
   ]
  },
  {
   "cell_type": "code",
   "execution_count": 13,
   "metadata": {},
   "outputs": [],
   "source": [
    "input_path = '../../Clean_Data/Extended_Feature_Data/'\n",
    "file_name = 'Weather_Data_w_Veg_SubRegion_Filter_Merged_Add_population.parquet'\n",
    "\n",
    "all_features = pd.read_parquet(f'{input_path}/{file_name}')"
   ]
  },
  {
   "cell_type": "code",
   "execution_count": 15,
   "metadata": {},
   "outputs": [
    {
     "data": {
      "text/plain": [
       "day                                          datetime64[ns]\n",
       "lat                                                 float64\n",
       "lon                                                 float64\n",
       "SWE                                                 float32\n",
       "year                                                  int32\n",
       "dead_fuel_moisture_1000hr                           float32\n",
       "dead_fuel_moisture_100hr                            float32\n",
       "max_air_temperature                                 float64\n",
       "max_relative_humidity                               float32\n",
       "min_air_temperature                                 float64\n",
       "min_relative_humidity                               float32\n",
       "precipitation_amount                                float32\n",
       "specific_humidity                                   float32\n",
       "surface_downwelling_shortwave_flux_in_air           float32\n",
       "wind_from_direction                                 float32\n",
       "wind_speed                                          float32\n",
       "population_density                                  float64\n",
       "dtype: object"
      ]
     },
     "execution_count": 15,
     "metadata": {},
     "output_type": "execute_result"
    }
   ],
   "source": [
    "all_features.dtypes"
   ]
  },
  {
   "cell_type": "code",
   "execution_count": 17,
   "metadata": {},
   "outputs": [
    {
     "name": "stdout",
     "output_type": "stream",
     "text": [
      "Min day: 1994-01-01 00:00:00, Max day: 2021-12-27 00:00:00\n"
     ]
    }
   ],
   "source": [
    "# rename time to day in lai_dat\n",
    "lai_dat.rename(columns={'time': 'day'}, inplace=True)\n",
    "# print min and max of day in a sentence\n",
    "print(f\"Min day: {lai_dat['day'].min()}, Max day: {lai_dat['day'].max()}\")"
   ]
  },
  {
   "cell_type": "code",
   "execution_count": 18,
   "metadata": {},
   "outputs": [
    {
     "name": "stdout",
     "output_type": "stream",
     "text": [
      "Min day: 1994-01-01 00:00:00, Max day: 2020-09-30 00:00:00\n"
     ]
    }
   ],
   "source": [
    "print(f\"Min day: {all_features['day'].min()}, Max day: {all_features['day'].max()}\")"
   ]
  },
  {
   "cell_type": "code",
   "execution_count": 16,
   "metadata": {},
   "outputs": [
    {
     "name": "stdout",
     "output_type": "stream",
     "text": [
      "Shape of all_features: (127478960, 17)\n"
     ]
    }
   ],
   "source": [
    "# print shape of all_features\n",
    "print(f\"Shape of all_features: {all_features.shape}\")"
   ]
  },
  {
   "cell_type": "code",
   "execution_count": 19,
   "metadata": {},
   "outputs": [],
   "source": [
    "# left join all_features and population_dat by ['lon', 'lat', 'day']\n",
    "all_features = pd.merge(all_features, lai_dat, on=['lon', 'lat', 'day'], how='left')"
   ]
  },
  {
   "cell_type": "code",
   "execution_count": 20,
   "metadata": {},
   "outputs": [
    {
     "name": "stdout",
     "output_type": "stream",
     "text": [
      "Shape of all_features after merge: (127478960, 18)\n"
     ]
    }
   ],
   "source": [
    "print(f\"Shape of all_features after merge: {all_features.shape}\")"
   ]
  },
  {
   "cell_type": "code",
   "execution_count": 21,
   "metadata": {},
   "outputs": [
    {
     "data": {
      "text/plain": [
       "day                                          0.000000\n",
       "lat                                          0.000000\n",
       "lon                                          0.000000\n",
       "SWE                                          0.017091\n",
       "year                                         0.000000\n",
       "dead_fuel_moisture_1000hr                    0.001678\n",
       "dead_fuel_moisture_100hr                     0.001678\n",
       "max_air_temperature                          0.001169\n",
       "max_relative_humidity                        0.001678\n",
       "min_air_temperature                          0.001169\n",
       "min_relative_humidity                        0.001678\n",
       "precipitation_amount                         0.573698\n",
       "specific_humidity                            0.001678\n",
       "surface_downwelling_shortwave_flux_in_air    0.001678\n",
       "wind_from_direction                          0.002679\n",
       "wind_speed                                   0.001678\n",
       "population_density                           0.000766\n",
       "LAI                                          0.030399\n",
       "dtype: float64"
      ]
     },
     "execution_count": 21,
     "metadata": {},
     "output_type": "execute_result"
    }
   ],
   "source": [
    "all_features.isnull().mean()"
   ]
  },
  {
   "cell_type": "code",
   "execution_count": 22,
   "metadata": {},
   "outputs": [],
   "source": [
    "input_path = '../../Clean_Data/Extended_Feature_Data/'\n",
    "file_name =  'Weather_Data_w_Veg_SubRegion_Filter_Merged_Add_population_lai.parquet'\n",
    "\n",
    "# save the merged dataframe to parquet\n",
    "all_features.to_parquet(f'{input_path}/{file_name}', index=False)"
   ]
  },
  {
   "cell_type": "code",
   "execution_count": null,
   "metadata": {},
   "outputs": [],
   "source": []
  }
 ],
 "metadata": {
  "kernelspec": {
   "display_name": "py311",
   "language": "python",
   "name": "python3"
  },
  "language_info": {
   "codemirror_mode": {
    "name": "ipython",
    "version": 3
   },
   "file_extension": ".py",
   "mimetype": "text/x-python",
   "name": "python",
   "nbconvert_exporter": "python",
   "pygments_lexer": "ipython3",
   "version": "3.11.9"
  }
 },
 "nbformat": 4,
 "nbformat_minor": 2
}
