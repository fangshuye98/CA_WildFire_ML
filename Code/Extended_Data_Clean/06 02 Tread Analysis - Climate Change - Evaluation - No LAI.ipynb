{
 "cells": [
  {
   "cell_type": "code",
   "execution_count": 1,
   "id": "97059701",
   "metadata": {},
   "outputs": [
    {
     "data": {
      "text/plain": [
       "41"
      ]
     },
     "execution_count": 1,
     "metadata": {},
     "output_type": "execute_result"
    }
   ],
   "source": [
    "# Force garbage collection\n",
    "import gc\n",
    "gc.collect()"
   ]
  },
  {
   "cell_type": "code",
   "execution_count": 2,
   "id": "aa08bc43",
   "metadata": {},
   "outputs": [],
   "source": [
    "import pandas as pd\n",
    "import geopandas as gpd\n",
    "import xarray as xr\n",
    "from tqdm import tqdm\n",
    "import numpy as np\n",
    "import os\n",
    "import matplotlib.pyplot as plt\n",
    "import xgboost as xgb"
   ]
  },
  {
   "cell_type": "code",
   "execution_count": 3,
   "id": "9cd13759",
   "metadata": {},
   "outputs": [],
   "source": [
    "import pickle"
   ]
  },
  {
   "cell_type": "code",
   "execution_count": 4,
   "id": "afa1e314",
   "metadata": {},
   "outputs": [],
   "source": [
    "data_path = '../../Clean_Data/climatology'\n",
    "reference_weather = pd.read_parquet(os.path.join(data_path, 'climatology_2001_2020_06292025_w_lai.parquet'))\n",
    "reference_weather = reference_weather.drop(columns=['LAI'])"
   ]
  },
  {
   "cell_type": "code",
   "execution_count": 5,
   "id": "f7783240",
   "metadata": {},
   "outputs": [
    {
     "data": {
      "text/plain": [
       "Index(['lon', 'lat', 'date', 'dead_fuel_moisture_1000hr',\n",
       "       'dead_fuel_moisture_100hr', 'max_air_temperature',\n",
       "       'max_relative_humidity', 'min_air_temperature', 'min_relative_humidity',\n",
       "       'precipitation_amount', 'specific_humidity',\n",
       "       'surface_downwelling_shortwave_flux_in_air', 'wind_speed', 'SWE'],\n",
       "      dtype='object')"
      ]
     },
     "execution_count": 5,
     "metadata": {},
     "output_type": "execute_result"
    }
   ],
   "source": [
    "reference_weather.columns"
   ]
  },
  {
   "cell_type": "code",
   "execution_count": 6,
   "id": "9b56e827",
   "metadata": {},
   "outputs": [],
   "source": [
    "# check if lon, lat, date are unique\n",
    "assert reference_weather[['lon', 'lat', 'date']].drop_duplicates().shape[0] == reference_weather.shape[0], \"Lon, lat, date should be unique\""
   ]
  },
  {
   "cell_type": "code",
   "execution_count": 7,
   "id": "8023253d",
   "metadata": {},
   "outputs": [],
   "source": [
    "significant_tread_variables =['dead_fuel_moisture_1000hr',\n",
    "       'dead_fuel_moisture_100hr', \n",
    "       'max_air_temperature', \n",
    "       'max_relative_humidity', \n",
    "       'min_air_temperature', \n",
    "       'min_relative_humidity', \n",
    "       'precipitation_amount',\n",
    "       'specific_humidity', \n",
    "       'surface_downwelling_shortwave_flux_in_air',\n",
    "       'wind_speed', \n",
    "       'SWE'\n",
    "       ]"
   ]
  },
  {
   "cell_type": "code",
   "execution_count": 8,
   "id": "fc3e91e7",
   "metadata": {},
   "outputs": [],
   "source": [
    "for var in significant_tread_variables:\n",
    "    if var not in reference_weather.columns:\n",
    "        print(f\"{var} not found in reference data\")"
   ]
  },
  {
   "cell_type": "code",
   "execution_count": 9,
   "id": "26c226f1",
   "metadata": {},
   "outputs": [
    {
     "data": {
      "text/plain": [
       "(4771454, 14)"
      ]
     },
     "execution_count": 9,
     "metadata": {},
     "output_type": "execute_result"
    }
   ],
   "source": [
    "reference_weather.shape"
   ]
  },
  {
   "cell_type": "code",
   "execution_count": 10,
   "id": "de714c08",
   "metadata": {},
   "outputs": [
    {
     "data": {
      "text/plain": [
       "lon                                          float64\n",
       "lat                                          float64\n",
       "date                                          object\n",
       "dead_fuel_moisture_1000hr                    float32\n",
       "dead_fuel_moisture_100hr                     float32\n",
       "max_air_temperature                          float64\n",
       "max_relative_humidity                        float32\n",
       "min_air_temperature                          float64\n",
       "min_relative_humidity                        float32\n",
       "precipitation_amount                         float32\n",
       "specific_humidity                            float32\n",
       "surface_downwelling_shortwave_flux_in_air    float32\n",
       "wind_speed                                   float32\n",
       "SWE                                          float32\n",
       "dtype: object"
      ]
     },
     "execution_count": 10,
     "metadata": {},
     "output_type": "execute_result"
    }
   ],
   "source": [
    "reference_weather.dtypes"
   ]
  },
  {
   "cell_type": "code",
   "execution_count": 11,
   "id": "3428249e",
   "metadata": {},
   "outputs": [],
   "source": [
    "reference_weather = reference_weather[['lon', 'lat', 'date'] + significant_tread_variables]"
   ]
  },
  {
   "cell_type": "code",
   "execution_count": 16,
   "id": "cdceda1b",
   "metadata": {},
   "outputs": [],
   "source": [
    "model_version = \"Extended_Data_Water_Year_no_riparian_desert_wetland_barren_group_veg\"\n",
    "model_path = f'../../Model/{model_version}'\n",
    "input_predictions_path = f'../../Clean_Data/Model_Data/Evaluation/Features_w_Label_w_pred/{model_version}/parquet'\n",
    "output_predictions_path = f'../../Clean_Data/Model_Data/Evaluation/Features_w_Label_w_pred/{model_version}/CLIM'  \n",
    "if not os.path.exists(output_predictions_path):\n",
    "    os.makedirs(output_predictions_path)"
   ]
  },
  {
   "cell_type": "code",
   "execution_count": 19,
   "id": "7fac9393",
   "metadata": {},
   "outputs": [
    {
     "name": "stderr",
     "output_type": "stream",
     "text": [
      "Processing years: 100%|██████████| 20/20 [15:24<00:00, 46.21s/it]\n"
     ]
    }
   ],
   "source": [
    "log_messages = []\n",
    "log_messages.append(\"Climate change evaluation\")\n",
    "# add log to record the current time\n",
    "log_messages.append(f\"Start time: {pd.Timestamp.now()}\")\n",
    "log_messages.append(\"The following variables are fixed at the average level for the climate change evaluation:\")\n",
    "log_messages.extend(significant_tread_variables)\n",
    "# Define the range of years\n",
    "years = range(2001, 2021)\n",
    "\n",
    "# Iterate over the years with a progress bar\n",
    "for yr in tqdm(years, desc=\"Processing years\"):\n",
    "    log_messages.append(\"-\" * 50)\n",
    "\n",
    "    Eval_data = pd.read_parquet(f'{input_predictions_path}/{yr}_predictions.parquet')\n",
    "    Eval_data['date'] = Eval_data['day'].dt.strftime('%m-%d')\n",
    "    # record shape of Eval_data\n",
    "    shape_before = Eval_data.shape\n",
    "    # log the day range of Eval_data\n",
    "    log_messages.append(f\"Day range of Eval_data for year {yr}: {Eval_data['day'].min()} to {Eval_data['day'].max()}\")\n",
    "    # drop significant_tread variables from Eval_data\n",
    "    Eval_data = Eval_data.drop(columns=significant_tread_variables)\n",
    "    # check the common columns in both dataframes and log the result\n",
    "    # common_columns = set(Eval_data.columns).intersection(set(reference_weather.columns))\n",
    "    # log_messages.append(f\"Common columns between reference weather and year {yr}: {common_columns}\")\n",
    "    # merge Eval_data with reference_weather on lon, lat, and date\n",
    "    Eval_data = Eval_data.merge(reference_weather, on=['lon', 'lat', 'date'], how='inner')\n",
    "    shape_after = Eval_data.shape\n",
    "    # assert error if before and after shapes are not the same: both shape[0] and shape[1] should be the same\n",
    "    if shape_before[0] != shape_after[0] or shape_before[1] != shape_after[1]:\n",
    "        raise ValueError(f\"Shape mismatch after merging for year {yr}: before {shape_before}, after {shape_after}\")\n",
    "\n",
    "    with open(f'{model_path}/predict_{yr}_6yr_model.pkl', 'rb') as f:\n",
    "        loaded_model = pickle.load(f)\n",
    "\n",
    "    features = loaded_model.get_booster().feature_names\n",
    "\n",
    "    # predict the probability sof fire for 2020 using the loaded model\n",
    "    Eval_data['predictions_update'] = loaded_model.predict_proba(Eval_data[features])[:, 1]\n",
    "\n",
    "    # save the predictions to a parquet file\n",
    "    Eval_data.to_parquet(f'{output_predictions_path}/{yr}_predictions.parquet', index=False)\n",
    "\n",
    "    # clean up memory\n",
    "    del Eval_data\n",
    "    gc.collect()"
   ]
  },
  {
   "cell_type": "code",
   "execution_count": 20,
   "id": "1b79e4ca",
   "metadata": {},
   "outputs": [],
   "source": [
    "# Save the log messages to a log file\n",
    "with open('../../Logs/Clean_Extended_Data/tread_analysis_Extended_Data_Water_Year_no_4_group_veg.txt', 'w') as log_file:\n",
    "    log_file.write('\\n'.join(log_messages))"
   ]
  },
  {
   "cell_type": "markdown",
   "id": "773325ab",
   "metadata": {},
   "source": [
    "case study"
   ]
  },
  {
   "cell_type": "code",
   "execution_count": 22,
   "id": "f5ac6e40",
   "metadata": {},
   "outputs": [],
   "source": [
    "input_parquet_path = f'../../Clean_Data/Model_Data/Evaluation/Features_w_Label_w_pred/{model_version}/CLIM'\n",
    "Eval_data = pd.read_parquet(f'{input_parquet_path}/2007_predictions.parquet')"
   ]
  },
  {
   "cell_type": "code",
   "execution_count": 23,
   "id": "8760ee27",
   "metadata": {},
   "outputs": [
    {
     "data": {
      "text/plain": [
       "day                                          datetime64[ns]\n",
       "lat                                                 float64\n",
       "lon                                                 float64\n",
       "year                                                  int32\n",
       "wind_from_direction                                 float32\n",
       "population_density                                  float64\n",
       "LAI                                                 float64\n",
       "IS_FIRE                                               int32\n",
       "min_FIRE_SIZE                                       float64\n",
       "max_FIRE_SIZE                                       float64\n",
       "fire_attribute                                       object\n",
       "veg                                                  object\n",
       "slope_avg                                           float32\n",
       "slope_max                                           float32\n",
       "road_density_km_km2                                 float64\n",
       "line_density_km_per_cell                            float64\n",
       "SubRegion                                            object\n",
       "wind_direction_category_N                              bool\n",
       "wind_direction_category_NE                             bool\n",
       "wind_direction_category_E                              bool\n",
       "wind_direction_category_SE                             bool\n",
       "wind_direction_category_S                              bool\n",
       "wind_direction_category_SW                             bool\n",
       "wind_direction_category_W                              bool\n",
       "wind_direction_category_NW                             bool\n",
       "veg_group_Chaparral                                    bool\n",
       "veg_group_Conifer Alpine                               bool\n",
       "veg_group_Conifer Forest                               bool\n",
       "veg_group_Grassland                                    bool\n",
       "veg_group_Oak Woodland                                 bool\n",
       "veg_group_Shrub                                        bool\n",
       "predictions                                         float32\n",
       "date                                                 object\n",
       "dead_fuel_moisture_1000hr                           float32\n",
       "dead_fuel_moisture_100hr                            float32\n",
       "max_air_temperature                                 float64\n",
       "max_relative_humidity                               float32\n",
       "min_air_temperature                                 float64\n",
       "min_relative_humidity                               float32\n",
       "precipitation_amount                                float32\n",
       "specific_humidity                                   float32\n",
       "surface_downwelling_shortwave_flux_in_air           float32\n",
       "wind_speed                                          float32\n",
       "SWE                                                 float32\n",
       "predictions_update                                  float32\n",
       "dtype: object"
      ]
     },
     "execution_count": 23,
     "metadata": {},
     "output_type": "execute_result"
    }
   ],
   "source": [
    "Eval_data.dtypes"
   ]
  },
  {
   "cell_type": "code",
   "execution_count": 24,
   "id": "3bb8dd39",
   "metadata": {},
   "outputs": [],
   "source": [
    "Eval_data['Month'] = Eval_data['day'].dt.month"
   ]
  },
  {
   "cell_type": "code",
   "execution_count": 25,
   "id": "df4aa56e",
   "metadata": {},
   "outputs": [
    {
     "data": {
      "text/html": [
       "<div>\n",
       "<style scoped>\n",
       "    .dataframe tbody tr th:only-of-type {\n",
       "        vertical-align: middle;\n",
       "    }\n",
       "\n",
       "    .dataframe tbody tr th {\n",
       "        vertical-align: top;\n",
       "    }\n",
       "\n",
       "    .dataframe thead th {\n",
       "        text-align: right;\n",
       "    }\n",
       "</style>\n",
       "<table border=\"1\" class=\"dataframe\">\n",
       "  <thead>\n",
       "    <tr style=\"text-align: right;\">\n",
       "      <th></th>\n",
       "      <th>Month</th>\n",
       "      <th>predictions_update_median</th>\n",
       "      <th>predictions_median</th>\n",
       "      <th>predictions_update_q25</th>\n",
       "      <th>predictions_q25</th>\n",
       "      <th>predictions_update_q75</th>\n",
       "      <th>predictions_q75</th>\n",
       "    </tr>\n",
       "  </thead>\n",
       "  <tbody>\n",
       "    <tr>\n",
       "      <th>0</th>\n",
       "      <td>1</td>\n",
       "      <td>0.000279</td>\n",
       "      <td>0.001196</td>\n",
       "      <td>0.000085</td>\n",
       "      <td>0.000237</td>\n",
       "      <td>0.001007</td>\n",
       "      <td>0.004119</td>\n",
       "    </tr>\n",
       "    <tr>\n",
       "      <th>1</th>\n",
       "      <td>2</td>\n",
       "      <td>0.000325</td>\n",
       "      <td>0.000639</td>\n",
       "      <td>0.000096</td>\n",
       "      <td>0.000143</td>\n",
       "      <td>0.001076</td>\n",
       "      <td>0.002451</td>\n",
       "    </tr>\n",
       "    <tr>\n",
       "      <th>2</th>\n",
       "      <td>3</td>\n",
       "      <td>0.000450</td>\n",
       "      <td>0.001904</td>\n",
       "      <td>0.000134</td>\n",
       "      <td>0.000471</td>\n",
       "      <td>0.001556</td>\n",
       "      <td>0.005349</td>\n",
       "    </tr>\n",
       "    <tr>\n",
       "      <th>3</th>\n",
       "      <td>4</td>\n",
       "      <td>0.001135</td>\n",
       "      <td>0.002996</td>\n",
       "      <td>0.000354</td>\n",
       "      <td>0.000959</td>\n",
       "      <td>0.003758</td>\n",
       "      <td>0.007924</td>\n",
       "    </tr>\n",
       "    <tr>\n",
       "      <th>4</th>\n",
       "      <td>5</td>\n",
       "      <td>0.004516</td>\n",
       "      <td>0.006821</td>\n",
       "      <td>0.001549</td>\n",
       "      <td>0.003075</td>\n",
       "      <td>0.011473</td>\n",
       "      <td>0.017080</td>\n",
       "    </tr>\n",
       "    <tr>\n",
       "      <th>5</th>\n",
       "      <td>6</td>\n",
       "      <td>0.008630</td>\n",
       "      <td>0.009726</td>\n",
       "      <td>0.004278</td>\n",
       "      <td>0.004903</td>\n",
       "      <td>0.022367</td>\n",
       "      <td>0.024875</td>\n",
       "    </tr>\n",
       "    <tr>\n",
       "      <th>6</th>\n",
       "      <td>7</td>\n",
       "      <td>0.011191</td>\n",
       "      <td>0.011497</td>\n",
       "      <td>0.006056</td>\n",
       "      <td>0.005788</td>\n",
       "      <td>0.030375</td>\n",
       "      <td>0.029954</td>\n",
       "    </tr>\n",
       "    <tr>\n",
       "      <th>7</th>\n",
       "      <td>8</td>\n",
       "      <td>0.009649</td>\n",
       "      <td>0.009960</td>\n",
       "      <td>0.005535</td>\n",
       "      <td>0.005322</td>\n",
       "      <td>0.026701</td>\n",
       "      <td>0.026750</td>\n",
       "    </tr>\n",
       "    <tr>\n",
       "      <th>8</th>\n",
       "      <td>9</td>\n",
       "      <td>0.007717</td>\n",
       "      <td>0.007180</td>\n",
       "      <td>0.004472</td>\n",
       "      <td>0.003785</td>\n",
       "      <td>0.020272</td>\n",
       "      <td>0.017773</td>\n",
       "    </tr>\n",
       "    <tr>\n",
       "      <th>9</th>\n",
       "      <td>10</td>\n",
       "      <td>0.004603</td>\n",
       "      <td>0.005896</td>\n",
       "      <td>0.002199</td>\n",
       "      <td>0.002828</td>\n",
       "      <td>0.011518</td>\n",
       "      <td>0.013496</td>\n",
       "    </tr>\n",
       "    <tr>\n",
       "      <th>10</th>\n",
       "      <td>11</td>\n",
       "      <td>0.001304</td>\n",
       "      <td>0.001577</td>\n",
       "      <td>0.000361</td>\n",
       "      <td>0.000347</td>\n",
       "      <td>0.003909</td>\n",
       "      <td>0.005215</td>\n",
       "    </tr>\n",
       "    <tr>\n",
       "      <th>11</th>\n",
       "      <td>12</td>\n",
       "      <td>0.000288</td>\n",
       "      <td>0.000532</td>\n",
       "      <td>0.000077</td>\n",
       "      <td>0.000114</td>\n",
       "      <td>0.001108</td>\n",
       "      <td>0.002303</td>\n",
       "    </tr>\n",
       "  </tbody>\n",
       "</table>\n",
       "</div>"
      ],
      "text/plain": [
       "    Month  predictions_update_median  predictions_median  \\\n",
       "0       1                   0.000279            0.001196   \n",
       "1       2                   0.000325            0.000639   \n",
       "2       3                   0.000450            0.001904   \n",
       "3       4                   0.001135            0.002996   \n",
       "4       5                   0.004516            0.006821   \n",
       "5       6                   0.008630            0.009726   \n",
       "6       7                   0.011191            0.011497   \n",
       "7       8                   0.009649            0.009960   \n",
       "8       9                   0.007717            0.007180   \n",
       "9      10                   0.004603            0.005896   \n",
       "10     11                   0.001304            0.001577   \n",
       "11     12                   0.000288            0.000532   \n",
       "\n",
       "    predictions_update_q25  predictions_q25  predictions_update_q75  \\\n",
       "0                 0.000085         0.000237                0.001007   \n",
       "1                 0.000096         0.000143                0.001076   \n",
       "2                 0.000134         0.000471                0.001556   \n",
       "3                 0.000354         0.000959                0.003758   \n",
       "4                 0.001549         0.003075                0.011473   \n",
       "5                 0.004278         0.004903                0.022367   \n",
       "6                 0.006056         0.005788                0.030375   \n",
       "7                 0.005535         0.005322                0.026701   \n",
       "8                 0.004472         0.003785                0.020272   \n",
       "9                 0.002199         0.002828                0.011518   \n",
       "10                0.000361         0.000347                0.003909   \n",
       "11                0.000077         0.000114                0.001108   \n",
       "\n",
       "    predictions_q75  \n",
       "0          0.004119  \n",
       "1          0.002451  \n",
       "2          0.005349  \n",
       "3          0.007924  \n",
       "4          0.017080  \n",
       "5          0.024875  \n",
       "6          0.029954  \n",
       "7          0.026750  \n",
       "8          0.017773  \n",
       "9          0.013496  \n",
       "10         0.005215  \n",
       "11         0.002303  "
      ]
     },
     "execution_count": 25,
     "metadata": {},
     "output_type": "execute_result"
    }
   ],
   "source": [
    "Eval_reset_climate_grouped = Eval_data.groupby('Month').agg(\n",
    "    predictions_update_median=('predictions_update', 'median'),\n",
    "     predictions_median=('predictions', 'median'),\n",
    "    predictions_update_q25=('predictions_update', lambda x: x.quantile(0.25)),\n",
    "    predictions_q25=('predictions', lambda x: x.quantile(0.25)),\n",
    "    predictions_update_q75=('predictions_update', lambda x: x.quantile(0.75)), \n",
    "    predictions_q75=('predictions', lambda x: x.quantile(0.75))\n",
    ").reset_index()\n",
    "\n",
    "Eval_reset_climate_grouped"
   ]
  },
  {
   "cell_type": "code",
   "execution_count": null,
   "id": "f338323d",
   "metadata": {},
   "outputs": [],
   "source": []
  }
 ],
 "metadata": {
  "kernelspec": {
   "display_name": "py311",
   "language": "python",
   "name": "python3"
  },
  "language_info": {
   "codemirror_mode": {
    "name": "ipython",
    "version": 3
   },
   "file_extension": ".py",
   "mimetype": "text/x-python",
   "name": "python",
   "nbconvert_exporter": "python",
   "pygments_lexer": "ipython3",
   "version": "3.11.9"
  }
 },
 "nbformat": 4,
 "nbformat_minor": 5
}
