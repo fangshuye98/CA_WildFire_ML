{
 "cells": [
  {
   "cell_type": "code",
   "execution_count": 1,
   "metadata": {},
   "outputs": [],
   "source": [
    "import pandas as pd\n",
    "import geopandas as gpd\n",
    "import xarray as xr\n",
    "import pyproj\n",
    "from tqdm import tqdm\n",
    "import numpy as np\n",
    "import os\n",
    "import matplotlib.pyplot as plt\n",
    "import cartopy.crs as ccrs\n",
    "import cartopy.feature as cfeature"
   ]
  },
  {
   "cell_type": "code",
   "execution_count": 2,
   "metadata": {},
   "outputs": [
    {
     "name": "stdout",
     "output_type": "stream",
     "text": [
      "Python version\n",
      "3.11.9 | packaged by Anaconda, Inc. | (main, Apr 19 2024, 16:40:41) [MSC v.1916 64 bit (AMD64)]\n",
      "Pandas version\n",
      "2.2.2\n",
      "Geopandas version\n",
      "0.14.2\n",
      "Xarray version\n",
      "2023.6.0\n",
      "Pyproj version\n",
      "3.6.1\n"
     ]
    }
   ],
   "source": [
    "# check python version and all packages version\n",
    "def check_python_version():\n",
    "    import sys\n",
    "    print(\"Python version\")\n",
    "    print (sys.version)\n",
    "    print(\"Pandas version\")\n",
    "    print(pd.__version__)\n",
    "    print(\"Geopandas version\")\n",
    "    print(gpd.__version__)\n",
    "    print(\"Xarray version\")\n",
    "    print(xr.__version__)\n",
    "    print(\"Pyproj version\")\n",
    "    print(pyproj.__version__)\n",
    "\n",
    "check_python_version()"
   ]
  },
  {
   "cell_type": "code",
   "execution_count": 3,
   "metadata": {},
   "outputs": [],
   "source": [
    "fire_label = pd.read_parquet('../Clean_Data/Model_Data/fire_label_fod_fpa_2001_2020_downsample.parquet')\n",
    "fire_label_OOT = pd.read_parquet('../Clean_Data/Model_Data/fire_label_fod_fpa_2020_OOT.parquet')"
   ]
  },
  {
   "cell_type": "code",
   "execution_count": 4,
   "metadata": {},
   "outputs": [
    {
     "data": {
      "text/plain": [
       "((7264829, 4),\n",
       " lon               float64\n",
       " lat               float64\n",
       " day        datetime64[ns]\n",
       " IS_FIRE             int32\n",
       " dtype: object)"
      ]
     },
     "execution_count": 4,
     "metadata": {},
     "output_type": "execute_result"
    }
   ],
   "source": [
    "fire_label.shape, fire_label.dtypes"
   ]
  },
  {
   "cell_type": "code",
   "execution_count": 5,
   "metadata": {},
   "outputs": [
    {
     "data": {
      "text/plain": [
       "((5022540, 4),\n",
       " lon               float64\n",
       " lat               float64\n",
       " day        datetime64[ns]\n",
       " IS_FIRE             int32\n",
       " dtype: object)"
      ]
     },
     "execution_count": 5,
     "metadata": {},
     "output_type": "execute_result"
    }
   ],
   "source": [
    "fire_label_OOT.shape, fire_label_OOT.dtypes"
   ]
  },
  {
   "cell_type": "code",
   "execution_count": 6,
   "metadata": {},
   "outputs": [
    {
     "data": {
      "text/html": [
       "<div>\n",
       "<style scoped>\n",
       "    .dataframe tbody tr th:only-of-type {\n",
       "        vertical-align: middle;\n",
       "    }\n",
       "\n",
       "    .dataframe tbody tr th {\n",
       "        vertical-align: top;\n",
       "    }\n",
       "\n",
       "    .dataframe thead th {\n",
       "        text-align: right;\n",
       "    }\n",
       "</style>\n",
       "<table border=\"1\" class=\"dataframe\">\n",
       "  <thead>\n",
       "    <tr style=\"text-align: right;\">\n",
       "      <th></th>\n",
       "      <th>lon</th>\n",
       "      <th>lat</th>\n",
       "      <th>day</th>\n",
       "      <th>IS_FIRE</th>\n",
       "    </tr>\n",
       "  </thead>\n",
       "  <tbody>\n",
       "    <tr>\n",
       "      <th>197</th>\n",
       "      <td>-124.391667</td>\n",
       "      <td>40.441667</td>\n",
       "      <td>2001-07-17</td>\n",
       "      <td>1</td>\n",
       "    </tr>\n",
       "    <tr>\n",
       "      <th>1727</th>\n",
       "      <td>-124.391667</td>\n",
       "      <td>40.441667</td>\n",
       "      <td>2005-09-24</td>\n",
       "      <td>1</td>\n",
       "    </tr>\n",
       "    <tr>\n",
       "      <th>4592</th>\n",
       "      <td>-124.391667</td>\n",
       "      <td>40.441667</td>\n",
       "      <td>2014-07-30</td>\n",
       "      <td>1</td>\n",
       "    </tr>\n",
       "    <tr>\n",
       "      <th>10419</th>\n",
       "      <td>-124.391667</td>\n",
       "      <td>40.400000</td>\n",
       "      <td>2007-07-14</td>\n",
       "      <td>1</td>\n",
       "    </tr>\n",
       "    <tr>\n",
       "      <th>16506</th>\n",
       "      <td>-124.350000</td>\n",
       "      <td>40.566667</td>\n",
       "      <td>2001-03-14</td>\n",
       "      <td>1</td>\n",
       "    </tr>\n",
       "  </tbody>\n",
       "</table>\n",
       "</div>"
      ],
      "text/plain": [
       "              lon        lat        day  IS_FIRE\n",
       "197   -124.391667  40.441667 2001-07-17        1\n",
       "1727  -124.391667  40.441667 2005-09-24        1\n",
       "4592  -124.391667  40.441667 2014-07-30        1\n",
       "10419 -124.391667  40.400000 2007-07-14        1\n",
       "16506 -124.350000  40.566667 2001-03-14        1"
      ]
     },
     "execution_count": 6,
     "metadata": {},
     "output_type": "execute_result"
    }
   ],
   "source": [
    "fire_label.head()"
   ]
  },
  {
   "cell_type": "code",
   "execution_count": 7,
   "metadata": {},
   "outputs": [
    {
     "data": {
      "text/plain": [
       "0"
      ]
     },
     "execution_count": 7,
     "metadata": {},
     "output_type": "execute_result"
    }
   ],
   "source": [
    "# Force garbage collection\n",
    "import gc\n",
    "gc.collect()"
   ]
  },
  {
   "cell_type": "code",
   "execution_count": 8,
   "metadata": {},
   "outputs": [],
   "source": [
    "features = pd.read_parquet('../Clean_Data/Weather_Data_w_Veg_Filter_Fire_12KM_Merged.parquet')"
   ]
  },
  {
   "cell_type": "code",
   "execution_count": 10,
   "metadata": {},
   "outputs": [
    {
     "data": {
      "text/plain": [
       "lon                                                 float64\n",
       "lat                                                 float64\n",
       "day                                          datetime64[ns]\n",
       "dead_fuel_moisture_1000hr                           float32\n",
       "dead_fuel_moisture_100hr                            float32\n",
       "pdsi                                                float32\n",
       "category                                            float32\n",
       "air_temperature_x                                   float64\n",
       "relative_humidity_x                                 float32\n",
       "max_wind_speed                                      float32\n",
       "air_temperature_y                                   float64\n",
       "relative_humidity_y                                 float32\n",
       "precipitation_amount                                float32\n",
       "specific_humidity                                   float32\n",
       "surface_downwelling_shortwave_flux_in_air           float32\n",
       "wind_from_direction                                 float32\n",
       "wind_speed                                          float32\n",
       "dtype: object"
      ]
     },
     "execution_count": 10,
     "metadata": {},
     "output_type": "execute_result"
    }
   ],
   "source": [
    "features.dtypes"
   ]
  },
  {
   "cell_type": "code",
   "execution_count": 13,
   "metadata": {},
   "outputs": [
    {
     "data": {
      "image/png": "[encoded data removed]",
      "text/plain": [
       "<Figure size 640x480 with 1 Axes>"
      ]
     },
     "metadata": {},
     "output_type": "display_data"
    }
   ],
   "source": [
    "# sample 1347276 rows for plotting\n",
    "features_plot = features.sample(1347276)\n",
    "fig, ax = plt.subplots()\n",
    "features_plot.plot.scatter(x='pdsi', y='category', ax=ax)\n",
    "plt.show()"
   ]
  },
  {
   "cell_type": "code",
   "execution_count": 17,
   "metadata": {},
   "outputs": [
    {
     "data": {
      "text/plain": [
       "(3603, 16)"
      ]
     },
     "execution_count": 17,
     "metadata": {},
     "output_type": "execute_result"
    }
   ],
   "source": [
    "# check if air_temperature_x is always bigger than air_temperature_y\n",
    "features[features['air_temperature_x'] < features['air_temperature_y']].shape\n",
    "# WORTH TO NOTE"
   ]
  },
  {
   "cell_type": "code",
   "execution_count": 26,
   "metadata": {},
   "outputs": [],
   "source": [
    "# rename relative_humidity_x as max_relative_humidity and relative_humidity_y as min_relative_humidity\n",
    "features = features.rename(columns={'relative_humidity_x': 'max_relative_humidity', 'relative_humidity_y': 'min_relative_humidity'})\n",
    "# rename air_temperature_x as max_air_temperature and air_temperature_y as min_air_temperature\n",
    "features = features.rename(columns={'air_temperature_x': 'max_air_temperature', 'air_temperature_y': 'min_air_temperature'})"
   ]
  },
  {
   "cell_type": "code",
   "execution_count": 14,
   "metadata": {},
   "outputs": [],
   "source": [
    "# rename category as \"US Drought monitor classifications for standardized Palmer drought indices\"\n",
    "features.rename(columns={'category': 'pdsi_class'}, inplace=True)"
   ]
  },
  {
   "cell_type": "code",
   "execution_count": 15,
   "metadata": {},
   "outputs": [],
   "source": [
    "# drop columns \"wind_from_direction\"\n",
    "features.drop(columns=['wind_from_direction'], inplace=True)"
   ]
  },
  {
   "cell_type": "code",
   "execution_count": 16,
   "metadata": {},
   "outputs": [
    {
     "data": {
      "text/plain": [
       "(134727600, 16)"
      ]
     },
     "execution_count": 16,
     "metadata": {},
     "output_type": "execute_result"
    }
   ],
   "source": [
    "features.shape"
   ]
  },
  {
   "cell_type": "code",
   "execution_count": 27,
   "metadata": {},
   "outputs": [
    {
     "data": {
      "text/plain": [
       "lon                                                  0\n",
       "lat                                                  0\n",
       "day                                                  0\n",
       "dead_fuel_moisture_1000hr                       882000\n",
       "dead_fuel_moisture_100hr                        882000\n",
       "pdsi                                            327600\n",
       "pdsi_class                                     1209600\n",
       "max_air_temperature                                  0\n",
       "max_relative_humidity                           882000\n",
       "max_wind_speed                                  945736\n",
       "min_air_temperature                                  0\n",
       "min_relative_humidity                           882002\n",
       "precipitation_amount                         106721275\n",
       "specific_humidity                               882000\n",
       "surface_downwelling_shortwave_flux_in_air       882000\n",
       "wind_speed                                      882000\n",
       "dtype: int64"
      ]
     },
     "execution_count": 27,
     "metadata": {},
     "output_type": "execute_result"
    }
   ],
   "source": [
    "# check missing values in features\n",
    "features.isnull().sum()"
   ]
  },
  {
   "cell_type": "code",
   "execution_count": 28,
   "metadata": {},
   "outputs": [
    {
     "data": {
      "text/plain": [
       "lon                                          0.000000\n",
       "lat                                          0.000000\n",
       "day                                          0.000000\n",
       "dead_fuel_moisture_1000hr                    0.006547\n",
       "dead_fuel_moisture_100hr                     0.006547\n",
       "pdsi                                         0.002432\n",
       "pdsi_class                                   0.008978\n",
       "max_air_temperature                          0.000000\n",
       "max_relative_humidity                        0.006547\n",
       "max_wind_speed                               0.007020\n",
       "min_air_temperature                          0.000000\n",
       "min_relative_humidity                        0.006547\n",
       "precipitation_amount                         0.792126\n",
       "specific_humidity                            0.006547\n",
       "surface_downwelling_shortwave_flux_in_air    0.006547\n",
       "wind_speed                                   0.006547\n",
       "dtype: float64"
      ]
     },
     "execution_count": 28,
     "metadata": {},
     "output_type": "execute_result"
    }
   ],
   "source": [
    "# check missing rate\n",
    "features.isnull().sum() / features.shape[0]"
   ]
  },
  {
   "cell_type": "code",
   "execution_count": 29,
   "metadata": {},
   "outputs": [
    {
     "name": "stderr",
     "output_type": "stream",
     "text": [
      "C:\\Users\\fangshuye\\AppData\\Local\\Temp\\ipykernel_59292\\2787728639.py:2: FutureWarning: A value is trying to be set on a copy of a DataFrame or Series through chained assignment using an inplace method.\n",
      "The behavior will change in pandas 3.0. This inplace method will never work because the intermediate object on which we are setting values always behaves as a copy.\n",
      "\n",
      "For example, when doing 'df[col].method(value, inplace=True)', try using 'df.method({col: value}, inplace=True)' or df[col] = df[col].method(value) instead, to perform the operation inplace on the original object.\n",
      "\n",
      "\n",
      "  features['precipitation_amount'].fillna(0, inplace=True)\n"
     ]
    }
   ],
   "source": [
    "# fill missing values in precipitation_amount using 0\n",
    "features['precipitation_amount'].fillna(0, inplace=True)"
   ]
  },
  {
   "cell_type": "code",
   "execution_count": 30,
   "metadata": {},
   "outputs": [
    {
     "data": {
      "text/plain": [
       "lon                                          0.000000\n",
       "lat                                          0.000000\n",
       "day                                          0.000000\n",
       "dead_fuel_moisture_1000hr                    0.006547\n",
       "dead_fuel_moisture_100hr                     0.006547\n",
       "pdsi                                         0.002432\n",
       "pdsi_class                                   0.008978\n",
       "max_air_temperature                          0.000000\n",
       "max_relative_humidity                        0.006547\n",
       "max_wind_speed                               0.007020\n",
       "min_air_temperature                          0.000000\n",
       "min_relative_humidity                        0.006547\n",
       "precipitation_amount                         0.000000\n",
       "specific_humidity                            0.006547\n",
       "surface_downwelling_shortwave_flux_in_air    0.006547\n",
       "wind_speed                                   0.006547\n",
       "dtype: float64"
      ]
     },
     "execution_count": 30,
     "metadata": {},
     "output_type": "execute_result"
    }
   ],
   "source": [
    "features.isnull().sum() / features.shape[0]"
   ]
  },
  {
   "cell_type": "markdown",
   "metadata": {},
   "source": [
    "## Merge weather feature w other features and label"
   ]
  },
  {
   "cell_type": "code",
   "execution_count": 31,
   "metadata": {},
   "outputs": [],
   "source": [
    "veg_data = pd.read_parquet('../Clean_Data/lon_lat_pair_weather_match_veg_v2.parquet')\n",
    "slope_data = pd.read_parquet('../Clean_Data/lon_lat_pair_weather_match_slope.parquet')\n",
    "road_density_data = pd.read_parquet('../Clean_Data/road_density_match_weather_grid.parquet')"
   ]
  },
  {
   "cell_type": "code",
   "execution_count": 32,
   "metadata": {},
   "outputs": [
    {
     "data": {
      "text/plain": [
       "((17703, 7), (62160, 5), (17703, 3))"
      ]
     },
     "execution_count": 32,
     "metadata": {},
     "output_type": "execute_result"
    }
   ],
   "source": [
    "veg_data.shape, slope_data.shape, road_density_data.shape"
   ]
  },
  {
   "cell_type": "code",
   "execution_count": 36,
   "metadata": {},
   "outputs": [],
   "source": [
    "# only keep lon, lat, and fire_attribute\n",
    "veg_data = veg_data[['lon', 'lat', 'fire_attribute']]\n",
    "# only keep lon, lat, slope_avg and slope_max\n",
    "slope_data = slope_data[['lon', 'lat', 'slope_avg', 'slope_max']]"
   ]
  },
  {
   "cell_type": "code",
   "execution_count": 37,
   "metadata": {},
   "outputs": [
    {
     "data": {
      "text/plain": [
       "(0, 0, 0)"
      ]
     },
     "execution_count": 37,
     "metadata": {},
     "output_type": "execute_result"
    }
   ],
   "source": [
    "# confirm there is no duplicated rows\n",
    "veg_data.duplicated().sum(), slope_data.duplicated().sum(), road_density_data.duplicated().sum()"
   ]
  },
  {
   "cell_type": "code",
   "execution_count": 39,
   "metadata": {},
   "outputs": [
    {
     "data": {
      "text/plain": [
       "(7264829, 17)"
      ]
     },
     "execution_count": 39,
     "metadata": {},
     "output_type": "execute_result"
    }
   ],
   "source": [
    "# merge the fire_label and features, inner join on the lon, lat, and day\n",
    "mod_data = pd.merge(features, fire_label, on=['lon', 'lat', 'day'], how='inner')\n",
    "mod_data.shape"
   ]
  },
  {
   "cell_type": "code",
   "execution_count": 40,
   "metadata": {},
   "outputs": [
    {
     "data": {
      "text/plain": [
       "(7264829, 21)"
      ]
     },
     "execution_count": 40,
     "metadata": {},
     "output_type": "execute_result"
    }
   ],
   "source": [
    "# left join the mod_data and veg_data on lon and lat\n",
    "mod_data = pd.merge(mod_data, veg_data, on=['lon', 'lat'], how='left')\n",
    "# left join the mod_data and slope_data on lon and lat\n",
    "mod_data = pd.merge(mod_data, slope_data, on=['lon', 'lat'], how='left')\n",
    "# left join the mod_data and road_density_data on lon and lat\n",
    "mod_data = pd.merge(mod_data, road_density_data, on=['lon', 'lat'], how='left')\n",
    "mod_data.shape"
   ]
  },
  {
   "cell_type": "code",
   "execution_count": 43,
   "metadata": {},
   "outputs": [
    {
     "data": {
      "text/plain": [
       "lon                                          0.000000\n",
       "lat                                          0.000000\n",
       "day                                          0.000000\n",
       "dead_fuel_moisture_1000hr                    0.007010\n",
       "dead_fuel_moisture_100hr                     0.007010\n",
       "pdsi                                         0.002527\n",
       "pdsi_class                                   0.009536\n",
       "max_air_temperature                          0.000000\n",
       "max_relative_humidity                        0.007010\n",
       "max_wind_speed                               0.007125\n",
       "min_air_temperature                          0.000000\n",
       "min_relative_humidity                        0.007010\n",
       "precipitation_amount                         0.000000\n",
       "specific_humidity                            0.007010\n",
       "surface_downwelling_shortwave_flux_in_air    0.007010\n",
       "wind_speed                                   0.007010\n",
       "IS_FIRE                                      0.000000\n",
       "fire_attribute                               0.000000\n",
       "slope_avg                                    0.000000\n",
       "slope_max                                    0.000000\n",
       "road_density_km_km2                          0.000000\n",
       "dtype: float64"
      ]
     },
     "execution_count": 43,
     "metadata": {},
     "output_type": "execute_result"
    }
   ],
   "source": [
    "mod_data.isnull().sum() / mod_data.shape[0]"
   ]
  },
  {
   "cell_type": "code",
   "execution_count": 41,
   "metadata": {},
   "outputs": [
    {
     "data": {
      "text/plain": [
       "(5022540, 17)"
      ]
     },
     "execution_count": 41,
     "metadata": {},
     "output_type": "execute_result"
    }
   ],
   "source": [
    "mod_data_OOT = pd.merge(features, fire_label_OOT, on=['lon', 'lat', 'day'], how='inner')\n",
    "mod_data_OOT.shape"
   ]
  },
  {
   "cell_type": "code",
   "execution_count": 42,
   "metadata": {},
   "outputs": [
    {
     "data": {
      "text/plain": [
       "(5022540, 21)"
      ]
     },
     "execution_count": 42,
     "metadata": {},
     "output_type": "execute_result"
    }
   ],
   "source": [
    "mod_data_OOT = pd.merge(mod_data_OOT, veg_data, on=['lon', 'lat'], how='left')\n",
    "mod_data_OOT = pd.merge(mod_data_OOT, slope_data, on=['lon', 'lat'], how='left')\n",
    "mod_data_OOT = pd.merge(mod_data_OOT, road_density_data, on=['lon', 'lat'], how='left')\n",
    "mod_data_OOT.shape"
   ]
  },
  {
   "cell_type": "code",
   "execution_count": 44,
   "metadata": {},
   "outputs": [
    {
     "data": {
      "text/plain": [
       "lon                                          0.000000\n",
       "lat                                          0.000000\n",
       "day                                          0.000000\n",
       "dead_fuel_moisture_1000hr                    0.007431\n",
       "dead_fuel_moisture_100hr                     0.007431\n",
       "pdsi                                         0.002478\n",
       "pdsi_class                                   0.009909\n",
       "max_air_temperature                          0.000000\n",
       "max_relative_humidity                        0.007431\n",
       "max_wind_speed                               0.007431\n",
       "min_air_temperature                          0.000000\n",
       "min_relative_humidity                        0.007431\n",
       "precipitation_amount                         0.000000\n",
       "specific_humidity                            0.007431\n",
       "surface_downwelling_shortwave_flux_in_air    0.007431\n",
       "wind_speed                                   0.007431\n",
       "IS_FIRE                                      0.000000\n",
       "fire_attribute                               0.000000\n",
       "slope_avg                                    0.000000\n",
       "slope_max                                    0.000000\n",
       "road_density_km_km2                          0.000000\n",
       "dtype: float64"
      ]
     },
     "execution_count": 44,
     "metadata": {},
     "output_type": "execute_result"
    }
   ],
   "source": [
    "mod_data_OOT.isnull().sum() / mod_data_OOT.shape[0]"
   ]
  },
  {
   "cell_type": "code",
   "execution_count": 45,
   "metadata": {},
   "outputs": [],
   "source": [
    "# drop lon, lat\n",
    "mod_data = mod_data.drop(columns=['lon', 'lat'])\n",
    "mod_data.to_parquet('../Clean_Data/Model_Data/2001_2020_Downsample/Features_w_Label_Downsampled.parquet')"
   ]
  },
  {
   "cell_type": "code",
   "execution_count": 46,
   "metadata": {},
   "outputs": [],
   "source": [
    "mod_data_OOT = mod_data_OOT.drop(columns=['lon', 'lat'])\n",
    "mod_data_OOT.to_parquet('../Clean_Data/Model_Data/2020/Features_w_Label_2020_OOT.parquet')"
   ]
  },
  {
   "cell_type": "code",
   "execution_count": null,
   "metadata": {},
   "outputs": [],
   "source": []
  }
 ],
 "metadata": {
  "kernelspec": {
   "display_name": "py311",
   "language": "python",
   "name": "python3"
  },
  "language_info": {
   "codemirror_mode": {
    "name": "ipython",
    "version": 3
   },
   "file_extension": ".py",
   "mimetype": "text/x-python",
   "name": "python",
   "nbconvert_exporter": "python",
   "pygments_lexer": "ipython3",
   "version": "3.11.9"
  }
 },
 "nbformat": 4,
 "nbformat_minor": 2
}
