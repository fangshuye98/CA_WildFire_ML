{
 "cells": [
  {
   "cell_type": "code",
   "execution_count": 1,
   "id": "97059701",
   "metadata": {},
   "outputs": [
    {
     "data": {
      "text/plain": [
       "41"
      ]
     },
     "execution_count": 1,
     "metadata": {},
     "output_type": "execute_result"
    }
   ],
   "source": [
    "# Force garbage collection\n",
    "import gc\n",
    "gc.collect()"
   ]
  },
  {
   "cell_type": "code",
   "execution_count": 2,
   "id": "aa08bc43",
   "metadata": {},
   "outputs": [],
   "source": [
    "import pandas as pd\n",
    "import geopandas as gpd\n",
    "import xarray as xr\n",
    "import pyproj\n",
    "from tqdm import tqdm\n",
    "import numpy as np\n",
    "import os\n",
    "import matplotlib.pyplot as plt\n",
    "from sklearn.model_selection import train_test_split\n",
    "from sklearn.metrics import roc_auc_score\n",
    "import matplotlib.pyplot as plt\n",
    "import xgboost as xgb\n",
    "from sklearn.metrics import roc_curve"
   ]
  },
  {
   "cell_type": "code",
   "execution_count": 3,
   "id": "9cd13759",
   "metadata": {},
   "outputs": [],
   "source": [
    "import pickle"
   ]
  },
  {
   "cell_type": "code",
   "execution_count": 4,
   "id": "afa1e314",
   "metadata": {},
   "outputs": [],
   "source": [
    "data_path = '../Clean_Data/climatology'\n",
    "reference_weather = pd.read_parquet(os.path.join(data_path, 'climatology_2001_2020.parquet'))"
   ]
  },
  {
   "cell_type": "code",
   "execution_count": 5,
   "id": "f7783240",
   "metadata": {},
   "outputs": [
    {
     "data": {
      "text/plain": [
       "Index(['lon', 'lat', 'date', 'dead_fuel_moisture_1000hr',\n",
       "       'dead_fuel_moisture_100hr', 'max_air_temperature',\n",
       "       'max_relative_humidity', 'min_air_temperature', 'min_relative_humidity',\n",
       "       'precipitation_amount', 'specific_humidity',\n",
       "       'surface_downwelling_shortwave_flux_in_air', 'wind_from_direction',\n",
       "       'wind_speed', 'SWE', 'pdsi'],\n",
       "      dtype='object')"
      ]
     },
     "execution_count": 5,
     "metadata": {},
     "output_type": "execute_result"
    }
   ],
   "source": [
    "reference_weather.columns"
   ]
  },
  {
   "cell_type": "code",
   "execution_count": 6,
   "id": "9b56e827",
   "metadata": {},
   "outputs": [],
   "source": [
    "# check if lon, lat, date are unique\n",
    "assert reference_weather[['lon', 'lat', 'date']].drop_duplicates().shape[0] == reference_weather.shape[0], \"Lon, lat, date should be unique\""
   ]
  },
  {
   "cell_type": "code",
   "execution_count": 8,
   "id": "8023253d",
   "metadata": {},
   "outputs": [],
   "source": [
    "significant_tread_variables = ['dead_fuel_moisture_1000hr',\n",
    "       'dead_fuel_moisture_100hr', \n",
    "       'max_air_temperature', \n",
    "       'max_relative_humidity', \n",
    "       'min_air_temperature', \n",
    "       'min_relative_humidity', \n",
    "       'precipitation_amount',\n",
    "       'specific_humidity', \n",
    "       'surface_downwelling_shortwave_flux_in_air',\n",
    "       'SWE', \n",
    "       'pdsi' \n",
    "       ]"
   ]
  },
  {
   "cell_type": "code",
   "execution_count": 9,
   "id": "fc3e91e7",
   "metadata": {},
   "outputs": [],
   "source": [
    "# check if significant_tread variables are in the Eval_2006 and Eval_2020 dataframes\n",
    "for var in significant_tread_variables:\n",
    "    if var not in reference_weather.columns:\n",
    "        print(f\"{var} not found in reference data\")"
   ]
  },
  {
   "cell_type": "code",
   "execution_count": 10,
   "id": "26c226f1",
   "metadata": {},
   "outputs": [
    {
     "data": {
      "text/plain": [
       "(6340218, 16)"
      ]
     },
     "execution_count": 10,
     "metadata": {},
     "output_type": "execute_result"
    }
   ],
   "source": [
    "reference_weather.shape"
   ]
  },
  {
   "cell_type": "code",
   "execution_count": 11,
   "id": "de714c08",
   "metadata": {},
   "outputs": [
    {
     "data": {
      "text/plain": [
       "lon                                          float64\n",
       "lat                                          float64\n",
       "date                                          object\n",
       "dead_fuel_moisture_1000hr                    float32\n",
       "dead_fuel_moisture_100hr                     float32\n",
       "max_air_temperature                          float64\n",
       "max_relative_humidity                        float32\n",
       "min_air_temperature                          float64\n",
       "min_relative_humidity                        float32\n",
       "precipitation_amount                         float32\n",
       "specific_humidity                            float32\n",
       "surface_downwelling_shortwave_flux_in_air    float32\n",
       "wind_from_direction                          float32\n",
       "wind_speed                                   float32\n",
       "SWE                                          float32\n",
       "pdsi                                         float32\n",
       "dtype: object"
      ]
     },
     "execution_count": 11,
     "metadata": {},
     "output_type": "execute_result"
    }
   ],
   "source": [
    "reference_weather.dtypes"
   ]
  },
  {
   "cell_type": "code",
   "execution_count": 13,
   "id": "3428249e",
   "metadata": {},
   "outputs": [],
   "source": [
    "reference_weather = reference_weather[['lon', 'lat', 'date'] + significant_tread_variables]"
   ]
  },
  {
   "cell_type": "code",
   "execution_count": 15,
   "id": "cdceda1b",
   "metadata": {},
   "outputs": [],
   "source": [
    "model_path = '../Model/6_water_year_completed_filter_veg/original_road_population_density'\n",
    "input_predictions_path = '../Clean_Data/Model_Data/Evaluation/Features_w_Label_w_pred/water_year_filter_veg_original_road_population_density/parquet'\n",
    "output_predictions_path = '../Clean_Data/Model_Data/Evaluation/Features_w_Label_w_pred/water_year_filter_veg_original_road_population_density/tread_analysis/parquet'  \n",
    "if not os.path.exists(output_predictions_path):\n",
    "    os.makedirs(output_predictions_path)"
   ]
  },
  {
   "cell_type": "code",
   "execution_count": 16,
   "id": "7fac9393",
   "metadata": {},
   "outputs": [
    {
     "name": "stderr",
     "output_type": "stream",
     "text": [
      "Processing years: 100%|██████████| 14/14 [18:00<00:00, 77.18s/it] \n"
     ]
    }
   ],
   "source": [
    "log_messages = []\n",
    "log_messages.append(\"Climate change evaluation\")\n",
    "# add log to record the current time\n",
    "log_messages.append(f\"Start time: {pd.Timestamp.now()}\")\n",
    "log_messages.append(\"The following variables are fixed at the average level for the climate change evaluation:\")\n",
    "log_messages.extend(significant_tread_variables)\n",
    "# Define the range of years\n",
    "years = range(2007, 2021)\n",
    "\n",
    "# Iterate over the years with a progress bar\n",
    "for yr in tqdm(years, desc=\"Processing years\"):\n",
    "    log_messages.append(\"-\" * 50)\n",
    "\n",
    "    Eval_data = pd.read_parquet(f'{input_predictions_path}/{yr}_predictions.parquet')\n",
    "    Eval_data['date'] = Eval_data['day'].dt.strftime('%m-%d')\n",
    "    # log the shape of Eval_data\n",
    "    log_messages.append(f\"Shape of Eval_data for year {yr}: {Eval_data.shape}\")\n",
    "    # drop significant_tread variables from Eval_data\n",
    "    Eval_data = Eval_data.drop(columns=significant_tread_variables)\n",
    "    # check the common columns in both dataframes and log the result\n",
    "    common_columns = set(Eval_data.columns).intersection(set(reference_weather.columns))\n",
    "    log_messages.append(f\"Common columns between reference weather and year {yr}: {common_columns}\")\n",
    "    # merge Eval_data with reference_weather on lon, lat, and date\n",
    "    Eval_data = Eval_data.merge(reference_weather, on=['lon', 'lat', 'date'], how='inner')\n",
    "    # log the shape of Eval_data after merging\n",
    "    log_messages.append(f\"Shape of Eval_data after merging with reference weather for year {yr}: {Eval_data.shape}\")\n",
    "\n",
    "\n",
    "    with open(f'{model_path}/predict_{yr}_6yr_model.pkl', 'rb') as f:\n",
    "        loaded_model = pickle.load(f)\n",
    "\n",
    "    features = loaded_model.get_booster().feature_names\n",
    "\n",
    "    # predict the probability sof fire for 2020 using the loaded model\n",
    "    Eval_data['predictions_update'] = loaded_model.predict_proba(Eval_data[features])[:, 1]\n",
    "\n",
    "    # save the predictions to a parquet file\n",
    "    Eval_data.to_parquet(f'{output_predictions_path}/{yr}_predictions_update.parquet', index=False)\n",
    "\n",
    "    # clean up memory\n",
    "    del Eval_data\n",
    "    gc.collect()"
   ]
  },
  {
   "cell_type": "code",
   "execution_count": 17,
   "id": "1b79e4ca",
   "metadata": {},
   "outputs": [
    {
     "name": "stdout",
     "output_type": "stream",
     "text": [
      "Log file saved to '../Logs/tread_analysis_water_year_no_log_log.txt'\n"
     ]
    }
   ],
   "source": [
    "# Save the log messages to a log file\n",
    "with open('../Logs/tread_analysis_water_year_no_log_log.txt', 'w') as log_file:\n",
    "    log_file.write('\\n'.join(log_messages))\n",
    "\n",
    "print(\"Log file saved to '../Logs/tread_analysis_water_year_no_log_log.txt'\")"
   ]
  },
  {
   "cell_type": "code",
   "execution_count": 25,
   "id": "4a2feb65",
   "metadata": {},
   "outputs": [
    {
     "name": "stderr",
     "output_type": "stream",
     "text": [
      "Processing years: 100%|██████████| 14/14 [52:29<00:00, 224.99s/it]\n"
     ]
    }
   ],
   "source": [
    "input_parquet_path = '../Clean_Data/Model_Data/Evaluation/Features_w_Label_w_pred/water_year_filter_veg_original_road_population_density/tread_analysis/parquet'\n",
    "output_csv_path = '../Clean_Data/Model_Data/Evaluation/Features_w_Label_w_pred/water_year_filter_veg_original_road_population_density/tread_analysis/csv'  \n",
    "if not os.path.exists(output_csv_path):\n",
    "    os.makedirs(output_csv_path)\n",
    "\n",
    "years = range(2007, 2021)\n",
    "for yr in tqdm(years, desc=\"Processing years\"):\n",
    "    Eval_data = pd.read_parquet(f'{input_parquet_path}/{yr}_predictions_update.parquet')\n",
    "    Eval_data.to_csv(f'{output_csv_path}/{yr}_predictions_update.csv', index=False)\n",
    "\n",
    "    del Eval_data\n",
    "    gc.collect()"
   ]
  },
  {
   "cell_type": "markdown",
   "id": "0e2eea00",
   "metadata": {},
   "source": [
    "case study"
   ]
  },
  {
   "cell_type": "code",
   "execution_count": 18,
   "id": "f5ac6e40",
   "metadata": {},
   "outputs": [],
   "source": [
    "input_parquet_path = '../Clean_Data/Model_Data/Evaluation/Features_w_Label_w_pred/water_year_filter_veg_original_road_population_density/tread_analysis/parquet'\n",
    "Eval_data = pd.read_parquet(f'{input_parquet_path}/2018_predictions_update.parquet')"
   ]
  },
  {
   "cell_type": "code",
   "execution_count": 20,
   "id": "8760ee27",
   "metadata": {},
   "outputs": [
    {
     "data": {
      "text/plain": [
       "lon                                                 float64\n",
       "lat                                                 float64\n",
       "day                                          datetime64[ns]\n",
       "pdsi_pre_interpolated                               float32\n",
       "pdsi_class                                          float32\n",
       "max_wind_speed                                      float32\n",
       "wind_from_direction                                 float32\n",
       "wind_speed                                          float32\n",
       "population_density                                  float32\n",
       "LAI                                                 float32\n",
       "population_density_log                              float32\n",
       "IS_FIRE                                               int32\n",
       "NWCG_CAUSE_CLASSIFICATION                            object\n",
       "min_FIRE_SIZE                                       float64\n",
       "max_FIRE_SIZE                                       float64\n",
       "Year                                                  int32\n",
       "veg_type_details                                     object\n",
       "fire_attribute                                       object\n",
       "slope_avg                                           float32\n",
       "slope_max                                           float32\n",
       "road_density_km_km2                                 float64\n",
       "road_density_km_km2_log                             float64\n",
       "wind_direction_category_N                              bool\n",
       "wind_direction_category_NE                             bool\n",
       "wind_direction_category_E                              bool\n",
       "wind_direction_category_SE                             bool\n",
       "wind_direction_category_S                              bool\n",
       "wind_direction_category_SW                             bool\n",
       "wind_direction_category_W                              bool\n",
       "wind_direction_category_NW                             bool\n",
       "veg_Barren                                             bool\n",
       "veg_Native Chapparal                                   bool\n",
       "veg_Native Coastal Sage Scrub                          bool\n",
       "veg_Native Conifer Alpine                              bool\n",
       "veg_Native Conifer Forest                              bool\n",
       "veg_Native Desert                                      bool\n",
       "veg_Native Grassland                                   bool\n",
       "veg_Native Inland Scrub                                bool\n",
       "veg_Native Oak Woodland                                bool\n",
       "veg_Native Wetland                                     bool\n",
       "veg_Non-native forest                                  bool\n",
       "veg_Non-native grassland                               bool\n",
       "veg_Non-native shrub                                   bool\n",
       "veg_Riparian                                           bool\n",
       "predictions                                         float32\n",
       "date                                                 object\n",
       "dead_fuel_moisture_1000hr                           float32\n",
       "dead_fuel_moisture_100hr                            float32\n",
       "max_air_temperature                                 float64\n",
       "max_relative_humidity                               float32\n",
       "min_air_temperature                                 float64\n",
       "min_relative_humidity                               float32\n",
       "precipitation_amount                                float32\n",
       "specific_humidity                                   float32\n",
       "surface_downwelling_shortwave_flux_in_air           float32\n",
       "SWE                                                 float32\n",
       "pdsi                                                float32\n",
       "predictions_update                                  float32\n",
       "dtype: object"
      ]
     },
     "execution_count": 20,
     "metadata": {},
     "output_type": "execute_result"
    }
   ],
   "source": [
    "Eval_data.dtypes"
   ]
  },
  {
   "cell_type": "code",
   "execution_count": 21,
   "id": "3bb8dd39",
   "metadata": {},
   "outputs": [],
   "source": [
    "Eval_data['Month'] = Eval_data['day'].dt.month"
   ]
  },
  {
   "cell_type": "code",
   "execution_count": 23,
   "id": "df4aa56e",
   "metadata": {},
   "outputs": [
    {
     "data": {
      "text/html": [
       "<div>\n",
       "<style scoped>\n",
       "    .dataframe tbody tr th:only-of-type {\n",
       "        vertical-align: middle;\n",
       "    }\n",
       "\n",
       "    .dataframe tbody tr th {\n",
       "        vertical-align: top;\n",
       "    }\n",
       "\n",
       "    .dataframe thead th {\n",
       "        text-align: right;\n",
       "    }\n",
       "</style>\n",
       "<table border=\"1\" class=\"dataframe\">\n",
       "  <thead>\n",
       "    <tr style=\"text-align: right;\">\n",
       "      <th></th>\n",
       "      <th>Month</th>\n",
       "      <th>predictions_update_median</th>\n",
       "      <th>predictions_median</th>\n",
       "      <th>predictions_update_q25</th>\n",
       "      <th>predictions_q25</th>\n",
       "      <th>predictions_update_q75</th>\n",
       "      <th>predictions_q75</th>\n",
       "    </tr>\n",
       "  </thead>\n",
       "  <tbody>\n",
       "    <tr>\n",
       "      <th>0</th>\n",
       "      <td>1</td>\n",
       "      <td>0.000113</td>\n",
       "      <td>0.000336</td>\n",
       "      <td>0.000029</td>\n",
       "      <td>0.000097</td>\n",
       "      <td>0.000463</td>\n",
       "      <td>0.001092</td>\n",
       "    </tr>\n",
       "    <tr>\n",
       "      <th>1</th>\n",
       "      <td>2</td>\n",
       "      <td>0.000152</td>\n",
       "      <td>0.000780</td>\n",
       "      <td>0.000035</td>\n",
       "      <td>0.000238</td>\n",
       "      <td>0.000658</td>\n",
       "      <td>0.002371</td>\n",
       "    </tr>\n",
       "    <tr>\n",
       "      <th>2</th>\n",
       "      <td>3</td>\n",
       "      <td>0.000251</td>\n",
       "      <td>0.000208</td>\n",
       "      <td>0.000055</td>\n",
       "      <td>0.000045</td>\n",
       "      <td>0.001127</td>\n",
       "      <td>0.000857</td>\n",
       "    </tr>\n",
       "    <tr>\n",
       "      <th>3</th>\n",
       "      <td>4</td>\n",
       "      <td>0.000571</td>\n",
       "      <td>0.000788</td>\n",
       "      <td>0.000125</td>\n",
       "      <td>0.000220</td>\n",
       "      <td>0.002650</td>\n",
       "      <td>0.002731</td>\n",
       "    </tr>\n",
       "    <tr>\n",
       "      <th>4</th>\n",
       "      <td>5</td>\n",
       "      <td>0.001640</td>\n",
       "      <td>0.001799</td>\n",
       "      <td>0.000547</td>\n",
       "      <td>0.000716</td>\n",
       "      <td>0.006757</td>\n",
       "      <td>0.006060</td>\n",
       "    </tr>\n",
       "    <tr>\n",
       "      <th>5</th>\n",
       "      <td>6</td>\n",
       "      <td>0.002873</td>\n",
       "      <td>0.003021</td>\n",
       "      <td>0.001408</td>\n",
       "      <td>0.001554</td>\n",
       "      <td>0.010932</td>\n",
       "      <td>0.009913</td>\n",
       "    </tr>\n",
       "    <tr>\n",
       "      <th>6</th>\n",
       "      <td>7</td>\n",
       "      <td>0.003594</td>\n",
       "      <td>0.003749</td>\n",
       "      <td>0.002050</td>\n",
       "      <td>0.002061</td>\n",
       "      <td>0.012079</td>\n",
       "      <td>0.011204</td>\n",
       "    </tr>\n",
       "    <tr>\n",
       "      <th>7</th>\n",
       "      <td>8</td>\n",
       "      <td>0.003428</td>\n",
       "      <td>0.003650</td>\n",
       "      <td>0.001862</td>\n",
       "      <td>0.001861</td>\n",
       "      <td>0.009576</td>\n",
       "      <td>0.009175</td>\n",
       "    </tr>\n",
       "    <tr>\n",
       "      <th>8</th>\n",
       "      <td>9</td>\n",
       "      <td>0.003127</td>\n",
       "      <td>0.003300</td>\n",
       "      <td>0.001496</td>\n",
       "      <td>0.001529</td>\n",
       "      <td>0.007877</td>\n",
       "      <td>0.007724</td>\n",
       "    </tr>\n",
       "    <tr>\n",
       "      <th>9</th>\n",
       "      <td>10</td>\n",
       "      <td>0.001638</td>\n",
       "      <td>0.002391</td>\n",
       "      <td>0.000632</td>\n",
       "      <td>0.000952</td>\n",
       "      <td>0.005279</td>\n",
       "      <td>0.006624</td>\n",
       "    </tr>\n",
       "    <tr>\n",
       "      <th>10</th>\n",
       "      <td>11</td>\n",
       "      <td>0.000500</td>\n",
       "      <td>0.000550</td>\n",
       "      <td>0.000157</td>\n",
       "      <td>0.000160</td>\n",
       "      <td>0.001992</td>\n",
       "      <td>0.001964</td>\n",
       "    </tr>\n",
       "    <tr>\n",
       "      <th>11</th>\n",
       "      <td>12</td>\n",
       "      <td>0.000118</td>\n",
       "      <td>0.000836</td>\n",
       "      <td>0.000031</td>\n",
       "      <td>0.000283</td>\n",
       "      <td>0.000498</td>\n",
       "      <td>0.002831</td>\n",
       "    </tr>\n",
       "  </tbody>\n",
       "</table>\n",
       "</div>"
      ],
      "text/plain": [
       "    Month  predictions_update_median  predictions_median  \\\n",
       "0       1                   0.000113            0.000336   \n",
       "1       2                   0.000152            0.000780   \n",
       "2       3                   0.000251            0.000208   \n",
       "3       4                   0.000571            0.000788   \n",
       "4       5                   0.001640            0.001799   \n",
       "5       6                   0.002873            0.003021   \n",
       "6       7                   0.003594            0.003749   \n",
       "7       8                   0.003428            0.003650   \n",
       "8       9                   0.003127            0.003300   \n",
       "9      10                   0.001638            0.002391   \n",
       "10     11                   0.000500            0.000550   \n",
       "11     12                   0.000118            0.000836   \n",
       "\n",
       "    predictions_update_q25  predictions_q25  predictions_update_q75  \\\n",
       "0                 0.000029         0.000097                0.000463   \n",
       "1                 0.000035         0.000238                0.000658   \n",
       "2                 0.000055         0.000045                0.001127   \n",
       "3                 0.000125         0.000220                0.002650   \n",
       "4                 0.000547         0.000716                0.006757   \n",
       "5                 0.001408         0.001554                0.010932   \n",
       "6                 0.002050         0.002061                0.012079   \n",
       "7                 0.001862         0.001861                0.009576   \n",
       "8                 0.001496         0.001529                0.007877   \n",
       "9                 0.000632         0.000952                0.005279   \n",
       "10                0.000157         0.000160                0.001992   \n",
       "11                0.000031         0.000283                0.000498   \n",
       "\n",
       "    predictions_q75  \n",
       "0          0.001092  \n",
       "1          0.002371  \n",
       "2          0.000857  \n",
       "3          0.002731  \n",
       "4          0.006060  \n",
       "5          0.009913  \n",
       "6          0.011204  \n",
       "7          0.009175  \n",
       "8          0.007724  \n",
       "9          0.006624  \n",
       "10         0.001964  \n",
       "11         0.002831  "
      ]
     },
     "execution_count": 23,
     "metadata": {},
     "output_type": "execute_result"
    }
   ],
   "source": [
    "Eval_reset_climate_grouped = Eval_data.groupby('Month').agg(\n",
    "    predictions_update_median=('predictions_update', 'median'),\n",
    "     predictions_median=('predictions', 'median'),\n",
    "    predictions_update_q25=('predictions_update', lambda x: x.quantile(0.25)),\n",
    "    predictions_q25=('predictions', lambda x: x.quantile(0.25)),\n",
    "    predictions_update_q75=('predictions_update', lambda x: x.quantile(0.75)), \n",
    "    predictions_q75=('predictions', lambda x: x.quantile(0.75))\n",
    ").reset_index()\n",
    "\n",
    "Eval_reset_climate_grouped"
   ]
  },
  {
   "cell_type": "code",
   "execution_count": null,
   "id": "f338323d",
   "metadata": {},
   "outputs": [],
   "source": []
  }
 ],
 "metadata": {
  "kernelspec": {
   "display_name": "py311",
   "language": "python",
   "name": "python3"
  },
  "language_info": {
   "codemirror_mode": {
    "name": "ipython",
    "version": 3
   },
   "file_extension": ".py",
   "mimetype": "text/x-python",
   "name": "python",
   "nbconvert_exporter": "python",
   "pygments_lexer": "ipython3",
   "version": "3.11.9"
  }
 },
 "nbformat": 4,
 "nbformat_minor": 5
}
