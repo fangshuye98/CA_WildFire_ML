{
 "cells": [
  {
   "cell_type": "code",
   "execution_count": 20,
   "metadata": {},
   "outputs": [],
   "source": [
    "import pandas as pd\n",
    "import geopandas as gpd\n",
    "import xarray as xr\n",
    "import pyproj\n",
    "from tqdm import tqdm\n",
    "import numpy as np"
   ]
  },
  {
   "cell_type": "code",
   "execution_count": 21,
   "metadata": {},
   "outputs": [],
   "source": [
    "import os\n",
    "import matplotlib.pyplot as plt\n",
    "import cartopy.crs as ccrs\n",
    "import cartopy.feature as cfeature"
   ]
  },
  {
   "cell_type": "code",
   "execution_count": 22,
   "metadata": {},
   "outputs": [
    {
     "name": "stdout",
     "output_type": "stream",
     "text": [
      "Python version\n",
      "3.11.9 | packaged by Anaconda, Inc. | (main, Apr 19 2024, 16:40:41) [MSC v.1916 64 bit (AMD64)]\n",
      "Pandas version\n",
      "2.2.2\n",
      "Geopandas version\n",
      "0.14.2\n",
      "Xarray version\n",
      "2023.6.0\n",
      "Pyproj version\n",
      "3.6.1\n"
     ]
    }
   ],
   "source": [
    "# check python version and all packages version\n",
    "def check_python_version():\n",
    "    import sys\n",
    "    print(\"Python version\")\n",
    "    print (sys.version)\n",
    "    print(\"Pandas version\")\n",
    "    print(pd.__version__)\n",
    "    print(\"Geopandas version\")\n",
    "    print(gpd.__version__)\n",
    "    print(\"Xarray version\")\n",
    "    print(xr.__version__)\n",
    "    print(\"Pyproj version\")\n",
    "    print(pyproj.__version__)\n",
    "\n",
    "check_python_version()"
   ]
  },
  {
   "cell_type": "code",
   "execution_count": 23,
   "metadata": {},
   "outputs": [],
   "source": [
    "pd.set_option('display.max_colwidth', None)"
   ]
  },
  {
   "cell_type": "code",
   "execution_count": 24,
   "metadata": {},
   "outputs": [
    {
     "data": {
      "text/plain": [
       "(62160, 2)"
      ]
     },
     "execution_count": 24,
     "metadata": {},
     "output_type": "execute_result"
    }
   ],
   "source": [
    "data_dir = '../Weather_Data/'\n",
    "files = os.listdir(data_dir)\n",
    "reference_ds = xr.open_dataset(os.path.join(data_dir, files[-1]))\n",
    "\n",
    "# Extract lon and lat coordinates\n",
    "lon = reference_ds.coords['lon'].values\n",
    "lat = reference_ds.coords['lat'].values\n",
    "\n",
    "# Create a DataFrame with all combinations of lon and lat\n",
    "lon_lat_combinations = pd.DataFrame([(lo, la) for lo in lon for la in lat], columns=['lon', 'lat'])\n",
    "\n",
    "lon_lat_combinations.shape"
   ]
  },
  {
   "cell_type": "code",
   "execution_count": 25,
   "metadata": {},
   "outputs": [],
   "source": [
    "lai_Dat = xr.open_dataset('../New_Data/glass.lai.2001.2021.CA.daily_interpolated.nc')"
   ]
  },
  {
   "cell_type": "code",
   "execution_count": 26,
   "metadata": {},
   "outputs": [
    {
     "data": {
      "text/html": [
       "<div><svg style=\"position: absolute; width: 0; height: 0; overflow: hidden\">\n",
       "<defs>\n",
       "<symbol id=\"icon-database\" viewBox=\"0 0 32 32\">\n",
       "<path d=\"M16 0c-8.837 0-16 2.239-16 5v4c0 2.761 7.163 5 16 5s16-2.239 16-5v-4c0-2.761-7.163-5-16-5z\"></path>\n",
       "<path d=\"M16 17c-8.837 0-16-2.239-16-5v6c0 2.761 7.163 5 16 5s16-2.239 16-5v-6c0 2.761-7.163 5-16 5z\"></path>\n",
       "<path d=\"M16 26c-8.837 0-16-2.239-16-5v6c0 2.761 7.163 5 16 5s16-2.239 16-5v-6c0 2.761-7.163 5-16 5z\"></path>\n",
       "</symbol>\n",
       "<symbol id=\"icon-file-text2\" viewBox=\"0 0 32 32\">\n",
       "<path d=\"M28.681 7.159c-0.694-0.947-1.662-2.053-2.724-3.116s-2.169-2.030-3.116-2.724c-1.612-1.182-2.393-1.319-2.841-1.319h-15.5c-1.378 0-2.5 1.121-2.5 2.5v27c0 1.378 1.122 2.5 2.5 2.5h23c1.378 0 2.5-1.122 2.5-2.5v-19.5c0-0.448-0.137-1.23-1.319-2.841zM24.543 5.457c0.959 0.959 1.712 1.825 2.268 2.543h-4.811v-4.811c0.718 0.556 1.584 1.309 2.543 2.268zM28 29.5c0 0.271-0.229 0.5-0.5 0.5h-23c-0.271 0-0.5-0.229-0.5-0.5v-27c0-0.271 0.229-0.5 0.5-0.5 0 0 15.499-0 15.5 0v7c0 0.552 0.448 1 1 1h7v19.5z\"></path>\n",
       "<path d=\"M23 26h-14c-0.552 0-1-0.448-1-1s0.448-1 1-1h14c0.552 0 1 0.448 1 1s-0.448 1-1 1z\"></path>\n",
       "<path d=\"M23 22h-14c-0.552 0-1-0.448-1-1s0.448-1 1-1h14c0.552 0 1 0.448 1 1s-0.448 1-1 1z\"></path>\n",
       "<path d=\"M23 18h-14c-0.552 0-1-0.448-1-1s0.448-1 1-1h14c0.552 0 1 0.448 1 1s-0.448 1-1 1z\"></path>\n",
       "</symbol>\n",
       "</defs>\n",
       "</svg>\n",
       "<style>/* CSS stylesheet for displaying xarray objects in jupyterlab.\n",
       " *\n",
       " */\n",
       "\n",
       ":root {\n",
       "  --xr-font-color0: var(--jp-content-font-color0, rgba(0, 0, 0, 1));\n",
       "  --xr-font-color2: var(--jp-content-font-color2, rgba(0, 0, 0, 0.54));\n",
       "  --xr-font-color3: var(--jp-content-font-color3, rgba(0, 0, 0, 0.38));\n",
       "  --xr-border-color: var(--jp-border-color2, #e0e0e0);\n",
       "  --xr-disabled-color: var(--jp-layout-color3, #bdbdbd);\n",
       "  --xr-background-color: var(--jp-layout-color0, white);\n",
       "  --xr-background-color-row-even: var(--jp-layout-color1, white);\n",
       "  --xr-background-color-row-odd: var(--jp-layout-color2, #eeeeee);\n",
       "}\n",
       "\n",
       "html[theme=dark],\n",
       "body[data-theme=dark],\n",
       "body.vscode-dark {\n",
       "  --xr-font-color0: rgba(255, 255, 255, 1);\n",
       "  --xr-font-color2: rgba(255, 255, 255, 0.54);\n",
       "  --xr-font-color3: rgba(255, 255, 255, 0.38);\n",
       "  --xr-border-color: #1F1F1F;\n",
       "  --xr-disabled-color: #515151;\n",
       "  --xr-background-color: #111111;\n",
       "  --xr-background-color-row-even: #111111;\n",
       "  --xr-background-color-row-odd: #313131;\n",
       "}\n",
       "\n",
       ".xr-wrap {\n",
       "  display: block !important;\n",
       "  min-width: 300px;\n",
       "  max-width: 700px;\n",
       "}\n",
       "\n",
       ".xr-text-repr-fallback {\n",
       "  /* fallback to plain text repr when CSS is not injected (untrusted notebook) */\n",
       "  display: none;\n",
       "}\n",
       "\n",
       ".xr-header {\n",
       "  padding-top: 6px;\n",
       "  padding-bottom: 6px;\n",
       "  margin-bottom: 4px;\n",
       "  border-bottom: solid 1px var(--xr-border-color);\n",
       "}\n",
       "\n",
       ".xr-header > div,\n",
       ".xr-header > ul {\n",
       "  display: inline;\n",
       "  margin-top: 0;\n",
       "  margin-bottom: 0;\n",
       "}\n",
       "\n",
       ".xr-obj-type,\n",
       ".xr-array-name {\n",
       "  margin-left: 2px;\n",
       "  margin-right: 10px;\n",
       "}\n",
       "\n",
       ".xr-obj-type {\n",
       "  color: var(--xr-font-color2);\n",
       "}\n",
       "\n",
       ".xr-sections {\n",
       "  padding-left: 0 !important;\n",
       "  display: grid;\n",
       "  grid-template-columns: 150px auto auto 1fr 20px 20px;\n",
       "}\n",
       "\n",
       ".xr-section-item {\n",
       "  display: contents;\n",
       "}\n",
       "\n",
       ".xr-section-item input {\n",
       "  display: none;\n",
       "}\n",
       "\n",
       ".xr-section-item input + label {\n",
       "  color: var(--xr-disabled-color);\n",
       "}\n",
       "\n",
       ".xr-section-item input:enabled + label {\n",
       "  cursor: pointer;\n",
       "  color: var(--xr-font-color2);\n",
       "}\n",
       "\n",
       ".xr-section-item input:enabled + label:hover {\n",
       "  color: var(--xr-font-color0);\n",
       "}\n",
       "\n",
       ".xr-section-summary {\n",
       "  grid-column: 1;\n",
       "  color: var(--xr-font-color2);\n",
       "  font-weight: 500;\n",
       "}\n",
       "\n",
       ".xr-section-summary > span {\n",
       "  display: inline-block;\n",
       "  padding-left: 0.5em;\n",
       "}\n",
       "\n",
       ".xr-section-summary-in:disabled + label {\n",
       "  color: var(--xr-font-color2);\n",
       "}\n",
       "\n",
       ".xr-section-summary-in + label:before {\n",
       "  display: inline-block;\n",
       "  content: '►';\n",
       "  font-size: 11px;\n",
       "  width: 15px;\n",
       "  text-align: center;\n",
       "}\n",
       "\n",
       ".xr-section-summary-in:disabled + label:before {\n",
       "  color: var(--xr-disabled-color);\n",
       "}\n",
       "\n",
       ".xr-section-summary-in:checked + label:before {\n",
       "  content: '▼';\n",
       "}\n",
       "\n",
       ".xr-section-summary-in:checked + label > span {\n",
       "  display: none;\n",
       "}\n",
       "\n",
       ".xr-section-summary,\n",
       ".xr-section-inline-details {\n",
       "  padding-top: 4px;\n",
       "  padding-bottom: 4px;\n",
       "}\n",
       "\n",
       ".xr-section-inline-details {\n",
       "  grid-column: 2 / -1;\n",
       "}\n",
       "\n",
       ".xr-section-details {\n",
       "  display: none;\n",
       "  grid-column: 1 / -1;\n",
       "  margin-bottom: 5px;\n",
       "}\n",
       "\n",
       ".xr-section-summary-in:checked ~ .xr-section-details {\n",
       "  display: contents;\n",
       "}\n",
       "\n",
       ".xr-array-wrap {\n",
       "  grid-column: 1 / -1;\n",
       "  display: grid;\n",
       "  grid-template-columns: 20px auto;\n",
       "}\n",
       "\n",
       ".xr-array-wrap > label {\n",
       "  grid-column: 1;\n",
       "  vertical-align: top;\n",
       "}\n",
       "\n",
       ".xr-preview {\n",
       "  color: var(--xr-font-color3);\n",
       "}\n",
       "\n",
       ".xr-array-preview,\n",
       ".xr-array-data {\n",
       "  padding: 0 5px !important;\n",
       "  grid-column: 2;\n",
       "}\n",
       "\n",
       ".xr-array-data,\n",
       ".xr-array-in:checked ~ .xr-array-preview {\n",
       "  display: none;\n",
       "}\n",
       "\n",
       ".xr-array-in:checked ~ .xr-array-data,\n",
       ".xr-array-preview {\n",
       "  display: inline-block;\n",
       "}\n",
       "\n",
       ".xr-dim-list {\n",
       "  display: inline-block !important;\n",
       "  list-style: none;\n",
       "  padding: 0 !important;\n",
       "  margin: 0;\n",
       "}\n",
       "\n",
       ".xr-dim-list li {\n",
       "  display: inline-block;\n",
       "  padding: 0;\n",
       "  margin: 0;\n",
       "}\n",
       "\n",
       ".xr-dim-list:before {\n",
       "  content: '(';\n",
       "}\n",
       "\n",
       ".xr-dim-list:after {\n",
       "  content: ')';\n",
       "}\n",
       "\n",
       ".xr-dim-list li:not(:last-child):after {\n",
       "  content: ',';\n",
       "  padding-right: 5px;\n",
       "}\n",
       "\n",
       ".xr-has-index {\n",
       "  font-weight: bold;\n",
       "}\n",
       "\n",
       ".xr-var-list,\n",
       ".xr-var-item {\n",
       "  display: contents;\n",
       "}\n",
       "\n",
       ".xr-var-item > div,\n",
       ".xr-var-item label,\n",
       ".xr-var-item > .xr-var-name span {\n",
       "  background-color: var(--xr-background-color-row-even);\n",
       "  margin-bottom: 0;\n",
       "}\n",
       "\n",
       ".xr-var-item > .xr-var-name:hover span {\n",
       "  padding-right: 5px;\n",
       "}\n",
       "\n",
       ".xr-var-list > li:nth-child(odd) > div,\n",
       ".xr-var-list > li:nth-child(odd) > label,\n",
       ".xr-var-list > li:nth-child(odd) > .xr-var-name span {\n",
       "  background-color: var(--xr-background-color-row-odd);\n",
       "}\n",
       "\n",
       ".xr-var-name {\n",
       "  grid-column: 1;\n",
       "}\n",
       "\n",
       ".xr-var-dims {\n",
       "  grid-column: 2;\n",
       "}\n",
       "\n",
       ".xr-var-dtype {\n",
       "  grid-column: 3;\n",
       "  text-align: right;\n",
       "  color: var(--xr-font-color2);\n",
       "}\n",
       "\n",
       ".xr-var-preview {\n",
       "  grid-column: 4;\n",
       "}\n",
       "\n",
       ".xr-index-preview {\n",
       "  grid-column: 2 / 5;\n",
       "  color: var(--xr-font-color2);\n",
       "}\n",
       "\n",
       ".xr-var-name,\n",
       ".xr-var-dims,\n",
       ".xr-var-dtype,\n",
       ".xr-preview,\n",
       ".xr-attrs dt {\n",
       "  white-space: nowrap;\n",
       "  overflow: hidden;\n",
       "  text-overflow: ellipsis;\n",
       "  padding-right: 10px;\n",
       "}\n",
       "\n",
       ".xr-var-name:hover,\n",
       ".xr-var-dims:hover,\n",
       ".xr-var-dtype:hover,\n",
       ".xr-attrs dt:hover {\n",
       "  overflow: visible;\n",
       "  width: auto;\n",
       "  z-index: 1;\n",
       "}\n",
       "\n",
       ".xr-var-attrs,\n",
       ".xr-var-data,\n",
       ".xr-index-data {\n",
       "  display: none;\n",
       "  background-color: var(--xr-background-color) !important;\n",
       "  padding-bottom: 5px !important;\n",
       "}\n",
       "\n",
       ".xr-var-attrs-in:checked ~ .xr-var-attrs,\n",
       ".xr-var-data-in:checked ~ .xr-var-data,\n",
       ".xr-index-data-in:checked ~ .xr-index-data {\n",
       "  display: block;\n",
       "}\n",
       "\n",
       ".xr-var-data > table {\n",
       "  float: right;\n",
       "}\n",
       "\n",
       ".xr-var-name span,\n",
       ".xr-var-data,\n",
       ".xr-index-name div,\n",
       ".xr-index-data,\n",
       ".xr-attrs {\n",
       "  padding-left: 25px !important;\n",
       "}\n",
       "\n",
       ".xr-attrs,\n",
       ".xr-var-attrs,\n",
       ".xr-var-data,\n",
       ".xr-index-data {\n",
       "  grid-column: 1 / -1;\n",
       "}\n",
       "\n",
       "dl.xr-attrs {\n",
       "  padding: 0;\n",
       "  margin: 0;\n",
       "  display: grid;\n",
       "  grid-template-columns: 125px auto;\n",
       "}\n",
       "\n",
       ".xr-attrs dt,\n",
       ".xr-attrs dd {\n",
       "  padding: 0;\n",
       "  margin: 0;\n",
       "  float: left;\n",
       "  padding-right: 10px;\n",
       "  width: auto;\n",
       "}\n",
       "\n",
       ".xr-attrs dt {\n",
       "  font-weight: normal;\n",
       "  grid-column: 1;\n",
       "}\n",
       "\n",
       ".xr-attrs dt:hover span {\n",
       "  display: inline-block;\n",
       "  background: var(--xr-background-color);\n",
       "  padding-right: 10px;\n",
       "}\n",
       "\n",
       ".xr-attrs dd {\n",
       "  grid-column: 2;\n",
       "  white-space: pre-wrap;\n",
       "  word-break: break-all;\n",
       "}\n",
       "\n",
       ".xr-icon-database,\n",
       ".xr-icon-file-text2,\n",
       ".xr-no-icon {\n",
       "  display: inline-block;\n",
       "  vertical-align: middle;\n",
       "  width: 1em;\n",
       "  height: 1.5em !important;\n",
       "  stroke-width: 0;\n",
       "  stroke: currentColor;\n",
       "  fill: currentColor;\n",
       "}\n",
       "</style><pre class='xr-text-repr-fallback'>&lt;xarray.Dataset&gt;\n",
       "Dimensions:  (time: 7666, lon: 259, lat: 240)\n",
       "Coordinates:\n",
       "  * time     (time) float64 2.001e+07 2.001e+07 ... 2.021e+07 2.021e+07\n",
       "  * lon      (lon) float64 -124.8 -124.7 -124.7 -124.6 ... -114.1 -114.1 -114.0\n",
       "  * lat      (lat) float64 41.98 41.94 41.9 41.86 ... 32.15 32.11 32.07 32.03\n",
       "Data variables:\n",
       "    LAI      (time, lat, lon) float32 ...\n",
       "Attributes:\n",
       "    CDI:          Climate Data Interface version 2.1.1 (https://mpimet.mpg.de...\n",
       "    Conventions:  CF-1.5\n",
       "    GDAL:         GDAL 3.9.3, released 2024/10/07\n",
       "    history:      Fri Feb 14 12:55:14 2025: cdo inttime,2001-01-01,00:00:00,1...\n",
       "    CDO:          Climate Data Operators version 2.1.1 (https://mpimet.mpg.de...</pre><div class='xr-wrap' style='display:none'><div class='xr-header'><div class='xr-obj-type'>xarray.Dataset</div></div><ul class='xr-sections'><li class='xr-section-item'><input id='section-e5207bb5-4ad3-4ebf-b808-3bca66e458a1' class='xr-section-summary-in' type='checkbox' disabled ><label for='section-e5207bb5-4ad3-4ebf-b808-3bca66e458a1' class='xr-section-summary'  title='Expand/collapse section'>Dimensions:</label><div class='xr-section-inline-details'><ul class='xr-dim-list'><li><span class='xr-has-index'>time</span>: 7666</li><li><span class='xr-has-index'>lon</span>: 259</li><li><span class='xr-has-index'>lat</span>: 240</li></ul></div><div class='xr-section-details'></div></li><li class='xr-section-item'><input id='section-830501fa-9477-46f9-8d11-6357cf04a589' class='xr-section-summary-in' type='checkbox'  checked><label for='section-830501fa-9477-46f9-8d11-6357cf04a589' class='xr-section-summary' >Coordinates: <span>(3)</span></label><div class='xr-section-inline-details'></div><div class='xr-section-details'><ul class='xr-var-list'><li class='xr-var-item'><div class='xr-var-name'><span class='xr-has-index'>time</span></div><div class='xr-var-dims'>(time)</div><div class='xr-var-dtype'>float64</div><div class='xr-var-preview xr-preview'>2.001e+07 2.001e+07 ... 2.021e+07</div><input id='attrs-4595280c-fc1d-48ca-96d7-d9d101cc801b' class='xr-var-attrs-in' type='checkbox' ><label for='attrs-4595280c-fc1d-48ca-96d7-d9d101cc801b' title='Show/Hide attributes'><svg class='icon xr-icon-file-text2'><use xlink:href='#icon-file-text2'></use></svg></label><input id='data-e3a37cb4-39c1-4386-a67e-4a74ef94c6de' class='xr-var-data-in' type='checkbox'><label for='data-e3a37cb4-39c1-4386-a67e-4a74ef94c6de' title='Show/Hide data repr'><svg class='icon xr-icon-database'><use xlink:href='#icon-database'></use></svg></label><div class='xr-var-attrs'><dl class='xr-attrs'><dt><span>standard_name :</span></dt><dd>time</dd><dt><span>units :</span></dt><dd>day as %Y%m%d.%f</dd><dt><span>calendar :</span></dt><dd>proleptic_gregorian</dd><dt><span>axis :</span></dt><dd>T</dd></dl></div><div class='xr-var-data'><pre>array([20010101., 20010102., 20010103., ..., 20211225., 20211226., 20211227.])</pre></div></li><li class='xr-var-item'><div class='xr-var-name'><span class='xr-has-index'>lon</span></div><div class='xr-var-dims'>(lon)</div><div class='xr-var-dtype'>float64</div><div class='xr-var-preview xr-preview'>-124.8 -124.7 ... -114.1 -114.0</div><input id='attrs-68b4d631-c905-4d20-8a78-6fb2d9e746f6' class='xr-var-attrs-in' type='checkbox' ><label for='attrs-68b4d631-c905-4d20-8a78-6fb2d9e746f6' title='Show/Hide attributes'><svg class='icon xr-icon-file-text2'><use xlink:href='#icon-file-text2'></use></svg></label><input id='data-ac753e78-5e58-4350-afc9-ae231ecbac46' class='xr-var-data-in' type='checkbox'><label for='data-ac753e78-5e58-4350-afc9-ae231ecbac46' title='Show/Hide data repr'><svg class='icon xr-icon-database'><use xlink:href='#icon-database'></use></svg></label><div class='xr-var-attrs'><dl class='xr-attrs'><dt><span>standard_name :</span></dt><dd>longitude</dd><dt><span>long_name :</span></dt><dd>longitude</dd><dt><span>units :</span></dt><dd>degrees_east</dd><dt><span>axis :</span></dt><dd>X</dd></dl></div><div class='xr-var-data'><pre>array([-124.766667, -124.725   , -124.683333, ..., -114.1     , -114.058333,\n",
       "       -114.016667])</pre></div></li><li class='xr-var-item'><div class='xr-var-name'><span class='xr-has-index'>lat</span></div><div class='xr-var-dims'>(lat)</div><div class='xr-var-dtype'>float64</div><div class='xr-var-preview xr-preview'>41.98 41.94 41.9 ... 32.07 32.03</div><input id='attrs-f659af92-4f46-4dd8-b055-ec0b74442cfc' class='xr-var-attrs-in' type='checkbox' ><label for='attrs-f659af92-4f46-4dd8-b055-ec0b74442cfc' title='Show/Hide attributes'><svg class='icon xr-icon-file-text2'><use xlink:href='#icon-file-text2'></use></svg></label><input id='data-645bd373-eb6e-4ca5-bca1-c555c8fa8adb' class='xr-var-data-in' type='checkbox'><label for='data-645bd373-eb6e-4ca5-bca1-c555c8fa8adb' title='Show/Hide data repr'><svg class='icon xr-icon-database'><use xlink:href='#icon-database'></use></svg></label><div class='xr-var-attrs'><dl class='xr-attrs'><dt><span>standard_name :</span></dt><dd>latitude</dd><dt><span>long_name :</span></dt><dd>latitude</dd><dt><span>units :</span></dt><dd>degrees_north</dd><dt><span>axis :</span></dt><dd>Y</dd></dl></div><div class='xr-var-data'><pre>array([41.983333, 41.941667, 41.9     , ..., 32.108333, 32.066667, 32.025   ])</pre></div></li></ul></div></li><li class='xr-section-item'><input id='section-2602e9cd-185d-40ce-8379-eee6f93f2795' class='xr-section-summary-in' type='checkbox'  checked><label for='section-2602e9cd-185d-40ce-8379-eee6f93f2795' class='xr-section-summary' >Data variables: <span>(1)</span></label><div class='xr-section-inline-details'></div><div class='xr-section-details'><ul class='xr-var-list'><li class='xr-var-item'><div class='xr-var-name'><span>LAI</span></div><div class='xr-var-dims'>(time, lat, lon)</div><div class='xr-var-dtype'>float32</div><div class='xr-var-preview xr-preview'>...</div><input id='attrs-05d29a73-474c-4934-9cbb-2b7d0ffe7028' class='xr-var-attrs-in' type='checkbox' ><label for='attrs-05d29a73-474c-4934-9cbb-2b7d0ffe7028' title='Show/Hide attributes'><svg class='icon xr-icon-file-text2'><use xlink:href='#icon-file-text2'></use></svg></label><input id='data-7f520de3-cb10-473a-a14b-36a24685df84' class='xr-var-data-in' type='checkbox'><label for='data-7f520de3-cb10-473a-a14b-36a24685df84' title='Show/Hide data repr'><svg class='icon xr-icon-database'><use xlink:href='#icon-database'></use></svg></label><div class='xr-var-attrs'><dl class='xr-attrs'><dt><span>long_name :</span></dt><dd>GDAL Band Number 1</dd></dl></div><div class='xr-var-data'><pre>[476518560 values with dtype=float32]</pre></div></li></ul></div></li><li class='xr-section-item'><input id='section-b918bf3c-ba81-4ab0-b554-bf6ef4b702b3' class='xr-section-summary-in' type='checkbox'  ><label for='section-b918bf3c-ba81-4ab0-b554-bf6ef4b702b3' class='xr-section-summary' >Indexes: <span>(3)</span></label><div class='xr-section-inline-details'></div><div class='xr-section-details'><ul class='xr-var-list'><li class='xr-var-item'><div class='xr-index-name'><div>time</div></div><div class='xr-index-preview'>PandasIndex</div><div></div><input id='index-6d106116-8c82-45b0-b743-014314205288' class='xr-index-data-in' type='checkbox'/><label for='index-6d106116-8c82-45b0-b743-014314205288' title='Show/Hide index repr'><svg class='icon xr-icon-database'><use xlink:href='#icon-database'></use></svg></label><div class='xr-index-data'><pre>PandasIndex(Index([20010101.0, 20010102.0, 20010103.0, 20010104.0, 20010105.0, 20010106.0,\n",
       "       20010107.0, 20010108.0, 20010109.0, 20010110.0,\n",
       "       ...\n",
       "       20211218.0, 20211219.0, 20211220.0, 20211221.0, 20211222.0, 20211223.0,\n",
       "       20211224.0, 20211225.0, 20211226.0, 20211227.0],\n",
       "      dtype=&#x27;float64&#x27;, name=&#x27;time&#x27;, length=7666))</pre></div></li><li class='xr-var-item'><div class='xr-index-name'><div>lon</div></div><div class='xr-index-preview'>PandasIndex</div><div></div><input id='index-78d55af7-80dc-41d8-902f-67107680d3a1' class='xr-index-data-in' type='checkbox'/><label for='index-78d55af7-80dc-41d8-902f-67107680d3a1' title='Show/Hide index repr'><svg class='icon xr-icon-database'><use xlink:href='#icon-database'></use></svg></label><div class='xr-index-data'><pre>PandasIndex(Index([-124.76666663333334, -124.72499996666667, -124.68333330000002,\n",
       "       -124.64166663333334, -124.59999996666667, -124.55833330000002,\n",
       "       -124.51666663333334, -124.47499996666667, -124.43333330000002,\n",
       "       -124.39166663333334,\n",
       "       ...\n",
       "       -114.39166663333334, -114.34999996666667, -114.30833330000002,\n",
       "       -114.26666663333334, -114.22499996666667, -114.18333330000002,\n",
       "       -114.14166663333334, -114.09999996666667, -114.05833330000002,\n",
       "       -114.01666663333334],\n",
       "      dtype=&#x27;float64&#x27;, name=&#x27;lon&#x27;, length=259))</pre></div></li><li class='xr-var-item'><div class='xr-index-name'><div>lat</div></div><div class='xr-index-preview'>PandasIndex</div><div></div><input id='index-84a05336-b6a9-42ec-b0ff-520f90d3e69d' class='xr-index-data-in' type='checkbox'/><label for='index-84a05336-b6a9-42ec-b0ff-520f90d3e69d' title='Show/Hide index repr'><svg class='icon xr-icon-database'><use xlink:href='#icon-database'></use></svg></label><div class='xr-index-data'><pre>PandasIndex(Index([41.983333333333334,  41.94166666666667, 41.900000000000006,\n",
       "        41.85833333333334,  41.81666666666667, 41.775000000000006,\n",
       "        41.73333333333334,  41.69166666666667, 41.650000000000006,\n",
       "        41.60833333333334,\n",
       "       ...\n",
       "       32.400000000000006, 32.358333333333334,  32.31666666666667,\n",
       "       32.275000000000006, 32.233333333333334,  32.19166666666667,\n",
       "       32.150000000000006, 32.108333333333334,  32.06666666666667,\n",
       "       32.025000000000006],\n",
       "      dtype=&#x27;float64&#x27;, name=&#x27;lat&#x27;, length=240))</pre></div></li></ul></div></li><li class='xr-section-item'><input id='section-f194589e-6587-45ec-a212-f76926108263' class='xr-section-summary-in' type='checkbox'  checked><label for='section-f194589e-6587-45ec-a212-f76926108263' class='xr-section-summary' >Attributes: <span>(5)</span></label><div class='xr-section-inline-details'></div><div class='xr-section-details'><dl class='xr-attrs'><dt><span>CDI :</span></dt><dd>Climate Data Interface version 2.1.1 (https://mpimet.mpg.de/cdi)</dd><dt><span>Conventions :</span></dt><dd>CF-1.5</dd><dt><span>GDAL :</span></dt><dd>GDAL 3.9.3, released 2024/10/07</dd><dt><span>history :</span></dt><dd>Fri Feb 14 12:55:14 2025: cdo inttime,2001-01-01,00:00:00,1day glass.lai.2001.2021.CA.nc glass.lai.2001.2021.CA.daily_interpolated.nc\n",
       "Thu Feb 13 11:23:04 2025: cdo -chname,Band1,LAI -setctomiss,0 glass.lai.2001.2021.remap.CA.nc glass.lai.2001.2021.CA.nc\n",
       "Thu Feb 13 11:22:13 2025: cdo mul glass.lai.2001.2021.remap.nc CA.remap.nc glass.lai.2001.2021.WUS.nc\n",
       "Thu Feb 13 11:20:14 2025: cdo remapbil,CA.remap.nc glass.lai.2001.2021.scaled.nc glass.lai.2001.2021.remap.nc\n",
       "Thu Feb 13 11:19:22 2025: cdo -b F32 mulc,0.02 glass.lai.2001.2021.set.nc glass.lai.2001.2021.scaled.nc\n",
       "Thu Feb 13 11:19:16 2025: cdo setctomiss,255 glass.lai.2001.2021.nc glass.lai.2001.2021.set.nc\n",
       "Thu Feb 13 11:10:48 2025: cdo mergetime GLASS01B01.V60.A2001001.2022010.LAI.nc GLASS01B01.V60.A2001009.2022010.LAI.nc GLASS01B01.V60.A2001017.2022010.LAI.nc GLASS01B01.V60.A2001025.2022010.LAI.nc GLASS01B01.V60.A2001033.2022010.LAI.nc GLASS01B01.V60.A2001041.2022010.LAI.nc GLASS01B01.V60.A2001049.2022010.LAI.nc GLASS01B01.V60.A2001057.2022010.LAI.nc GLASS01B01.V60.A2001065.2022010.LAI.nc GLASS01B01.V60.A2001073.2022010.LAI.nc GLASS01B01.V60.A2001081.2022010.LAI.nc GLASS01B01.V60.A2001089.2022010.LAI.nc GLASS01B01.V60.A2001097.2022010.LAI.nc GLASS01B01.V60.A2001105.2022010.LAI.nc GLASS01B01.V60.A2001113.2022010.LAI.nc GLASS01B01.V60.A2001121.2022010.LAI.nc GLASS01B01.V60.A2001129.2022010.LAI.nc GLASS01B01.V60.A2001137.2022010.LAI.nc GLASS01B01.V60.A2001145.2022010.LAI.nc GLASS01B01.V60.A2001153.2022010.LAI.nc GLASS01B01.V60.A2001161.2022010.LAI.nc GLASS01B01.V60.A2001169.2022010.LAI.nc GLASS01B01.V60.A2001177.2022010.LAI.nc GLASS01B01.V60.A2001185.2022010.LAI.nc GLASS01B01.V60.A2001193.2022010.LAI.nc GLASS01B01.V60.A2001201.2022010.LAI.nc GLASS01B01.V60.A2001209.2022010.LAI.nc GLASS01B01.V60.A2001217.2022010.LAI.nc GLASS01B01.V60.A2001225.2022010.LAI.nc GLASS01B01.V60.A2001233.2022010.LAI.nc GLASS01B01.V60.A2001241.2022010.LAI.nc GLASS01B01.V60.A2001249.2022010.LAI.nc GLASS01B01.V60.A2001257.2022010.LAI.nc GLASS01B01.V60.A2001265.2022010.LAI.nc GLASS01B01.V60.A2001273.2022010.LAI.nc GLASS01B01.V60.A2001281.2022010.LAI.nc GLASS01B01.V60.A2001289.2022010.LAI.nc GLASS01B01.V60.A2001297.2022010.LAI.nc GLASS01B01.V60.A2001305.2022010.LAI.nc GLASS01B01.V60.A2001313.2022010.LAI.nc GLASS01B01.V60.A2001321.2022010.LAI.nc GLASS01B01.V60.A2001329.2022010.LAI.nc GLASS01B01.V60.A2001337.2022010.LAI.nc GLASS01B01.V60.A2001345.2022010.LAI.nc GLASS01B01.V60.A2001353.2022010.LAI.nc GLASS01B01.V60.A2001361.2022010.LAI.nc GLASS01B01.V60.A2002001.2022010.LAI.nc GLASS01B01.V60.A2002009.2022010.LAI.nc GLASS01B01.V60.A2002017.2022010.LAI.nc GLASS01B01.V60.A2002025.2022010.LAI.nc GLASS01B01.V60.A2002033.2022010.LAI.nc GLASS01B01.V60.A2002041.2022010.LAI.nc GLASS01B01.V60.A2002049.2022010.LAI.nc GLASS01B01.V60.A2002057.2022010.LAI.nc GLASS01B01.V60.A2002065.2022010.LAI.nc GLASS01B01.V60.A2002073.2022010.LAI.nc GLASS01B01.V60.A2002081.2022010.LAI.nc GLASS01B01.V60.A2002089.2022010.LAI.nc GLASS01B01.V60.A2002097.2022010.LAI.nc GLASS01B01.V60.A2002105.2022010.LAI.nc GLASS01B01.V60.A2002113.2022010.LAI.nc GLASS01B01.V60.A2002121.2022010.LAI.nc GLASS01B01.V60.A2002129.2022010.LAI.nc GLASS01B01.V60.A2002137.2022010.LAI.nc GLASS01B01.V60.A2002145.2022010.LAI.nc GLASS01B01.V60.A2002153.2022010.LAI.nc GLASS01B01.V60.A2002161.2022010.LAI.nc GLASS01B01.V60.A2002169.2022010.LAI.nc GLASS01B01.V60.A2002177.2022010.LAI.nc GLASS01B01.V60.A2002185.2022010.LAI.nc GLASS01B01.V60.A2002193.2022010.LAI.nc GLASS01B01.V60.A2002201.2022010.LAI.nc GLASS01B01.V60.A2002209.2022010.LAI.nc GLASS01B01.V60.A2002217.2022010.LAI.nc GLASS01B01.V60.A2002225.2022010.LAI.nc GLASS01B01.V60.A2002233.2022010.LAI.nc GLASS01B01.V60.A2002241.2022010.LAI.nc GLASS01B01.V60.A2002249.2022010.LAI.nc GLASS01B01.V60.A2002257.2022010.LAI.nc GLASS01B01.V60.A2002265.2022010.LAI.nc GLASS01B01.V60.A2002273.2022010.LAI.nc GLASS01B01.V60.A2002281.2022010.LAI.nc GLASS01B01.V60.A2002289.2022010.LAI.nc GLASS01B01.V60.A2002297.2022010.LAI.nc GLASS01B01.V60.A2002305.2022010.LAI.nc GLASS01B01.V60.A2002313.2022010.LAI.nc GLASS01B01.V60.A2002321.2022010.LAI.nc GLASS01B01.V60.A2002329.2022010.LAI.nc GLASS01B01.V60.A2002337.2022010.LAI.nc GLASS01B01.V60.A2002345.2022010.LAI.nc GLASS01B01.V60.A2002353.2022010.LAI.nc GLASS01B01.V60.A2002361.2022010.LAI.nc GLASS01B01.V60.A2003001.2022010.LAI.nc GLASS01B01.V60.A2003009.2022010.LAI.nc GLASS01B01.V60.A2003017.2022010.LAI.nc GLASS01B01.V60.A2003025.2022010.LAI.nc GLASS01B01.V60.A2003033.2022010.LAI.nc GLASS01B01.V60.A2003041.2022010.LAI.nc GLASS01B01.V60.A2003049.2022010.LAI.nc GLASS01B01.V60.A2003057.2022010.LAI.nc GLASS01B01.V60.A2003065.2022010.LAI.nc GLASS01B01.V60.A2003073.2022010.LAI.nc GLASS01B01.V60.A2003081.2022010.LAI.nc GLASS01B01.V60.A2003089.2022010.LAI.nc GLASS01B01.V60.A2003097.2022010.LAI.nc GLASS01B01.V60.A2003105.2022010.LAI.nc GLASS01B01.V60.A2003113.2022010.LAI.nc GLASS01B01.V60.A2003121.2022010.LAI.nc GLASS01B01.V60.A2003129.2022010.LAI.nc GLASS01B01.V60.A2003137.2022010.LAI.nc GLASS01B01.V60.A2003145.2022010.LAI.nc GLASS01B01.V60.A2003153.2022010.LAI.nc GLASS01B01.V60.A2003161.2022010.LAI.nc GLASS01B01.V60.A2003169.2022010.LAI.nc GLASS01B01.V60.A2003177.2022010.LAI.nc GLASS01B01.V60.A2003185.2022010.LAI.nc GLASS01B01.V60.A2003193.2022010.LAI.nc GLASS01B01.V60.A2003201.2022010.LAI.nc GLASS01B01.V60.A2003209.2022010.LAI.nc GLASS01B01.V60.A2003217.2022010.LAI.nc GLASS01B01.V60.A2003225.2022010.LAI.nc GLASS01B01.V60.A2003233.2022010.LAI.nc GLASS01B01.V60.A2003241.2022010.LAI.nc GLASS01B01.V60.A2003249.2022010.LAI.nc GLASS01B01.V60.A2003257.2022010.LAI.nc GLASS01B01.V60.A2003265.2022010.LAI.nc GLASS01B01.V60.A2003273.2022010.LAI.nc GLASS01B01.V60.A2003281.2022010.LAI.nc GLASS01B01.V60.A2003289.2022010.LAI.nc GLASS01B01.V60.A2003297.2022010.LAI.nc GLASS01B01.V60.A2003305.2022010.LAI.nc GLASS01B01.V60.A2003313.2022010.LAI.nc GLASS01B01.V60.A2003321.2022010.LAI.nc GLASS01B01.V60.A2003329.2022010.LAI.nc GLASS01B01.V60.A2003337.2022010.LAI.nc GLASS01B01.V60.A2003345.2022010.LAI.nc GLASS01B01.V60.A2003353.2022010.LAI.nc GLASS01B01.V60.A2003361.2022010.LAI.nc GLASS01B01.V60.A2004001.2022010.LAI.nc GLASS01B01.V60.A2004009.2022010.LAI.nc GLASS01B01.V60.A2004017.2022010.LAI.nc GLASS01B01.V60.A2004025.2022010.LAI.nc GLASS01B01.V60.A2004033.2022010.LAI.nc GLASS01B01.V60.A2004041.2022010.LAI.nc GLASS01B01.V60.A2004049.2022010.LAI.nc GLASS01B01.V60.A2004057.2022010.LAI.nc GLASS01B01.V60.A2004065.2022010.LAI.nc GLASS01B01.V60.A2004073.2022010.LAI.nc GLASS01B01.V60.A2004081.2022010.LAI.nc GLASS01B01.V60.A2004089.2022010.LAI.nc GLASS01B01.V60.A2004097.2022010.LAI.nc GLASS01B01.V60.A2004105.2022010.LAI.nc GLASS01B01.V60.A2004113.2022010.LAI.nc GLASS01B01.V60.A2004121.2022010.LAI.nc GLASS01B01.V60.A2004129.2022010.LAI.nc GLASS01B01.V60.A2004137.2022010.LAI.nc GLASS01B01.V60.A2004145.2022010.LAI.nc GLASS01B01.V60.A2004153.2022010.LAI.nc GLASS01B01.V60.A2004161.2022010.LAI.nc GLASS01B01.V60.A2004169.2022010.LAI.nc GLASS01B01.V60.A2004177.2022010.LAI.nc GLASS01B01.V60.A2004185.2022010.LAI.nc GLASS01B01.V60.A2004193.2022010.LAI.nc GLASS01B01.V60.A2004201.2022010.LAI.nc GLASS01B01.V60.A2004209.2022010.LAI.nc GLASS01B01.V60.A2004217.2022010.LAI.nc GLASS01B01.V60.A2004225.2022010.LAI.nc GLASS01B01.V60.A2004233.2022010.LAI.nc GLASS01B01.V60.A2004241.2022010.LAI.nc GLASS01B01.V60.A2004249.2022010.LAI.nc GLASS01B01.V60.A2004257.2022010.LAI.nc GLASS01B01.V60.A2004265.2022010.LAI.nc GLASS01B01.V60.A2004273.2022010.LAI.nc GLASS01B01.V60.A2004281.2022010.LAI.nc GLASS01B01.V60.A2004289.2022010.LAI.nc GLASS01B01.V60.A2004297.2022010.LAI.nc GLASS01B01.V60.A2004305.2022010.LAI.nc GLASS01B01.V60.A2004313.2022010.LAI.nc GLASS01B01.V60.A2004321.2022010.LAI.nc GLASS01B01.V60.A2004329.2022010.LAI.nc GLASS01B01.V60.A2004337.2022010.LAI.nc GLASS01B01.V60.A2004345.2022010.LAI.nc GLASS01B01.V60.A2004353.2022010.LAI.nc GLASS01B01.V60.A2004361.2022010.LAI.nc GLASS01B01.V60.A2005001.2022010.LAI.nc GLASS01B01.V60.A2005009.2022010.LAI.nc GLASS01B01.V60.A2005017.2022010.LAI.nc GLASS01B01.V60.A2005025.2022010.LAI.nc GLASS01B01.V60.A2005033.2022010.LAI.nc GLASS01B01.V60.A2005041.2022010.LAI.nc GLASS01B01.V60.A2005049.2022010.LAI.nc GLASS01B01.V60.A2005057.2022010.LAI.nc GLASS01B01.V60.A2005065.2022010.LAI.nc GLASS01B01.V60.A2005073.2022010.LAI.nc GLASS01B01.V60.A2005081.2022010.LAI.nc GLASS01B01.V60.A2005089.2022010.LAI.nc GLASS01B01.V60.A2005097.2022010.LAI.nc GLASS01B01.V60.A2005105.2022010.LAI.nc GLASS01B01.V60.A2005113.2022010.LAI.nc GLASS01B01.V60.A2005121.2022010.LAI.nc GLASS01B01.V60.A2005129.2022010.LAI.nc GLASS01B01.V60.A2005137.2022010.LAI.nc GLASS01B01.V60.A2005145.2022010.LAI.nc GLASS01B01.V60.A2005153.2022010.LAI.nc GLASS01B01.V60.A2005161.2022010.LAI.nc GLASS01B01.V60.A2005169.2022010.LAI.nc GLASS01B01.V60.A2005177.2022010.LAI.nc GLASS01B01.V60.A2005185.2022010.LAI.nc GLASS01B01.V60.A2005193.2022010.LAI.nc GLASS01B01.V60.A2005201.2022010.LAI.nc GLASS01B01.V60.A2005209.2022010.LAI.nc GLASS01B01.V60.A2005217.2022010.LAI.nc GLASS01B01.V60.A2005225.2022010.LAI.nc GLASS01B01.V60.A2005233.2022010.LAI.nc GLASS01B01.V60.A2005241.2022010.LAI.nc GLASS01B01.V60.A2005249.2022010.LAI.nc GLASS01B01.V60.A2005257.2022010.LAI.nc GLASS01B01.V60.A2005265.2022010.LAI.nc GLASS01B01.V60.A2005273.2022010.LAI.nc GLASS01B01.V60.A2005281.2022010.LAI.nc GLASS01B01.V60.A2005289.2022010.LAI.nc GLASS01B01.V60.A2005297.2022010.LAI.nc GLASS01B01.V60.A2005305.2022010.LAI.nc GLASS01B01.V60.A2005313.2022010.LAI.nc GLASS01B01.V60.A2005321.2022010.LAI.nc GLASS01B01.V60.A2005329.2022010.LAI.nc GLASS01B01.V60.A2005337.2022010.LAI.nc GLASS01B01.V60.A2005345.2022010.LAI.nc GLASS01B01.V60.A2005353.2022010.LAI.nc GLASS01B01.V60.A2005361.2022010.LAI.nc GLASS01B01.V60.A2006001.2022010.LAI.nc GLASS01B01.V60.A2006009.2022010.LAI.nc GLASS01B01.V60.A2006017.2022010.LAI.nc GLASS01B01.V60.A2006025.2022010.LAI.nc GLASS01B01.V60.A2006033.2022010.LAI.nc GLASS01B01.V60.A2006041.2022010.LAI.nc GLASS01B01.V60.A2006049.2022010.LAI.nc GLASS01B01.V60.A2006057.2022010.LAI.nc GLASS01B01.V60.A2006065.2022010.LAI.nc GLASS01B01.V60.A2006073.2022010.LAI.nc GLASS01B01.V60.A2006081.2022010.LAI.nc GLASS01B01.V60.A2006089.2022010.LAI.nc GLASS01B01.V60.A2006097.2022010.LAI.nc GLASS01B01.V60.A2006105.2022010.LAI.nc GLASS01B01.V60.A2006113.2022010.LAI.nc GLASS01B01.V60.A2006121.2022010.LAI.nc GLASS01B01.V60.A2006129.2022010.LAI.nc GLASS01B01.V60.A2006137.2022010.LAI.nc GLASS01B01.V60.A2006145.2022010.LAI.nc GLASS01B01.V60.A2006153.2022010.LAI.nc GLASS01B01.V60.A2006161.2022010.LAI.nc GLASS01B01.V60.A2006169.2022010.LAI.nc GLASS01B01.V60.A2006177.2022010.LAI.nc GLASS01B01.V60.A2006185.2022010.LAI.nc GLASS01B01.V60.A2006193.2022010.LAI.nc GLASS01B01.V60.A2006201.2022010.LAI.nc GLASS01B01.V60.A2006209.2022010.LAI.nc GLASS01B01.V60.A2006217.2022010.LAI.nc GLASS01B01.V60.A2006225.2022010.LAI.nc GLASS01B01.V60.A2006233.2022010.LAI.nc GLASS01B01.V60.A2006241.2022010.LAI.nc GLASS01B01.V60.A2006249.2022010.LAI.nc GLASS01B01.V60.A2006257.2022010.LAI.nc GLASS01B01.V60.A2006265.2022010.LAI.nc GLASS01B01.V60.A2006273.2022010.LAI.nc GLASS01B01.V60.A2006281.2022010.LAI.nc GLASS01B01.V60.A2006289.2022010.LAI.nc GLASS01B01.V60.A2006297.2022010.LAI.nc GLASS01B01.V60.A2006305.2022010.LAI.nc GLASS01B01.V60.A2006313.2022010.LAI.nc GLASS01B01.V60.A2006321.2022010.LAI.nc GLASS01B01.V60.A2006329.2022010.LAI.nc GLASS01B01.V60.A2006337.2022010.LAI.nc GLASS01B01.V60.A2006345.2022010.LAI.nc GLASS01B01.V60.A2006353.2022010.LAI.nc GLASS01B01.V60.A2006361.2022010.LAI.nc GLASS01B01.V60.A2007001.2022010.LAI.nc GLASS01B01.V60.A2007009.2022010.LAI.nc GLASS01B01.V60.A2007017.2022010.LAI.nc GLASS01B01.V60.A2007025.2022010.LAI.nc GLASS01B01.V60.A2007033.2022010.LAI.nc GLASS01B01.V60.A2007041.2022010.LAI.nc GLASS01B01.V60.A2007049.2022010.LAI.nc GLASS01B01.V60.A2007057.2022010.LAI.nc GLASS01B01.V60.A2007065.2022010.LAI.nc GLASS01B01.V60.A2007073.2022010.LAI.nc GLASS01B01.V60.A2007081.2022010.LAI.nc GLASS01B01.V60.A2007089.2022010.LAI.nc GLASS01B01.V60.A2007097.2022010.LAI.nc GLASS01B01.V60.A2007105.2022010.LAI.nc GLASS01B01.V60.A2007113.2022010.LAI.nc GLASS01B01.V60.A2007121.2022010.LAI.nc GLASS01B01.V60.A2007129.2022010.LAI.nc GLASS01B01.V60.A2007137.2022010.LAI.nc GLASS01B01.V60.A2007145.2022010.LAI.nc GLASS01B01.V60.A2007153.2022010.LAI.nc GLASS01B01.V60.A2007161.2022010.LAI.nc GLASS01B01.V60.A2007169.2022010.LAI.nc GLASS01B01.V60.A2007177.2022010.LAI.nc GLASS01B01.V60.A2007185.2022010.LAI.nc GLASS01B01.V60.A2007193.2022010.LAI.nc GLASS01B01.V60.A2007201.2022010.LAI.nc GLASS01B01.V60.A2007209.2022010.LAI.nc GLASS01B01.V60.A2007217.2022010.LAI.nc GLASS01B01.V60.A2007225.2022010.LAI.nc GLASS01B01.V60.A2007233.2022010.LAI.nc GLASS01B01.V60.A2007241.2022010.LAI.nc GLASS01B01.V60.A2007249.2022010.LAI.nc GLASS01B01.V60.A2007257.2022010.LAI.nc GLASS01B01.V60.A2007265.2022010.LAI.nc GLASS01B01.V60.A2007273.2022010.LAI.nc GLASS01B01.V60.A2007281.2022010.LAI.nc GLASS01B01.V60.A2007289.2022010.LAI.nc GLASS01B01.V60.A2007297.2022010.LAI.nc GLASS01B01.V60.A2007305.2022010.LAI.nc GLASS01B01.V60.A2007313.2022010.LAI.nc GLASS01B01.V60.A2007321.2022010.LAI.nc GLASS01B01.V60.A2007329.2022010.LAI.nc GLASS01B01.V60.A2007337.2022010.LAI.nc GLASS01B01.V60.A2007345.2022010.LAI.nc GLASS01B01.V60.A2007353.2022010.LAI.nc GLASS01B01.V60.A2007361.2022010.LAI.nc GLASS01B01.V60.A2008001.2022010.LAI.nc GLASS01B01.V60.A2008009.2022010.LAI.nc GLASS01B01.V60.A2008017.2022010.LAI.nc GLASS01B01.V60.A2008025.2022010.LAI.nc GLASS01B01.V60.A2008033.2022010.LAI.nc GLASS01B01.V60.A2008041.2022010.LAI.nc GLASS01B01.V60.A2008049.2022010.LAI.nc GLASS01B01.V60.A2008057.2022010.LAI.nc GLASS01B01.V60.A2008065.2022010.LAI.nc GLASS01B01.V60.A2008073.2022010.LAI.nc GLASS01B01.V60.A2008081.2022010.LAI.nc GLASS01B01.V60.A2008089.2022010.LAI.nc GLASS01B01.V60.A2008097.2022010.LAI.nc GLASS01B01.V60.A2008105.2022010.LAI.nc GLASS01B01.V60.A2008113.2022010.LAI.nc GLASS01B01.V60.A2008121.2022010.LAI.nc GLASS01B01.V60.A2008129.2022010.LAI.nc GLASS01B01.V60.A2008137.2022010.LAI.nc GLASS01B01.V60.A2008145.2022010.LAI.nc GLASS01B01.V60.A2008153.2022010.LAI.nc GLASS01B01.V60.A2008161.2022010.LAI.nc GLASS01B01.V60.A2008169.2022010.LAI.nc GLASS01B01.V60.A2008177.2022010.LAI.nc GLASS01B01.V60.A2008185.2022010.LAI.nc GLASS01B01.V60.A2008193.2022010.LAI.nc GLASS01B01.V60.A2008201.2022010.LAI.nc GLASS01B01.V60.A2008209.2022010.LAI.nc GLASS01B01.V60.A2008217.2022010.LAI.nc GLASS01B01.V60.A2008225.2022010.LAI.nc GLASS01B01.V60.A2008233.2022010.LAI.nc GLASS01B01.V60.A2008241.2022010.LAI.nc GLASS01B01.V60.A2008249.2022010.LAI.nc GLASS01B01.V60.A2008257.2022010.LAI.nc GLASS01B01.V60.A2008265.2022010.LAI.nc GLASS01B01.V60.A2008273.2022010.LAI.nc GLASS01B01.V60.A2008281.2022010.LAI.nc GLASS01B01.V60.A2008289.2022010.LAI.nc GLASS01B01.V60.A2008297.2022010.LAI.nc GLASS01B01.V60.A2008305.2022010.LAI.nc GLASS01B01.V60.A2008313.2022010.LAI.nc GLASS01B01.V60.A2008321.2022010.LAI.nc GLASS01B01.V60.A2008329.2022010.LAI.nc GLASS01B01.V60.A2008337.2022010.LAI.nc GLASS01B01.V60.A2008345.2022010.LAI.nc GLASS01B01.V60.A2008353.2022010.LAI.nc GLASS01B01.V60.A2008361.2022010.LAI.nc GLASS01B01.V60.A2009001.2022010.LAI.nc GLASS01B01.V60.A2009009.2022010.LAI.nc GLASS01B01.V60.A2009017.2022010.LAI.nc GLASS01B01.V60.A2009025.2022010.LAI.nc GLASS01B01.V60.A2009033.2022010.LAI.nc GLASS01B01.V60.A2009041.2022010.LAI.nc GLASS01B01.V60.A2009049.2022010.LAI.nc GLASS01B01.V60.A2009057.2022010.LAI.nc GLASS01B01.V60.A2009065.2022010.LAI.nc GLASS01B01.V60.A2009073.2022010.LAI.nc GLASS01B01.V60.A2009081.2022010.LAI.nc GLASS01B01.V60.A2009089.2022010.LAI.nc GLASS01B01.V60.A2009097.2022010.LAI.nc GLASS01B01.V60.A2009105.2022010.LAI.nc GLASS01B01.V60.A2009113.2022010.LAI.nc GLASS01B01.V60.A2009121.2022010.LAI.nc GLASS01B01.V60.A2009129.2022010.LAI.nc GLASS01B01.V60.A2009137.2022010.LAI.nc GLASS01B01.V60.A2009145.2022010.LAI.nc GLASS01B01.V60.A2009153.2022010.LAI.nc GLASS01B01.V60.A2009161.2022010.LAI.nc GLASS01B01.V60.A2009169.2022010.LAI.nc GLASS01B01.V60.A2009177.2022010.LAI.nc GLASS01B01.V60.A2009185.2022010.LAI.nc GLASS01B01.V60.A2009193.2022010.LAI.nc GLASS01B01.V60.A2009201.2022010.LAI.nc GLASS01B01.V60.A2009209.2022010.LAI.nc GLASS01B01.V60.A2009217.2022010.LAI.nc GLASS01B01.V60.A2009225.2022010.LAI.nc GLASS01B01.V60.A2009233.2022010.LAI.nc GLASS01B01.V60.A2009241.2022010.LAI.nc GLASS01B01.V60.A2009249.2022010.LAI.nc GLASS01B01.V60.A2009257.2022010.LAI.nc GLASS01B01.V60.A2009265.2022010.LAI.nc GLASS01B01.V60.A2009273.2022010.LAI.nc GLASS01B01.V60.A2009281.2022010.LAI.nc GLASS01B01.V60.A2009289.2022010.LAI.nc GLASS01B01.V60.A2009297.2022010.LAI.nc GLASS01B01.V60.A2009305.2022010.LAI.nc GLASS01B01.V60.A2009313.2022010.LAI.nc GLASS01B01.V60.A2009321.2022010.LAI.nc GLASS01B01.V60.A2009329.2022010.LAI.nc GLASS01B01.V60.A2009337.2022010.LAI.nc GLASS01B01.V60.A2009345.2022010.LAI.nc GLASS01B01.V60.A2009353.2022010.LAI.nc GLASS01B01.V60.A2009361.2022010.LAI.nc GLASS01B01.V60.A2010001.2022010.LAI.nc GLASS01B01.V60.A2010009.2022010.LAI.nc GLASS01B01.V60.A2010017.2022010.LAI.nc GLASS01B01.V60.A2010025.2022010.LAI.nc GLASS01B01.V60.A2010033.2022010.LAI.nc GLASS01B01.V60.A2010041.2022010.LAI.nc GLASS01B01.V60.A2010049.2022010.LAI.nc GLASS01B01.V60.A2010057.2022010.LAI.nc GLASS01B01.V60.A2010065.2022010.LAI.nc GLASS01B01.V60.A2010073.2022010.LAI.nc GLASS01B01.V60.A2010081.2022010.LAI.nc GLASS01B01.V60.A2010089.2022010.LAI.nc GLASS01B01.V60.A2010097.2022010.LAI.nc GLASS01B01.V60.A2010105.2022010.LAI.nc GLASS01B01.V60.A2010113.2022010.LAI.nc GLASS01B01.V60.A2010121.2022010.LAI.nc GLASS01B01.V60.A2010129.2022010.LAI.nc GLASS01B01.V60.A2010137.2022010.LAI.nc GLASS01B01.V60.A2010145.2022010.LAI.nc GLASS01B01.V60.A2010153.2022010.LAI.nc GLASS01B01.V60.A2010161.2022010.LAI.nc GLASS01B01.V60.A2010169.2022010.LAI.nc GLASS01B01.V60.A2010177.2022010.LAI.nc GLASS01B01.V60.A2010185.2022010.LAI.nc GLASS01B01.V60.A2010193.2022010.LAI.nc GLASS01B01.V60.A2010201.2022010.LAI.nc GLASS01B01.V60.A2010209.2022010.LAI.nc GLASS01B01.V60.A2010217.2022010.LAI.nc GLASS01B01.V60.A2010225.2022010.LAI.nc GLASS01B01.V60.A2010233.2022010.LAI.nc GLASS01B01.V60.A2010241.2022010.LAI.nc GLASS01B01.V60.A2010249.2022010.LAI.nc GLASS01B01.V60.A2010257.2022010.LAI.nc GLASS01B01.V60.A2010265.2022010.LAI.nc GLASS01B01.V60.A2010273.2022010.LAI.nc GLASS01B01.V60.A2010281.2022010.LAI.nc GLASS01B01.V60.A2010289.2022010.LAI.nc GLASS01B01.V60.A2010297.2022010.LAI.nc GLASS01B01.V60.A2010305.2022010.LAI.nc GLASS01B01.V60.A2010313.2022010.LAI.nc GLASS01B01.V60.A2010321.2022010.LAI.nc GLASS01B01.V60.A2010329.2022010.LAI.nc GLASS01B01.V60.A2010337.2022010.LAI.nc GLASS01B01.V60.A2010345.2022010.LAI.nc GLASS01B01.V60.A2010353.2022010.LAI.nc GLASS01B01.V60.A2010361.2022010.LAI.nc GLASS01B01.V60.A2011001.2022010.LAI.nc GLASS01B01.V60.A2011009.2022010.LAI.nc GLASS01B01.V60.A2011017.2022010.LAI.nc GLASS01B01.V60.A2011025.2022010.LAI.nc GLASS01B01.V60.A2011033.2022010.LAI.nc GLASS01B01.V60.A2011041.2022010.LAI.nc GLASS01B01.V60.A2011049.2022010.LAI.nc GLASS01B01.V60.A2011057.2022010.LAI.nc GLASS01B01.V60.A2011065.2022010.LAI.nc GLASS01B01.V60.A2011073.2022010.LAI.nc GLASS01B01.V60.A2011081.2022010.LAI.nc GLASS01B01.V60.A2011089.2022010.LAI.nc GLASS01B01.V60.A2011097.2022010.LAI.nc GLASS01B01.V60.A2011105.2022010.LAI.nc GLASS01B01.V60.A2011113.2022010.LAI.nc GLASS01B01.V60.A2011121.2022010.LAI.nc GLASS01B01.V60.A2011129.2022010.LAI.nc GLASS01B01.V60.A2011137.2022010.LAI.nc GLASS01B01.V60.A2011145.2022010.LAI.nc GLASS01B01.V60.A2011153.2022010.LAI.nc GLASS01B01.V60.A2011161.2022010.LAI.nc GLASS01B01.V60.A2011169.2022010.LAI.nc GLASS01B01.V60.A2011177.2022010.LAI.nc GLASS01B01.V60.A2011185.2022010.LAI.nc GLASS01B01.V60.A2011193.2022010.LAI.nc GLASS01B01.V60.A2011201.2022010.LAI.nc GLASS01B01.V60.A2011209.2022010.LAI.nc GLASS01B01.V60.A2011217.2022010.LAI.nc GLASS01B01.V60.A2011225.2022010.LAI.nc GLASS01B01.V60.A2011233.2022010.LAI.nc GLASS01B01.V60.A2011241.2022010.LAI.nc GLASS01B01.V60.A2011249.2022010.LAI.nc GLASS01B01.V60.A2011257.2022010.LAI.nc GLASS01B01.V60.A2011265.2022010.LAI.nc GLASS01B01.V60.A2011273.2022010.LAI.nc GLASS01B01.V60.A2011281.2022010.LAI.nc GLASS01B01.V60.A2011289.2022010.LAI.nc GLASS01B01.V60.A2011297.2022010.LAI.nc GLASS01B01.V60.A2011305.2022010.LAI.nc GLASS01B01.V60.A2011313.2022010.LAI.nc GLASS01B01.V60.A2011321.2022010.LAI.nc GLASS01B01.V60.A2011329.2022010.LAI.nc GLASS01B01.V60.A2011337.2022010.LAI.nc GLASS01B01.V60.A2011345.2022010.LAI.nc GLASS01B01.V60.A2011353.2022010.LAI.nc GLASS01B01.V60.A2011361.2022010.LAI.nc GLASS01B01.V60.A2012001.2022010.LAI.nc GLASS01B01.V60.A2012009.2022010.LAI.nc GLASS01B01.V60.A2012017.2022010.LAI.nc GLASS01B01.V60.A2012025.2022010.LAI.nc GLASS01B01.V60.A2012033.2022010.LAI.nc GLASS01B01.V60.A2012041.2022010.LAI.nc GLASS01B01.V60.A2012049.2022010.LAI.nc GLASS01B01.V60.A2012057.2022010.LAI.nc GLASS01B01.V60.A2012065.2022010.LAI.nc GLASS01B01.V60.A2012073.2022010.LAI.nc GLASS01B01.V60.A2012081.2022010.LAI.nc GLASS01B01.V60.A2012089.2022010.LAI.nc GLASS01B01.V60.A2012097.2022010.LAI.nc GLASS01B01.V60.A2012105.2022010.LAI.nc GLASS01B01.V60.A2012113.2022010.LAI.nc GLASS01B01.V60.A2012121.2022010.LAI.nc GLASS01B01.V60.A2012129.2022010.LAI.nc GLASS01B01.V60.A2012137.2022010.LAI.nc GLASS01B01.V60.A2012145.2022010.LAI.nc GLASS01B01.V60.A2012153.2022010.LAI.nc GLASS01B01.V60.A2012161.2022010.LAI.nc GLASS01B01.V60.A2012169.2022010.LAI.nc GLASS01B01.V60.A2012177.2022010.LAI.nc GLASS01B01.V60.A2012185.2022010.LAI.nc GLASS01B01.V60.A2012193.2022010.LAI.nc GLASS01B01.V60.A2012201.2022010.LAI.nc GLASS01B01.V60.A2012209.2022010.LAI.nc GLASS01B01.V60.A2012217.2022010.LAI.nc GLASS01B01.V60.A2012225.2022010.LAI.nc GLASS01B01.V60.A2012233.2022010.LAI.nc GLASS01B01.V60.A2012241.2022010.LAI.nc GLASS01B01.V60.A2012249.2022010.LAI.nc GLASS01B01.V60.A2012257.2022010.LAI.nc GLASS01B01.V60.A2012265.2022010.LAI.nc GLASS01B01.V60.A2012273.2022010.LAI.nc GLASS01B01.V60.A2012281.2022010.LAI.nc GLASS01B01.V60.A2012289.2022010.LAI.nc GLASS01B01.V60.A2012297.2022010.LAI.nc GLASS01B01.V60.A2012305.2022010.LAI.nc GLASS01B01.V60.A2012313.2022010.LAI.nc GLASS01B01.V60.A2012321.2022010.LAI.nc GLASS01B01.V60.A2012329.2022010.LAI.nc GLASS01B01.V60.A2012337.2022010.LAI.nc GLASS01B01.V60.A2012345.2022010.LAI.nc GLASS01B01.V60.A2012353.2022010.LAI.nc GLASS01B01.V60.A2012361.2022010.LAI.nc GLASS01B01.V60.A2013001.2022010.LAI.nc GLASS01B01.V60.A2013009.2022010.LAI.nc GLASS01B01.V60.A2013017.2022010.LAI.nc GLASS01B01.V60.A2013025.2022010.LAI.nc GLASS01B01.V60.A2013033.2022010.LAI.nc GLASS01B01.V60.A2013041.2022010.LAI.nc GLASS01B01.V60.A2013049.2022010.LAI.nc GLASS01B01.V60.A2013057.2022010.LAI.nc GLASS01B01.V60.A2013065.2022010.LAI.nc GLASS01B01.V60.A2013073.2022010.LAI.nc GLASS01B01.V60.A2013081.2022010.LAI.nc GLASS01B01.V60.A2013089.2022010.LAI.nc GLASS01B01.V60.A2013097.2022010.LAI.nc GLASS01B01.V60.A2013105.2022010.LAI.nc GLASS01B01.V60.A2013113.2022010.LAI.nc GLASS01B01.V60.A2013121.2022010.LAI.nc GLASS01B01.V60.A2013129.2022010.LAI.nc GLASS01B01.V60.A2013137.2022010.LAI.nc GLASS01B01.V60.A2013145.2022010.LAI.nc GLASS01B01.V60.A2013153.2022010.LAI.nc GLASS01B01.V60.A2013161.2022010.LAI.nc GLASS01B01.V60.A2013169.2022010.LAI.nc GLASS01B01.V60.A2013177.2022010.LAI.nc GLASS01B01.V60.A2013185.2022010.LAI.nc GLASS01B01.V60.A2013193.2022010.LAI.nc GLASS01B01.V60.A2013201.2022010.LAI.nc GLASS01B01.V60.A2013209.2022010.LAI.nc GLASS01B01.V60.A2013217.2022010.LAI.nc GLASS01B01.V60.A2013225.2022010.LAI.nc GLASS01B01.V60.A2013233.2022010.LAI.nc GLASS01B01.V60.A2013241.2022010.LAI.nc GLASS01B01.V60.A2013249.2022010.LAI.nc GLASS01B01.V60.A2013257.2022010.LAI.nc GLASS01B01.V60.A2013265.2022010.LAI.nc GLASS01B01.V60.A2013273.2022010.LAI.nc GLASS01B01.V60.A2013281.2022010.LAI.nc GLASS01B01.V60.A2013289.2022010.LAI.nc GLASS01B01.V60.A2013297.2022010.LAI.nc GLASS01B01.V60.A2013305.2022010.LAI.nc GLASS01B01.V60.A2013313.2022010.LAI.nc GLASS01B01.V60.A2013321.2022010.LAI.nc GLASS01B01.V60.A2013329.2022010.LAI.nc GLASS01B01.V60.A2013337.2022010.LAI.nc GLASS01B01.V60.A2013345.2022010.LAI.nc GLASS01B01.V60.A2013353.2022010.LAI.nc GLASS01B01.V60.A2013361.2022010.LAI.nc GLASS01B01.V60.A2014001.2022010.LAI.nc GLASS01B01.V60.A2014009.2022010.LAI.nc GLASS01B01.V60.A2014017.2022010.LAI.nc GLASS01B01.V60.A2014025.2022010.LAI.nc GLASS01B01.V60.A2014033.2022010.LAI.nc GLASS01B01.V60.A2014041.2022010.LAI.nc GLASS01B01.V60.A2014049.2022010.LAI.nc GLASS01B01.V60.A2014057.2022010.LAI.nc GLASS01B01.V60.A2014065.2022010.LAI.nc GLASS01B01.V60.A2014073.2022010.LAI.nc GLASS01B01.V60.A2014081.2022010.LAI.nc GLASS01B01.V60.A2014089.2022010.LAI.nc GLASS01B01.V60.A2014097.2022010.LAI.nc GLASS01B01.V60.A2014105.2022010.LAI.nc GLASS01B01.V60.A2014113.2022010.LAI.nc GLASS01B01.V60.A2014121.2022010.LAI.nc GLASS01B01.V60.A2014129.2022010.LAI.nc GLASS01B01.V60.A2014137.2022010.LAI.nc GLASS01B01.V60.A2014145.2022010.LAI.nc GLASS01B01.V60.A2014153.2022010.LAI.nc GLASS01B01.V60.A2014161.2022010.LAI.nc GLASS01B01.V60.A2014169.2022010.LAI.nc GLASS01B01.V60.A2014177.2022010.LAI.nc GLASS01B01.V60.A2014185.2022010.LAI.nc GLASS01B01.V60.A2014193.2022010.LAI.nc GLASS01B01.V60.A2014201.2022010.LAI.nc GLASS01B01.V60.A2014209.2022010.LAI.nc GLASS01B01.V60.A2014217.2022010.LAI.nc GLASS01B01.V60.A2014225.2022010.LAI.nc GLASS01B01.V60.A2014233.2022010.LAI.nc GLASS01B01.V60.A2014241.2022010.LAI.nc GLASS01B01.V60.A2014249.2022010.LAI.nc GLASS01B01.V60.A2014257.2022010.LAI.nc GLASS01B01.V60.A2014265.2022010.LAI.nc GLASS01B01.V60.A2014273.2022010.LAI.nc GLASS01B01.V60.A2014281.2022010.LAI.nc GLASS01B01.V60.A2014289.2022010.LAI.nc GLASS01B01.V60.A2014297.2022010.LAI.nc GLASS01B01.V60.A2014305.2022010.LAI.nc GLASS01B01.V60.A2014313.2022010.LAI.nc GLASS01B01.V60.A2014321.2022010.LAI.nc GLASS01B01.V60.A2014329.2022010.LAI.nc GLASS01B01.V60.A2014337.2022010.LAI.nc GLASS01B01.V60.A2014345.2022010.LAI.nc GLASS01B01.V60.A2014353.2022010.LAI.nc GLASS01B01.V60.A2014361.2022010.LAI.nc GLASS01B01.V60.A2015001.2022010.LAI.nc GLASS01B01.V60.A2015009.2022010.LAI.nc GLASS01B01.V60.A2015017.2022010.LAI.nc GLASS01B01.V60.A2015025.2022010.LAI.nc GLASS01B01.V60.A2015033.2022010.LAI.nc GLASS01B01.V60.A2015041.2022010.LAI.nc GLASS01B01.V60.A2015049.2022010.LAI.nc GLASS01B01.V60.A2015057.2022010.LAI.nc GLASS01B01.V60.A2015065.2022010.LAI.nc GLASS01B01.V60.A2015073.2022010.LAI.nc GLASS01B01.V60.A2015081.2022010.LAI.nc GLASS01B01.V60.A2015089.2022010.LAI.nc GLASS01B01.V60.A2015097.2022010.LAI.nc GLASS01B01.V60.A2015105.2022010.LAI.nc GLASS01B01.V60.A2015113.2022010.LAI.nc GLASS01B01.V60.A2015121.2022010.LAI.nc GLASS01B01.V60.A2015129.2022010.LAI.nc GLASS01B01.V60.A2015137.2022010.LAI.nc GLASS01B01.V60.A2015145.2022010.LAI.nc GLASS01B01.V60.A2015153.2022010.LAI.nc GLASS01B01.V60.A2015161.2022010.LAI.nc GLASS01B01.V60.A2015169.2022010.LAI.nc GLASS01B01.V60.A2015177.2022010.LAI.nc GLASS01B01.V60.A2015185.2022010.LAI.nc GLASS01B01.V60.A2015193.2022010.LAI.nc GLASS01B01.V60.A2015201.2022010.LAI.nc GLASS01B01.V60.A2015209.2022010.LAI.nc GLASS01B01.V60.A2015217.2022010.LAI.nc GLASS01B01.V60.A2015225.2022010.LAI.nc GLASS01B01.V60.A2015233.2022010.LAI.nc GLASS01B01.V60.A2015241.2022010.LAI.nc GLASS01B01.V60.A2015249.2022010.LAI.nc GLASS01B01.V60.A2015257.2022010.LAI.nc GLASS01B01.V60.A2015265.2022010.LAI.nc GLASS01B01.V60.A2015273.2022010.LAI.nc GLASS01B01.V60.A2015281.2022010.LAI.nc GLASS01B01.V60.A2015289.2022010.LAI.nc GLASS01B01.V60.A2015297.2022010.LAI.nc GLASS01B01.V60.A2015305.2022010.LAI.nc GLASS01B01.V60.A2015313.2022010.LAI.nc GLASS01B01.V60.A2015321.2022010.LAI.nc GLASS01B01.V60.A2015329.2022010.LAI.nc GLASS01B01.V60.A2015337.2022010.LAI.nc GLASS01B01.V60.A2015345.2022010.LAI.nc GLASS01B01.V60.A2015353.2022010.LAI.nc GLASS01B01.V60.A2015361.2022010.LAI.nc GLASS01B01.V60.A2016001.2022010.LAI.nc GLASS01B01.V60.A2016009.2022010.LAI.nc GLASS01B01.V60.A2016017.2022010.LAI.nc GLASS01B01.V60.A2016025.2022010.LAI.nc GLASS01B01.V60.A2016033.2022010.LAI.nc GLASS01B01.V60.A2016041.2022010.LAI.nc GLASS01B01.V60.A2016049.2022010.LAI.nc GLASS01B01.V60.A2016057.2022010.LAI.nc GLASS01B01.V60.A2016065.2022010.LAI.nc GLASS01B01.V60.A2016073.2022010.LAI.nc GLASS01B01.V60.A2016081.2022010.LAI.nc GLASS01B01.V60.A2016089.2022010.LAI.nc GLASS01B01.V60.A2016097.2022010.LAI.nc GLASS01B01.V60.A2016105.2022010.LAI.nc GLASS01B01.V60.A2016113.2022010.LAI.nc GLASS01B01.V60.A2016121.2022010.LAI.nc GLASS01B01.V60.A2016129.2022010.LAI.nc GLASS01B01.V60.A2016137.2022010.LAI.nc GLASS01B01.V60.A2016145.2022010.LAI.nc GLASS01B01.V60.A2016153.2022010.LAI.nc GLASS01B01.V60.A2016161.2022010.LAI.nc GLASS01B01.V60.A2016169.2022010.LAI.nc GLASS01B01.V60.A2016177.2022010.LAI.nc GLASS01B01.V60.A2016185.2022010.LAI.nc GLASS01B01.V60.A2016193.2022010.LAI.nc GLASS01B01.V60.A2016201.2022010.LAI.nc GLASS01B01.V60.A2016209.2022010.LAI.nc GLASS01B01.V60.A2016217.2022010.LAI.nc GLASS01B01.V60.A2016225.2022010.LAI.nc GLASS01B01.V60.A2016233.2022010.LAI.nc GLASS01B01.V60.A2016241.2022010.LAI.nc GLASS01B01.V60.A2016249.2022010.LAI.nc GLASS01B01.V60.A2016257.2022010.LAI.nc GLASS01B01.V60.A2016265.2022010.LAI.nc GLASS01B01.V60.A2016273.2022010.LAI.nc GLASS01B01.V60.A2016281.2022010.LAI.nc GLASS01B01.V60.A2016289.2022010.LAI.nc GLASS01B01.V60.A2016297.2022010.LAI.nc GLASS01B01.V60.A2016305.2022010.LAI.nc GLASS01B01.V60.A2016313.2022010.LAI.nc GLASS01B01.V60.A2016321.2022010.LAI.nc GLASS01B01.V60.A2016329.2022010.LAI.nc GLASS01B01.V60.A2016337.2022010.LAI.nc GLASS01B01.V60.A2016345.2022010.LAI.nc GLASS01B01.V60.A2016353.2022010.LAI.nc GLASS01B01.V60.A2016361.2022010.LAI.nc GLASS01B01.V60.A2017001.2022010.LAI.nc GLASS01B01.V60.A2017009.2022010.LAI.nc GLASS01B01.V60.A2017017.2022010.LAI.nc GLASS01B01.V60.A2017025.2022010.LAI.nc GLASS01B01.V60.A2017033.2022010.LAI.nc GLASS01B01.V60.A2017041.2022010.LAI.nc GLASS01B01.V60.A2017049.2022010.LAI.nc GLASS01B01.V60.A2017057.2022010.LAI.nc GLASS01B01.V60.A2017065.2022010.LAI.nc GLASS01B01.V60.A2017073.2022010.LAI.nc GLASS01B01.V60.A2017081.2022010.LAI.nc GLASS01B01.V60.A2017089.2022010.LAI.nc GLASS01B01.V60.A2017097.2022010.LAI.nc GLASS01B01.V60.A2017105.2022010.LAI.nc GLASS01B01.V60.A2017113.2022010.LAI.nc GLASS01B01.V60.A2017121.2022010.LAI.nc GLASS01B01.V60.A2017129.2022010.LAI.nc GLASS01B01.V60.A2017137.2022010.LAI.nc GLASS01B01.V60.A2017145.2022010.LAI.nc GLASS01B01.V60.A2017153.2022010.LAI.nc GLASS01B01.V60.A2017161.2022010.LAI.nc GLASS01B01.V60.A2017169.2022010.LAI.nc GLASS01B01.V60.A2017177.2022010.LAI.nc GLASS01B01.V60.A2017185.2022010.LAI.nc GLASS01B01.V60.A2017193.2022010.LAI.nc GLASS01B01.V60.A2017201.2022010.LAI.nc GLASS01B01.V60.A2017209.2022010.LAI.nc GLASS01B01.V60.A2017217.2022010.LAI.nc GLASS01B01.V60.A2017225.2022010.LAI.nc GLASS01B01.V60.A2017233.2022010.LAI.nc GLASS01B01.V60.A2017241.2022010.LAI.nc GLASS01B01.V60.A2017249.2022010.LAI.nc GLASS01B01.V60.A2017257.2022010.LAI.nc GLASS01B01.V60.A2017265.2022010.LAI.nc GLASS01B01.V60.A2017273.2022010.LAI.nc GLASS01B01.V60.A2017281.2022010.LAI.nc GLASS01B01.V60.A2017289.2022010.LAI.nc GLASS01B01.V60.A2017297.2022010.LAI.nc GLASS01B01.V60.A2017305.2022010.LAI.nc GLASS01B01.V60.A2017313.2022010.LAI.nc GLASS01B01.V60.A2017321.2022010.LAI.nc GLASS01B01.V60.A2017329.2022010.LAI.nc GLASS01B01.V60.A2017337.2022010.LAI.nc GLASS01B01.V60.A2017345.2022010.LAI.nc GLASS01B01.V60.A2017353.2022010.LAI.nc GLASS01B01.V60.A2017361.2022010.LAI.nc GLASS01B01.V60.A2018001.2022010.LAI.nc GLASS01B01.V60.A2018009.2022010.LAI.nc GLASS01B01.V60.A2018017.2022010.LAI.nc GLASS01B01.V60.A2018025.2022010.LAI.nc GLASS01B01.V60.A2018033.2022010.LAI.nc GLASS01B01.V60.A2018041.2022010.LAI.nc GLASS01B01.V60.A2018049.2022010.LAI.nc GLASS01B01.V60.A2018057.2022010.LAI.nc GLASS01B01.V60.A2018065.2022010.LAI.nc GLASS01B01.V60.A2018073.2022010.LAI.nc GLASS01B01.V60.A2018081.2022010.LAI.nc GLASS01B01.V60.A2018089.2022010.LAI.nc GLASS01B01.V60.A2018097.2022010.LAI.nc GLASS01B01.V60.A2018105.2022010.LAI.nc GLASS01B01.V60.A2018113.2022010.LAI.nc GLASS01B01.V60.A2018121.2022010.LAI.nc GLASS01B01.V60.A2018129.2022010.LAI.nc GLASS01B01.V60.A2018137.2022010.LAI.nc GLASS01B01.V60.A2018145.2022010.LAI.nc GLASS01B01.V60.A2018153.2022010.LAI.nc GLASS01B01.V60.A2018161.2022010.LAI.nc GLASS01B01.V60.A2018169.2022010.LAI.nc GLASS01B01.V60.A2018177.2022010.LAI.nc GLASS01B01.V60.A2018185.2022010.LAI.nc GLASS01B01.V60.A2018193.2022010.LAI.nc GLASS01B01.V60.A2018201.2022010.LAI.nc GLASS01B01.V60.A2018209.2022010.LAI.nc GLASS01B01.V60.A2018217.2022010.LAI.nc GLASS01B01.V60.A2018225.2022010.LAI.nc GLASS01B01.V60.A2018233.2022010.LAI.nc GLASS01B01.V60.A2018241.2022010.LAI.nc GLASS01B01.V60.A2018249.2022010.LAI.nc GLASS01B01.V60.A2018257.2022010.LAI.nc GLASS01B01.V60.A2018265.2022010.LAI.nc GLASS01B01.V60.A2018273.2022010.LAI.nc GLASS01B01.V60.A2018281.2022010.LAI.nc GLASS01B01.V60.A2018289.2022010.LAI.nc GLASS01B01.V60.A2018297.2022010.LAI.nc GLASS01B01.V60.A2018305.2022010.LAI.nc GLASS01B01.V60.A2018313.2022010.LAI.nc GLASS01B01.V60.A2018321.2022010.LAI.nc GLASS01B01.V60.A2018329.2022010.LAI.nc GLASS01B01.V60.A2018337.2022010.LAI.nc GLASS01B01.V60.A2018345.2022010.LAI.nc GLASS01B01.V60.A2018353.2022010.LAI.nc GLASS01B01.V60.A2018361.2022010.LAI.nc GLASS01B01.V60.A2019001.2022010.LAI.nc GLASS01B01.V60.A2019009.2022010.LAI.nc GLASS01B01.V60.A2019017.2022010.LAI.nc GLASS01B01.V60.A2019025.2022010.LAI.nc GLASS01B01.V60.A2019033.2022010.LAI.nc GLASS01B01.V60.A2019041.2022010.LAI.nc GLASS01B01.V60.A2019049.2022010.LAI.nc GLASS01B01.V60.A2019057.2022010.LAI.nc GLASS01B01.V60.A2019065.2022010.LAI.nc GLASS01B01.V60.A2019073.2022010.LAI.nc GLASS01B01.V60.A2019081.2022010.LAI.nc GLASS01B01.V60.A2019089.2022010.LAI.nc GLASS01B01.V60.A2019097.2022010.LAI.nc GLASS01B01.V60.A2019105.2022010.LAI.nc GLASS01B01.V60.A2019113.2022010.LAI.nc GLASS01B01.V60.A2019121.2022010.LAI.nc GLASS01B01.V60.A2019129.2022010.LAI.nc GLASS01B01.V60.A2019137.2022010.LAI.nc GLASS01B01.V60.A2019145.2022010.LAI.nc GLASS01B01.V60.A2019153.2022010.LAI.nc GLASS01B01.V60.A2019161.2022010.LAI.nc GLASS01B01.V60.A2019169.2022010.LAI.nc GLASS01B01.V60.A2019177.2022010.LAI.nc GLASS01B01.V60.A2019185.2022010.LAI.nc GLASS01B01.V60.A2019193.2022010.LAI.nc GLASS01B01.V60.A2019201.2022010.LAI.nc GLASS01B01.V60.A2019209.2022010.LAI.nc GLASS01B01.V60.A2019217.2022010.LAI.nc GLASS01B01.V60.A2019225.2022010.LAI.nc GLASS01B01.V60.A2019233.2022010.LAI.nc GLASS01B01.V60.A2019241.2022010.LAI.nc GLASS01B01.V60.A2019249.2022010.LAI.nc GLASS01B01.V60.A2019257.2022010.LAI.nc GLASS01B01.V60.A2019265.2022010.LAI.nc GLASS01B01.V60.A2019273.2022010.LAI.nc GLASS01B01.V60.A2019281.2022010.LAI.nc GLASS01B01.V60.A2019289.2022010.LAI.nc GLASS01B01.V60.A2019297.2022010.LAI.nc GLASS01B01.V60.A2019305.2022010.LAI.nc GLASS01B01.V60.A2019313.2022010.LAI.nc GLASS01B01.V60.A2019321.2022010.LAI.nc GLASS01B01.V60.A2019329.2022010.LAI.nc GLASS01B01.V60.A2019337.2022010.LAI.nc GLASS01B01.V60.A2019345.2022010.LAI.nc GLASS01B01.V60.A2019353.2022010.LAI.nc GLASS01B01.V60.A2019361.2022010.LAI.nc GLASS01B01.V60.A2020001.2022138.LAI.nc GLASS01B01.V60.A2020009.2022138.LAI.nc GLASS01B01.V60.A2020017.2022138.LAI.nc GLASS01B01.V60.A2020025.2022138.LAI.nc GLASS01B01.V60.A2020033.2022138.LAI.nc GLASS01B01.V60.A2020041.2022138.LAI.nc GLASS01B01.V60.A2020049.2022138.LAI.nc GLASS01B01.V60.A2020057.2022138.LAI.nc GLASS01B01.V60.A2020065.2022138.LAI.nc GLASS01B01.V60.A2020073.2022138.LAI.nc GLASS01B01.V60.A2020081.2022138.LAI.nc GLASS01B01.V60.A2020089.2022138.LAI.nc GLASS01B01.V60.A2020097.2022138.LAI.nc GLASS01B01.V60.A2020105.2022138.LAI.nc GLASS01B01.V60.A2020113.2022138.LAI.nc GLASS01B01.V60.A2020121.2022138.LAI.nc GLASS01B01.V60.A2020129.2022138.LAI.nc GLASS01B01.V60.A2020137.2022138.LAI.nc GLASS01B01.V60.A2020145.2022138.LAI.nc GLASS01B01.V60.A2020153.2022138.LAI.nc GLASS01B01.V60.A2020161.2022138.LAI.nc GLASS01B01.V60.A2020169.2022138.LAI.nc GLASS01B01.V60.A2020177.2022138.LAI.nc GLASS01B01.V60.A2020185.2022138.LAI.nc GLASS01B01.V60.A2020193.2022138.LAI.nc GLASS01B01.V60.A2020201.2022138.LAI.nc GLASS01B01.V60.A2020209.2022138.LAI.nc GLASS01B01.V60.A2020217.2022138.LAI.nc GLASS01B01.V60.A2020225.2022138.LAI.nc GLASS01B01.V60.A2020233.2022138.LAI.nc GLASS01B01.V60.A2020241.2022138.LAI.nc GLASS01B01.V60.A2020249.2022138.LAI.nc GLASS01B01.V60.A2020257.2022138.LAI.nc GLASS01B01.V60.A2020265.2022138.LAI.nc GLASS01B01.V60.A2020273.2022138.LAI.nc GLASS01B01.V60.A2020281.2022138.LAI.nc GLASS01B01.V60.A2020289.2022138.LAI.nc GLASS01B01.V60.A2020297.2022138.LAI.nc GLASS01B01.V60.A2020305.2022138.LAI.nc GLASS01B01.V60.A2020313.2022138.LAI.nc GLASS01B01.V60.A2020321.2022138.LAI.nc GLASS01B01.V60.A2020329.2022138.LAI.nc GLASS01B01.V60.A2020337.2022138.LAI.nc GLASS01B01.V60.A2020345.2022138.LAI.nc GLASS01B01.V60.A2020353.2022138.LAI.nc GLASS01B01.V60.A2020361.2022138.LAI.nc GLASS01B01.V60.A2021001.2022138.LAI.nc GLASS01B01.V60.A2021009.2022138.LAI.nc GLASS01B01.V60.A2021017.2022138.LAI.nc GLASS01B01.V60.A2021025.2022138.LAI.nc GLASS01B01.V60.A2021033.2022138.LAI.nc GLASS01B01.V60.A2021041.2022138.LAI.nc GLASS01B01.V60.A2021049.2022138.LAI.nc GLASS01B01.V60.A2021057.2022138.LAI.nc GLASS01B01.V60.A2021065.2022138.LAI.nc GLASS01B01.V60.A2021073.2022138.LAI.nc GLASS01B01.V60.A2021081.2022138.LAI.nc GLASS01B01.V60.A2021089.2022138.LAI.nc GLASS01B01.V60.A2021097.2022138.LAI.nc GLASS01B01.V60.A2021105.2022138.LAI.nc GLASS01B01.V60.A2021113.2022138.LAI.nc GLASS01B01.V60.A2021121.2022138.LAI.nc GLASS01B01.V60.A2021129.2022138.LAI.nc GLASS01B01.V60.A2021137.2022138.LAI.nc GLASS01B01.V60.A2021145.2022138.LAI.nc GLASS01B01.V60.A2021153.2022138.LAI.nc GLASS01B01.V60.A2021161.2022138.LAI.nc GLASS01B01.V60.A2021169.2022138.LAI.nc GLASS01B01.V60.A2021177.2022138.LAI.nc GLASS01B01.V60.A2021185.2022138.LAI.nc GLASS01B01.V60.A2021193.2022138.LAI.nc GLASS01B01.V60.A2021201.2022138.LAI.nc GLASS01B01.V60.A2021209.2022138.LAI.nc GLASS01B01.V60.A2021217.2022138.LAI.nc GLASS01B01.V60.A2021225.2022138.LAI.nc GLASS01B01.V60.A2021233.2022138.LAI.nc GLASS01B01.V60.A2021241.2022138.LAI.nc GLASS01B01.V60.A2021249.2022138.LAI.nc GLASS01B01.V60.A2021257.2022138.LAI.nc GLASS01B01.V60.A2021265.2022138.LAI.nc GLASS01B01.V60.A2021273.2022138.LAI.nc GLASS01B01.V60.A2021281.2022138.LAI.nc GLASS01B01.V60.A2021289.2022138.LAI.nc GLASS01B01.V60.A2021297.2022138.LAI.nc GLASS01B01.V60.A2021305.2022138.LAI.nc GLASS01B01.V60.A2021313.2022138.LAI.nc GLASS01B01.V60.A2021321.2022138.LAI.nc GLASS01B01.V60.A2021329.2022138.LAI.nc GLASS01B01.V60.A2021337.2022138.LAI.nc GLASS01B01.V60.A2021345.2022138.LAI.nc GLASS01B01.V60.A2021353.2022138.LAI.nc GLASS01B01.V60.A2021361.2022138.LAI.nc glass.lai.2001.2021.nc\n",
       "Thu Feb 13 10:53:09 2025: cdo sellonlatbox,-125,-105,32,49 /glade/derecho/scratch/zhijiong/LAI/final/temp_GLASS01B01.V60.A2001001.2022010.LAI.nc /glade/derecho/scratch/zhijiong/LAI/final/GLASS01B01.V60.A2001001.2022010.LAI.nc\n",
       "Thu Feb 13 10:53:08 2025: cdo setgrid,grid.txt /glade/derecho/scratch/zhijiong/LAI/processed/GLASS01B01.V60.A2001001.2022010.LAI.nc /glade/derecho/scratch/zhijiong/LAI/final/temp_GLASS01B01.V60.A2001001.2022010.LAI.nc\n",
       "Wed Feb 12 22:51:18 2025: cdo settaxis,2001-01-01,00:00:00,8days /glade/derecho/scratch/zhijiong/LAI/GLASS01B01.V60.A2001001.2022010.LAI.nc /glade/derecho/scratch/zhijiong/LAI/processed/GLASS01B01.V60.A2001001.2022010.LAI.nc\n",
       "Wed Feb 12 20:26:09 2025: GDAL CreateCopy( /glade/derecho/scratch/zhijiong/LAI/www.glass.umd.edu/LAI/MODIS/0.05D/2001/nc_files/GLASS01B01.V60.A2001001.2022010.LAI.nc, ... )</dd><dt><span>CDO :</span></dt><dd>Climate Data Operators version 2.1.1 (https://mpimet.mpg.de/cdo)</dd></dl></div></li></ul></div></div>"
      ],
      "text/plain": [
       "<xarray.Dataset>\n",
       "Dimensions:  (time: 7666, lon: 259, lat: 240)\n",
       "Coordinates:\n",
       "  * time     (time) float64 2.001e+07 2.001e+07 ... 2.021e+07 2.021e+07\n",
       "  * lon      (lon) float64 -124.8 -124.7 -124.7 -124.6 ... -114.1 -114.1 -114.0\n",
       "  * lat      (lat) float64 41.98 41.94 41.9 41.86 ... 32.15 32.11 32.07 32.03\n",
       "Data variables:\n",
       "    LAI      (time, lat, lon) float32 ...\n",
       "Attributes:\n",
       "    CDI:          Climate Data Interface version 2.1.1 (https://mpimet.mpg.de...\n",
       "    Conventions:  CF-1.5\n",
       "    GDAL:         GDAL 3.9.3, released 2024/10/07\n",
       "    history:      Fri Feb 14 12:55:14 2025: cdo inttime,2001-01-01,00:00:00,1...\n",
       "    CDO:          Climate Data Operators version 2.1.1 (https://mpimet.mpg.de..."
      ]
     },
     "execution_count": 26,
     "metadata": {},
     "output_type": "execute_result"
    }
   ],
   "source": [
    "lai_Dat"
   ]
  },
  {
   "cell_type": "code",
   "execution_count": 27,
   "metadata": {},
   "outputs": [
    {
     "data": {
      "text/plain": [
       "(62160, 2)"
      ]
     },
     "execution_count": 27,
     "metadata": {},
     "output_type": "execute_result"
    }
   ],
   "source": [
    "# Extract lon and lat coordinates\n",
    "lon = lai_Dat.coords['lon'].values\n",
    "lat = lai_Dat.coords['lat'].values\n",
    "\n",
    "# Create a DataFrame with all combinations of lon and lat\n",
    "lai_Dat_lon_lat = pd.DataFrame([(lo, la) for lo in lon for la in lat], columns=['lon', 'lat'])\n",
    "\n",
    "lai_Dat_lon_lat.shape"
   ]
  },
  {
   "cell_type": "code",
   "execution_count": 28,
   "metadata": {},
   "outputs": [],
   "source": [
    "test_merge = lon_lat_combinations.merge(lai_Dat_lon_lat, on=['lon', 'lat'], how='inner')"
   ]
  },
  {
   "cell_type": "code",
   "execution_count": 29,
   "metadata": {},
   "outputs": [
    {
     "data": {
      "text/plain": [
       "(62160, 2)"
      ]
     },
     "execution_count": 29,
     "metadata": {},
     "output_type": "execute_result"
    }
   ],
   "source": [
    "test_merge.shape"
   ]
  },
  {
   "cell_type": "markdown",
   "metadata": {},
   "source": [
    "Confirmed that grid matched w existing weather data"
   ]
  },
  {
   "cell_type": "code",
   "execution_count": 30,
   "metadata": {},
   "outputs": [],
   "source": [
    "lai_Dat = lai_Dat.to_dataframe().reset_index()"
   ]
  },
  {
   "cell_type": "code",
   "execution_count": 31,
   "metadata": {},
   "outputs": [],
   "source": [
    "lai_Dat['time'] = lai_Dat['time'].astype(int)\n",
    "lai_Dat['time'] = pd.to_datetime(lai_Dat['time'].astype(str), format='%Y%m%d')"
   ]
  },
  {
   "cell_type": "code",
   "execution_count": 32,
   "metadata": {},
   "outputs": [
    {
     "data": {
      "text/html": [
       "<div>\n",
       "<style scoped>\n",
       "    .dataframe tbody tr th:only-of-type {\n",
       "        vertical-align: middle;\n",
       "    }\n",
       "\n",
       "    .dataframe tbody tr th {\n",
       "        vertical-align: top;\n",
       "    }\n",
       "\n",
       "    .dataframe thead th {\n",
       "        text-align: right;\n",
       "    }\n",
       "</style>\n",
       "<table border=\"1\" class=\"dataframe\">\n",
       "  <thead>\n",
       "    <tr style=\"text-align: right;\">\n",
       "      <th></th>\n",
       "      <th>time</th>\n",
       "      <th>lon</th>\n",
       "      <th>lat</th>\n",
       "      <th>LAI</th>\n",
       "    </tr>\n",
       "  </thead>\n",
       "  <tbody>\n",
       "    <tr>\n",
       "      <th>0</th>\n",
       "      <td>2001-01-01</td>\n",
       "      <td>-124.766667</td>\n",
       "      <td>41.983333</td>\n",
       "      <td>NaN</td>\n",
       "    </tr>\n",
       "    <tr>\n",
       "      <th>1</th>\n",
       "      <td>2001-01-01</td>\n",
       "      <td>-124.766667</td>\n",
       "      <td>41.941667</td>\n",
       "      <td>NaN</td>\n",
       "    </tr>\n",
       "    <tr>\n",
       "      <th>2</th>\n",
       "      <td>2001-01-01</td>\n",
       "      <td>-124.766667</td>\n",
       "      <td>41.900000</td>\n",
       "      <td>NaN</td>\n",
       "    </tr>\n",
       "    <tr>\n",
       "      <th>3</th>\n",
       "      <td>2001-01-01</td>\n",
       "      <td>-124.766667</td>\n",
       "      <td>41.858333</td>\n",
       "      <td>NaN</td>\n",
       "    </tr>\n",
       "    <tr>\n",
       "      <th>4</th>\n",
       "      <td>2001-01-01</td>\n",
       "      <td>-124.766667</td>\n",
       "      <td>41.816667</td>\n",
       "      <td>NaN</td>\n",
       "    </tr>\n",
       "  </tbody>\n",
       "</table>\n",
       "</div>"
      ],
      "text/plain": [
       "        time         lon        lat  LAI\n",
       "0 2001-01-01 -124.766667  41.983333  NaN\n",
       "1 2001-01-01 -124.766667  41.941667  NaN\n",
       "2 2001-01-01 -124.766667  41.900000  NaN\n",
       "3 2001-01-01 -124.766667  41.858333  NaN\n",
       "4 2001-01-01 -124.766667  41.816667  NaN"
      ]
     },
     "execution_count": 32,
     "metadata": {},
     "output_type": "execute_result"
    }
   ],
   "source": [
    "lai_Dat.head()"
   ]
  },
  {
   "cell_type": "code",
   "execution_count": 33,
   "metadata": {},
   "outputs": [
    {
     "data": {
      "text/plain": [
       "<DatetimeArray>\n",
       "['2001-01-01 00:00:00', '2001-01-02 00:00:00', '2001-01-03 00:00:00',\n",
       " '2001-01-04 00:00:00', '2001-01-05 00:00:00', '2001-01-06 00:00:00',\n",
       " '2001-01-07 00:00:00', '2001-01-08 00:00:00', '2001-01-09 00:00:00',\n",
       " '2001-01-10 00:00:00',\n",
       " ...\n",
       " '2021-12-18 00:00:00', '2021-12-19 00:00:00', '2021-12-20 00:00:00',\n",
       " '2021-12-21 00:00:00', '2021-12-22 00:00:00', '2021-12-23 00:00:00',\n",
       " '2021-12-24 00:00:00', '2021-12-25 00:00:00', '2021-12-26 00:00:00',\n",
       " '2021-12-27 00:00:00']\n",
       "Length: 7666, dtype: datetime64[ns]"
      ]
     },
     "execution_count": 33,
     "metadata": {},
     "output_type": "execute_result"
    }
   ],
   "source": [
    "# check unique values of time\n",
    "lai_Dat['time'].unique()"
   ]
  },
  {
   "cell_type": "code",
   "execution_count": 37,
   "metadata": {},
   "outputs": [
    {
     "data": {
      "text/plain": [
       "7666"
      ]
     },
     "execution_count": 37,
     "metadata": {},
     "output_type": "execute_result"
    }
   ],
   "source": [
    "# calculate days between 2001-01-01 and 2021-12-27\n",
    "(pd.Timestamp('2021-12-27') - pd.Timestamp('2001-01-01')).days + 1"
   ]
  },
  {
   "cell_type": "code",
   "execution_count": 38,
   "metadata": {},
   "outputs": [
    {
     "data": {
      "text/plain": [
       "0.6730774452940511"
      ]
     },
     "execution_count": 38,
     "metadata": {},
     "output_type": "execute_result"
    }
   ],
   "source": [
    "lai_Dat['LAI'].isna().sum() / lai_Dat.shape[0]"
   ]
  },
  {
   "cell_type": "markdown",
   "metadata": {},
   "source": [
    "## Filter w Fire 12KM (FOD_FPA)"
   ]
  },
  {
   "cell_type": "code",
   "execution_count": 39,
   "metadata": {},
   "outputs": [],
   "source": [
    "reference_ds = pd.read_parquet('../Clean_Data/Weather_Data_w_Veg_Filter_FOD_FPA_Fire_12KM/dead_fuel_moisture_1000hr_filtered.parquet')"
   ]
  },
  {
   "cell_type": "code",
   "execution_count": 40,
   "metadata": {},
   "outputs": [],
   "source": [
    "# extract lon and lat and dedup\n",
    "reference_ds_lon_lat = reference_ds[['lon', 'lat']].drop_duplicates()"
   ]
  },
  {
   "cell_type": "code",
   "execution_count": 41,
   "metadata": {},
   "outputs": [
    {
     "data": {
      "text/plain": [
       "(17530, 2)"
      ]
     },
     "execution_count": 41,
     "metadata": {},
     "output_type": "execute_result"
    }
   ],
   "source": [
    "reference_ds_lon_lat.shape"
   ]
  },
  {
   "cell_type": "code",
   "execution_count": 43,
   "metadata": {},
   "outputs": [
    {
     "data": {
      "text/plain": [
       "(476518560, 4)"
      ]
     },
     "execution_count": 43,
     "metadata": {},
     "output_type": "execute_result"
    }
   ],
   "source": [
    "lai_Dat.shape"
   ]
  },
  {
   "cell_type": "code",
   "execution_count": 44,
   "metadata": {},
   "outputs": [],
   "source": [
    "lai_Dat_filtered = pd.merge(reference_ds_lon_lat, lai_Dat, on=['lon', 'lat'], how='inner')"
   ]
  },
  {
   "cell_type": "code",
   "execution_count": 45,
   "metadata": {},
   "outputs": [
    {
     "data": {
      "text/plain": [
       "(134384980, 4)"
      ]
     },
     "execution_count": 45,
     "metadata": {},
     "output_type": "execute_result"
    }
   ],
   "source": [
    "lai_Dat_filtered.shape"
   ]
  },
  {
   "cell_type": "code",
   "execution_count": 46,
   "metadata": {},
   "outputs": [
    {
     "data": {
      "text/plain": [
       "0.03394447057997107"
      ]
     },
     "execution_count": 46,
     "metadata": {},
     "output_type": "execute_result"
    }
   ],
   "source": [
    "lai_Dat_filtered['LAI'].isna().sum() / lai_Dat_filtered.shape[0]"
   ]
  },
  {
   "cell_type": "code",
   "execution_count": 47,
   "metadata": {},
   "outputs": [],
   "source": [
    "# write to parquet file\n",
    "output_file = f'../Clean_Data/Weather_Data_w_Veg_Filter_FOD_FPA_Fire_12KM/LAI_200101_202112_filtered.parquet'\n",
    "lai_Dat_filtered.to_parquet(output_file)"
   ]
  },
  {
   "cell_type": "markdown",
   "metadata": {},
   "source": [
    "## MERGE w the FINAL WEATHER CLEANED DATA"
   ]
  },
  {
   "cell_type": "code",
   "execution_count": 48,
   "metadata": {},
   "outputs": [],
   "source": [
    "all_features = pd.read_parquet('../Clean_Data/Weather_Data_w_Veg_Filter_FOD_FPA_Fire_12KM_Merged_Cleaned_2001_2020.parquet')"
   ]
  },
  {
   "cell_type": "code",
   "execution_count": 49,
   "metadata": {},
   "outputs": [],
   "source": [
    "lai_Dat_filtered = pd.read_parquet('../Clean_Data/Weather_Data_w_Veg_Filter_FOD_FPA_Fire_12KM/LAI_200101_202112_filtered.parquet')"
   ]
  },
  {
   "cell_type": "code",
   "execution_count": 50,
   "metadata": {},
   "outputs": [
    {
     "data": {
      "text/plain": [
       "((128056650, 20), (134384980, 4))"
      ]
     },
     "execution_count": 50,
     "metadata": {},
     "output_type": "execute_result"
    }
   ],
   "source": [
    "all_features.shape, lai_Dat_filtered.shape"
   ]
  },
  {
   "cell_type": "code",
   "execution_count": 51,
   "metadata": {},
   "outputs": [
    {
     "data": {
      "text/plain": [
       "lon            float64\n",
       "lat            float64\n",
       "time    datetime64[ns]\n",
       "LAI            float32\n",
       "dtype: object"
      ]
     },
     "execution_count": 51,
     "metadata": {},
     "output_type": "execute_result"
    }
   ],
   "source": [
    "lai_Dat_filtered.dtypes"
   ]
  },
  {
   "cell_type": "code",
   "execution_count": 52,
   "metadata": {},
   "outputs": [],
   "source": [
    "lai_Dat_filtered.rename(columns={'time': 'day'}, inplace=True)"
   ]
  },
  {
   "cell_type": "code",
   "execution_count": 54,
   "metadata": {},
   "outputs": [],
   "source": [
    "# merge all_features with SNOW_dat on lon, lat, day\n",
    "all_features = pd.merge(all_features, lai_Dat_filtered, on=['lon', 'lat', 'day'], how='left')"
   ]
  },
  {
   "cell_type": "code",
   "execution_count": 55,
   "metadata": {},
   "outputs": [
    {
     "data": {
      "text/plain": [
       "(128056650, 21)"
      ]
     },
     "execution_count": 55,
     "metadata": {},
     "output_type": "execute_result"
    }
   ],
   "source": [
    "all_features.shape"
   ]
  },
  {
   "cell_type": "code",
   "execution_count": 56,
   "metadata": {},
   "outputs": [
    {
     "data": {
      "text/plain": [
       "0.034028775545822884"
      ]
     },
     "execution_count": 56,
     "metadata": {},
     "output_type": "execute_result"
    }
   ],
   "source": [
    "# check missing rate of SWE\n",
    "all_features['LAI'].isna().sum() / all_features.shape[0]"
   ]
  },
  {
   "cell_type": "code",
   "execution_count": 57,
   "metadata": {},
   "outputs": [],
   "source": [
    "# write it back to parquet file\n",
    "output_file = f'../Clean_Data/Weather_Data_w_Veg_Filter_FOD_FPA_Fire_12KM_Merged_Cleaned_2001_2020.parquet'\n",
    "all_features.to_parquet(output_file)"
   ]
  }
 ],
 "metadata": {
  "kernelspec": {
   "display_name": "py311",
   "language": "python",
   "name": "python3"
  },
  "language_info": {
   "codemirror_mode": {
    "name": "ipython",
    "version": 3
   },
   "file_extension": ".py",
   "mimetype": "text/x-python",
   "name": "python",
   "nbconvert_exporter": "python",
   "pygments_lexer": "ipython3",
   "version": "3.11.9"
  }
 },
 "nbformat": 4,
 "nbformat_minor": 2
}
