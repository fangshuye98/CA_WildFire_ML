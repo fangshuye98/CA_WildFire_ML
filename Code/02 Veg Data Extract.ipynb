{
 "cells": [
  {
   "cell_type": "code",
   "execution_count": 1,
   "metadata": {},
   "outputs": [],
   "source": [
    "import pandas as pd\n",
    "import geopandas as gpd\n",
    "import xarray as xr\n",
    "import pyproj\n",
    "from tqdm import tqdm\n",
    "import numpy as np"
   ]
  },
  {
   "cell_type": "code",
   "execution_count": 2,
   "metadata": {},
   "outputs": [],
   "source": [
    "import os"
   ]
  },
  {
   "cell_type": "code",
   "execution_count": 3,
   "metadata": {},
   "outputs": [
    {
     "name": "stdout",
     "output_type": "stream",
     "text": [
      "Python version\n",
      "3.11.9 | packaged by Anaconda, Inc. | (main, Apr 19 2024, 16:40:41) [MSC v.1916 64 bit (AMD64)]\n",
      "Pandas version\n",
      "2.2.2\n",
      "Geopandas version\n",
      "0.14.2\n",
      "Xarray version\n",
      "2023.6.0\n",
      "Pyproj version\n",
      "3.6.1\n"
     ]
    }
   ],
   "source": [
    "# check python version and all packages version\n",
    "def check_python_version():\n",
    "    import sys\n",
    "    print(\"Python version\")\n",
    "    print (sys.version)\n",
    "    print(\"Pandas version\")\n",
    "    print(pd.__version__)\n",
    "    print(\"Geopandas version\")\n",
    "    print(gpd.__version__)\n",
    "    print(\"Xarray version\")\n",
    "    print(xr.__version__)\n",
    "    print(\"Pyproj version\")\n",
    "    print(pyproj.__version__)\n",
    "\n",
    "check_python_version()"
   ]
  },
  {
   "cell_type": "code",
   "execution_count": 22,
   "metadata": {},
   "outputs": [],
   "source": [
    "file_path = '../Vegetation_Data/veg_mapping.csv'\n",
    "# read the csv file\n",
    "veg_mapping = pd.read_csv(file_path, header=None)\n",
    "cols = ['type', 'veg_type_details']\n",
    "# assign head to the dataframe\n",
    "veg_mapping.columns = cols"
   ]
  },
  {
   "cell_type": "code",
   "execution_count": 23,
   "metadata": {},
   "outputs": [],
   "source": [
    "# split veg_type by \"-\", use the 2nd part as column fire_attribute\n",
    "veg_mapping['fire_attribute'] = veg_mapping['veg_type_details'].str.split('-').str[-1]\n",
    "veg_mapping['veg'] = veg_mapping['veg_type_details'].str.rsplit('-', n=1).str[0]"
   ]
  },
  {
   "cell_type": "code",
   "execution_count": 24,
   "metadata": {},
   "outputs": [
    {
     "data": {
      "text/html": [
       "<div>\n",
       "<style scoped>\n",
       "    .dataframe tbody tr th:only-of-type {\n",
       "        vertical-align: middle;\n",
       "    }\n",
       "\n",
       "    .dataframe tbody tr th {\n",
       "        vertical-align: top;\n",
       "    }\n",
       "\n",
       "    .dataframe thead th {\n",
       "        text-align: right;\n",
       "    }\n",
       "</style>\n",
       "<table border=\"1\" class=\"dataframe\">\n",
       "  <thead>\n",
       "    <tr style=\"text-align: right;\">\n",
       "      <th></th>\n",
       "      <th>type</th>\n",
       "      <th>veg_type_details</th>\n",
       "      <th>fire_attribute</th>\n",
       "      <th>veg</th>\n",
       "    </tr>\n",
       "  </thead>\n",
       "  <tbody>\n",
       "    <tr>\n",
       "      <th>0</th>\n",
       "      <td>1</td>\n",
       "      <td>Agriculture - low</td>\n",
       "      <td>low</td>\n",
       "      <td>Agriculture</td>\n",
       "    </tr>\n",
       "    <tr>\n",
       "      <th>1</th>\n",
       "      <td>2</td>\n",
       "      <td>Agriculture - rarely</td>\n",
       "      <td>rarely</td>\n",
       "      <td>Agriculture</td>\n",
       "    </tr>\n",
       "    <tr>\n",
       "      <th>2</th>\n",
       "      <td>3</td>\n",
       "      <td>Barren - rarely</td>\n",
       "      <td>rarely</td>\n",
       "      <td>Barren</td>\n",
       "    </tr>\n",
       "    <tr>\n",
       "      <th>3</th>\n",
       "      <td>4</td>\n",
       "      <td>Native Chapparal - archetypical</td>\n",
       "      <td>archetypical</td>\n",
       "      <td>Native Chapparal</td>\n",
       "    </tr>\n",
       "    <tr>\n",
       "      <th>4</th>\n",
       "      <td>5</td>\n",
       "      <td>Native Chapparal - fire</td>\n",
       "      <td>fire</td>\n",
       "      <td>Native Chapparal</td>\n",
       "    </tr>\n",
       "    <tr>\n",
       "      <th>5</th>\n",
       "      <td>6</td>\n",
       "      <td>Native Coastal Sage Scrub - archetypical</td>\n",
       "      <td>archetypical</td>\n",
       "      <td>Native Coastal Sage Scrub</td>\n",
       "    </tr>\n",
       "    <tr>\n",
       "      <th>6</th>\n",
       "      <td>7</td>\n",
       "      <td>Native Coastal Sage Scrub - fire</td>\n",
       "      <td>fire</td>\n",
       "      <td>Native Coastal Sage Scrub</td>\n",
       "    </tr>\n",
       "    <tr>\n",
       "      <th>7</th>\n",
       "      <td>8</td>\n",
       "      <td>Native Coastal Sage Scrub - mesic</td>\n",
       "      <td>mesic</td>\n",
       "      <td>Native Coastal Sage Scrub</td>\n",
       "    </tr>\n",
       "    <tr>\n",
       "      <th>8</th>\n",
       "      <td>9</td>\n",
       "      <td>Native Conifer Alpine - fire</td>\n",
       "      <td>fire</td>\n",
       "      <td>Native Conifer Alpine</td>\n",
       "    </tr>\n",
       "    <tr>\n",
       "      <th>9</th>\n",
       "      <td>10</td>\n",
       "      <td>Native Conifer Alpine - low</td>\n",
       "      <td>low</td>\n",
       "      <td>Native Conifer Alpine</td>\n",
       "    </tr>\n",
       "    <tr>\n",
       "      <th>10</th>\n",
       "      <td>11</td>\n",
       "      <td>Native Conifer Forest - archetypical</td>\n",
       "      <td>archetypical</td>\n",
       "      <td>Native Conifer Forest</td>\n",
       "    </tr>\n",
       "    <tr>\n",
       "      <th>11</th>\n",
       "      <td>12</td>\n",
       "      <td>Native Conifer Forest - fire</td>\n",
       "      <td>fire</td>\n",
       "      <td>Native Conifer Forest</td>\n",
       "    </tr>\n",
       "    <tr>\n",
       "      <th>12</th>\n",
       "      <td>13</td>\n",
       "      <td>Native Conifer Forest - low</td>\n",
       "      <td>low</td>\n",
       "      <td>Native Conifer Forest</td>\n",
       "    </tr>\n",
       "    <tr>\n",
       "      <th>13</th>\n",
       "      <td>14</td>\n",
       "      <td>Native Conifer Forest - mesic</td>\n",
       "      <td>mesic</td>\n",
       "      <td>Native Conifer Forest</td>\n",
       "    </tr>\n",
       "    <tr>\n",
       "      <th>14</th>\n",
       "      <td>15</td>\n",
       "      <td>Native Desert - fire</td>\n",
       "      <td>fire</td>\n",
       "      <td>Native Desert</td>\n",
       "    </tr>\n",
       "    <tr>\n",
       "      <th>15</th>\n",
       "      <td>16</td>\n",
       "      <td>Native Desert - low</td>\n",
       "      <td>low</td>\n",
       "      <td>Native Desert</td>\n",
       "    </tr>\n",
       "    <tr>\n",
       "      <th>16</th>\n",
       "      <td>17</td>\n",
       "      <td>Native Desert - rarely</td>\n",
       "      <td>rarely</td>\n",
       "      <td>Native Desert</td>\n",
       "    </tr>\n",
       "    <tr>\n",
       "      <th>17</th>\n",
       "      <td>18</td>\n",
       "      <td>Native Grassland - fire</td>\n",
       "      <td>fire</td>\n",
       "      <td>Native Grassland</td>\n",
       "    </tr>\n",
       "    <tr>\n",
       "      <th>18</th>\n",
       "      <td>19</td>\n",
       "      <td>Native Grassland - low</td>\n",
       "      <td>low</td>\n",
       "      <td>Native Grassland</td>\n",
       "    </tr>\n",
       "    <tr>\n",
       "      <th>19</th>\n",
       "      <td>20</td>\n",
       "      <td>Native Grassland - never</td>\n",
       "      <td>never</td>\n",
       "      <td>Native Grassland</td>\n",
       "    </tr>\n",
       "    <tr>\n",
       "      <th>20</th>\n",
       "      <td>21</td>\n",
       "      <td>Native Grassland - rarely</td>\n",
       "      <td>rarely</td>\n",
       "      <td>Native Grassland</td>\n",
       "    </tr>\n",
       "    <tr>\n",
       "      <th>21</th>\n",
       "      <td>22</td>\n",
       "      <td>Native Inland Scrub - fire</td>\n",
       "      <td>fire</td>\n",
       "      <td>Native Inland Scrub</td>\n",
       "    </tr>\n",
       "    <tr>\n",
       "      <th>22</th>\n",
       "      <td>23</td>\n",
       "      <td>Native Inland Scrub - low</td>\n",
       "      <td>low</td>\n",
       "      <td>Native Inland Scrub</td>\n",
       "    </tr>\n",
       "    <tr>\n",
       "      <th>23</th>\n",
       "      <td>24</td>\n",
       "      <td>Native Inland Scrub - rarely</td>\n",
       "      <td>rarely</td>\n",
       "      <td>Native Inland Scrub</td>\n",
       "    </tr>\n",
       "    <tr>\n",
       "      <th>24</th>\n",
       "      <td>25</td>\n",
       "      <td>Native Oak Woodland - fire</td>\n",
       "      <td>fire</td>\n",
       "      <td>Native Oak Woodland</td>\n",
       "    </tr>\n",
       "    <tr>\n",
       "      <th>25</th>\n",
       "      <td>26</td>\n",
       "      <td>Native Oak Woodland - mesic</td>\n",
       "      <td>mesic</td>\n",
       "      <td>Native Oak Woodland</td>\n",
       "    </tr>\n",
       "    <tr>\n",
       "      <th>26</th>\n",
       "      <td>27</td>\n",
       "      <td>Native Wetland - rarely</td>\n",
       "      <td>rarely</td>\n",
       "      <td>Native Wetland</td>\n",
       "    </tr>\n",
       "    <tr>\n",
       "      <th>27</th>\n",
       "      <td>28</td>\n",
       "      <td>Non-native forest - archetypical</td>\n",
       "      <td>archetypical</td>\n",
       "      <td>Non-native forest</td>\n",
       "    </tr>\n",
       "    <tr>\n",
       "      <th>28</th>\n",
       "      <td>29</td>\n",
       "      <td>Non-native forest - fire</td>\n",
       "      <td>fire</td>\n",
       "      <td>Non-native forest</td>\n",
       "    </tr>\n",
       "    <tr>\n",
       "      <th>29</th>\n",
       "      <td>30</td>\n",
       "      <td>Non-native forest - low</td>\n",
       "      <td>low</td>\n",
       "      <td>Non-native forest</td>\n",
       "    </tr>\n",
       "    <tr>\n",
       "      <th>30</th>\n",
       "      <td>31</td>\n",
       "      <td>Non-native forest - mesic</td>\n",
       "      <td>mesic</td>\n",
       "      <td>Non-native forest</td>\n",
       "    </tr>\n",
       "    <tr>\n",
       "      <th>31</th>\n",
       "      <td>32</td>\n",
       "      <td>Non-native grassland - archetypical</td>\n",
       "      <td>archetypical</td>\n",
       "      <td>Non-native grassland</td>\n",
       "    </tr>\n",
       "    <tr>\n",
       "      <th>32</th>\n",
       "      <td>33</td>\n",
       "      <td>Non-native grassland - fire</td>\n",
       "      <td>fire</td>\n",
       "      <td>Non-native grassland</td>\n",
       "    </tr>\n",
       "    <tr>\n",
       "      <th>33</th>\n",
       "      <td>34</td>\n",
       "      <td>Non-native shrub - fire</td>\n",
       "      <td>fire</td>\n",
       "      <td>Non-native shrub</td>\n",
       "    </tr>\n",
       "    <tr>\n",
       "      <th>34</th>\n",
       "      <td>35</td>\n",
       "      <td>Riparian - fire</td>\n",
       "      <td>fire</td>\n",
       "      <td>Riparian</td>\n",
       "    </tr>\n",
       "    <tr>\n",
       "      <th>35</th>\n",
       "      <td>36</td>\n",
       "      <td>Riparian - low</td>\n",
       "      <td>low</td>\n",
       "      <td>Riparian</td>\n",
       "    </tr>\n",
       "    <tr>\n",
       "      <th>36</th>\n",
       "      <td>37</td>\n",
       "      <td>Riparian - mesic</td>\n",
       "      <td>mesic</td>\n",
       "      <td>Riparian</td>\n",
       "    </tr>\n",
       "    <tr>\n",
       "      <th>37</th>\n",
       "      <td>38</td>\n",
       "      <td>Urban - rarely</td>\n",
       "      <td>rarely</td>\n",
       "      <td>Urban</td>\n",
       "    </tr>\n",
       "    <tr>\n",
       "      <th>38</th>\n",
       "      <td>39</td>\n",
       "      <td>Water - never</td>\n",
       "      <td>never</td>\n",
       "      <td>Water</td>\n",
       "    </tr>\n",
       "  </tbody>\n",
       "</table>\n",
       "</div>"
      ],
      "text/plain": [
       "    type                          veg_type_details fire_attribute  \\\n",
       "0      1                         Agriculture - low            low   \n",
       "1      2                      Agriculture - rarely         rarely   \n",
       "2      3                           Barren - rarely         rarely   \n",
       "3      4           Native Chapparal - archetypical   archetypical   \n",
       "4      5                   Native Chapparal - fire           fire   \n",
       "5      6  Native Coastal Sage Scrub - archetypical   archetypical   \n",
       "6      7          Native Coastal Sage Scrub - fire           fire   \n",
       "7      8         Native Coastal Sage Scrub - mesic          mesic   \n",
       "8      9              Native Conifer Alpine - fire           fire   \n",
       "9     10               Native Conifer Alpine - low            low   \n",
       "10    11      Native Conifer Forest - archetypical   archetypical   \n",
       "11    12              Native Conifer Forest - fire           fire   \n",
       "12    13               Native Conifer Forest - low            low   \n",
       "13    14             Native Conifer Forest - mesic          mesic   \n",
       "14    15                      Native Desert - fire           fire   \n",
       "15    16                       Native Desert - low            low   \n",
       "16    17                    Native Desert - rarely         rarely   \n",
       "17    18                   Native Grassland - fire           fire   \n",
       "18    19                    Native Grassland - low            low   \n",
       "19    20                  Native Grassland - never          never   \n",
       "20    21                 Native Grassland - rarely         rarely   \n",
       "21    22                Native Inland Scrub - fire           fire   \n",
       "22    23                 Native Inland Scrub - low            low   \n",
       "23    24              Native Inland Scrub - rarely         rarely   \n",
       "24    25                Native Oak Woodland - fire           fire   \n",
       "25    26               Native Oak Woodland - mesic          mesic   \n",
       "26    27                   Native Wetland - rarely         rarely   \n",
       "27    28          Non-native forest - archetypical   archetypical   \n",
       "28    29                  Non-native forest - fire           fire   \n",
       "29    30                   Non-native forest - low            low   \n",
       "30    31                 Non-native forest - mesic          mesic   \n",
       "31    32       Non-native grassland - archetypical   archetypical   \n",
       "32    33               Non-native grassland - fire           fire   \n",
       "33    34                   Non-native shrub - fire           fire   \n",
       "34    35                           Riparian - fire           fire   \n",
       "35    36                            Riparian - low            low   \n",
       "36    37                          Riparian - mesic          mesic   \n",
       "37    38                            Urban - rarely         rarely   \n",
       "38    39                             Water - never          never   \n",
       "\n",
       "                           veg  \n",
       "0                 Agriculture   \n",
       "1                 Agriculture   \n",
       "2                      Barren   \n",
       "3            Native Chapparal   \n",
       "4            Native Chapparal   \n",
       "5   Native Coastal Sage Scrub   \n",
       "6   Native Coastal Sage Scrub   \n",
       "7   Native Coastal Sage Scrub   \n",
       "8       Native Conifer Alpine   \n",
       "9       Native Conifer Alpine   \n",
       "10      Native Conifer Forest   \n",
       "11      Native Conifer Forest   \n",
       "12      Native Conifer Forest   \n",
       "13      Native Conifer Forest   \n",
       "14              Native Desert   \n",
       "15              Native Desert   \n",
       "16              Native Desert   \n",
       "17           Native Grassland   \n",
       "18           Native Grassland   \n",
       "19           Native Grassland   \n",
       "20           Native Grassland   \n",
       "21        Native Inland Scrub   \n",
       "22        Native Inland Scrub   \n",
       "23        Native Inland Scrub   \n",
       "24        Native Oak Woodland   \n",
       "25        Native Oak Woodland   \n",
       "26             Native Wetland   \n",
       "27          Non-native forest   \n",
       "28          Non-native forest   \n",
       "29          Non-native forest   \n",
       "30          Non-native forest   \n",
       "31       Non-native grassland   \n",
       "32       Non-native grassland   \n",
       "33           Non-native shrub   \n",
       "34                   Riparian   \n",
       "35                   Riparian   \n",
       "36                   Riparian   \n",
       "37                      Urban   \n",
       "38                      Water   "
      ]
     },
     "execution_count": 24,
     "metadata": {},
     "output_type": "execute_result"
    }
   ],
   "source": [
    "veg_mapping"
   ]
  },
  {
   "cell_type": "code",
   "execution_count": 25,
   "metadata": {},
   "outputs": [
    {
     "data": {
      "text/plain": [
       "fire_attribute\n",
       "fire            12\n",
       "low              8\n",
       "rarely           7\n",
       "archetypical     5\n",
       "mesic            5\n",
       "never            2\n",
       "Name: count, dtype: int64"
      ]
     },
     "execution_count": 25,
     "metadata": {},
     "output_type": "execute_result"
    }
   ],
   "source": [
    "veg_mapping['fire_attribute'].value_counts()"
   ]
  },
  {
   "cell_type": "code",
   "execution_count": 26,
   "metadata": {},
   "outputs": [],
   "source": [
    "# save the veg_mapping to a csv file\n",
    "veg_mapping.to_csv('../Clean_Data/veg_mapping_cleaned.csv', index=False)"
   ]
  },
  {
   "cell_type": "markdown",
   "metadata": {},
   "source": [
    "merge it w cleaned veg data"
   ]
  },
  {
   "cell_type": "code",
   "execution_count": 27,
   "metadata": {},
   "outputs": [],
   "source": [
    "veg_data = pd.read_parquet('../Clean_Data/lon_lat_pair_weather_match_veg.parquet')"
   ]
  },
  {
   "cell_type": "code",
   "execution_count": 28,
   "metadata": {},
   "outputs": [],
   "source": [
    "mapping = pd.read_csv('../Clean_Data/veg_mapping_cleaned.csv')"
   ]
  },
  {
   "cell_type": "code",
   "execution_count": 29,
   "metadata": {},
   "outputs": [
    {
     "data": {
      "text/plain": [
       "lon         float64\n",
       "lat         float64\n",
       "type        float32\n",
       "distance    float64\n",
       "dtype: object"
      ]
     },
     "execution_count": 29,
     "metadata": {},
     "output_type": "execute_result"
    }
   ],
   "source": [
    "veg_data.dtypes"
   ]
  },
  {
   "cell_type": "code",
   "execution_count": 30,
   "metadata": {},
   "outputs": [
    {
     "data": {
      "text/plain": [
       "type                 int64\n",
       "veg_type_details    object\n",
       "fire_attribute      object\n",
       "veg                 object\n",
       "dtype: object"
      ]
     },
     "execution_count": 30,
     "metadata": {},
     "output_type": "execute_result"
    }
   ],
   "source": [
    "mapping.dtypes"
   ]
  },
  {
   "cell_type": "code",
   "execution_count": 31,
   "metadata": {},
   "outputs": [
    {
     "data": {
      "text/plain": [
       "lon         0.0\n",
       "lat         0.0\n",
       "type        0.0\n",
       "distance    0.0\n",
       "dtype: float64"
      ]
     },
     "execution_count": 31,
     "metadata": {},
     "output_type": "execute_result"
    }
   ],
   "source": [
    "# check missing rate in veg_data\n",
    "veg_data.isnull().mean()"
   ]
  },
  {
   "cell_type": "code",
   "execution_count": 32,
   "metadata": {},
   "outputs": [
    {
     "data": {
      "text/plain": [
       "type                0.0\n",
       "veg_type_details    0.0\n",
       "fire_attribute      0.0\n",
       "veg                 0.0\n",
       "dtype: float64"
      ]
     },
     "execution_count": 32,
     "metadata": {},
     "output_type": "execute_result"
    }
   ],
   "source": [
    "# check missing rate in mapping\n",
    "mapping.isnull().mean()"
   ]
  },
  {
   "cell_type": "code",
   "execution_count": 34,
   "metadata": {},
   "outputs": [
    {
     "data": {
      "text/plain": [
       "True"
      ]
     },
     "execution_count": 34,
     "metadata": {},
     "output_type": "execute_result"
    }
   ],
   "source": [
    "# check if type in mapping is unique\n",
    "mapping['type'].nunique() == mapping.shape[0]"
   ]
  },
  {
   "cell_type": "code",
   "execution_count": 36,
   "metadata": {},
   "outputs": [
    {
     "name": "stdout",
     "output_type": "stream",
     "text": [
      "veg_data shape: (17703, 4)\n",
      "veg_data shape: (17703, 7)\n"
     ]
    }
   ],
   "source": [
    "# print shape before merge in a sentence\n",
    "print(f'veg_data shape: {veg_data.shape}')\n",
    "veg_data = veg_data.merge(mapping, left_on='type', right_on='type', how='left')\n",
    "# print shape after merge in a sentence\n",
    "print(f'veg_data shape: {veg_data.shape}')"
   ]
  },
  {
   "cell_type": "code",
   "execution_count": 37,
   "metadata": {},
   "outputs": [
    {
     "data": {
      "text/html": [
       "<div>\n",
       "<style scoped>\n",
       "    .dataframe tbody tr th:only-of-type {\n",
       "        vertical-align: middle;\n",
       "    }\n",
       "\n",
       "    .dataframe tbody tr th {\n",
       "        vertical-align: top;\n",
       "    }\n",
       "\n",
       "    .dataframe thead th {\n",
       "        text-align: right;\n",
       "    }\n",
       "</style>\n",
       "<table border=\"1\" class=\"dataframe\">\n",
       "  <thead>\n",
       "    <tr style=\"text-align: right;\">\n",
       "      <th></th>\n",
       "      <th>lon</th>\n",
       "      <th>lat</th>\n",
       "      <th>type</th>\n",
       "      <th>distance</th>\n",
       "      <th>veg_type_details</th>\n",
       "      <th>fire_attribute</th>\n",
       "      <th>veg</th>\n",
       "    </tr>\n",
       "  </thead>\n",
       "  <tbody>\n",
       "    <tr>\n",
       "      <th>0</th>\n",
       "      <td>-124.391667</td>\n",
       "      <td>40.441667</td>\n",
       "      <td>7.0</td>\n",
       "      <td>1.826642</td>\n",
       "      <td>Native Coastal Sage Scrub - fire</td>\n",
       "      <td>fire</td>\n",
       "      <td>Native Coastal Sage Scrub</td>\n",
       "    </tr>\n",
       "    <tr>\n",
       "      <th>1</th>\n",
       "      <td>-124.391667</td>\n",
       "      <td>40.400000</td>\n",
       "      <td>25.0</td>\n",
       "      <td>1.827314</td>\n",
       "      <td>Native Oak Woodland - fire</td>\n",
       "      <td>fire</td>\n",
       "      <td>Native Oak Woodland</td>\n",
       "    </tr>\n",
       "    <tr>\n",
       "      <th>2</th>\n",
       "      <td>-124.350000</td>\n",
       "      <td>40.566667</td>\n",
       "      <td>1.0</td>\n",
       "      <td>1.824622</td>\n",
       "      <td>Agriculture - low</td>\n",
       "      <td>low</td>\n",
       "      <td>Agriculture</td>\n",
       "    </tr>\n",
       "    <tr>\n",
       "      <th>3</th>\n",
       "      <td>-124.350000</td>\n",
       "      <td>40.525000</td>\n",
       "      <td>8.0</td>\n",
       "      <td>1.825296</td>\n",
       "      <td>Native Coastal Sage Scrub - mesic</td>\n",
       "      <td>mesic</td>\n",
       "      <td>Native Coastal Sage Scrub</td>\n",
       "    </tr>\n",
       "    <tr>\n",
       "      <th>4</th>\n",
       "      <td>-124.350000</td>\n",
       "      <td>40.483333</td>\n",
       "      <td>25.0</td>\n",
       "      <td>1.825969</td>\n",
       "      <td>Native Oak Woodland - fire</td>\n",
       "      <td>fire</td>\n",
       "      <td>Native Oak Woodland</td>\n",
       "    </tr>\n",
       "  </tbody>\n",
       "</table>\n",
       "</div>"
      ],
      "text/plain": [
       "          lon        lat  type  distance                   veg_type_details  \\\n",
       "0 -124.391667  40.441667   7.0  1.826642   Native Coastal Sage Scrub - fire   \n",
       "1 -124.391667  40.400000  25.0  1.827314         Native Oak Woodland - fire   \n",
       "2 -124.350000  40.566667   1.0  1.824622                  Agriculture - low   \n",
       "3 -124.350000  40.525000   8.0  1.825296  Native Coastal Sage Scrub - mesic   \n",
       "4 -124.350000  40.483333  25.0  1.825969         Native Oak Woodland - fire   \n",
       "\n",
       "  fire_attribute                         veg  \n",
       "0           fire  Native Coastal Sage Scrub   \n",
       "1           fire        Native Oak Woodland   \n",
       "2            low                Agriculture   \n",
       "3          mesic  Native Coastal Sage Scrub   \n",
       "4           fire        Native Oak Woodland   "
      ]
     },
     "execution_count": 37,
     "metadata": {},
     "output_type": "execute_result"
    }
   ],
   "source": [
    "veg_data.head()"
   ]
  },
  {
   "cell_type": "code",
   "execution_count": 38,
   "metadata": {},
   "outputs": [],
   "source": [
    "# save data to Clean_Data/lon_lat_pair_weather_match_veg.parquet\n",
    "veg_data.to_parquet('../Clean_Data/lon_lat_pair_weather_match_veg_v2.parquet')"
   ]
  },
  {
   "cell_type": "code",
   "execution_count": null,
   "metadata": {},
   "outputs": [],
   "source": []
  }
 ],
 "metadata": {
  "kernelspec": {
   "display_name": "py311",
   "language": "python",
   "name": "python3"
  },
  "language_info": {
   "codemirror_mode": {
    "name": "ipython",
    "version": 3
   },
   "file_extension": ".py",
   "mimetype": "text/x-python",
   "name": "python",
   "nbconvert_exporter": "python",
   "pygments_lexer": "ipython3",
   "version": "3.11.9"
  }
 },
 "nbformat": 4,
 "nbformat_minor": 2
}
