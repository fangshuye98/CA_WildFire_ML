{
 "cells": [
  {
   "cell_type": "markdown",
   "metadata": {},
   "source": [
    "Input Data:\n",
    "- '../Clean_Data/Weather_Data_w_Veg_Filter_FOD_FPA_Fire_12KM/wind_speed_filtered.parquet' (from code 02 04)\n",
    "- '../Clean_Data/Fire_Data/calfire_fod_fpa_2001_2020_dedup_map_weather_grid.parquet' (from code 00)\n",
    "\n",
    "Output Data:\n",
    "- '../Clean_Data/Fire_Data/calfire_fod_fpa_2001_2020_fire_label_w_size.parquet'\n"
   ]
  },
  {
   "cell_type": "code",
   "execution_count": 68,
   "metadata": {},
   "outputs": [],
   "source": [
    "import pandas as pd\n",
    "import geopandas as gpd\n",
    "import xarray as xr\n",
    "import pyproj\n",
    "from tqdm import tqdm\n",
    "import numpy as np"
   ]
  },
  {
   "cell_type": "code",
   "execution_count": 132,
   "metadata": {},
   "outputs": [],
   "source": [
    "import re"
   ]
  },
  {
   "cell_type": "code",
   "execution_count": 69,
   "metadata": {},
   "outputs": [],
   "source": [
    "import os\n",
    "import matplotlib.pyplot as plt\n",
    "#import cartopy.crs as ccrs\n",
    "#import cartopy.feature as cfeature"
   ]
  },
  {
   "cell_type": "code",
   "execution_count": 70,
   "metadata": {},
   "outputs": [
    {
     "name": "stdout",
     "output_type": "stream",
     "text": [
      "Python version\n",
      "3.11.9 | packaged by Anaconda, Inc. | (main, Apr 19 2024, 16:40:41) [MSC v.1916 64 bit (AMD64)]\n",
      "Pandas version\n",
      "2.2.2\n",
      "Geopandas version\n",
      "0.14.2\n",
      "Xarray version\n",
      "2023.6.0\n",
      "Pyproj version\n",
      "3.6.1\n"
     ]
    }
   ],
   "source": [
    "# check python version and all packages version\n",
    "def check_python_version():\n",
    "    import sys\n",
    "    print(\"Python version\")\n",
    "    print (sys.version)\n",
    "    print(\"Pandas version\")\n",
    "    print(pd.__version__)\n",
    "    print(\"Geopandas version\")\n",
    "    print(gpd.__version__)\n",
    "    print(\"Xarray version\")\n",
    "    print(xr.__version__)\n",
    "    print(\"Pyproj version\")\n",
    "    print(pyproj.__version__)\n",
    "\n",
    "check_python_version()"
   ]
  },
  {
   "cell_type": "code",
   "execution_count": 71,
   "metadata": {},
   "outputs": [],
   "source": [
    "weather_data = pd.read_parquet('../Clean_Data/Weather_Data_w_Veg_Filter_FOD_FPA_Fire_12KM/wind_speed_filtered.parquet')"
   ]
  },
  {
   "cell_type": "code",
   "execution_count": 72,
   "metadata": {},
   "outputs": [
    {
     "data": {
      "text/plain": [
       "(147252000, 4)"
      ]
     },
     "execution_count": 72,
     "metadata": {},
     "output_type": "execute_result"
    }
   ],
   "source": [
    "weather_data.shape # this weather data is after inner join with vegetation data, within 12km of fire event"
   ]
  },
  {
   "cell_type": "code",
   "execution_count": 73,
   "metadata": {},
   "outputs": [],
   "source": [
    "# only keep columns (lon, lat, and day)\n",
    "weather_data = weather_data[['lon', 'lat', 'day']]"
   ]
  },
  {
   "cell_type": "code",
   "execution_count": 7,
   "metadata": {},
   "outputs": [],
   "source": [
    "# drop duplicates\n",
    "weather_data = weather_data.drop_duplicates()"
   ]
  },
  {
   "cell_type": "code",
   "execution_count": 74,
   "metadata": {},
   "outputs": [
    {
     "data": {
      "text/plain": [
       "(147252000, 3)"
      ]
     },
     "execution_count": 74,
     "metadata": {},
     "output_type": "execute_result"
    }
   ],
   "source": [
    "weather_data.shape"
   ]
  },
  {
   "cell_type": "code",
   "execution_count": 75,
   "metadata": {},
   "outputs": [
    {
     "data": {
      "text/plain": [
       "lon    0\n",
       "lat    0\n",
       "day    0\n",
       "dtype: int64"
      ]
     },
     "execution_count": 75,
     "metadata": {},
     "output_type": "execute_result"
    }
   ],
   "source": [
    "# check if there is any missing value\n",
    "weather_data.isnull().sum()"
   ]
  },
  {
   "cell_type": "code",
   "execution_count": 133,
   "metadata": {},
   "outputs": [],
   "source": [
    "fire_data = pd.read_parquet('../Clean_Data/Fire_Data/calfire_fod_fpa_2001_2020_dedup_map_weather_grid.parquet')"
   ]
  },
  {
   "cell_type": "code",
   "execution_count": 134,
   "metadata": {},
   "outputs": [],
   "source": [
    "fire_data['NWCG_CAUSE_CLASSIFICATION'] = fire_data['NWCG_CAUSE_CLASSIFICATION'].apply(str)"
   ]
  },
  {
   "cell_type": "code",
   "execution_count": 86,
   "metadata": {},
   "outputs": [
    {
     "data": {
      "text/html": [
       "<div>\n",
       "<style scoped>\n",
       "    .dataframe tbody tr th:only-of-type {\n",
       "        vertical-align: middle;\n",
       "    }\n",
       "\n",
       "    .dataframe tbody tr th {\n",
       "        vertical-align: top;\n",
       "    }\n",
       "\n",
       "    .dataframe thead th {\n",
       "        text-align: right;\n",
       "    }\n",
       "</style>\n",
       "<table border=\"1\" class=\"dataframe\">\n",
       "  <thead>\n",
       "    <tr style=\"text-align: right;\">\n",
       "      <th></th>\n",
       "      <th>LONGITUDE</th>\n",
       "      <th>LATITUDE</th>\n",
       "      <th>DISCOVERY_DATE</th>\n",
       "      <th>CONT_DATE</th>\n",
       "      <th>max_FIRE_SIZE</th>\n",
       "      <th>min_FIRE_SIZE</th>\n",
       "      <th>FOD_ID_cnt</th>\n",
       "      <th>NWCG_CAUSE_CLASSIFICATION</th>\n",
       "      <th>diff_FIRE_SIZE</th>\n",
       "      <th>NEAREST_LAT</th>\n",
       "      <th>NEAREST_LON</th>\n",
       "      <th>DISTANCE_KM</th>\n",
       "    </tr>\n",
       "  </thead>\n",
       "  <tbody>\n",
       "    <tr>\n",
       "      <th>0</th>\n",
       "      <td>-123.943617</td>\n",
       "      <td>40.476117</td>\n",
       "      <td>10/28/2015</td>\n",
       "      <td>10/28/2015</td>\n",
       "      <td>0.01</td>\n",
       "      <td>0.01</td>\n",
       "      <td>18</td>\n",
       "      <td>[Human]</td>\n",
       "      <td>0.0</td>\n",
       "      <td>40.483333</td>\n",
       "      <td>-123.933333</td>\n",
       "      <td>1.184269</td>\n",
       "    </tr>\n",
       "    <tr>\n",
       "      <th>1</th>\n",
       "      <td>-120.850714</td>\n",
       "      <td>38.641597</td>\n",
       "      <td>7/16/2006</td>\n",
       "      <td>7/17/2006</td>\n",
       "      <td>13.80</td>\n",
       "      <td>0.10</td>\n",
       "      <td>14</td>\n",
       "      <td>[Human]</td>\n",
       "      <td>13.7</td>\n",
       "      <td>38.650000</td>\n",
       "      <td>-120.850000</td>\n",
       "      <td>0.934875</td>\n",
       "    </tr>\n",
       "    <tr>\n",
       "      <th>2</th>\n",
       "      <td>-121.607969</td>\n",
       "      <td>39.806769</td>\n",
       "      <td>11/28/2003</td>\n",
       "      <td>11/28/2003</td>\n",
       "      <td>0.10</td>\n",
       "      <td>0.10</td>\n",
       "      <td>11</td>\n",
       "      <td>[Human]</td>\n",
       "      <td>0.0</td>\n",
       "      <td>39.816667</td>\n",
       "      <td>-121.600000</td>\n",
       "      <td>1.293568</td>\n",
       "    </tr>\n",
       "    <tr>\n",
       "      <th>3</th>\n",
       "      <td>-123.163889</td>\n",
       "      <td>39.678056</td>\n",
       "      <td>10/28/2005</td>\n",
       "      <td>10/28/2005</td>\n",
       "      <td>0.10</td>\n",
       "      <td>0.10</td>\n",
       "      <td>11</td>\n",
       "      <td>[Human]</td>\n",
       "      <td>0.0</td>\n",
       "      <td>39.691667</td>\n",
       "      <td>-123.183333</td>\n",
       "      <td>2.250813</td>\n",
       "    </tr>\n",
       "    <tr>\n",
       "      <th>4</th>\n",
       "      <td>-120.710000</td>\n",
       "      <td>38.293056</td>\n",
       "      <td>5/17/2007</td>\n",
       "      <td>missing date</td>\n",
       "      <td>7.00</td>\n",
       "      <td>1.00</td>\n",
       "      <td>9</td>\n",
       "      <td>[Human]</td>\n",
       "      <td>6.0</td>\n",
       "      <td>38.275000</td>\n",
       "      <td>-120.725000</td>\n",
       "      <td>2.395657</td>\n",
       "    </tr>\n",
       "  </tbody>\n",
       "</table>\n",
       "</div>"
      ],
      "text/plain": [
       "    LONGITUDE   LATITUDE DISCOVERY_DATE     CONT_DATE  max_FIRE_SIZE  \\\n",
       "0 -123.943617  40.476117     10/28/2015    10/28/2015           0.01   \n",
       "1 -120.850714  38.641597      7/16/2006     7/17/2006          13.80   \n",
       "2 -121.607969  39.806769     11/28/2003    11/28/2003           0.10   \n",
       "3 -123.163889  39.678056     10/28/2005    10/28/2005           0.10   \n",
       "4 -120.710000  38.293056      5/17/2007  missing date           7.00   \n",
       "\n",
       "   min_FIRE_SIZE  FOD_ID_cnt NWCG_CAUSE_CLASSIFICATION  diff_FIRE_SIZE  \\\n",
       "0           0.01          18                   [Human]             0.0   \n",
       "1           0.10          14                   [Human]            13.7   \n",
       "2           0.10          11                   [Human]             0.0   \n",
       "3           0.10          11                   [Human]             0.0   \n",
       "4           1.00           9                   [Human]             6.0   \n",
       "\n",
       "   NEAREST_LAT  NEAREST_LON  DISTANCE_KM  \n",
       "0    40.483333  -123.933333     1.184269  \n",
       "1    38.650000  -120.850000     0.934875  \n",
       "2    39.816667  -121.600000     1.293568  \n",
       "3    39.691667  -123.183333     2.250813  \n",
       "4    38.275000  -120.725000     2.395657  "
      ]
     },
     "execution_count": 86,
     "metadata": {},
     "output_type": "execute_result"
    }
   ],
   "source": [
    "fire_data.head()"
   ]
  },
  {
   "cell_type": "code",
   "execution_count": 135,
   "metadata": {},
   "outputs": [],
   "source": [
    "# if CONT_DATE = \"missing date\", assign it to NA\n",
    "fire_data['CONT_DATE'] = fire_data['CONT_DATE'].replace('missing date', np.nan)"
   ]
  },
  {
   "cell_type": "code",
   "execution_count": 136,
   "metadata": {},
   "outputs": [],
   "source": [
    "# Convert date columns to datetime\n",
    "fire_data['DISCOVERY_DATE'] = pd.to_datetime(fire_data['DISCOVERY_DATE'])\n",
    "fire_data['CONT_DATE'] = pd.to_datetime(fire_data['CONT_DATE'])"
   ]
  },
  {
   "cell_type": "code",
   "execution_count": 137,
   "metadata": {},
   "outputs": [],
   "source": [
    "fire_data['fire_days'] = (fire_data['CONT_DATE'] - fire_data['DISCOVERY_DATE']).dt.days"
   ]
  },
  {
   "cell_type": "code",
   "execution_count": 14,
   "metadata": {},
   "outputs": [
    {
     "data": {
      "text/plain": [
       "0.75     0.0\n",
       "0.90     1.0\n",
       "0.95     2.0\n",
       "0.99    16.0\n",
       "Name: fire_days, dtype: float64"
      ]
     },
     "execution_count": 14,
     "metadata": {},
     "output_type": "execute_result"
    }
   ],
   "source": [
    "fire_data['fire_days'].quantile([0.75, 0.9, 0.95, 0.99])\n",
    "# providing evidence that most of the fire events are short-lived, 99% have less than 16 days"
   ]
  },
  {
   "cell_type": "code",
   "execution_count": 138,
   "metadata": {},
   "outputs": [],
   "source": [
    "# for those fire with missing CONT_DATE, assign CONT_DATE to DISCOVERY_DATE + 16 days\n",
    "fire_data['CONT_DATE'] = fire_data['CONT_DATE'].fillna(fire_data['DISCOVERY_DATE'] + pd.DateOffset(days=16))"
   ]
  },
  {
   "cell_type": "code",
   "execution_count": 17,
   "metadata": {},
   "outputs": [
    {
     "data": {
      "text/html": [
       "<div>\n",
       "<style scoped>\n",
       "    .dataframe tbody tr th:only-of-type {\n",
       "        vertical-align: middle;\n",
       "    }\n",
       "\n",
       "    .dataframe tbody tr th {\n",
       "        vertical-align: top;\n",
       "    }\n",
       "\n",
       "    .dataframe thead th {\n",
       "        text-align: right;\n",
       "    }\n",
       "</style>\n",
       "<table border=\"1\" class=\"dataframe\">\n",
       "  <thead>\n",
       "    <tr style=\"text-align: right;\">\n",
       "      <th></th>\n",
       "      <th>LONGITUDE</th>\n",
       "      <th>LATITUDE</th>\n",
       "      <th>DISCOVERY_DATE</th>\n",
       "      <th>CONT_DATE</th>\n",
       "      <th>max_FIRE_SIZE</th>\n",
       "      <th>min_FIRE_SIZE</th>\n",
       "      <th>FOD_ID_cnt</th>\n",
       "      <th>NWCG_CAUSE_CLASSIFICATION</th>\n",
       "      <th>diff_FIRE_SIZE</th>\n",
       "      <th>NEAREST_LAT</th>\n",
       "      <th>NEAREST_LON</th>\n",
       "      <th>DISTANCE_KM</th>\n",
       "      <th>fire_days</th>\n",
       "    </tr>\n",
       "  </thead>\n",
       "  <tbody>\n",
       "    <tr>\n",
       "      <th>0</th>\n",
       "      <td>-123.943617</td>\n",
       "      <td>40.476117</td>\n",
       "      <td>2015-10-28</td>\n",
       "      <td>2015-10-28</td>\n",
       "      <td>0.01</td>\n",
       "      <td>0.01</td>\n",
       "      <td>18</td>\n",
       "      <td>[Human]</td>\n",
       "      <td>0.0</td>\n",
       "      <td>40.483333</td>\n",
       "      <td>-123.933333</td>\n",
       "      <td>1.184269</td>\n",
       "      <td>0.0</td>\n",
       "    </tr>\n",
       "    <tr>\n",
       "      <th>1</th>\n",
       "      <td>-120.850714</td>\n",
       "      <td>38.641597</td>\n",
       "      <td>2006-07-16</td>\n",
       "      <td>2006-07-17</td>\n",
       "      <td>13.80</td>\n",
       "      <td>0.10</td>\n",
       "      <td>14</td>\n",
       "      <td>[Human]</td>\n",
       "      <td>13.7</td>\n",
       "      <td>38.650000</td>\n",
       "      <td>-120.850000</td>\n",
       "      <td>0.934875</td>\n",
       "      <td>1.0</td>\n",
       "    </tr>\n",
       "    <tr>\n",
       "      <th>2</th>\n",
       "      <td>-121.607969</td>\n",
       "      <td>39.806769</td>\n",
       "      <td>2003-11-28</td>\n",
       "      <td>2003-11-28</td>\n",
       "      <td>0.10</td>\n",
       "      <td>0.10</td>\n",
       "      <td>11</td>\n",
       "      <td>[Human]</td>\n",
       "      <td>0.0</td>\n",
       "      <td>39.816667</td>\n",
       "      <td>-121.600000</td>\n",
       "      <td>1.293568</td>\n",
       "      <td>0.0</td>\n",
       "    </tr>\n",
       "    <tr>\n",
       "      <th>3</th>\n",
       "      <td>-123.163889</td>\n",
       "      <td>39.678056</td>\n",
       "      <td>2005-10-28</td>\n",
       "      <td>2005-10-28</td>\n",
       "      <td>0.10</td>\n",
       "      <td>0.10</td>\n",
       "      <td>11</td>\n",
       "      <td>[Human]</td>\n",
       "      <td>0.0</td>\n",
       "      <td>39.691667</td>\n",
       "      <td>-123.183333</td>\n",
       "      <td>2.250813</td>\n",
       "      <td>0.0</td>\n",
       "    </tr>\n",
       "    <tr>\n",
       "      <th>4</th>\n",
       "      <td>-120.710000</td>\n",
       "      <td>38.293056</td>\n",
       "      <td>2007-05-17</td>\n",
       "      <td>2007-06-02</td>\n",
       "      <td>7.00</td>\n",
       "      <td>1.00</td>\n",
       "      <td>9</td>\n",
       "      <td>[Human]</td>\n",
       "      <td>6.0</td>\n",
       "      <td>38.275000</td>\n",
       "      <td>-120.725000</td>\n",
       "      <td>2.395657</td>\n",
       "      <td>NaN</td>\n",
       "    </tr>\n",
       "  </tbody>\n",
       "</table>\n",
       "</div>"
      ],
      "text/plain": [
       "    LONGITUDE   LATITUDE DISCOVERY_DATE  CONT_DATE  max_FIRE_SIZE  \\\n",
       "0 -123.943617  40.476117     2015-10-28 2015-10-28           0.01   \n",
       "1 -120.850714  38.641597     2006-07-16 2006-07-17          13.80   \n",
       "2 -121.607969  39.806769     2003-11-28 2003-11-28           0.10   \n",
       "3 -123.163889  39.678056     2005-10-28 2005-10-28           0.10   \n",
       "4 -120.710000  38.293056     2007-05-17 2007-06-02           7.00   \n",
       "\n",
       "   min_FIRE_SIZE  FOD_ID_cnt NWCG_CAUSE_CLASSIFICATION  diff_FIRE_SIZE  \\\n",
       "0           0.01          18                   [Human]             0.0   \n",
       "1           0.10          14                   [Human]            13.7   \n",
       "2           0.10          11                   [Human]             0.0   \n",
       "3           0.10          11                   [Human]             0.0   \n",
       "4           1.00           9                   [Human]             6.0   \n",
       "\n",
       "   NEAREST_LAT  NEAREST_LON  DISTANCE_KM  fire_days  \n",
       "0    40.483333  -123.933333     1.184269        0.0  \n",
       "1    38.650000  -120.850000     0.934875        1.0  \n",
       "2    39.816667  -121.600000     1.293568        0.0  \n",
       "3    39.691667  -123.183333     2.250813        0.0  \n",
       "4    38.275000  -120.725000     2.395657        NaN  "
      ]
     },
     "execution_count": 17,
     "metadata": {},
     "output_type": "execute_result"
    }
   ],
   "source": [
    "fire_data.head()"
   ]
  },
  {
   "cell_type": "code",
   "execution_count": 19,
   "metadata": {},
   "outputs": [
    {
     "data": {
      "text/plain": [
       "LONGITUDE                        0\n",
       "LATITUDE                         0\n",
       "DISCOVERY_DATE                   0\n",
       "CONT_DATE                        0\n",
       "max_FIRE_SIZE                    0\n",
       "min_FIRE_SIZE                    0\n",
       "FOD_ID_cnt                       0\n",
       "NWCG_CAUSE_CLASSIFICATION        0\n",
       "diff_FIRE_SIZE                   0\n",
       "NEAREST_LAT                      0\n",
       "NEAREST_LON                      0\n",
       "DISTANCE_KM                      0\n",
       "fire_days                    75735\n",
       "dtype: int64"
      ]
     },
     "execution_count": 19,
     "metadata": {},
     "output_type": "execute_result"
    }
   ],
   "source": [
    "# check if there is any missing value\n",
    "fire_data.isnull().sum()"
   ]
  },
  {
   "cell_type": "code",
   "execution_count": 139,
   "metadata": {},
   "outputs": [
    {
     "data": {
      "text/plain": [
       "NWCG_CAUSE_CLASSIFICATION\n",
       "['Human']                                                118638\n",
       "['Missing data/not specified/undetermined']               37841\n",
       "['Natural']                                               18668\n",
       "['Human' 'Missing data/not specified/undetermined']          95\n",
       "['Human' 'Natural']                                          14\n",
       "['Missing data/not specified/undetermined' 'Natural']         1\n",
       "Name: count, dtype: int64"
      ]
     },
     "execution_count": 139,
     "metadata": {},
     "output_type": "execute_result"
    }
   ],
   "source": [
    "fire_data['NWCG_CAUSE_CLASSIFICATION'].value_counts()"
   ]
  },
  {
   "cell_type": "code",
   "execution_count": null,
   "metadata": {},
   "outputs": [
    {
     "data": {
      "text/plain": [
       "4066"
      ]
     },
     "execution_count": 107,
     "metadata": {},
     "output_type": "execute_result"
    }
   ],
   "source": [
    "columns_to_show = ['NEAREST_LON','NEAREST_LAT','DISCOVERY_DATE','CONT_DATE','NWCG_CAUSE_CLASSIFICATION']\n",
    "fire_data[columns_to_show].duplicated().sum()"
   ]
  },
  {
   "cell_type": "code",
   "execution_count": 82,
   "metadata": {},
   "outputs": [
    {
     "data": {
      "text/plain": [
       "4702"
      ]
     },
     "execution_count": 82,
     "metadata": {},
     "output_type": "execute_result"
    }
   ],
   "source": [
    "columns_to_show = ['NEAREST_LON','NEAREST_LAT','DISCOVERY_DATE','CONT_DATE']\n",
    "fire_data[columns_to_show].duplicated().sum()"
   ]
  },
  {
   "cell_type": "markdown",
   "metadata": {},
   "source": [
    "this means some fire events which happen to be in the same dates and are pretty close so being matched to the same weather grid."
   ]
  },
  {
   "cell_type": "code",
   "execution_count": 140,
   "metadata": {},
   "outputs": [],
   "source": [
    "# Function to join unique values\n",
    "def join_unique(values):\n",
    "    unique_values = set(values)\n",
    "    return ', '.join(unique_values)"
   ]
  },
  {
   "cell_type": "code",
   "execution_count": 141,
   "metadata": {},
   "outputs": [
    {
     "name": "stdout",
     "output_type": "stream",
     "text": [
      "before deduplication, the shape of fire data is (175257, 13)\n",
      "after deduplication, the shape of fire data is (170555, 5)\n"
     ]
    }
   ],
   "source": [
    "print(f\"before deduplication, the shape of fire data is {fire_data.shape}\")\n",
    "column_to_group = ['NEAREST_LON','NEAREST_LAT','DISCOVERY_DATE','CONT_DATE']\n",
    "# group by columns_to_group, paste NWCG_CAUSE_CLASSIFICATION together\n",
    "fire_data = fire_data.groupby(column_to_group)['NWCG_CAUSE_CLASSIFICATION'].apply(join_unique).reset_index()\n",
    "print(f\"after deduplication, the shape of fire data is {fire_data.shape}\")"
   ]
  },
  {
   "cell_type": "code",
   "execution_count": 142,
   "metadata": {},
   "outputs": [],
   "source": [
    "fire_data['NWCG_CAUSE_CLASSIFICATION'] = fire_data['NWCG_CAUSE_CLASSIFICATION'].str.replace('[', '').str.replace(']', '')"
   ]
  },
  {
   "cell_type": "code",
   "execution_count": 143,
   "metadata": {},
   "outputs": [],
   "source": [
    "# Function to add commas between single-quoted strings if they are missing and deduplicate\n",
    "def format_and_deduplicate(text):\n",
    "    # Add commas between single-quoted strings if they are missing\n",
    "    text = re.sub(r\"(?<=')\\s+(?=')\", \", \", text)\n",
    "    # Split the string into individual components\n",
    "    components = re.findall(r\"'[^']+'\", text)\n",
    "    # Remove duplicates by converting the list to a set, then back to a list\n",
    "    unique_components = list(set(components))\n",
    "    # Join the components back into a single string with proper formatting\n",
    "    return ', '.join(unique_components)\n",
    "\n",
    "# Apply the function to the NWCG_CAUSE_CLASSIFICATION column\n",
    "fire_data['NWCG_CAUSE_CLASSIFICATION'] = fire_data['NWCG_CAUSE_CLASSIFICATION'].apply(format_and_deduplicate)"
   ]
  },
  {
   "cell_type": "code",
   "execution_count": 144,
   "metadata": {},
   "outputs": [
    {
     "data": {
      "text/plain": [
       "NWCG_CAUSE_CLASSIFICATION\n",
       "'Human'                                                 115416\n",
       "'Missing data/not specified/undetermined'                36699\n",
       "'Natural'                                                17703\n",
       "'Missing data/not specified/undetermined', 'Human'         653\n",
       "'Natural', 'Human'                                          79\n",
       "'Missing data/not specified/undetermined', 'Natural'         5\n",
       "Name: count, dtype: int64"
      ]
     },
     "execution_count": 144,
     "metadata": {},
     "output_type": "execute_result"
    }
   ],
   "source": [
    "fire_data['NWCG_CAUSE_CLASSIFICATION'].value_counts()"
   ]
  },
  {
   "cell_type": "code",
   "execution_count": 145,
   "metadata": {},
   "outputs": [
    {
     "data": {
      "text/html": [
       "<div>\n",
       "<style scoped>\n",
       "    .dataframe tbody tr th:only-of-type {\n",
       "        vertical-align: middle;\n",
       "    }\n",
       "\n",
       "    .dataframe tbody tr th {\n",
       "        vertical-align: top;\n",
       "    }\n",
       "\n",
       "    .dataframe thead th {\n",
       "        text-align: right;\n",
       "    }\n",
       "</style>\n",
       "<table border=\"1\" class=\"dataframe\">\n",
       "  <thead>\n",
       "    <tr style=\"text-align: right;\">\n",
       "      <th></th>\n",
       "      <th>NEAREST_LON</th>\n",
       "      <th>NEAREST_LAT</th>\n",
       "      <th>DISCOVERY_DATE</th>\n",
       "      <th>CONT_DATE</th>\n",
       "      <th>NWCG_CAUSE_CLASSIFICATION</th>\n",
       "    </tr>\n",
       "  </thead>\n",
       "  <tbody>\n",
       "    <tr>\n",
       "      <th>0</th>\n",
       "      <td>-124.391667</td>\n",
       "      <td>40.400000</td>\n",
       "      <td>2007-07-14</td>\n",
       "      <td>2007-07-14</td>\n",
       "      <td>'Human'</td>\n",
       "    </tr>\n",
       "    <tr>\n",
       "      <th>1</th>\n",
       "      <td>-124.391667</td>\n",
       "      <td>40.441667</td>\n",
       "      <td>2001-07-17</td>\n",
       "      <td>2001-07-17</td>\n",
       "      <td>'Human'</td>\n",
       "    </tr>\n",
       "    <tr>\n",
       "      <th>2</th>\n",
       "      <td>-124.391667</td>\n",
       "      <td>40.441667</td>\n",
       "      <td>2005-09-24</td>\n",
       "      <td>2005-09-24</td>\n",
       "      <td>'Human'</td>\n",
       "    </tr>\n",
       "    <tr>\n",
       "      <th>3</th>\n",
       "      <td>-124.391667</td>\n",
       "      <td>40.441667</td>\n",
       "      <td>2012-10-20</td>\n",
       "      <td>2012-11-05</td>\n",
       "      <td>'Human'</td>\n",
       "    </tr>\n",
       "    <tr>\n",
       "      <th>4</th>\n",
       "      <td>-124.391667</td>\n",
       "      <td>40.441667</td>\n",
       "      <td>2014-07-30</td>\n",
       "      <td>2014-07-30</td>\n",
       "      <td>'Human'</td>\n",
       "    </tr>\n",
       "  </tbody>\n",
       "</table>\n",
       "</div>"
      ],
      "text/plain": [
       "   NEAREST_LON  NEAREST_LAT DISCOVERY_DATE  CONT_DATE  \\\n",
       "0  -124.391667    40.400000     2007-07-14 2007-07-14   \n",
       "1  -124.391667    40.441667     2001-07-17 2001-07-17   \n",
       "2  -124.391667    40.441667     2005-09-24 2005-09-24   \n",
       "3  -124.391667    40.441667     2012-10-20 2012-11-05   \n",
       "4  -124.391667    40.441667     2014-07-30 2014-07-30   \n",
       "\n",
       "  NWCG_CAUSE_CLASSIFICATION  \n",
       "0                   'Human'  \n",
       "1                   'Human'  \n",
       "2                   'Human'  \n",
       "3                   'Human'  \n",
       "4                   'Human'  "
      ]
     },
     "execution_count": 145,
     "metadata": {},
     "output_type": "execute_result"
    }
   ],
   "source": [
    "fire_data.head()"
   ]
  },
  {
   "cell_type": "code",
   "execution_count": 146,
   "metadata": {},
   "outputs": [
    {
     "data": {
      "text/plain": [
       "0"
      ]
     },
     "execution_count": 146,
     "metadata": {},
     "output_type": "execute_result"
    }
   ],
   "source": [
    "# check if there is rows that have CONT_DATE < DISCOVERY_DATE\n",
    "(fire_data['CONT_DATE'] < fire_data['DISCOVERY_DATE']).sum()"
   ]
  },
  {
   "cell_type": "markdown",
   "metadata": {},
   "source": [
    "For each location, for days\n",
    "- alarm date -4, alarm date -1: remove\n",
    "- alarm date: label 1\n",
    "- alarm date - cont date: remove"
   ]
  },
  {
   "cell_type": "code",
   "execution_count": 147,
   "metadata": {},
   "outputs": [],
   "source": [
    "fire_data = fire_data.rename(columns={'NEAREST_LON': 'lon', 'NEAREST_LAT': 'lat'})"
   ]
  },
  {
   "cell_type": "code",
   "execution_count": 148,
   "metadata": {},
   "outputs": [
    {
     "data": {
      "text/plain": [
       "0"
      ]
     },
     "execution_count": 148,
     "metadata": {},
     "output_type": "execute_result"
    }
   ],
   "source": [
    "# check if there is any duplicate\n",
    "fire_data.duplicated().sum()"
   ]
  },
  {
   "cell_type": "code",
   "execution_count": 151,
   "metadata": {},
   "outputs": [
    {
     "data": {
      "text/plain": [
       "lon                                 float64\n",
       "lat                                 float64\n",
       "DISCOVERY_DATE               datetime64[ns]\n",
       "CONT_DATE                    datetime64[ns]\n",
       "NWCG_CAUSE_CLASSIFICATION            object\n",
       "dtype: object"
      ]
     },
     "execution_count": 151,
     "metadata": {},
     "output_type": "execute_result"
    }
   ],
   "source": [
    "fire_data.dtypes"
   ]
  },
  {
   "cell_type": "code",
   "execution_count": 165,
   "metadata": {},
   "outputs": [
    {
     "data": {
      "text/plain": [
       "(170555, 5)"
      ]
     },
     "execution_count": 165,
     "metadata": {},
     "output_type": "execute_result"
    }
   ],
   "source": [
    "fire_data.shape"
   ]
  },
  {
   "cell_type": "code",
   "execution_count": 189,
   "metadata": {},
   "outputs": [],
   "source": [
    "# Function to join unique values with proper comma separation\n",
    "def join_unique(values):\n",
    "    unique_values = set(values)\n",
    "    joined_string = ', '.join(unique_values)\n",
    "    # Split the string into individual components\n",
    "    components = re.findall(r\"'[^']+'\", joined_string)\n",
    "    unique_components = list(set(components))\n",
    "    # order the unique components\n",
    "    unique_components.sort()\n",
    "    return ', '.join(unique_components)\n",
    "\n",
    "# Group by the specified columns and aggregate\n",
    "fire_cause_summary = fire_data.groupby(['lon', 'lat', 'DISCOVERY_DATE']).agg(\n",
    "    NWCG_CAUSE_CLASSIFICATION=('NWCG_CAUSE_CLASSIFICATION', join_unique)\n",
    ").reset_index()"
   ]
  },
  {
   "cell_type": "code",
   "execution_count": 190,
   "metadata": {},
   "outputs": [],
   "source": [
    "# rename DISCOVERY_DATE to date\n",
    "fire_cause_summary = fire_cause_summary.rename(columns={'DISCOVERY_DATE': 'day'})"
   ]
  },
  {
   "cell_type": "code",
   "execution_count": 191,
   "metadata": {},
   "outputs": [
    {
     "data": {
      "text/plain": [
       "NWCG_CAUSE_CLASSIFICATION\n",
       "'Human'                                                 114593\n",
       "'Missing data/not specified/undetermined'                36453\n",
       "'Natural'                                                17129\n",
       "'Human', 'Missing data/not specified/undetermined'         844\n",
       "'Human', 'Natural'                                         126\n",
       "'Missing data/not specified/undetermined', 'Natural'         6\n",
       "Name: count, dtype: int64"
      ]
     },
     "execution_count": 191,
     "metadata": {},
     "output_type": "execute_result"
    }
   ],
   "source": [
    "fire_cause_summary['NWCG_CAUSE_CLASSIFICATION'].value_counts()"
   ]
  },
  {
   "cell_type": "code",
   "execution_count": 176,
   "metadata": {},
   "outputs": [
    {
     "data": {
      "text/plain": [
       "(169151, 4)"
      ]
     },
     "execution_count": 176,
     "metadata": {},
     "output_type": "execute_result"
    }
   ],
   "source": [
    "fire_cause_summary.shape"
   ]
  },
  {
   "cell_type": "code",
   "execution_count": 164,
   "metadata": {},
   "outputs": [],
   "source": [
    "# Function to expand each row\n",
    "def expand_dates(row):\n",
    "    start_date = row['DISCOVERY_DATE'] - pd.Timedelta(days=4)\n",
    "    end_date = row['CONT_DATE']\n",
    "    date_range = pd.date_range(start=start_date, end=end_date)\n",
    "    return pd.DataFrame({\n",
    "        'lon': row['lon'],\n",
    "        'lat': row['lat'],\n",
    "        'DATE': date_range,\n",
    "        'IS_DISCOVERY_DATE': date_range == row['DISCOVERY_DATE']\n",
    "    })\n",
    "\n",
    "# Apply the function to each row and concatenate the results\n",
    "expanded_fire_data = pd.concat(fire_data.apply(expand_dates, axis=1).to_list(), ignore_index=True)"
   ]
  },
  {
   "cell_type": "code",
   "execution_count": 177,
   "metadata": {},
   "outputs": [
    {
     "data": {
      "text/html": [
       "<div>\n",
       "<style scoped>\n",
       "    .dataframe tbody tr th:only-of-type {\n",
       "        vertical-align: middle;\n",
       "    }\n",
       "\n",
       "    .dataframe tbody tr th {\n",
       "        vertical-align: top;\n",
       "    }\n",
       "\n",
       "    .dataframe thead th {\n",
       "        text-align: right;\n",
       "    }\n",
       "</style>\n",
       "<table border=\"1\" class=\"dataframe\">\n",
       "  <thead>\n",
       "    <tr style=\"text-align: right;\">\n",
       "      <th></th>\n",
       "      <th>lon</th>\n",
       "      <th>lat</th>\n",
       "      <th>DATE</th>\n",
       "      <th>IS_DISCOVERY_DATE</th>\n",
       "    </tr>\n",
       "  </thead>\n",
       "  <tbody>\n",
       "    <tr>\n",
       "      <th>0</th>\n",
       "      <td>-124.391667</td>\n",
       "      <td>40.400000</td>\n",
       "      <td>2007-07-10</td>\n",
       "      <td>False</td>\n",
       "    </tr>\n",
       "    <tr>\n",
       "      <th>1</th>\n",
       "      <td>-124.391667</td>\n",
       "      <td>40.400000</td>\n",
       "      <td>2007-07-11</td>\n",
       "      <td>False</td>\n",
       "    </tr>\n",
       "    <tr>\n",
       "      <th>2</th>\n",
       "      <td>-124.391667</td>\n",
       "      <td>40.400000</td>\n",
       "      <td>2007-07-12</td>\n",
       "      <td>False</td>\n",
       "    </tr>\n",
       "    <tr>\n",
       "      <th>3</th>\n",
       "      <td>-124.391667</td>\n",
       "      <td>40.400000</td>\n",
       "      <td>2007-07-13</td>\n",
       "      <td>False</td>\n",
       "    </tr>\n",
       "    <tr>\n",
       "      <th>4</th>\n",
       "      <td>-124.391667</td>\n",
       "      <td>40.400000</td>\n",
       "      <td>2007-07-14</td>\n",
       "      <td>True</td>\n",
       "    </tr>\n",
       "    <tr>\n",
       "      <th>5</th>\n",
       "      <td>-124.391667</td>\n",
       "      <td>40.441667</td>\n",
       "      <td>2001-07-13</td>\n",
       "      <td>False</td>\n",
       "    </tr>\n",
       "  </tbody>\n",
       "</table>\n",
       "</div>"
      ],
      "text/plain": [
       "          lon        lat       DATE  IS_DISCOVERY_DATE\n",
       "0 -124.391667  40.400000 2007-07-10              False\n",
       "1 -124.391667  40.400000 2007-07-11              False\n",
       "2 -124.391667  40.400000 2007-07-12              False\n",
       "3 -124.391667  40.400000 2007-07-13              False\n",
       "4 -124.391667  40.400000 2007-07-14               True\n",
       "5 -124.391667  40.441667 2001-07-13              False"
      ]
     },
     "execution_count": 177,
     "metadata": {},
     "output_type": "execute_result"
    }
   ],
   "source": [
    "# check row 1: row 6\n",
    "expanded_fire_data.iloc[0:6]"
   ]
  },
  {
   "cell_type": "code",
   "execution_count": 178,
   "metadata": {},
   "outputs": [
    {
     "data": {
      "text/plain": [
       "(2112512, 4)"
      ]
     },
     "execution_count": 178,
     "metadata": {},
     "output_type": "execute_result"
    }
   ],
   "source": [
    "expanded_fire_data.shape"
   ]
  },
  {
   "cell_type": "code",
   "execution_count": 179,
   "metadata": {},
   "outputs": [],
   "source": [
    "# Group by the specified columns and aggregate\n",
    "expanded_fire_data = expanded_fire_data.groupby(['lon', 'lat', 'DATE']).agg(\n",
    "    IS_DISCOVERY_DATE=('IS_DISCOVERY_DATE', 'any')\n",
    ").reset_index()"
   ]
  },
  {
   "cell_type": "code",
   "execution_count": 180,
   "metadata": {},
   "outputs": [
    {
     "data": {
      "text/plain": [
       "lon                  0\n",
       "lat                  0\n",
       "DATE                 0\n",
       "IS_DISCOVERY_DATE    0\n",
       "dtype: int64"
      ]
     },
     "execution_count": 180,
     "metadata": {},
     "output_type": "execute_result"
    }
   ],
   "source": [
    "# check if there is any missing value\n",
    "expanded_fire_data.isnull().sum()"
   ]
  },
  {
   "cell_type": "code",
   "execution_count": 181,
   "metadata": {},
   "outputs": [
    {
     "data": {
      "text/plain": [
       "(1829209, 4)"
      ]
     },
     "execution_count": 181,
     "metadata": {},
     "output_type": "execute_result"
    }
   ],
   "source": [
    "expanded_fire_data.shape"
   ]
  },
  {
   "cell_type": "code",
   "execution_count": 182,
   "metadata": {},
   "outputs": [
    {
     "data": {
      "text/plain": [
       "0"
      ]
     },
     "execution_count": 182,
     "metadata": {},
     "output_type": "execute_result"
    }
   ],
   "source": [
    "# check if there is any duplicate  \n",
    "expanded_fire_data.duplicated().sum()"
   ]
  },
  {
   "cell_type": "code",
   "execution_count": 194,
   "metadata": {},
   "outputs": [],
   "source": [
    "expanded_fire_data = expanded_fire_data.rename(columns={'DATE': 'day'})"
   ]
  },
  {
   "cell_type": "code",
   "execution_count": 195,
   "metadata": {},
   "outputs": [
    {
     "data": {
      "text/plain": [
       "IS_DISCOVERY_DATE\n",
       "False    1660058\n",
       "True      169151\n",
       "Name: count, dtype: int64"
      ]
     },
     "execution_count": 195,
     "metadata": {},
     "output_type": "execute_result"
    }
   ],
   "source": [
    "# freq table of IS_ALARM_DATE\n",
    "expanded_fire_data['IS_DISCOVERY_DATE'].value_counts()"
   ]
  },
  {
   "cell_type": "code",
   "execution_count": 196,
   "metadata": {},
   "outputs": [],
   "source": [
    "# merge fire_cause_summary and expanded_fire_data\n",
    "expanded_fire_data = expanded_fire_data.merge(fire_cause_summary, on=['lon', 'lat', 'day'], how='left')"
   ]
  },
  {
   "cell_type": "code",
   "execution_count": 198,
   "metadata": {},
   "outputs": [
    {
     "data": {
      "text/html": [
       "<div>\n",
       "<style scoped>\n",
       "    .dataframe tbody tr th:only-of-type {\n",
       "        vertical-align: middle;\n",
       "    }\n",
       "\n",
       "    .dataframe tbody tr th {\n",
       "        vertical-align: top;\n",
       "    }\n",
       "\n",
       "    .dataframe thead th {\n",
       "        text-align: right;\n",
       "    }\n",
       "</style>\n",
       "<table border=\"1\" class=\"dataframe\">\n",
       "  <thead>\n",
       "    <tr style=\"text-align: right;\">\n",
       "      <th></th>\n",
       "      <th>lon</th>\n",
       "      <th>lat</th>\n",
       "      <th>day</th>\n",
       "      <th>IS_DISCOVERY_DATE</th>\n",
       "      <th>NWCG_CAUSE_CLASSIFICATION</th>\n",
       "    </tr>\n",
       "  </thead>\n",
       "  <tbody>\n",
       "    <tr>\n",
       "      <th>0</th>\n",
       "      <td>-124.391667</td>\n",
       "      <td>40.4</td>\n",
       "      <td>2007-07-10</td>\n",
       "      <td>False</td>\n",
       "      <td>NaN</td>\n",
       "    </tr>\n",
       "    <tr>\n",
       "      <th>1</th>\n",
       "      <td>-124.391667</td>\n",
       "      <td>40.4</td>\n",
       "      <td>2007-07-11</td>\n",
       "      <td>False</td>\n",
       "      <td>NaN</td>\n",
       "    </tr>\n",
       "    <tr>\n",
       "      <th>2</th>\n",
       "      <td>-124.391667</td>\n",
       "      <td>40.4</td>\n",
       "      <td>2007-07-12</td>\n",
       "      <td>False</td>\n",
       "      <td>NaN</td>\n",
       "    </tr>\n",
       "    <tr>\n",
       "      <th>3</th>\n",
       "      <td>-124.391667</td>\n",
       "      <td>40.4</td>\n",
       "      <td>2007-07-13</td>\n",
       "      <td>False</td>\n",
       "      <td>NaN</td>\n",
       "    </tr>\n",
       "    <tr>\n",
       "      <th>4</th>\n",
       "      <td>-124.391667</td>\n",
       "      <td>40.4</td>\n",
       "      <td>2007-07-14</td>\n",
       "      <td>True</td>\n",
       "      <td>'Human'</td>\n",
       "    </tr>\n",
       "  </tbody>\n",
       "</table>\n",
       "</div>"
      ],
      "text/plain": [
       "          lon   lat        day  IS_DISCOVERY_DATE NWCG_CAUSE_CLASSIFICATION\n",
       "0 -124.391667  40.4 2007-07-10              False                       NaN\n",
       "1 -124.391667  40.4 2007-07-11              False                       NaN\n",
       "2 -124.391667  40.4 2007-07-12              False                       NaN\n",
       "3 -124.391667  40.4 2007-07-13              False                       NaN\n",
       "4 -124.391667  40.4 2007-07-14               True                   'Human'"
      ]
     },
     "execution_count": 198,
     "metadata": {},
     "output_type": "execute_result"
    }
   ],
   "source": [
    "expanded_fire_data.head()"
   ]
  },
  {
   "cell_type": "code",
   "execution_count": 199,
   "metadata": {},
   "outputs": [
    {
     "name": "stdout",
     "output_type": "stream",
     "text": [
      "weather_data has 147252000 rows before merging\n",
      "weather_data has 147252000 rows after merging\n"
     ]
    }
   ],
   "source": [
    "# left join weather_data with expanded_fire_data_part3_normal (lon, lat, DATE)\n",
    "# print the # of rows in weather_data before removing (in sentence)\n",
    "print(f'weather_data has {weather_data.shape[0]} rows before merging')\n",
    "# merge expanded_fire_data_part3_normal with weather_data\n",
    "weather_data = weather_data.merge(expanded_fire_data, on=['lon', 'lat', 'day'], how='left')\n",
    "# print the # of rows in weather_data after merging (in sentence)\n",
    "print(f'weather_data has {weather_data.shape[0]} rows after merging')"
   ]
  },
  {
   "cell_type": "code",
   "execution_count": 200,
   "metadata": {},
   "outputs": [
    {
     "name": "stdout",
     "output_type": "stream",
     "text": [
      "weather_data has 147252000 rows before removing IS_DISCOVERY_DATE is False\n",
      "weather_data has 145766023 rows after removing IS_DISCOVERY_DATE is False\n"
     ]
    }
   ],
   "source": [
    "# remove rows when IS_DISCOVERY_DATE is False\n",
    "# print the # of rows in weather_data before removing (in sentence)\n",
    "print(f'weather_data has {weather_data.shape[0]} rows before removing IS_DISCOVERY_DATE is False')\n",
    "# only keep rows when IS_DISCOVERY_DATE is True or NA\n",
    "weather_data = weather_data[weather_data['IS_DISCOVERY_DATE'].isna() | weather_data['IS_DISCOVERY_DATE']]\n",
    "# print the # of rows in weather_data after removing (in sentence)\n",
    "print(f'weather_data has {weather_data.shape[0]} rows after removing IS_DISCOVERY_DATE is False')"
   ]
  },
  {
   "cell_type": "code",
   "execution_count": 201,
   "metadata": {},
   "outputs": [
    {
     "data": {
      "text/plain": [
       "IS_DISCOVERY_DATE\n",
       "True    151834\n",
       "Name: count, dtype: int64"
      ]
     },
     "execution_count": 201,
     "metadata": {},
     "output_type": "execute_result"
    }
   ],
   "source": [
    "# check IS_ALARM_DATE freq table\n",
    "weather_data['IS_DISCOVERY_DATE'].value_counts()"
   ]
  },
  {
   "cell_type": "code",
   "execution_count": 202,
   "metadata": {},
   "outputs": [],
   "source": [
    "# if IS_ALARM_DATE is NA, fill it with 0, else fill it with 1\n",
    "weather_data['IS_DISCOVERY_DATE'] = weather_data['IS_DISCOVERY_DATE'].fillna(0).astype(int)"
   ]
  },
  {
   "cell_type": "code",
   "execution_count": 203,
   "metadata": {},
   "outputs": [],
   "source": [
    "# rename IS_ALARM_DATE to IS_FIRE\n",
    "weather_data = weather_data.rename(columns={'IS_DISCOVERY_DATE': 'IS_FIRE'})"
   ]
  },
  {
   "cell_type": "code",
   "execution_count": 204,
   "metadata": {},
   "outputs": [
    {
     "data": {
      "text/plain": [
       "(145766023, 5)"
      ]
     },
     "execution_count": 204,
     "metadata": {},
     "output_type": "execute_result"
    }
   ],
   "source": [
    "weather_data.shape"
   ]
  },
  {
   "cell_type": "code",
   "execution_count": 205,
   "metadata": {},
   "outputs": [],
   "source": [
    "weather_data = weather_data[weather_data['day'] <= '2020-12-31']"
   ]
  },
  {
   "cell_type": "code",
   "execution_count": 206,
   "metadata": {},
   "outputs": [
    {
     "data": {
      "text/plain": [
       "(126571680, 5)"
      ]
     },
     "execution_count": 206,
     "metadata": {},
     "output_type": "execute_result"
    }
   ],
   "source": [
    "weather_data.shape"
   ]
  },
  {
   "cell_type": "code",
   "execution_count": 207,
   "metadata": {},
   "outputs": [
    {
     "data": {
      "text/html": [
       "<div>\n",
       "<style scoped>\n",
       "    .dataframe tbody tr th:only-of-type {\n",
       "        vertical-align: middle;\n",
       "    }\n",
       "\n",
       "    .dataframe tbody tr th {\n",
       "        vertical-align: top;\n",
       "    }\n",
       "\n",
       "    .dataframe thead th {\n",
       "        text-align: right;\n",
       "    }\n",
       "</style>\n",
       "<table border=\"1\" class=\"dataframe\">\n",
       "  <thead>\n",
       "    <tr style=\"text-align: right;\">\n",
       "      <th></th>\n",
       "      <th>lon</th>\n",
       "      <th>lat</th>\n",
       "      <th>day</th>\n",
       "      <th>IS_FIRE</th>\n",
       "      <th>NWCG_CAUSE_CLASSIFICATION</th>\n",
       "    </tr>\n",
       "  </thead>\n",
       "  <tbody>\n",
       "    <tr>\n",
       "      <th>0</th>\n",
       "      <td>-124.391667</td>\n",
       "      <td>40.441667</td>\n",
       "      <td>2001-01-01</td>\n",
       "      <td>0</td>\n",
       "      <td>NaN</td>\n",
       "    </tr>\n",
       "    <tr>\n",
       "      <th>1</th>\n",
       "      <td>-124.391667</td>\n",
       "      <td>40.441667</td>\n",
       "      <td>2001-01-02</td>\n",
       "      <td>0</td>\n",
       "      <td>NaN</td>\n",
       "    </tr>\n",
       "    <tr>\n",
       "      <th>2</th>\n",
       "      <td>-124.391667</td>\n",
       "      <td>40.441667</td>\n",
       "      <td>2001-01-03</td>\n",
       "      <td>0</td>\n",
       "      <td>NaN</td>\n",
       "    </tr>\n",
       "    <tr>\n",
       "      <th>3</th>\n",
       "      <td>-124.391667</td>\n",
       "      <td>40.441667</td>\n",
       "      <td>2001-01-04</td>\n",
       "      <td>0</td>\n",
       "      <td>NaN</td>\n",
       "    </tr>\n",
       "    <tr>\n",
       "      <th>4</th>\n",
       "      <td>-124.391667</td>\n",
       "      <td>40.441667</td>\n",
       "      <td>2001-01-05</td>\n",
       "      <td>0</td>\n",
       "      <td>NaN</td>\n",
       "    </tr>\n",
       "    <tr>\n",
       "      <th>...</th>\n",
       "      <td>...</td>\n",
       "      <td>...</td>\n",
       "      <td>...</td>\n",
       "      <td>...</td>\n",
       "      <td>...</td>\n",
       "    </tr>\n",
       "    <tr>\n",
       "      <th>147250900</th>\n",
       "      <td>-115.933333</td>\n",
       "      <td>32.650000</td>\n",
       "      <td>2020-12-27</td>\n",
       "      <td>0</td>\n",
       "      <td>NaN</td>\n",
       "    </tr>\n",
       "    <tr>\n",
       "      <th>147250901</th>\n",
       "      <td>-115.933333</td>\n",
       "      <td>32.650000</td>\n",
       "      <td>2020-12-28</td>\n",
       "      <td>0</td>\n",
       "      <td>NaN</td>\n",
       "    </tr>\n",
       "    <tr>\n",
       "      <th>147250902</th>\n",
       "      <td>-115.933333</td>\n",
       "      <td>32.650000</td>\n",
       "      <td>2020-12-29</td>\n",
       "      <td>0</td>\n",
       "      <td>NaN</td>\n",
       "    </tr>\n",
       "    <tr>\n",
       "      <th>147250903</th>\n",
       "      <td>-115.933333</td>\n",
       "      <td>32.650000</td>\n",
       "      <td>2020-12-30</td>\n",
       "      <td>0</td>\n",
       "      <td>NaN</td>\n",
       "    </tr>\n",
       "    <tr>\n",
       "      <th>147250904</th>\n",
       "      <td>-115.933333</td>\n",
       "      <td>32.650000</td>\n",
       "      <td>2020-12-31</td>\n",
       "      <td>0</td>\n",
       "      <td>NaN</td>\n",
       "    </tr>\n",
       "  </tbody>\n",
       "</table>\n",
       "<p>126571680 rows × 5 columns</p>\n",
       "</div>"
      ],
      "text/plain": [
       "                  lon        lat        day  IS_FIRE NWCG_CAUSE_CLASSIFICATION\n",
       "0         -124.391667  40.441667 2001-01-01        0                       NaN\n",
       "1         -124.391667  40.441667 2001-01-02        0                       NaN\n",
       "2         -124.391667  40.441667 2001-01-03        0                       NaN\n",
       "3         -124.391667  40.441667 2001-01-04        0                       NaN\n",
       "4         -124.391667  40.441667 2001-01-05        0                       NaN\n",
       "...               ...        ...        ...      ...                       ...\n",
       "147250900 -115.933333  32.650000 2020-12-27        0                       NaN\n",
       "147250901 -115.933333  32.650000 2020-12-28        0                       NaN\n",
       "147250902 -115.933333  32.650000 2020-12-29        0                       NaN\n",
       "147250903 -115.933333  32.650000 2020-12-30        0                       NaN\n",
       "147250904 -115.933333  32.650000 2020-12-31        0                       NaN\n",
       "\n",
       "[126571680 rows x 5 columns]"
      ]
     },
     "execution_count": 207,
     "metadata": {},
     "output_type": "execute_result"
    }
   ],
   "source": [
    "weather_data"
   ]
  },
  {
   "cell_type": "code",
   "execution_count": 208,
   "metadata": {},
   "outputs": [
    {
     "data": {
      "text/plain": [
       "0.998800410960809"
      ]
     },
     "execution_count": 208,
     "metadata": {},
     "output_type": "execute_result"
    }
   ],
   "source": [
    "# check missing rate of NWCG_CAUSE_CLASSIFICATION\n",
    "weather_data['NWCG_CAUSE_CLASSIFICATION'].isnull().mean()"
   ]
  },
  {
   "cell_type": "code",
   "execution_count": 210,
   "metadata": {},
   "outputs": [
    {
     "data": {
      "text/plain": [
       "0.998800410960809"
      ]
     },
     "execution_count": 210,
     "metadata": {},
     "output_type": "execute_result"
    }
   ],
   "source": [
    "# check mean of IS_FIRE\n",
    "1-weather_data['IS_FIRE'].mean()"
   ]
  },
  {
   "cell_type": "code",
   "execution_count": 211,
   "metadata": {},
   "outputs": [],
   "source": [
    "# write weather_data\n",
    "weather_data.to_parquet('../Clean_Data/Fire_Data/calfire_fod_fpa_2001_2020_fire_label.parquet')"
   ]
  },
  {
   "cell_type": "markdown",
   "metadata": {},
   "source": [
    "## Add Fire Size to label"
   ]
  },
  {
   "cell_type": "code",
   "execution_count": 212,
   "metadata": {},
   "outputs": [],
   "source": [
    "# read fire_data\n",
    "fire_label = pd.read_parquet('../Clean_Data/Fire_Data/calfire_fod_fpa_2001_2020_fire_label.parquet')"
   ]
  },
  {
   "cell_type": "code",
   "execution_count": 213,
   "metadata": {},
   "outputs": [
    {
     "data": {
      "text/plain": [
       "IS_FIRE\n",
       "0    126419846\n",
       "1       151834\n",
       "Name: count, dtype: int64"
      ]
     },
     "execution_count": 213,
     "metadata": {},
     "output_type": "execute_result"
    }
   ],
   "source": [
    "fire_label['IS_FIRE'].value_counts()"
   ]
  },
  {
   "cell_type": "code",
   "execution_count": 214,
   "metadata": {},
   "outputs": [],
   "source": [
    "fire_data = pd.read_parquet('../Clean_Data/Fire_Data/calfire_fod_fpa_2001_2020_dedup_map_weather_grid.parquet')"
   ]
  },
  {
   "cell_type": "code",
   "execution_count": 215,
   "metadata": {},
   "outputs": [
    {
     "data": {
      "text/plain": [
       "(175257, 12)"
      ]
     },
     "execution_count": 215,
     "metadata": {},
     "output_type": "execute_result"
    }
   ],
   "source": [
    "fire_data.shape"
   ]
  },
  {
   "cell_type": "code",
   "execution_count": 216,
   "metadata": {},
   "outputs": [],
   "source": [
    "# group by ['NEAREST_LON','NEAREST_LAT','DISCOVERY_DATE','CONT_DATE'], and get min of column 'min_FIRE_SIZE', max of column 'max_FIRE_SIZE'\n",
    "fire_data = fire_data.groupby(['NEAREST_LON','NEAREST_LAT','DISCOVERY_DATE']).agg({'min_FIRE_SIZE': 'min', 'max_FIRE_SIZE': 'max'}).reset_index()"
   ]
  },
  {
   "cell_type": "code",
   "execution_count": 217,
   "metadata": {},
   "outputs": [],
   "source": [
    "# rename column to lon, lat, day\n",
    "fire_data = fire_data.rename(columns={'NEAREST_LON': 'lon', 'NEAREST_LAT': 'lat', 'DISCOVERY_DATE': 'day'})"
   ]
  },
  {
   "cell_type": "code",
   "execution_count": 218,
   "metadata": {},
   "outputs": [],
   "source": [
    "# assign datetime to day\n",
    "fire_data['day'] = pd.to_datetime(fire_data['day'])"
   ]
  },
  {
   "cell_type": "code",
   "execution_count": 219,
   "metadata": {},
   "outputs": [
    {
     "data": {
      "text/plain": [
       "(169151, 5)"
      ]
     },
     "execution_count": 219,
     "metadata": {},
     "output_type": "execute_result"
    }
   ],
   "source": [
    "fire_data.shape"
   ]
  },
  {
   "cell_type": "code",
   "execution_count": 61,
   "metadata": {},
   "outputs": [
    {
     "data": {
      "text/html": [
       "<div>\n",
       "<style scoped>\n",
       "    .dataframe tbody tr th:only-of-type {\n",
       "        vertical-align: middle;\n",
       "    }\n",
       "\n",
       "    .dataframe tbody tr th {\n",
       "        vertical-align: top;\n",
       "    }\n",
       "\n",
       "    .dataframe thead th {\n",
       "        text-align: right;\n",
       "    }\n",
       "</style>\n",
       "<table border=\"1\" class=\"dataframe\">\n",
       "  <thead>\n",
       "    <tr style=\"text-align: right;\">\n",
       "      <th></th>\n",
       "      <th>lon</th>\n",
       "      <th>lat</th>\n",
       "      <th>day</th>\n",
       "      <th>min_FIRE_SIZE</th>\n",
       "      <th>max_FIRE_SIZE</th>\n",
       "    </tr>\n",
       "  </thead>\n",
       "  <tbody>\n",
       "    <tr>\n",
       "      <th>0</th>\n",
       "      <td>-124.391667</td>\n",
       "      <td>40.400000</td>\n",
       "      <td>2007-07-14</td>\n",
       "      <td>0.1</td>\n",
       "      <td>0.1</td>\n",
       "    </tr>\n",
       "    <tr>\n",
       "      <th>1</th>\n",
       "      <td>-124.391667</td>\n",
       "      <td>40.441667</td>\n",
       "      <td>2012-10-20</td>\n",
       "      <td>0.1</td>\n",
       "      <td>0.1</td>\n",
       "    </tr>\n",
       "    <tr>\n",
       "      <th>2</th>\n",
       "      <td>-124.391667</td>\n",
       "      <td>40.441667</td>\n",
       "      <td>2001-07-17</td>\n",
       "      <td>0.1</td>\n",
       "      <td>0.1</td>\n",
       "    </tr>\n",
       "    <tr>\n",
       "      <th>3</th>\n",
       "      <td>-124.391667</td>\n",
       "      <td>40.441667</td>\n",
       "      <td>2014-07-30</td>\n",
       "      <td>100.0</td>\n",
       "      <td>100.0</td>\n",
       "    </tr>\n",
       "    <tr>\n",
       "      <th>4</th>\n",
       "      <td>-124.391667</td>\n",
       "      <td>40.441667</td>\n",
       "      <td>2005-09-24</td>\n",
       "      <td>0.1</td>\n",
       "      <td>0.1</td>\n",
       "    </tr>\n",
       "  </tbody>\n",
       "</table>\n",
       "</div>"
      ],
      "text/plain": [
       "          lon        lat        day  min_FIRE_SIZE  max_FIRE_SIZE\n",
       "0 -124.391667  40.400000 2007-07-14            0.1            0.1\n",
       "1 -124.391667  40.441667 2012-10-20            0.1            0.1\n",
       "2 -124.391667  40.441667 2001-07-17            0.1            0.1\n",
       "3 -124.391667  40.441667 2014-07-30          100.0          100.0\n",
       "4 -124.391667  40.441667 2005-09-24            0.1            0.1"
      ]
     },
     "execution_count": 61,
     "metadata": {},
     "output_type": "execute_result"
    }
   ],
   "source": [
    "fire_data.head()"
   ]
  },
  {
   "cell_type": "code",
   "execution_count": 220,
   "metadata": {},
   "outputs": [],
   "source": [
    "fire_label = fire_label.merge(fire_data, on=['lon', 'lat', 'day'], how='left')"
   ]
  },
  {
   "cell_type": "code",
   "execution_count": 63,
   "metadata": {},
   "outputs": [
    {
     "data": {
      "text/plain": [
       "(126571680, 6)"
      ]
     },
     "execution_count": 63,
     "metadata": {},
     "output_type": "execute_result"
    }
   ],
   "source": [
    "fire_label.shape"
   ]
  },
  {
   "cell_type": "code",
   "execution_count": 64,
   "metadata": {},
   "outputs": [
    {
     "data": {
      "text/html": [
       "<div>\n",
       "<style scoped>\n",
       "    .dataframe tbody tr th:only-of-type {\n",
       "        vertical-align: middle;\n",
       "    }\n",
       "\n",
       "    .dataframe tbody tr th {\n",
       "        vertical-align: top;\n",
       "    }\n",
       "\n",
       "    .dataframe thead th {\n",
       "        text-align: right;\n",
       "    }\n",
       "</style>\n",
       "<table border=\"1\" class=\"dataframe\">\n",
       "  <thead>\n",
       "    <tr style=\"text-align: right;\">\n",
       "      <th></th>\n",
       "      <th>lon</th>\n",
       "      <th>lat</th>\n",
       "      <th>day</th>\n",
       "      <th>IS_FIRE</th>\n",
       "      <th>min_FIRE_SIZE</th>\n",
       "      <th>max_FIRE_SIZE</th>\n",
       "    </tr>\n",
       "  </thead>\n",
       "  <tbody>\n",
       "    <tr>\n",
       "      <th>0</th>\n",
       "      <td>-124.391667</td>\n",
       "      <td>40.441667</td>\n",
       "      <td>2001-01-01</td>\n",
       "      <td>0</td>\n",
       "      <td>NaN</td>\n",
       "      <td>NaN</td>\n",
       "    </tr>\n",
       "    <tr>\n",
       "      <th>1</th>\n",
       "      <td>-124.391667</td>\n",
       "      <td>40.441667</td>\n",
       "      <td>2001-01-02</td>\n",
       "      <td>0</td>\n",
       "      <td>NaN</td>\n",
       "      <td>NaN</td>\n",
       "    </tr>\n",
       "    <tr>\n",
       "      <th>2</th>\n",
       "      <td>-124.391667</td>\n",
       "      <td>40.441667</td>\n",
       "      <td>2001-01-03</td>\n",
       "      <td>0</td>\n",
       "      <td>NaN</td>\n",
       "      <td>NaN</td>\n",
       "    </tr>\n",
       "    <tr>\n",
       "      <th>3</th>\n",
       "      <td>-124.391667</td>\n",
       "      <td>40.441667</td>\n",
       "      <td>2001-01-04</td>\n",
       "      <td>0</td>\n",
       "      <td>NaN</td>\n",
       "      <td>NaN</td>\n",
       "    </tr>\n",
       "    <tr>\n",
       "      <th>4</th>\n",
       "      <td>-124.391667</td>\n",
       "      <td>40.441667</td>\n",
       "      <td>2001-01-05</td>\n",
       "      <td>0</td>\n",
       "      <td>NaN</td>\n",
       "      <td>NaN</td>\n",
       "    </tr>\n",
       "  </tbody>\n",
       "</table>\n",
       "</div>"
      ],
      "text/plain": [
       "          lon        lat        day  IS_FIRE  min_FIRE_SIZE  max_FIRE_SIZE\n",
       "0 -124.391667  40.441667 2001-01-01        0            NaN            NaN\n",
       "1 -124.391667  40.441667 2001-01-02        0            NaN            NaN\n",
       "2 -124.391667  40.441667 2001-01-03        0            NaN            NaN\n",
       "3 -124.391667  40.441667 2001-01-04        0            NaN            NaN\n",
       "4 -124.391667  40.441667 2001-01-05        0            NaN            NaN"
      ]
     },
     "execution_count": 64,
     "metadata": {},
     "output_type": "execute_result"
    }
   ],
   "source": [
    "fire_label.head()"
   ]
  },
  {
   "cell_type": "code",
   "execution_count": 221,
   "metadata": {},
   "outputs": [],
   "source": [
    "# fill NA with 0 for column min_FIRE_SIZE and max_FIRE_SIZE\n",
    "fire_label['min_FIRE_SIZE'] = fire_label['min_FIRE_SIZE'].fillna(0)\n",
    "fire_label['max_FIRE_SIZE'] = fire_label['max_FIRE_SIZE'].fillna(0)"
   ]
  },
  {
   "cell_type": "code",
   "execution_count": 222,
   "metadata": {},
   "outputs": [
    {
     "data": {
      "text/html": [
       "<div>\n",
       "<style scoped>\n",
       "    .dataframe tbody tr th:only-of-type {\n",
       "        vertical-align: middle;\n",
       "    }\n",
       "\n",
       "    .dataframe tbody tr th {\n",
       "        vertical-align: top;\n",
       "    }\n",
       "\n",
       "    .dataframe thead th {\n",
       "        text-align: right;\n",
       "    }\n",
       "</style>\n",
       "<table border=\"1\" class=\"dataframe\">\n",
       "  <thead>\n",
       "    <tr style=\"text-align: right;\">\n",
       "      <th></th>\n",
       "      <th>min_FIRE_SIZE</th>\n",
       "      <th>max_FIRE_SIZE</th>\n",
       "    </tr>\n",
       "    <tr>\n",
       "      <th>IS_FIRE</th>\n",
       "      <th></th>\n",
       "      <th></th>\n",
       "    </tr>\n",
       "  </thead>\n",
       "  <tbody>\n",
       "    <tr>\n",
       "      <th>0</th>\n",
       "      <td>0.000000e+00</td>\n",
       "      <td>0.000000e+00</td>\n",
       "    </tr>\n",
       "    <tr>\n",
       "      <th>1</th>\n",
       "      <td>1.443410e+07</td>\n",
       "      <td>1.575404e+07</td>\n",
       "    </tr>\n",
       "  </tbody>\n",
       "</table>\n",
       "</div>"
      ],
      "text/plain": [
       "         min_FIRE_SIZE  max_FIRE_SIZE\n",
       "IS_FIRE                              \n",
       "0         0.000000e+00   0.000000e+00\n",
       "1         1.443410e+07   1.575404e+07"
      ]
     },
     "execution_count": 222,
     "metadata": {},
     "output_type": "execute_result"
    }
   ],
   "source": [
    "# check the sum of min_FIRE_SIZE and max_FIRE_SIZE grouped by IS_FIRE\n",
    "fire_label.groupby('IS_FIRE').agg({'min_FIRE_SIZE': 'sum', 'max_FIRE_SIZE': 'sum'})"
   ]
  },
  {
   "cell_type": "code",
   "execution_count": 223,
   "metadata": {},
   "outputs": [],
   "source": [
    "# write fire_label\n",
    "fire_label.to_parquet('../Clean_Data/Fire_Data/calfire_fod_fpa_2001_2020_fire_label_w_size.parquet')"
   ]
  },
  {
   "cell_type": "code",
   "execution_count": null,
   "metadata": {},
   "outputs": [],
   "source": []
  }
 ],
 "metadata": {
  "kernelspec": {
   "display_name": "py311",
   "language": "python",
   "name": "python3"
  },
  "language_info": {
   "codemirror_mode": {
    "name": "ipython",
    "version": 3
   },
   "file_extension": ".py",
   "mimetype": "text/x-python",
   "name": "python",
   "nbconvert_exporter": "python",
   "pygments_lexer": "ipython3",
   "version": "3.11.9"
  }
 },
 "nbformat": 4,
 "nbformat_minor": 2
}
