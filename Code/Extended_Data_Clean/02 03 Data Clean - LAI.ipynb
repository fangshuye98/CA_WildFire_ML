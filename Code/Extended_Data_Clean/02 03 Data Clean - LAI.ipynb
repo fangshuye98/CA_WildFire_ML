{
 "cells": [
  {
   "cell_type": "markdown",
   "metadata": {},
   "source": [
    "For LAI data \n",
    "- Merge and Save the raw data to parquet file\n",
    "  - source1: extended data\n",
    "  - source2: original data (../New_Data/glass.lai.2001.2021.CA.daily_interpolated.nc)\n",
    "- Join w veg data to reduce # of grids\n",
    "  - Exclude water, agricultural lands, and urban areas based on the vegetation type data."
   ]
  },
  {
   "cell_type": "code",
   "execution_count": 1,
   "metadata": {},
   "outputs": [],
   "source": [
    "# del all variables\n",
    "import sys\n",
    "for name in dir():\n",
    "    if not name.startswith('_'):\n",
    "        del globals()[name]"
   ]
  },
  {
   "cell_type": "code",
   "execution_count": 2,
   "metadata": {},
   "outputs": [
    {
     "data": {
      "text/plain": [
       "34"
      ]
     },
     "execution_count": 2,
     "metadata": {},
     "output_type": "execute_result"
    }
   ],
   "source": [
    "# Force garbage collection\n",
    "import gc\n",
    "gc.collect()"
   ]
  },
  {
   "cell_type": "code",
   "execution_count": 3,
   "metadata": {},
   "outputs": [],
   "source": [
    "import pandas as pd\n",
    "import geopandas as gpd\n",
    "import xarray as xr\n",
    "import pyproj\n",
    "from tqdm import tqdm\n",
    "import numpy as np\n",
    "import os\n",
    "import matplotlib.pyplot as plt\n",
    "import cartopy.crs as ccrs\n",
    "import cartopy.feature as cfeature\n",
    "from datetime import datetime"
   ]
  },
  {
   "cell_type": "code",
   "execution_count": 4,
   "metadata": {},
   "outputs": [
    {
     "name": "stdout",
     "output_type": "stream",
     "text": [
      "Python version\n",
      "3.11.9 | packaged by Anaconda, Inc. | (main, Apr 19 2024, 16:40:41) [MSC v.1916 64 bit (AMD64)]\n",
      "Pandas version\n",
      "2.2.2\n",
      "Geopandas version\n",
      "0.14.2\n",
      "Xarray version\n",
      "2023.6.0\n",
      "Pyproj version\n",
      "3.6.1\n"
     ]
    }
   ],
   "source": [
    "# check python version and all packages version\n",
    "def check_python_version():\n",
    "    import sys\n",
    "    print(\"Python version\")\n",
    "    print (sys.version)\n",
    "    print(\"Pandas version\")\n",
    "    print(pd.__version__)\n",
    "    print(\"Geopandas version\")\n",
    "    print(gpd.__version__)\n",
    "    print(\"Xarray version\")\n",
    "    print(xr.__version__)\n",
    "    print(\"Pyproj version\")\n",
    "    print(pyproj.__version__)\n",
    "\n",
    "check_python_version()"
   ]
  },
  {
   "cell_type": "code",
   "execution_count": 5,
   "metadata": {},
   "outputs": [],
   "source": [
    "entity = 'Vegetation'\n",
    "data_dir = f'../../Extended_Data/{entity}/'"
   ]
  },
  {
   "cell_type": "markdown",
   "metadata": {},
   "source": [
    "## Merge Data from old and extended"
   ]
  },
  {
   "cell_type": "code",
   "execution_count": 6,
   "metadata": {},
   "outputs": [
    {
     "data": {
      "text/plain": [
       "['LAI.1994.2000.CA.daily_interpolated.nc', 'LAI.1994.2000.CA.nc']"
      ]
     },
     "execution_count": 6,
     "metadata": {},
     "output_type": "execute_result"
    }
   ],
   "source": [
    "files = os.listdir(data_dir)\n",
    "files"
   ]
  },
  {
   "cell_type": "code",
   "execution_count": 7,
   "metadata": {},
   "outputs": [
    {
     "name": "stdout",
     "output_type": "stream",
     "text": [
      "File: LAI.1994.2000.CA.daily_interpolated.nc\n",
      "Dimensions: Frozen({'time': 2558, 'lat': 238, 'lon': 258})\n",
      "Day range: 1994-01-01T00:00:00.000000000 to 2001-01-01T00:00:00.000000000\n",
      "Coordinates: Coordinates:\n",
      "  * time     (time) datetime64[ns] 1994-01-01 1994-01-02 ... 2001-01-01\n",
      "  * lat      (lat) float64 32.32 32.36 32.4 32.44 ... 42.07 42.11 42.15 42.19\n",
      "  * lon      (lon) float64 -124.7 -124.6 -124.6 -124.6 ... -114.1 -114.0 -114.0\n",
      "Data variables: Data variables:\n",
      "    LAI      (time, lat, lon) float64 ...\n"
     ]
    }
   ],
   "source": [
    "file = 'LAI.1994.2000.CA.daily_interpolated.nc'\n",
    "ds = xr.open_dataset(os.path.join(data_dir, file))\n",
    "print(f\"File: {file}\")\n",
    "print(f\"Dimensions: {ds.dims}\")\n",
    "print(f\"Day range: {ds.coords['time'].min().values} to {ds.coords['time'].max().values}\")\n",
    "print(f\"Coordinates: {ds.coords}\")\n",
    "print(f\"Data variables: {ds.data_vars}\")"
   ]
  },
  {
   "cell_type": "code",
   "execution_count": 9,
   "metadata": {},
   "outputs": [
    {
     "name": "stdout",
     "output_type": "stream",
     "text": [
      "Dimensions: Frozen({'time': 7666, 'lon': 259, 'lat': 240})\n",
      "Day range: 1994-01-01T00:00:00.000000000 to 2001-01-01T00:00:00.000000000\n",
      "Coordinates: Coordinates:\n",
      "  * time     (time) datetime64[ns] 2001-01-01 2001-01-02 ... 2021-12-27\n",
      "  * lon      (lon) float64 -124.8 -124.7 -124.7 -124.6 ... -114.1 -114.1 -114.0\n",
      "  * lat      (lat) float64 41.98 41.94 41.9 41.86 ... 32.15 32.11 32.07 32.03\n",
      "Data variables: Data variables:\n",
      "    LAI      (time, lat, lon) float32 ...\n"
     ]
    }
   ],
   "source": [
    "ds_old = xr.open_dataset('../../New_Data/glass.lai.2001.2021.CA.daily_interpolated.nc')\n",
    "ds_old = ds_old.assign_coords(time=pd.to_datetime(ds_old['time'].values.astype(int).astype(str), format='%Y%m%d'))\n",
    "print(f\"Dimensions: {ds_old.dims}\")\n",
    "print(f\"Day range: {ds.coords['time'].min().values} to {ds.coords['time'].max().values}\")\n",
    "print(f\"Coordinates: {ds_old.coords}\")\n",
    "print(f\"Data variables: {ds_old.data_vars}\")"
   ]
  },
  {
   "cell_type": "code",
   "execution_count": 10,
   "metadata": {},
   "outputs": [],
   "source": [
    "# drop 2001-01-01 from ds bc ds_old has it\n",
    "ds = ds.sel(time=slice('1994-01-01', '2000-12-31'))"
   ]
  },
  {
   "cell_type": "code",
   "execution_count": 12,
   "metadata": {},
   "outputs": [
    {
     "data": {
      "text/html": [
       "<div><svg style=\"position: absolute; width: 0; height: 0; overflow: hidden\">\n",
       "<defs>\n",
       "<symbol id=\"icon-database\" viewBox=\"0 0 32 32\">\n",
       "<path d=\"M16 0c-8.837 0-16 2.239-16 5v4c0 2.761 7.163 5 16 5s16-2.239 16-5v-4c0-2.761-7.163-5-16-5z\"></path>\n",
       "<path d=\"M16 17c-8.837 0-16-2.239-16-5v6c0 2.761 7.163 5 16 5s16-2.239 16-5v-6c0 2.761-7.163 5-16 5z\"></path>\n",
       "<path d=\"M16 26c-8.837 0-16-2.239-16-5v6c0 2.761 7.163 5 16 5s16-2.239 16-5v-6c0 2.761-7.163 5-16 5z\"></path>\n",
       "</symbol>\n",
       "<symbol id=\"icon-file-text2\" viewBox=\"0 0 32 32\">\n",
       "<path d=\"M28.681 7.159c-0.694-0.947-1.662-2.053-2.724-3.116s-2.169-2.030-3.116-2.724c-1.612-1.182-2.393-1.319-2.841-1.319h-15.5c-1.378 0-2.5 1.121-2.5 2.5v27c0 1.378 1.122 2.5 2.5 2.5h23c1.378 0 2.5-1.122 2.5-2.5v-19.5c0-0.448-0.137-1.23-1.319-2.841zM24.543 5.457c0.959 0.959 1.712 1.825 2.268 2.543h-4.811v-4.811c0.718 0.556 1.584 1.309 2.543 2.268zM28 29.5c0 0.271-0.229 0.5-0.5 0.5h-23c-0.271 0-0.5-0.229-0.5-0.5v-27c0-0.271 0.229-0.5 0.5-0.5 0 0 15.499-0 15.5 0v7c0 0.552 0.448 1 1 1h7v19.5z\"></path>\n",
       "<path d=\"M23 26h-14c-0.552 0-1-0.448-1-1s0.448-1 1-1h14c0.552 0 1 0.448 1 1s-0.448 1-1 1z\"></path>\n",
       "<path d=\"M23 22h-14c-0.552 0-1-0.448-1-1s0.448-1 1-1h14c0.552 0 1 0.448 1 1s-0.448 1-1 1z\"></path>\n",
       "<path d=\"M23 18h-14c-0.552 0-1-0.448-1-1s0.448-1 1-1h14c0.552 0 1 0.448 1 1s-0.448 1-1 1z\"></path>\n",
       "</symbol>\n",
       "</defs>\n",
       "</svg>\n",
       "<style>/* CSS stylesheet for displaying xarray objects in jupyterlab.\n",
       " *\n",
       " */\n",
       "\n",
       ":root {\n",
       "  --xr-font-color0: var(--jp-content-font-color0, rgba(0, 0, 0, 1));\n",
       "  --xr-font-color2: var(--jp-content-font-color2, rgba(0, 0, 0, 0.54));\n",
       "  --xr-font-color3: var(--jp-content-font-color3, rgba(0, 0, 0, 0.38));\n",
       "  --xr-border-color: var(--jp-border-color2, #e0e0e0);\n",
       "  --xr-disabled-color: var(--jp-layout-color3, #bdbdbd);\n",
       "  --xr-background-color: var(--jp-layout-color0, white);\n",
       "  --xr-background-color-row-even: var(--jp-layout-color1, white);\n",
       "  --xr-background-color-row-odd: var(--jp-layout-color2, #eeeeee);\n",
       "}\n",
       "\n",
       "html[theme=dark],\n",
       "body[data-theme=dark],\n",
       "body.vscode-dark {\n",
       "  --xr-font-color0: rgba(255, 255, 255, 1);\n",
       "  --xr-font-color2: rgba(255, 255, 255, 0.54);\n",
       "  --xr-font-color3: rgba(255, 255, 255, 0.38);\n",
       "  --xr-border-color: #1F1F1F;\n",
       "  --xr-disabled-color: #515151;\n",
       "  --xr-background-color: #111111;\n",
       "  --xr-background-color-row-even: #111111;\n",
       "  --xr-background-color-row-odd: #313131;\n",
       "}\n",
       "\n",
       ".xr-wrap {\n",
       "  display: block !important;\n",
       "  min-width: 300px;\n",
       "  max-width: 700px;\n",
       "}\n",
       "\n",
       ".xr-text-repr-fallback {\n",
       "  /* fallback to plain text repr when CSS is not injected (untrusted notebook) */\n",
       "  display: none;\n",
       "}\n",
       "\n",
       ".xr-header {\n",
       "  padding-top: 6px;\n",
       "  padding-bottom: 6px;\n",
       "  margin-bottom: 4px;\n",
       "  border-bottom: solid 1px var(--xr-border-color);\n",
       "}\n",
       "\n",
       ".xr-header > div,\n",
       ".xr-header > ul {\n",
       "  display: inline;\n",
       "  margin-top: 0;\n",
       "  margin-bottom: 0;\n",
       "}\n",
       "\n",
       ".xr-obj-type,\n",
       ".xr-array-name {\n",
       "  margin-left: 2px;\n",
       "  margin-right: 10px;\n",
       "}\n",
       "\n",
       ".xr-obj-type {\n",
       "  color: var(--xr-font-color2);\n",
       "}\n",
       "\n",
       ".xr-sections {\n",
       "  padding-left: 0 !important;\n",
       "  display: grid;\n",
       "  grid-template-columns: 150px auto auto 1fr 20px 20px;\n",
       "}\n",
       "\n",
       ".xr-section-item {\n",
       "  display: contents;\n",
       "}\n",
       "\n",
       ".xr-section-item input {\n",
       "  display: none;\n",
       "}\n",
       "\n",
       ".xr-section-item input + label {\n",
       "  color: var(--xr-disabled-color);\n",
       "}\n",
       "\n",
       ".xr-section-item input:enabled + label {\n",
       "  cursor: pointer;\n",
       "  color: var(--xr-font-color2);\n",
       "}\n",
       "\n",
       ".xr-section-item input:enabled + label:hover {\n",
       "  color: var(--xr-font-color0);\n",
       "}\n",
       "\n",
       ".xr-section-summary {\n",
       "  grid-column: 1;\n",
       "  color: var(--xr-font-color2);\n",
       "  font-weight: 500;\n",
       "}\n",
       "\n",
       ".xr-section-summary > span {\n",
       "  display: inline-block;\n",
       "  padding-left: 0.5em;\n",
       "}\n",
       "\n",
       ".xr-section-summary-in:disabled + label {\n",
       "  color: var(--xr-font-color2);\n",
       "}\n",
       "\n",
       ".xr-section-summary-in + label:before {\n",
       "  display: inline-block;\n",
       "  content: '►';\n",
       "  font-size: 11px;\n",
       "  width: 15px;\n",
       "  text-align: center;\n",
       "}\n",
       "\n",
       ".xr-section-summary-in:disabled + label:before {\n",
       "  color: var(--xr-disabled-color);\n",
       "}\n",
       "\n",
       ".xr-section-summary-in:checked + label:before {\n",
       "  content: '▼';\n",
       "}\n",
       "\n",
       ".xr-section-summary-in:checked + label > span {\n",
       "  display: none;\n",
       "}\n",
       "\n",
       ".xr-section-summary,\n",
       ".xr-section-inline-details {\n",
       "  padding-top: 4px;\n",
       "  padding-bottom: 4px;\n",
       "}\n",
       "\n",
       ".xr-section-inline-details {\n",
       "  grid-column: 2 / -1;\n",
       "}\n",
       "\n",
       ".xr-section-details {\n",
       "  display: none;\n",
       "  grid-column: 1 / -1;\n",
       "  margin-bottom: 5px;\n",
       "}\n",
       "\n",
       ".xr-section-summary-in:checked ~ .xr-section-details {\n",
       "  display: contents;\n",
       "}\n",
       "\n",
       ".xr-array-wrap {\n",
       "  grid-column: 1 / -1;\n",
       "  display: grid;\n",
       "  grid-template-columns: 20px auto;\n",
       "}\n",
       "\n",
       ".xr-array-wrap > label {\n",
       "  grid-column: 1;\n",
       "  vertical-align: top;\n",
       "}\n",
       "\n",
       ".xr-preview {\n",
       "  color: var(--xr-font-color3);\n",
       "}\n",
       "\n",
       ".xr-array-preview,\n",
       ".xr-array-data {\n",
       "  padding: 0 5px !important;\n",
       "  grid-column: 2;\n",
       "}\n",
       "\n",
       ".xr-array-data,\n",
       ".xr-array-in:checked ~ .xr-array-preview {\n",
       "  display: none;\n",
       "}\n",
       "\n",
       ".xr-array-in:checked ~ .xr-array-data,\n",
       ".xr-array-preview {\n",
       "  display: inline-block;\n",
       "}\n",
       "\n",
       ".xr-dim-list {\n",
       "  display: inline-block !important;\n",
       "  list-style: none;\n",
       "  padding: 0 !important;\n",
       "  margin: 0;\n",
       "}\n",
       "\n",
       ".xr-dim-list li {\n",
       "  display: inline-block;\n",
       "  padding: 0;\n",
       "  margin: 0;\n",
       "}\n",
       "\n",
       ".xr-dim-list:before {\n",
       "  content: '(';\n",
       "}\n",
       "\n",
       ".xr-dim-list:after {\n",
       "  content: ')';\n",
       "}\n",
       "\n",
       ".xr-dim-list li:not(:last-child):after {\n",
       "  content: ',';\n",
       "  padding-right: 5px;\n",
       "}\n",
       "\n",
       ".xr-has-index {\n",
       "  font-weight: bold;\n",
       "}\n",
       "\n",
       ".xr-var-list,\n",
       ".xr-var-item {\n",
       "  display: contents;\n",
       "}\n",
       "\n",
       ".xr-var-item > div,\n",
       ".xr-var-item label,\n",
       ".xr-var-item > .xr-var-name span {\n",
       "  background-color: var(--xr-background-color-row-even);\n",
       "  margin-bottom: 0;\n",
       "}\n",
       "\n",
       ".xr-var-item > .xr-var-name:hover span {\n",
       "  padding-right: 5px;\n",
       "}\n",
       "\n",
       ".xr-var-list > li:nth-child(odd) > div,\n",
       ".xr-var-list > li:nth-child(odd) > label,\n",
       ".xr-var-list > li:nth-child(odd) > .xr-var-name span {\n",
       "  background-color: var(--xr-background-color-row-odd);\n",
       "}\n",
       "\n",
       ".xr-var-name {\n",
       "  grid-column: 1;\n",
       "}\n",
       "\n",
       ".xr-var-dims {\n",
       "  grid-column: 2;\n",
       "}\n",
       "\n",
       ".xr-var-dtype {\n",
       "  grid-column: 3;\n",
       "  text-align: right;\n",
       "  color: var(--xr-font-color2);\n",
       "}\n",
       "\n",
       ".xr-var-preview {\n",
       "  grid-column: 4;\n",
       "}\n",
       "\n",
       ".xr-index-preview {\n",
       "  grid-column: 2 / 5;\n",
       "  color: var(--xr-font-color2);\n",
       "}\n",
       "\n",
       ".xr-var-name,\n",
       ".xr-var-dims,\n",
       ".xr-var-dtype,\n",
       ".xr-preview,\n",
       ".xr-attrs dt {\n",
       "  white-space: nowrap;\n",
       "  overflow: hidden;\n",
       "  text-overflow: ellipsis;\n",
       "  padding-right: 10px;\n",
       "}\n",
       "\n",
       ".xr-var-name:hover,\n",
       ".xr-var-dims:hover,\n",
       ".xr-var-dtype:hover,\n",
       ".xr-attrs dt:hover {\n",
       "  overflow: visible;\n",
       "  width: auto;\n",
       "  z-index: 1;\n",
       "}\n",
       "\n",
       ".xr-var-attrs,\n",
       ".xr-var-data,\n",
       ".xr-index-data {\n",
       "  display: none;\n",
       "  background-color: var(--xr-background-color) !important;\n",
       "  padding-bottom: 5px !important;\n",
       "}\n",
       "\n",
       ".xr-var-attrs-in:checked ~ .xr-var-attrs,\n",
       ".xr-var-data-in:checked ~ .xr-var-data,\n",
       ".xr-index-data-in:checked ~ .xr-index-data {\n",
       "  display: block;\n",
       "}\n",
       "\n",
       ".xr-var-data > table {\n",
       "  float: right;\n",
       "}\n",
       "\n",
       ".xr-var-name span,\n",
       ".xr-var-data,\n",
       ".xr-index-name div,\n",
       ".xr-index-data,\n",
       ".xr-attrs {\n",
       "  padding-left: 25px !important;\n",
       "}\n",
       "\n",
       ".xr-attrs,\n",
       ".xr-var-attrs,\n",
       ".xr-var-data,\n",
       ".xr-index-data {\n",
       "  grid-column: 1 / -1;\n",
       "}\n",
       "\n",
       "dl.xr-attrs {\n",
       "  padding: 0;\n",
       "  margin: 0;\n",
       "  display: grid;\n",
       "  grid-template-columns: 125px auto;\n",
       "}\n",
       "\n",
       ".xr-attrs dt,\n",
       ".xr-attrs dd {\n",
       "  padding: 0;\n",
       "  margin: 0;\n",
       "  float: left;\n",
       "  padding-right: 10px;\n",
       "  width: auto;\n",
       "}\n",
       "\n",
       ".xr-attrs dt {\n",
       "  font-weight: normal;\n",
       "  grid-column: 1;\n",
       "}\n",
       "\n",
       ".xr-attrs dt:hover span {\n",
       "  display: inline-block;\n",
       "  background: var(--xr-background-color);\n",
       "  padding-right: 10px;\n",
       "}\n",
       "\n",
       ".xr-attrs dd {\n",
       "  grid-column: 2;\n",
       "  white-space: pre-wrap;\n",
       "  word-break: break-all;\n",
       "}\n",
       "\n",
       ".xr-icon-database,\n",
       ".xr-icon-file-text2,\n",
       ".xr-no-icon {\n",
       "  display: inline-block;\n",
       "  vertical-align: middle;\n",
       "  width: 1em;\n",
       "  height: 1.5em !important;\n",
       "  stroke-width: 0;\n",
       "  stroke: currentColor;\n",
       "  fill: currentColor;\n",
       "}\n",
       "</style><pre class='xr-text-repr-fallback'>&lt;xarray.Dataset&gt;\n",
       "Dimensions:  (time: 2557, lat: 238, lon: 258)\n",
       "Coordinates:\n",
       "  * time     (time) datetime64[ns] 1994-01-01 1994-01-02 ... 2000-12-31\n",
       "  * lat      (lat) float64 32.32 32.36 32.4 32.44 ... 42.07 42.11 42.15 42.19\n",
       "  * lon      (lon) float64 -124.7 -124.6 -124.6 -124.6 ... -114.1 -114.0 -114.0\n",
       "Data variables:\n",
       "    LAI      (time, lat, lon) float64 ...\n",
       "Attributes:\n",
       "    title:                             Daily LAI Data (Interpolated from 8-day)\n",
       "    description:                       LAI interpolated to daily using vector...\n",
       "    original_temporal_resolution:      8-day\n",
       "    interpolated_temporal_resolution:  daily\n",
       "    interpolation_method:              vectorized_linear\n",
       "    interpolated_on:                   2025-06-14T14:34:39.151062\n",
       "    original_time_steps:               323\n",
       "    interpolated_time_steps:           2558</pre><div class='xr-wrap' style='display:none'><div class='xr-header'><div class='xr-obj-type'>xarray.Dataset</div></div><ul class='xr-sections'><li class='xr-section-item'><input id='section-43815912-4f0e-4cd3-9903-5493b327564f' class='xr-section-summary-in' type='checkbox' disabled ><label for='section-43815912-4f0e-4cd3-9903-5493b327564f' class='xr-section-summary'  title='Expand/collapse section'>Dimensions:</label><div class='xr-section-inline-details'><ul class='xr-dim-list'><li><span class='xr-has-index'>time</span>: 2557</li><li><span class='xr-has-index'>lat</span>: 238</li><li><span class='xr-has-index'>lon</span>: 258</li></ul></div><div class='xr-section-details'></div></li><li class='xr-section-item'><input id='section-200b73ac-7adb-4d49-924c-df0444165567' class='xr-section-summary-in' type='checkbox'  checked><label for='section-200b73ac-7adb-4d49-924c-df0444165567' class='xr-section-summary' >Coordinates: <span>(3)</span></label><div class='xr-section-inline-details'></div><div class='xr-section-details'><ul class='xr-var-list'><li class='xr-var-item'><div class='xr-var-name'><span class='xr-has-index'>time</span></div><div class='xr-var-dims'>(time)</div><div class='xr-var-dtype'>datetime64[ns]</div><div class='xr-var-preview xr-preview'>1994-01-01 ... 2000-12-31</div><input id='attrs-1da45aeb-bc0a-4fbf-9fea-1ec36c6f043d' class='xr-var-attrs-in' type='checkbox' disabled><label for='attrs-1da45aeb-bc0a-4fbf-9fea-1ec36c6f043d' title='Show/Hide attributes'><svg class='icon xr-icon-file-text2'><use xlink:href='#icon-file-text2'></use></svg></label><input id='data-510f0c37-957e-41a6-b050-3f77191e0a3a' class='xr-var-data-in' type='checkbox'><label for='data-510f0c37-957e-41a6-b050-3f77191e0a3a' title='Show/Hide data repr'><svg class='icon xr-icon-database'><use xlink:href='#icon-database'></use></svg></label><div class='xr-var-attrs'><dl class='xr-attrs'></dl></div><div class='xr-var-data'><pre>array([&#x27;1994-01-01T00:00:00.000000000&#x27;, &#x27;1994-01-02T00:00:00.000000000&#x27;,\n",
       "       &#x27;1994-01-03T00:00:00.000000000&#x27;, ..., &#x27;2000-12-29T00:00:00.000000000&#x27;,\n",
       "       &#x27;2000-12-30T00:00:00.000000000&#x27;, &#x27;2000-12-31T00:00:00.000000000&#x27;],\n",
       "      dtype=&#x27;datetime64[ns]&#x27;)</pre></div></li><li class='xr-var-item'><div class='xr-var-name'><span class='xr-has-index'>lat</span></div><div class='xr-var-dims'>(lat)</div><div class='xr-var-dtype'>float64</div><div class='xr-var-preview xr-preview'>32.32 32.36 32.4 ... 42.15 42.19</div><input id='attrs-40f9b7f4-7ef4-4b80-ac24-59710e87c1c8' class='xr-var-attrs-in' type='checkbox' disabled><label for='attrs-40f9b7f4-7ef4-4b80-ac24-59710e87c1c8' title='Show/Hide attributes'><svg class='icon xr-icon-file-text2'><use xlink:href='#icon-file-text2'></use></svg></label><input id='data-8d4cd4d9-351d-4963-9fcd-76d484642cb9' class='xr-var-data-in' type='checkbox'><label for='data-8d4cd4d9-351d-4963-9fcd-76d484642cb9' title='Show/Hide data repr'><svg class='icon xr-icon-database'><use xlink:href='#icon-database'></use></svg></label><div class='xr-var-attrs'><dl class='xr-attrs'></dl></div><div class='xr-var-data'><pre>array([32.316667, 32.358333, 32.4     , ..., 42.108333, 42.15    , 42.191667])</pre></div></li><li class='xr-var-item'><div class='xr-var-name'><span class='xr-has-index'>lon</span></div><div class='xr-var-dims'>(lon)</div><div class='xr-var-dtype'>float64</div><div class='xr-var-preview xr-preview'>-124.7 -124.6 ... -114.0 -114.0</div><input id='attrs-943d708e-aff2-4dcd-9b1c-9fd6e58998ce' class='xr-var-attrs-in' type='checkbox' disabled><label for='attrs-943d708e-aff2-4dcd-9b1c-9fd6e58998ce' title='Show/Hide attributes'><svg class='icon xr-icon-file-text2'><use xlink:href='#icon-file-text2'></use></svg></label><input id='data-5af3175e-e309-494e-b66e-56f5082800ea' class='xr-var-data-in' type='checkbox'><label for='data-5af3175e-e309-494e-b66e-56f5082800ea' title='Show/Hide data repr'><svg class='icon xr-icon-database'><use xlink:href='#icon-database'></use></svg></label><div class='xr-var-attrs'><dl class='xr-attrs'></dl></div><div class='xr-var-data'><pre>array([-124.683333, -124.641667, -124.6     , ..., -114.058333, -114.016667,\n",
       "       -113.975   ])</pre></div></li></ul></div></li><li class='xr-section-item'><input id='section-b357da0b-ad71-4292-84d4-f6fa45c6b7eb' class='xr-section-summary-in' type='checkbox'  checked><label for='section-b357da0b-ad71-4292-84d4-f6fa45c6b7eb' class='xr-section-summary' >Data variables: <span>(1)</span></label><div class='xr-section-inline-details'></div><div class='xr-section-details'><ul class='xr-var-list'><li class='xr-var-item'><div class='xr-var-name'><span>LAI</span></div><div class='xr-var-dims'>(time, lat, lon)</div><div class='xr-var-dtype'>float64</div><div class='xr-var-preview xr-preview'>...</div><input id='attrs-51f21a19-d290-4179-b143-61776da9ab02' class='xr-var-attrs-in' type='checkbox' disabled><label for='attrs-51f21a19-d290-4179-b143-61776da9ab02' title='Show/Hide attributes'><svg class='icon xr-icon-file-text2'><use xlink:href='#icon-file-text2'></use></svg></label><input id='data-00b2817f-9d32-4ba3-a99c-fd205580c15c' class='xr-var-data-in' type='checkbox'><label for='data-00b2817f-9d32-4ba3-a99c-fd205580c15c' title='Show/Hide data repr'><svg class='icon xr-icon-database'><use xlink:href='#icon-database'></use></svg></label><div class='xr-var-attrs'><dl class='xr-attrs'></dl></div><div class='xr-var-data'><pre>[157010028 values with dtype=float64]</pre></div></li></ul></div></li><li class='xr-section-item'><input id='section-e48651f7-7437-4e27-bbfb-2542bfdde3bb' class='xr-section-summary-in' type='checkbox'  ><label for='section-e48651f7-7437-4e27-bbfb-2542bfdde3bb' class='xr-section-summary' >Indexes: <span>(3)</span></label><div class='xr-section-inline-details'></div><div class='xr-section-details'><ul class='xr-var-list'><li class='xr-var-item'><div class='xr-index-name'><div>time</div></div><div class='xr-index-preview'>PandasIndex</div><div></div><input id='index-9c8d87c1-ac22-4ec7-9ca0-5802925894e3' class='xr-index-data-in' type='checkbox'/><label for='index-9c8d87c1-ac22-4ec7-9ca0-5802925894e3' title='Show/Hide index repr'><svg class='icon xr-icon-database'><use xlink:href='#icon-database'></use></svg></label><div class='xr-index-data'><pre>PandasIndex(DatetimeIndex([&#x27;1994-01-01&#x27;, &#x27;1994-01-02&#x27;, &#x27;1994-01-03&#x27;, &#x27;1994-01-04&#x27;,\n",
       "               &#x27;1994-01-05&#x27;, &#x27;1994-01-06&#x27;, &#x27;1994-01-07&#x27;, &#x27;1994-01-08&#x27;,\n",
       "               &#x27;1994-01-09&#x27;, &#x27;1994-01-10&#x27;,\n",
       "               ...\n",
       "               &#x27;2000-12-22&#x27;, &#x27;2000-12-23&#x27;, &#x27;2000-12-24&#x27;, &#x27;2000-12-25&#x27;,\n",
       "               &#x27;2000-12-26&#x27;, &#x27;2000-12-27&#x27;, &#x27;2000-12-28&#x27;, &#x27;2000-12-29&#x27;,\n",
       "               &#x27;2000-12-30&#x27;, &#x27;2000-12-31&#x27;],\n",
       "              dtype=&#x27;datetime64[ns]&#x27;, name=&#x27;time&#x27;, length=2557, freq=None))</pre></div></li><li class='xr-var-item'><div class='xr-index-name'><div>lat</div></div><div class='xr-index-preview'>PandasIndex</div><div></div><input id='index-fe516b76-d964-4fb6-a7e9-4d1f3516aad8' class='xr-index-data-in' type='checkbox'/><label for='index-fe516b76-d964-4fb6-a7e9-4d1f3516aad8' title='Show/Hide index repr'><svg class='icon xr-icon-database'><use xlink:href='#icon-database'></use></svg></label><div class='xr-index-data'><pre>PandasIndex(Index([ 32.31666666666667, 32.358333333333334, 32.400000000000006,\n",
       "        32.44166666666667, 32.483333333333334, 32.525000000000006,\n",
       "        32.56666666666667, 32.608333333333334, 32.650000000000006,\n",
       "        32.69166666666667,\n",
       "       ...\n",
       "        41.81666666666667,  41.85833333333334, 41.900000000000006,\n",
       "        41.94166666666667, 41.983333333333334, 42.025000000000006,\n",
       "        42.06666666666667, 42.108333333333334, 42.150000000000006,\n",
       "        42.19166666666667],\n",
       "      dtype=&#x27;float64&#x27;, name=&#x27;lat&#x27;, length=238))</pre></div></li><li class='xr-var-item'><div class='xr-index-name'><div>lon</div></div><div class='xr-index-preview'>PandasIndex</div><div></div><input id='index-8e70266d-529e-4613-b136-7e9adc11bdb7' class='xr-index-data-in' type='checkbox'/><label for='index-8e70266d-529e-4613-b136-7e9adc11bdb7' title='Show/Hide index repr'><svg class='icon xr-icon-database'><use xlink:href='#icon-database'></use></svg></label><div class='xr-index-data'><pre>PandasIndex(Index([-124.68333330000002, -124.64166663333334, -124.59999996666667,\n",
       "       -124.55833330000002, -124.51666663333334, -124.47499996666667,\n",
       "       -124.43333330000002, -124.39166663333334, -124.34999996666667,\n",
       "       -124.30833330000002,\n",
       "       ...\n",
       "       -114.34999996666667, -114.30833330000002, -114.26666663333334,\n",
       "       -114.22499996666667, -114.18333330000002, -114.14166663333334,\n",
       "       -114.09999996666667, -114.05833330000002, -114.01666663333334,\n",
       "       -113.97499996666667],\n",
       "      dtype=&#x27;float64&#x27;, name=&#x27;lon&#x27;, length=258))</pre></div></li></ul></div></li><li class='xr-section-item'><input id='section-6f0f2e40-4e87-4490-b38a-2b41c7831daf' class='xr-section-summary-in' type='checkbox'  checked><label for='section-6f0f2e40-4e87-4490-b38a-2b41c7831daf' class='xr-section-summary' >Attributes: <span>(8)</span></label><div class='xr-section-inline-details'></div><div class='xr-section-details'><dl class='xr-attrs'><dt><span>title :</span></dt><dd>Daily LAI Data (Interpolated from 8-day)</dd><dt><span>description :</span></dt><dd>LAI interpolated to daily using vectorized_linear method</dd><dt><span>original_temporal_resolution :</span></dt><dd>8-day</dd><dt><span>interpolated_temporal_resolution :</span></dt><dd>daily</dd><dt><span>interpolation_method :</span></dt><dd>vectorized_linear</dd><dt><span>interpolated_on :</span></dt><dd>2025-06-14T14:34:39.151062</dd><dt><span>original_time_steps :</span></dt><dd>323</dd><dt><span>interpolated_time_steps :</span></dt><dd>2558</dd></dl></div></li></ul></div></div>"
      ],
      "text/plain": [
       "<xarray.Dataset>\n",
       "Dimensions:  (time: 2557, lat: 238, lon: 258)\n",
       "Coordinates:\n",
       "  * time     (time) datetime64[ns] 1994-01-01 1994-01-02 ... 2000-12-31\n",
       "  * lat      (lat) float64 32.32 32.36 32.4 32.44 ... 42.07 42.11 42.15 42.19\n",
       "  * lon      (lon) float64 -124.7 -124.6 -124.6 -124.6 ... -114.1 -114.0 -114.0\n",
       "Data variables:\n",
       "    LAI      (time, lat, lon) float64 ...\n",
       "Attributes:\n",
       "    title:                             Daily LAI Data (Interpolated from 8-day)\n",
       "    description:                       LAI interpolated to daily using vector...\n",
       "    original_temporal_resolution:      8-day\n",
       "    interpolated_temporal_resolution:  daily\n",
       "    interpolation_method:              vectorized_linear\n",
       "    interpolated_on:                   2025-06-14T14:34:39.151062\n",
       "    original_time_steps:               323\n",
       "    interpolated_time_steps:           2558"
      ]
     },
     "execution_count": 12,
     "metadata": {},
     "output_type": "execute_result"
    }
   ],
   "source": [
    "ds"
   ]
  },
  {
   "cell_type": "code",
   "execution_count": 13,
   "metadata": {},
   "outputs": [
    {
     "name": "stdout",
     "output_type": "stream",
     "text": [
      "Coordinates:\n",
      "  * time     (time) datetime64[ns] 2001-01-01 2001-01-02 ... 2021-12-27\n",
      "  * lon      (lon) float64 -124.8 -124.7 -124.7 -124.6 ... -114.1 -114.1 -114.0\n",
      "  * lat      (lat) float64 41.98 41.94 41.9 41.86 ... 32.15 32.11 32.07 32.03\n"
     ]
    }
   ],
   "source": [
    "print(ds_old.coords)"
   ]
  },
  {
   "cell_type": "code",
   "execution_count": null,
   "metadata": {},
   "outputs": [
    {
     "data": {
      "text/plain": [
       "(257, 233)"
      ]
     },
     "execution_count": 47,
     "metadata": {},
     "output_type": "execute_result"
    }
   ],
   "source": [
    "common_lon = np.intersect1d(ds.coords['lon'].values, ds_old.coords['lon'].values)\n",
    "common_lat = np.intersect1d(ds.coords['lat'].values, ds_old.coords['lat'].values)\n",
    "len(common_lon), len(common_lat)"
   ]
  },
  {
   "cell_type": "code",
   "execution_count": 14,
   "metadata": {},
   "outputs": [],
   "source": [
    "lai_pd = ds.to_dataframe().reset_index()\n",
    "lai_pd_old = ds_old.to_dataframe().reset_index()"
   ]
  },
  {
   "cell_type": "code",
   "execution_count": 51,
   "metadata": {},
   "outputs": [
    {
     "data": {
      "text/plain": [
       "time    datetime64[ns]\n",
       "lat            float64\n",
       "lon            float64\n",
       "LAI            float64\n",
       "dtype: object"
      ]
     },
     "execution_count": 51,
     "metadata": {},
     "output_type": "execute_result"
    }
   ],
   "source": [
    "lai_pd.dtypes"
   ]
  },
  {
   "cell_type": "code",
   "execution_count": 52,
   "metadata": {},
   "outputs": [
    {
     "data": {
      "text/plain": [
       "time    datetime64[ns]\n",
       "lon            float64\n",
       "lat            float64\n",
       "LAI            float32\n",
       "dtype: object"
      ]
     },
     "execution_count": 52,
     "metadata": {},
     "output_type": "execute_result"
    }
   ],
   "source": [
    "lai_pd_old.dtypes"
   ]
  },
  {
   "cell_type": "code",
   "execution_count": 15,
   "metadata": {},
   "outputs": [],
   "source": [
    "columns_to_keep = ['time', 'lat', 'lon', 'LAI']\n",
    "lai_pd = lai_pd[columns_to_keep]\n",
    "lai_pd_old = lai_pd_old[columns_to_keep]"
   ]
  },
  {
   "cell_type": "code",
   "execution_count": 16,
   "metadata": {},
   "outputs": [],
   "source": [
    "# concatenate the two dataframes\n",
    "lai_pd_combined = pd.concat([lai_pd, lai_pd_old], ignore_index=True)"
   ]
  },
  {
   "cell_type": "code",
   "execution_count": 17,
   "metadata": {},
   "outputs": [],
   "source": [
    "# ensure the shape is correct, assert error if not\n",
    "assert lai_pd_combined.shape[0] == lai_pd.shape[0] + lai_pd_old.shape[0], \"Shape mismatch after concatenation\""
   ]
  },
  {
   "cell_type": "code",
   "execution_count": 18,
   "metadata": {},
   "outputs": [],
   "source": [
    "del ds, ds_old, lai_pd, lai_pd_old"
   ]
  },
  {
   "cell_type": "code",
   "execution_count": 19,
   "metadata": {},
   "outputs": [
    {
     "name": "stdout",
     "output_type": "stream",
     "text": [
      "Saved LAI.1994.2000.CA.daily_interpolated.nc as ../../Clean_Data/Extended_Data/Vegetation/LAI.parquet\n"
     ]
    }
   ],
   "source": [
    "path_to_save = f'../../Clean_Data/Extended_Data/{entity}'\n",
    "# Ensure the output directory exists\n",
    "if not os.path.exists(path_to_save):\n",
    "    os.makedirs(path_to_save)\n",
    "\n",
    "output_file = f'{path_to_save}/{file.split(\".\")[0]}.parquet'\n",
    "lai_pd_combined.to_parquet(output_file)\n",
    "\n",
    "print(f\"Saved {file} as {output_file}\")"
   ]
  },
  {
   "cell_type": "code",
   "execution_count": 20,
   "metadata": {},
   "outputs": [
    {
     "data": {
      "text/plain": [
       "year\n",
       "1994    0.626067\n",
       "1995    0.626067\n",
       "1996    0.626067\n",
       "1997    0.626067\n",
       "1998    0.626067\n",
       "1999    0.626067\n",
       "2000    0.626067\n",
       "2001    0.673845\n",
       "2002    0.681087\n",
       "2003    0.670824\n",
       "2004    0.668499\n",
       "2005    0.651382\n",
       "2006    0.671438\n",
       "2007    0.680602\n",
       "2008    0.675228\n",
       "2009    0.673124\n",
       "2010    0.669819\n",
       "2011    0.665930\n",
       "2012    0.677213\n",
       "2013    0.679982\n",
       "2014    0.678052\n",
       "2015    0.675516\n",
       "2016    0.676242\n",
       "2017    0.672758\n",
       "2018    0.679234\n",
       "2019    0.668661\n",
       "2020    0.665746\n",
       "2021    0.679524\n",
       "Name: LAI, dtype: float64"
      ]
     },
     "execution_count": 20,
     "metadata": {},
     "output_type": "execute_result"
    }
   ],
   "source": [
    "lai_pd_combined['year'] = lai_pd_combined['time'].dt.year\n",
    "lai_pd_combined.groupby('year')['LAI'].apply(lambda x: x.isnull().mean())"
   ]
  },
  {
   "cell_type": "markdown",
   "metadata": {},
   "source": [
    "## Check lon/lat match with weather grid"
   ]
  },
  {
   "cell_type": "code",
   "execution_count": 21,
   "metadata": {},
   "outputs": [
    {
     "data": {
      "text/plain": [
       "(61404, 2)"
      ]
     },
     "execution_count": 21,
     "metadata": {},
     "output_type": "execute_result"
    }
   ],
   "source": [
    "reference_weather_data = pd.read_parquet('../../Clean_Data/Weather_Data/Extended_Weather_Data/wind_speed.parquet')\n",
    "reference_weather_data = reference_weather_data[reference_weather_data['day']=='1998-01-01']\n",
    "reference_weather_data = reference_weather_data[['lon', 'lat']].drop_duplicates()\n",
    "reference_weather_data.shape"
   ]
  },
  {
   "cell_type": "code",
   "execution_count": 22,
   "metadata": {},
   "outputs": [
    {
     "data": {
      "text/plain": [
       "(63683, 2)"
      ]
     },
     "execution_count": 22,
     "metadata": {},
     "output_type": "execute_result"
    }
   ],
   "source": [
    "lai_pd_lon_lat = lai_pd_combined[['lon', 'lat']].drop_duplicates()\n",
    "lai_pd_lon_lat.shape"
   ]
  },
  {
   "cell_type": "code",
   "execution_count": 23,
   "metadata": {},
   "outputs": [
    {
     "name": "stdout",
     "output_type": "stream",
     "text": [
      "Merge successful\n"
     ]
    }
   ],
   "source": [
    "test_merge = lai_pd_lon_lat.merge(reference_weather_data, on=['lon', 'lat'], how='inner')\n",
    "# if test_merge.shape is same as reference_weather_data, then the merge is successful\n",
    "if test_merge.shape == reference_weather_data.shape:\n",
    "    print(\"Merge successful\")\n",
    "else:\n",
    "    # print test_merge shape and reference_weather_data shape\n",
    "    print(f\"Merge failed: {test_merge.shape} != {reference_weather_data.shape}\")"
   ]
  },
  {
   "cell_type": "markdown",
   "metadata": {},
   "source": [
    "## Merge w Veg Data"
   ]
  },
  {
   "cell_type": "code",
   "execution_count": 24,
   "metadata": {},
   "outputs": [],
   "source": [
    "# clean up memory\n",
    "gc.collect()\n",
    "# delete all dataframes\n",
    "for var in list(globals().keys()):\n",
    "    if isinstance(globals()[var], pd.DataFrame):\n",
    "        del globals()[var]"
   ]
  },
  {
   "cell_type": "code",
   "execution_count": 25,
   "metadata": {},
   "outputs": [],
   "source": [
    "import os\n",
    "from datetime import datetime"
   ]
  },
  {
   "cell_type": "code",
   "execution_count": 26,
   "metadata": {},
   "outputs": [],
   "source": [
    "# the data is generated from 02 Veg Data Extract.ipynb\n",
    "import pandas as pd\n",
    "veg_data = pd.read_parquet('../../Clean_Data/lon_lat_pair_weather_match_veg_v2.parquet')"
   ]
  },
  {
   "cell_type": "code",
   "execution_count": 27,
   "metadata": {},
   "outputs": [
    {
     "data": {
      "text/plain": [
       "(17703, 7)"
      ]
     },
     "execution_count": 27,
     "metadata": {},
     "output_type": "execute_result"
    }
   ],
   "source": [
    "veg_data.shape"
   ]
  },
  {
   "cell_type": "code",
   "execution_count": 28,
   "metadata": {},
   "outputs": [
    {
     "data": {
      "text/html": [
       "<div>\n",
       "<style scoped>\n",
       "    .dataframe tbody tr th:only-of-type {\n",
       "        vertical-align: middle;\n",
       "    }\n",
       "\n",
       "    .dataframe tbody tr th {\n",
       "        vertical-align: top;\n",
       "    }\n",
       "\n",
       "    .dataframe thead th {\n",
       "        text-align: right;\n",
       "    }\n",
       "</style>\n",
       "<table border=\"1\" class=\"dataframe\">\n",
       "  <thead>\n",
       "    <tr style=\"text-align: right;\">\n",
       "      <th></th>\n",
       "      <th>lon</th>\n",
       "      <th>lat</th>\n",
       "      <th>type</th>\n",
       "      <th>distance</th>\n",
       "      <th>veg_type_details</th>\n",
       "      <th>fire_attribute</th>\n",
       "      <th>veg</th>\n",
       "    </tr>\n",
       "  </thead>\n",
       "  <tbody>\n",
       "    <tr>\n",
       "      <th>0</th>\n",
       "      <td>-124.391667</td>\n",
       "      <td>40.441667</td>\n",
       "      <td>7.0</td>\n",
       "      <td>1.826642</td>\n",
       "      <td>Native Coastal Sage Scrub - fire</td>\n",
       "      <td>fire</td>\n",
       "      <td>Native Coastal Sage Scrub</td>\n",
       "    </tr>\n",
       "    <tr>\n",
       "      <th>1</th>\n",
       "      <td>-124.391667</td>\n",
       "      <td>40.400000</td>\n",
       "      <td>25.0</td>\n",
       "      <td>1.827314</td>\n",
       "      <td>Native Oak Woodland - fire</td>\n",
       "      <td>fire</td>\n",
       "      <td>Native Oak Woodland</td>\n",
       "    </tr>\n",
       "    <tr>\n",
       "      <th>2</th>\n",
       "      <td>-124.350000</td>\n",
       "      <td>40.566667</td>\n",
       "      <td>1.0</td>\n",
       "      <td>1.824622</td>\n",
       "      <td>Agriculture - low</td>\n",
       "      <td>low</td>\n",
       "      <td>Agriculture</td>\n",
       "    </tr>\n",
       "    <tr>\n",
       "      <th>3</th>\n",
       "      <td>-124.350000</td>\n",
       "      <td>40.525000</td>\n",
       "      <td>8.0</td>\n",
       "      <td>1.825296</td>\n",
       "      <td>Native Coastal Sage Scrub - mesic</td>\n",
       "      <td>mesic</td>\n",
       "      <td>Native Coastal Sage Scrub</td>\n",
       "    </tr>\n",
       "    <tr>\n",
       "      <th>4</th>\n",
       "      <td>-124.350000</td>\n",
       "      <td>40.483333</td>\n",
       "      <td>25.0</td>\n",
       "      <td>1.825969</td>\n",
       "      <td>Native Oak Woodland - fire</td>\n",
       "      <td>fire</td>\n",
       "      <td>Native Oak Woodland</td>\n",
       "    </tr>\n",
       "  </tbody>\n",
       "</table>\n",
       "</div>"
      ],
      "text/plain": [
       "          lon        lat  type  distance                   veg_type_details  \\\n",
       "0 -124.391667  40.441667   7.0  1.826642   Native Coastal Sage Scrub - fire   \n",
       "1 -124.391667  40.400000  25.0  1.827314         Native Oak Woodland - fire   \n",
       "2 -124.350000  40.566667   1.0  1.824622                  Agriculture - low   \n",
       "3 -124.350000  40.525000   8.0  1.825296  Native Coastal Sage Scrub - mesic   \n",
       "4 -124.350000  40.483333  25.0  1.825969         Native Oak Woodland - fire   \n",
       "\n",
       "  fire_attribute                         veg  \n",
       "0           fire  Native Coastal Sage Scrub   \n",
       "1           fire        Native Oak Woodland   \n",
       "2            low                Agriculture   \n",
       "3          mesic  Native Coastal Sage Scrub   \n",
       "4           fire        Native Oak Woodland   "
      ]
     },
     "execution_count": 28,
     "metadata": {},
     "output_type": "execute_result"
    }
   ],
   "source": [
    "veg_data.head()"
   ]
  },
  {
   "cell_type": "code",
   "execution_count": 29,
   "metadata": {},
   "outputs": [
    {
     "data": {
      "text/plain": [
       "0"
      ]
     },
     "execution_count": 29,
     "metadata": {},
     "output_type": "execute_result"
    }
   ],
   "source": [
    "veg_data[['lon', 'lat']].duplicated().sum()"
   ]
  },
  {
   "cell_type": "code",
   "execution_count": 30,
   "metadata": {},
   "outputs": [],
   "source": [
    "veg_data_filter = veg_data[~veg_data['veg'].str.contains('Water|Urban|Agriculture')]"
   ]
  },
  {
   "cell_type": "code",
   "execution_count": 31,
   "metadata": {},
   "outputs": [
    {
     "data": {
      "text/plain": [
       "(14383, 7)"
      ]
     },
     "execution_count": 31,
     "metadata": {},
     "output_type": "execute_result"
    }
   ],
   "source": [
    "veg_data_filter.shape"
   ]
  },
  {
   "cell_type": "code",
   "execution_count": 32,
   "metadata": {},
   "outputs": [],
   "source": [
    "file = 'LAI.parquet'\n",
    "entity = 'Vegetation'"
   ]
  },
  {
   "cell_type": "code",
   "execution_count": 33,
   "metadata": {},
   "outputs": [
    {
     "name": "stdout",
     "output_type": "stream",
     "text": [
      "Task: Data cleaning on combined LAI data with vegetation filter\n",
      "Processing started on: 2025-06-15 16:53:39\n",
      "Processing file: LAI.parquet, shape: (633528588, 4)\n",
      "Filtered DataFrame shape: (147037409, 4)\n"
     ]
    }
   ],
   "source": [
    "path_to_read = f'../../Clean_Data/Extended_Data/{entity}'\n",
    "path_to_save = f'../../Clean_Data/Extended_Data_w_Veg_Filter/{entity}'\n",
    "# Ensure the output directory exists\n",
    "if not os.path.exists(path_to_save):\n",
    "    os.makedirs(path_to_save)\n",
    "\n",
    "print(\"Task: Data cleaning on combined LAI data with vegetation filter\")\n",
    "print(f\"Processing started on: {datetime.now().strftime('%Y-%m-%d %H:%M:%S')}\")\n",
    "\n",
    "\n",
    "dat = pd.read_parquet(f'{path_to_read}/{file}')\n",
    "print(f\"Processing file: {file}, shape: {dat.shape}\")\n",
    "dat_filtered = pd.merge(dat, veg_data_filter[['lon', 'lat']], on=['lon', 'lat'], how='inner')\n",
    "print(f\"Filtered DataFrame shape: {dat_filtered.shape}\")\n",
    "del dat  # Free up memory\n",
    "dat_filtered.to_parquet(f'{path_to_save}/{file}')"
   ]
  },
  {
   "cell_type": "code",
   "execution_count": 34,
   "metadata": {},
   "outputs": [
    {
     "data": {
      "text/plain": [
       "year\n",
       "1994    0.077522\n",
       "1995    0.077522\n",
       "1996    0.077522\n",
       "1997    0.077522\n",
       "1998    0.077522\n",
       "1999    0.077522\n",
       "2000    0.077522\n",
       "2001    0.053565\n",
       "2002    0.050510\n",
       "2003    0.048234\n",
       "2004    0.050983\n",
       "2005    0.051144\n",
       "2006    0.048921\n",
       "2007    0.050153\n",
       "2008    0.053587\n",
       "2009    0.049206\n",
       "2010    0.049184\n",
       "2011    0.045130\n",
       "2012    0.046274\n",
       "2013    0.048790\n",
       "2014    0.046118\n",
       "2015    0.043975\n",
       "2016    0.046573\n",
       "2017    0.048877\n",
       "2018    0.047935\n",
       "2019    0.049485\n",
       "2020    0.043612\n",
       "2021    0.046295\n",
       "Name: LAI, dtype: float64"
      ]
     },
     "execution_count": 34,
     "metadata": {},
     "output_type": "execute_result"
    }
   ],
   "source": [
    "dat_filtered['year'] = dat_filtered['time'].dt.year\n",
    "dat_filtered.groupby('year')['LAI'].apply(lambda x: x.isnull().mean())"
   ]
  },
  {
   "cell_type": "code",
   "execution_count": null,
   "metadata": {},
   "outputs": [],
   "source": []
  }
 ],
 "metadata": {
  "kernelspec": {
   "display_name": "py311",
   "language": "python",
   "name": "python3"
  },
  "language_info": {
   "codemirror_mode": {
    "name": "ipython",
    "version": 3
   },
   "file_extension": ".py",
   "mimetype": "text/x-python",
   "name": "python",
   "nbconvert_exporter": "python",
   "pygments_lexer": "ipython3",
   "version": "3.11.9"
  }
 },
 "nbformat": 4,
 "nbformat_minor": 2
}
