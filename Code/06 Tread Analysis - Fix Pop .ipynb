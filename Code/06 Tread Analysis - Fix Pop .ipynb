{
 "cells": [
  {
   "cell_type": "code",
   "execution_count": 1,
   "id": "97059701",
   "metadata": {},
   "outputs": [
    {
     "data": {
      "text/plain": [
       "34"
      ]
     },
     "execution_count": 1,
     "metadata": {},
     "output_type": "execute_result"
    }
   ],
   "source": [
    "# Force garbage collection\n",
    "import gc\n",
    "gc.collect()"
   ]
  },
  {
   "cell_type": "code",
   "execution_count": 2,
   "id": "aa08bc43",
   "metadata": {},
   "outputs": [],
   "source": [
    "import pandas as pd\n",
    "from tqdm import tqdm\n",
    "import matplotlib.pyplot as plt\n",
    "import matplotlib.pyplot as plt\n",
    "import pickle"
   ]
  },
  {
   "cell_type": "code",
   "execution_count": 3,
   "id": "d6210906",
   "metadata": {},
   "outputs": [],
   "source": [
    "col_to_replace = [\"population_density_log\"]"
   ]
  },
  {
   "cell_type": "code",
   "execution_count": 4,
   "id": "d337e23e",
   "metadata": {},
   "outputs": [],
   "source": [
    "log_message = []\n",
    "log_message.append(\"Tread Analysis\")\n",
    "log_message.append(f\"Variable to replace: {col_to_replace}\")\n",
    "log_message.append(f\"Current datetime: {pd.Timestamp.now()}\")"
   ]
  },
  {
   "cell_type": "code",
   "execution_count": 5,
   "id": "e2c1f215",
   "metadata": {},
   "outputs": [],
   "source": [
    "yr = 2004\n",
    "Eval_2004 = pd.read_parquet(f'../Clean_Data/Model_Data/Evaluation/Features_w_Label/Human_Fire_Water_Year/{yr}_features_w_label.parquet')"
   ]
  },
  {
   "cell_type": "code",
   "execution_count": 7,
   "id": "9e6ab404",
   "metadata": {},
   "outputs": [],
   "source": [
    "Eval_2004[\"lon\"] = Eval_2004[\"lon\"].round(6)\n",
    "Eval_2004[\"lat\"] = Eval_2004[\"lat\"].round(6)"
   ]
  },
  {
   "cell_type": "code",
   "execution_count": 8,
   "id": "1fbab349",
   "metadata": {},
   "outputs": [],
   "source": [
    "Eval_2004 = Eval_2004[['lon', 'lat'] + col_to_replace]\n",
    "# drop duplicates based on all columns\n",
    "Eval_2004 = Eval_2004.drop_duplicates()"
   ]
  },
  {
   "cell_type": "code",
   "execution_count": 9,
   "id": "04d9cf7e",
   "metadata": {},
   "outputs": [],
   "source": [
    "if not Eval_2004.duplicated(subset=['lon', 'lat']).any():\n",
    "    log_message.append(\"2004 lon, lat are unique\")\n",
    "else:\n",
    "    print(\"2004 lon, lat are not unique\")"
   ]
  },
  {
   "cell_type": "code",
   "execution_count": 10,
   "id": "4c615bf0",
   "metadata": {},
   "outputs": [
    {
     "name": "stderr",
     "output_type": "stream",
     "text": [
      "  0%|          | 0/14 [00:00<?, ?it/s]"
     ]
    },
    {
     "name": "stderr",
     "output_type": "stream",
     "text": [
      "100%|██████████| 14/14 [25:10<00:00, 107.93s/it]\n"
     ]
    }
   ],
   "source": [
    "years = range(2007, 2021)\n",
    "\n",
    "# loop through the years and get progress bar\n",
    "for year in tqdm(years):\n",
    "    log_message.append(\"-\" * 50)\n",
    "    log_message.append(f\"Processing year: {year}\")\n",
    "    # read the data\n",
    "    Eval_data = pd.read_csv(f'../Clean_Data/Model_Data/Evaluation/Features_w_Label_w_pred/water_year/{year}_predictions.csv',\n",
    "                            parse_dates=[\"day\"],\n",
    "                            dtype={\"NWCG_CAUSE_CLASSIFICATION\": \"str\",\n",
    "                               \"veg_type_details\": \"str\",\n",
    "                               \"fire_attribute\": \"str\"\n",
    "                            })\n",
    "    # log range of day\n",
    "    log_message.append(f\"Range of day: {Eval_data['day'].min()} - {Eval_data['day'].max()}\")\n",
    "\n",
    "    Eval_data['month'] = Eval_data['day'].dt.month\n",
    "\n",
    "    Eval_data = Eval_data.drop(columns=col_to_replace)\n",
    "    Eval_data[\"lon\"] = Eval_data[\"lon\"].round(6)\n",
    "    Eval_data[\"lat\"] = Eval_data[\"lat\"].round(6)\n",
    "\n",
    "    # log the shape of the dataframes\n",
    "    log_message.append(f\"Eval_data shape before merge: {Eval_data.shape}\")\n",
    "    # merge the two dataframes on lon, lat, and day\n",
    "    Eval_reset = Eval_data.merge(Eval_2004, on=['lon', 'lat'], how = \"inner\")\n",
    "    log_message.append(f\"Eval_data shape after merge: {Eval_reset.shape}\")\n",
    "\n",
    "    # read the model\n",
    "    with open(f'../Model/6_water_year_completed/predict_{year}_6yr_model.pkl', 'rb') as f:\n",
    "        loaded_model = pickle.load(f)\n",
    "\n",
    "    features = loaded_model.get_booster().feature_names\n",
    "\n",
    "    # predict the probability of fire for 2020 using the loaded model\n",
    "    Eval_reset['predictions_update'] = loaded_model.predict_proba(Eval_reset[features])[:, 1]\n",
    "\n",
    "    # save it to parquet\n",
    "    Eval_reset.to_parquet(f'../Clean_Data/Model_Data/Evaluation/Features_w_Label_w_pred/water_year_tread_analysis/{year}_predictions_using_2005_population.parquet', index=False)\n",
    "\n",
    "    # free up memory\n",
    "    del Eval_data\n",
    "    del Eval_reset\n",
    "    gc.collect()"
   ]
  },
  {
   "cell_type": "code",
   "execution_count": 11,
   "id": "cc236146",
   "metadata": {},
   "outputs": [
    {
     "name": "stdout",
     "output_type": "stream",
     "text": [
      "Log file saved to '../Logs/tread_analysis_water_year_log.txt'\n"
     ]
    }
   ],
   "source": [
    "# Save the log messages to a log file\n",
    "with open('../Logs/tread_analysis_water_year_log.txt', 'w') as log_file:\n",
    "    log_file.write('\\n'.join(log_message))\n",
    "\n",
    "print(\"Log file saved to '../Logs/tread_analysis_water_year_log.txt'\")"
   ]
  },
  {
   "cell_type": "code",
   "execution_count": null,
   "id": "a2c1e240",
   "metadata": {},
   "outputs": [],
   "source": [
    "def plot_comparison_mult(Eval_grouped, year = 2000, plot = True):\n",
    "    fig, axes = plt.subplots(2, 1, figsize=(12, 18), sharex=True)\n",
    "\n",
    "    # Define labels and titles\n",
    "    #metrics = ['median', 'q25', 'q75']\n",
    "    metrics = ['median','q75']\n",
    "    titles = [\"Median Comparison\", \"Q75 Comparison\"]\n",
    "    colors = ['blue', 'red']\n",
    "\n",
    "    for i, metric in enumerate(metrics):\n",
    "        ax = axes[i]\n",
    "        \n",
    "        # Plot updated values\n",
    "        ax.plot(Eval_grouped['month'], Eval_grouped[f'predictions_update_{metric}'], marker='o', color=colors[0], label=f'Updated {metric}')\n",
    "        \n",
    "        # Plot old values\n",
    "        ax.plot(Eval_grouped['month'], Eval_grouped[f'predictions_{metric}'], marker='o', color=colors[1], label=f'Old {metric}')\n",
    "        \n",
    "        ax.set_title(titles[i])\n",
    "        ax.set_xlabel(\"month\")\n",
    "        ax.set_ylabel(f\"{metric.capitalize()} Value\")\n",
    "        ax.legend()\n",
    "        ax.grid(True)\n",
    "\n",
    "\n",
    "    plt.tight_layout()\n",
    "    if plot:\n",
    "        plt.show()\n",
    "    else:\n",
    "        plt.savefig(f'../Plot/Water_Year/Tread_Analysis/{year}_comparison_plot.png')\n",
    "        plt.close()"
   ]
  },
  {
   "cell_type": "code",
   "execution_count": 19,
   "id": "0d802661",
   "metadata": {},
   "outputs": [],
   "source": [
    "def plot_comparison(Eval_grouped, year=2000, plot=True):\n",
    "    fig, ax = plt.subplots(figsize=(12, 6))  # Single plot instead of multiple subplots\n",
    "\n",
    "    metric = 'median'  # Keeping only one metric\n",
    "    title = \"Median Comparison\"\n",
    "    colors = ['blue', 'red']\n",
    "\n",
    "    # Plot updated values\n",
    "    ax.plot(Eval_grouped['month'], Eval_grouped[f'predictions_update_{metric}'], marker='o', color=colors[0], label=f'Updated {metric}')\n",
    "\n",
    "    # Plot old values\n",
    "    ax.plot(Eval_grouped['month'], Eval_grouped[f'predictions_{metric}'], marker='o', color=colors[1], label=f'Old {metric}')\n",
    "\n",
    "    ax.set_title(title)\n",
    "    ax.set_xlabel(\"month\")\n",
    "    ax.set_ylabel(f\"{metric.capitalize()} Value\")\n",
    "    ax.legend()\n",
    "    ax.grid(True)\n",
    "\n",
    "    plt.tight_layout()\n",
    "    if plot:\n",
    "        plt.show()\n",
    "    else:\n",
    "        plt.savefig(f'../Plot/Water_Year/Tread_Analysis/{year}_comparison_plot.png')\n",
    "        plt.close()"
   ]
  },
  {
   "cell_type": "code",
   "execution_count": 30,
   "id": "3cd4d595",
   "metadata": {},
   "outputs": [
    {
     "name": "stderr",
     "output_type": "stream",
     "text": [
      "100%|██████████| 14/14 [01:10<00:00,  5.07s/it]\n"
     ]
    }
   ],
   "source": [
    "years = range(2007, 2021)\n",
    "\n",
    "\n",
    "for year in tqdm(years):\n",
    "   \n",
    "    Eval_data = pd.read_parquet(f'../Clean_Data/Model_Data/Evaluation/Features_w_Label_w_pred/water_year_tread_analysis/{year}_predictions_using_2005_population.parquet')\n",
    "    \n",
    "    Eval_grouped = Eval_data.groupby('month').agg(\n",
    "    predictions_update_median=('predictions_update', 'median'),\n",
    "    #predictions_update_q25=('predictions_update', lambda x: x.quantile(0.25)),\n",
    "    predictions_update_q75=('predictions_update', lambda x: x.quantile(0.75)),\n",
    "    predictions_median=('predictions', 'median'),\n",
    "    #predictions_q25=('predictions', lambda x: x.quantile(0.25)),\n",
    "    predictions_q75=('predictions', lambda x: x.quantile(0.75))\n",
    "    ).reset_index()\n",
    "\n",
    "    plot_comparison_mult(Eval_grouped, year = year, plot = False)\n",
    "\n",
    "    # free up memory\n",
    "    del Eval_data\n",
    "    gc.collect()"
   ]
  },
  {
   "cell_type": "code",
   "execution_count": null,
   "id": "9e7db2e4",
   "metadata": {},
   "outputs": [],
   "source": []
  },
  {
   "cell_type": "code",
   "execution_count": null,
   "id": "6eb4f4bf",
   "metadata": {},
   "outputs": [],
   "source": []
  }
 ],
 "metadata": {
  "kernelspec": {
   "display_name": "py311",
   "language": "python",
   "name": "python3"
  },
  "language_info": {
   "codemirror_mode": {
    "name": "ipython",
    "version": 3
   },
   "file_extension": ".py",
   "mimetype": "text/x-python",
   "name": "python",
   "nbconvert_exporter": "python",
   "pygments_lexer": "ipython3",
   "version": "3.11.9"
  }
 },
 "nbformat": 4,
 "nbformat_minor": 5
}
