{
 "cells": [
  {
   "cell_type": "code",
   "execution_count": 6,
   "metadata": {},
   "outputs": [],
   "source": [
    "import pandas as pd\n",
    "import pyproj\n",
    "from tqdm import tqdm\n",
    "import numpy as np\n",
    "import os\n",
    "import matplotlib.pyplot as plt\n",
    "from datetime import datetime"
   ]
  },
  {
   "cell_type": "code",
   "execution_count": 7,
   "metadata": {},
   "outputs": [
    {
     "name": "stdout",
     "output_type": "stream",
     "text": [
      "Python version\n",
      "3.11.9 | packaged by Anaconda, Inc. | (main, Apr 19 2024, 16:40:41) [MSC v.1916 64 bit (AMD64)]\n",
      "Pandas version\n",
      "2.2.2\n",
      "Geopandas version\n",
      "3.6.1\n"
     ]
    }
   ],
   "source": [
    "# check python version and all packages version\n",
    "def check_python_version():\n",
    "    import sys\n",
    "    print(\"Python version\")\n",
    "    print (sys.version)\n",
    "    print(\"Pandas version\")\n",
    "    print(pd.__version__)\n",
    "    print(\"Geopandas version\")\n",
    "    print(pyproj.__version__)\n",
    "\n",
    "check_python_version()"
   ]
  },
  {
   "cell_type": "code",
   "execution_count": 3,
   "metadata": {},
   "outputs": [],
   "source": [
    "pd.set_option('display.max_colwidth', None)"
   ]
  },
  {
   "cell_type": "code",
   "execution_count": 1,
   "metadata": {},
   "outputs": [
    {
     "data": {
      "text/plain": [
       "34"
      ]
     },
     "execution_count": 1,
     "metadata": {},
     "output_type": "execute_result"
    }
   ],
   "source": [
    "# Force garbage collection\n",
    "import gc\n",
    "gc.collect()"
   ]
  },
  {
   "cell_type": "code",
   "execution_count": 3,
   "metadata": {},
   "outputs": [],
   "source": [
    "input_path = '../../Clean_Data/Extended_Feature_Data/'\n",
    "file_name =  'Weather_Data_w_Veg_SubRegion_Filter_Merged_Add_population_lai.parquet'\n",
    "\n",
    "all_features = pd.read_parquet(os.path.join(input_path, file_name))"
   ]
  },
  {
   "cell_type": "code",
   "execution_count": 4,
   "metadata": {},
   "outputs": [
    {
     "data": {
      "text/plain": [
       "(127478960, 18)"
      ]
     },
     "execution_count": 4,
     "metadata": {},
     "output_type": "execute_result"
    }
   ],
   "source": [
    "all_features.shape"
   ]
  },
  {
   "cell_type": "code",
   "execution_count": 5,
   "metadata": {},
   "outputs": [
    {
     "data": {
      "text/plain": [
       "day                                          datetime64[ns]\n",
       "lat                                                 float64\n",
       "lon                                                 float64\n",
       "SWE                                                 float32\n",
       "year                                                  int32\n",
       "dead_fuel_moisture_1000hr                           float32\n",
       "dead_fuel_moisture_100hr                            float32\n",
       "max_air_temperature                                 float64\n",
       "max_relative_humidity                               float32\n",
       "min_air_temperature                                 float64\n",
       "min_relative_humidity                               float32\n",
       "precipitation_amount                                float32\n",
       "specific_humidity                                   float32\n",
       "surface_downwelling_shortwave_flux_in_air           float32\n",
       "wind_from_direction                                 float32\n",
       "wind_speed                                          float32\n",
       "population_density                                  float64\n",
       "LAI                                                 float64\n",
       "dtype: object"
      ]
     },
     "execution_count": 5,
     "metadata": {},
     "output_type": "execute_result"
    }
   ],
   "source": [
    "all_features.dtypes"
   ]
  },
  {
   "cell_type": "code",
   "execution_count": 9,
   "metadata": {},
   "outputs": [],
   "source": [
    "log_messages = []\n",
    "log_messages.append(f\"Task: Feature cleaning and processing started on: {datetime.now().strftime('%Y-%m-%d %H:%M:%S')}\")"
   ]
  },
  {
   "cell_type": "code",
   "execution_count": 10,
   "metadata": {},
   "outputs": [],
   "source": [
    "log_messages.append(f\"Input file: {file_name}\")"
   ]
  },
  {
   "cell_type": "markdown",
   "metadata": {},
   "source": [
    "### Add wind direction"
   ]
  },
  {
   "cell_type": "code",
   "execution_count": 12,
   "metadata": {},
   "outputs": [],
   "source": [
    "wind_direction_ranges = {\n",
    "    'N': (337.5, 22.5),\n",
    "    'NE': (22.5, 67.5),\n",
    "    'E': (67.5, 112.5),\n",
    "    'SE': (112.5, 157.5),\n",
    "    'S': (157.5, 202.5),\n",
    "    'SW': (202.5, 247.5),\n",
    "    'W': (247.5, 292.5),\n",
    "    'NW': (292.5, 337.5)\n",
    "}"
   ]
  },
  {
   "cell_type": "code",
   "execution_count": 13,
   "metadata": {},
   "outputs": [],
   "source": [
    "# Initialize the wind_direction_category column with None\n",
    "all_features['wind_direction_category'] = None\n",
    "\n",
    "# Use numpy to create boolean masks for each wind direction category\n",
    "wind_from_direction = all_features['wind_from_direction'].values\n",
    "\n",
    "# Mask for North (N)\n",
    "mask_N = (wind_from_direction >= 337.5) | (wind_from_direction < 22.5)\n",
    "all_features.loc[mask_N, 'wind_direction_category'] = 'N'\n",
    "\n",
    "# Masks for other directions\n",
    "for category, (min_angle, max_angle) in wind_direction_ranges.items():\n",
    "    if category != 'N':\n",
    "        mask = (wind_from_direction >= min_angle) & (wind_from_direction < max_angle)\n",
    "        all_features.loc[mask, 'wind_direction_category'] = category"
   ]
  },
  {
   "cell_type": "code",
   "execution_count": 14,
   "metadata": {},
   "outputs": [],
   "source": [
    "# order the wind_direction_category from N to NW\n",
    "wind_direction_order = ['N', 'NE', 'E', 'SE', 'S', 'SW', 'W', 'NW']\n",
    "all_features['wind_direction_category'] = pd.Categorical(all_features['wind_direction_category'], categories=wind_direction_order, ordered=True)"
   ]
  },
  {
   "cell_type": "code",
   "execution_count": 15,
   "metadata": {},
   "outputs": [
    {
     "name": "stderr",
     "output_type": "stream",
     "text": [
      "C:\\Users\\fangshuye\\AppData\\Local\\Temp\\ipykernel_34428\\3392402745.py:2: FutureWarning: The default of observed=False is deprecated and will be changed to True in a future version of pandas. Pass observed=False to retain current behavior or observed=True to adopt the future default and silence this warning.\n",
      "  all_features.groupby('wind_direction_category').agg(\n"
     ]
    },
    {
     "data": {
      "text/html": [
       "<div>\n",
       "<style scoped>\n",
       "    .dataframe tbody tr th:only-of-type {\n",
       "        vertical-align: middle;\n",
       "    }\n",
       "\n",
       "    .dataframe tbody tr th {\n",
       "        vertical-align: top;\n",
       "    }\n",
       "\n",
       "    .dataframe thead th {\n",
       "        text-align: right;\n",
       "    }\n",
       "</style>\n",
       "<table border=\"1\" class=\"dataframe\">\n",
       "  <thead>\n",
       "    <tr style=\"text-align: right;\">\n",
       "      <th></th>\n",
       "      <th>wind_direction_category</th>\n",
       "      <th>wind_from_direction_min</th>\n",
       "      <th>wind_from_direction_max</th>\n",
       "      <th>count</th>\n",
       "    </tr>\n",
       "  </thead>\n",
       "  <tbody>\n",
       "    <tr>\n",
       "      <th>0</th>\n",
       "      <td>N</td>\n",
       "      <td>0.0</td>\n",
       "      <td>360.0</td>\n",
       "      <td>14076527</td>\n",
       "    </tr>\n",
       "    <tr>\n",
       "      <th>1</th>\n",
       "      <td>NE</td>\n",
       "      <td>23.0</td>\n",
       "      <td>67.0</td>\n",
       "      <td>8588427</td>\n",
       "    </tr>\n",
       "    <tr>\n",
       "      <th>2</th>\n",
       "      <td>E</td>\n",
       "      <td>68.0</td>\n",
       "      <td>112.0</td>\n",
       "      <td>6781408</td>\n",
       "    </tr>\n",
       "    <tr>\n",
       "      <th>3</th>\n",
       "      <td>SE</td>\n",
       "      <td>113.0</td>\n",
       "      <td>157.0</td>\n",
       "      <td>10112788</td>\n",
       "    </tr>\n",
       "    <tr>\n",
       "      <th>4</th>\n",
       "      <td>S</td>\n",
       "      <td>158.0</td>\n",
       "      <td>202.0</td>\n",
       "      <td>18898187</td>\n",
       "    </tr>\n",
       "    <tr>\n",
       "      <th>5</th>\n",
       "      <td>SW</td>\n",
       "      <td>203.0</td>\n",
       "      <td>247.0</td>\n",
       "      <td>24280011</td>\n",
       "    </tr>\n",
       "    <tr>\n",
       "      <th>6</th>\n",
       "      <td>W</td>\n",
       "      <td>248.0</td>\n",
       "      <td>292.0</td>\n",
       "      <td>20345834</td>\n",
       "    </tr>\n",
       "    <tr>\n",
       "      <th>7</th>\n",
       "      <td>NW</td>\n",
       "      <td>293.0</td>\n",
       "      <td>337.0</td>\n",
       "      <td>24054287</td>\n",
       "    </tr>\n",
       "  </tbody>\n",
       "</table>\n",
       "</div>"
      ],
      "text/plain": [
       "  wind_direction_category  wind_from_direction_min  wind_from_direction_max  \\\n",
       "0                       N                      0.0                    360.0   \n",
       "1                      NE                     23.0                     67.0   \n",
       "2                       E                     68.0                    112.0   \n",
       "3                      SE                    113.0                    157.0   \n",
       "4                       S                    158.0                    202.0   \n",
       "5                      SW                    203.0                    247.0   \n",
       "6                       W                    248.0                    292.0   \n",
       "7                      NW                    293.0                    337.0   \n",
       "\n",
       "      count  \n",
       "0  14076527  \n",
       "1   8588427  \n",
       "2   6781408  \n",
       "3  10112788  \n",
       "4  18898187  \n",
       "5  24280011  \n",
       "6  20345834  \n",
       "7  24054287  "
      ]
     },
     "execution_count": 15,
     "metadata": {},
     "output_type": "execute_result"
    }
   ],
   "source": [
    "# group by wind_direction_category and calculate the min, max and count for each group\n",
    "all_features.groupby('wind_direction_category').agg(\n",
    "    wind_from_direction_min=('wind_from_direction', 'min'),\n",
    "    wind_from_direction_max=('wind_from_direction', 'max'),\n",
    "    count=('wind_from_direction', 'count')\n",
    ").reset_index()"
   ]
  },
  {
   "cell_type": "code",
   "execution_count": 16,
   "metadata": {},
   "outputs": [],
   "source": [
    "log_messages.append(\"=\" * 50)\n",
    "log_messages.append(f\"Wind direction categories is created with mapping: {wind_direction_ranges}\")"
   ]
  },
  {
   "cell_type": "markdown",
   "metadata": {},
   "source": [
    "### Check air temperature"
   ]
  },
  {
   "cell_type": "code",
   "execution_count": 18,
   "metadata": {},
   "outputs": [],
   "source": [
    "check_rows = all_features[all_features['max_air_temperature'] < all_features['min_air_temperature']]\n",
    "if not check_rows.empty:\n",
    "    log_messages.append(f\"Warning: Found {len(check_rows)} rows where max_air_temperature is less than min_air_temperature.\")"
   ]
  },
  {
   "cell_type": "code",
   "execution_count": 22,
   "metadata": {},
   "outputs": [],
   "source": [
    "all_features['max_air_temperature'] = np.where(all_features['max_air_temperature'] < all_features['min_air_temperature'], all_features['min_air_temperature'], all_features['max_air_temperature'])"
   ]
  },
  {
   "cell_type": "code",
   "execution_count": 21,
   "metadata": {},
   "outputs": [],
   "source": [
    "log_messages.append(\"for those rows, max_air_temperature is set to min_air_temperature\")"
   ]
  },
  {
   "cell_type": "code",
   "execution_count": 24,
   "metadata": {},
   "outputs": [
    {
     "data": {
      "text/plain": [
       "day                                          datetime64[ns]\n",
       "lat                                                 float64\n",
       "lon                                                 float64\n",
       "SWE                                                 float32\n",
       "year                                                  int32\n",
       "dead_fuel_moisture_1000hr                           float32\n",
       "dead_fuel_moisture_100hr                            float32\n",
       "max_air_temperature                                 float64\n",
       "max_relative_humidity                               float32\n",
       "min_air_temperature                                 float64\n",
       "min_relative_humidity                               float32\n",
       "precipitation_amount                                float32\n",
       "specific_humidity                                   float32\n",
       "surface_downwelling_shortwave_flux_in_air           float32\n",
       "wind_from_direction                                 float32\n",
       "wind_speed                                          float32\n",
       "population_density                                  float64\n",
       "LAI                                                 float64\n",
       "wind_direction_category                            category\n",
       "dtype: object"
      ]
     },
     "execution_count": 24,
     "metadata": {},
     "output_type": "execute_result"
    }
   ],
   "source": [
    "all_features.dtypes"
   ]
  },
  {
   "cell_type": "markdown",
   "metadata": {},
   "source": [
    "### Check relative_humidity"
   ]
  },
  {
   "cell_type": "code",
   "execution_count": 25,
   "metadata": {},
   "outputs": [],
   "source": [
    "check_rows = all_features[all_features['max_relative_humidity'] < all_features['min_relative_humidity']]\n",
    "if not check_rows.empty:\n",
    "    log_messages.append(f\"Warning: Found {len(check_rows)} rows where max_relative_humidity is less than min_relative_humidity.\")"
   ]
  },
  {
   "cell_type": "code",
   "execution_count": 27,
   "metadata": {},
   "outputs": [
    {
     "data": {
      "text/plain": [
       "0"
      ]
     },
     "execution_count": 27,
     "metadata": {},
     "output_type": "execute_result"
    }
   ],
   "source": [
    "check_rows.shape[0]"
   ]
  },
  {
   "cell_type": "markdown",
   "metadata": {},
   "source": [
    "### Check weather grid in between old source and extended data"
   ]
  },
  {
   "cell_type": "code",
   "execution_count": null,
   "metadata": {},
   "outputs": [],
   "source": [
    "all_features_1994 = all_features[all_features['day'] == '1994-01-01']\n",
    "all_features_1994 = all_features_1994[['lat','lon']].drop_duplicates()\n",
    "all_features_2006 = all_features[all_features['day'] == '2006-01-01']\n",
    "all_features_2006 = all_features_2006[['lat','lon']].drop_duplicates()"
   ]
  },
  {
   "cell_type": "code",
   "execution_count": 35,
   "metadata": {},
   "outputs": [
    {
     "data": {
      "text/plain": [
       "True"
      ]
     },
     "execution_count": 35,
     "metadata": {},
     "output_type": "execute_result"
    }
   ],
   "source": [
    "all_features_1994.shape == all_features_2006.shape"
   ]
  },
  {
   "cell_type": "markdown",
   "metadata": {},
   "source": [
    "confirmed that good!"
   ]
  },
  {
   "cell_type": "markdown",
   "metadata": {},
   "source": [
    "## Fill NA"
   ]
  },
  {
   "cell_type": "code",
   "execution_count": 28,
   "metadata": {},
   "outputs": [
    {
     "data": {
      "text/plain": [
       "precipitation_amount                         0.573698\n",
       "LAI                                          0.030399\n",
       "SWE                                          0.017091\n",
       "wind_direction_category                      0.002679\n",
       "wind_from_direction                          0.002679\n",
       "min_relative_humidity                        0.001678\n",
       "specific_humidity                            0.001678\n",
       "wind_speed                                   0.001678\n",
       "dead_fuel_moisture_1000hr                    0.001678\n",
       "dead_fuel_moisture_100hr                     0.001678\n",
       "max_relative_humidity                        0.001678\n",
       "surface_downwelling_shortwave_flux_in_air    0.001678\n",
       "min_air_temperature                          0.001169\n",
       "max_air_temperature                          0.001169\n",
       "population_density                           0.000766\n",
       "dtype: float64"
      ]
     },
     "execution_count": 28,
     "metadata": {},
     "output_type": "execute_result"
    }
   ],
   "source": [
    "# checking the missing rate in all columns\n",
    "missing_rate = all_features.isnull().mean().sort_values(ascending=False)\n",
    "# only keep columns with non-zero missing rate\n",
    "missing_rate = missing_rate[missing_rate > 0]\n",
    "missing_rate"
   ]
  },
  {
   "cell_type": "code",
   "execution_count": 36,
   "metadata": {},
   "outputs": [],
   "source": [
    "# fill na in precipitation_amount with 0\n",
    "all_features['precipitation_amount'] = all_features['precipitation_amount'].fillna(0)\n",
    "# fill na in LAI with 0\n",
    "all_features['LAI'] = all_features['LAI'].fillna(0)\n",
    "# fill na in population_density with 0\n",
    "all_features['population_density'] = all_features['population_density'].fillna(0)"
   ]
  },
  {
   "cell_type": "code",
   "execution_count": 37,
   "metadata": {},
   "outputs": [],
   "source": [
    "log_messages.append(\"=\" * 50)\n",
    "log_messages.append(f\"cols that are missing:\\n{missing_rate}\")\n",
    "log_messages.append(\"=\" * 50)\n",
    "log_messages.append(f\"Deal with missing value\")\n",
    "log_messages.append(\"Filled NA values in precipitation_amount, LAI, and population_density with 0.\")"
   ]
  },
  {
   "cell_type": "code",
   "execution_count": 39,
   "metadata": {},
   "outputs": [],
   "source": [
    "# fill na in SWE with 0\n",
    "all_features['SWE'] = all_features['SWE'].fillna(0)\n",
    "log_messages.append(\"Filled NA values in SWE with 0.\")"
   ]
  },
  {
   "cell_type": "code",
   "execution_count": 40,
   "metadata": {},
   "outputs": [],
   "source": [
    "col_missing = ['dead_fuel_moisture_1000hr','dead_fuel_moisture_100hr',\n",
    "               'max_relative_humidity', 'min_relative_humidity','specific_humidity','surface_downwelling_shortwave_flux_in_air',\n",
    "               'wind_speed','wind_from_direction','wind_direction_category',\n",
    "               'max_air_temperature', 'min_air_temperature']\n",
    "# for col in col_missing, remove the rows with missing values\n",
    "for col in col_missing:\n",
    "    all_features = all_features[all_features[col].notna()]\n",
    "    log_messages.append(f\"Removed rows with missing values in {col} column. Remaining rows: {all_features.shape[0]}\")"
   ]
  },
  {
   "cell_type": "code",
   "execution_count": 41,
   "metadata": {},
   "outputs": [
    {
     "data": {
      "text/plain": [
       "day                                          0\n",
       "lat                                          0\n",
       "lon                                          0\n",
       "SWE                                          0\n",
       "year                                         0\n",
       "dead_fuel_moisture_1000hr                    0\n",
       "dead_fuel_moisture_100hr                     0\n",
       "max_air_temperature                          0\n",
       "max_relative_humidity                        0\n",
       "min_air_temperature                          0\n",
       "min_relative_humidity                        0\n",
       "precipitation_amount                         0\n",
       "specific_humidity                            0\n",
       "surface_downwelling_shortwave_flux_in_air    0\n",
       "wind_from_direction                          0\n",
       "wind_speed                                   0\n",
       "population_density                           0\n",
       "LAI                                          0\n",
       "wind_direction_category                      0\n",
       "dtype: int64"
      ]
     },
     "execution_count": 41,
     "metadata": {},
     "output_type": "execute_result"
    }
   ],
   "source": [
    "all_features.isnull().sum()"
   ]
  },
  {
   "cell_type": "code",
   "execution_count": 42,
   "metadata": {},
   "outputs": [],
   "source": [
    "input_path = '../../Clean_Data/Extended_Feature_Data/'\n",
    "file_name =  'Weather_Data_w_Veg_SubRegion_Filter_Merged_Add_population_lai_Completed.parquet'\n",
    "all_features.to_parquet(os.path.join(input_path, file_name), index=False)"
   ]
  },
  {
   "cell_type": "code",
   "execution_count": 43,
   "metadata": {},
   "outputs": [],
   "source": [
    "log_save_path = '../../Logs/Clean_Extended_Data/'\n",
    "# Ensure the log directory exists\n",
    "if not os.path.exists(log_save_path):\n",
    "    os.makedirs(log_save_path)\n",
    "with open(f'{log_save_path}/assign_wind_direction_and_deal_missing_rows.txt', 'w') as log_file:\n",
    "    log_file.write('\\n'.join(log_messages))"
   ]
  },
  {
   "cell_type": "code",
   "execution_count": null,
   "metadata": {},
   "outputs": [],
   "source": []
  }
 ],
 "metadata": {
  "kernelspec": {
   "display_name": "py311",
   "language": "python",
   "name": "python3"
  },
  "language_info": {
   "codemirror_mode": {
    "name": "ipython",
    "version": 3
   },
   "file_extension": ".py",
   "mimetype": "text/x-python",
   "name": "python",
   "nbconvert_exporter": "python",
   "pygments_lexer": "ipython3",
   "version": "3.11.9"
  }
 },
 "nbformat": 4,
 "nbformat_minor": 2
}
