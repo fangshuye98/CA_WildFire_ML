{
 "cells": [
  {
   "cell_type": "code",
   "execution_count": 1,
   "metadata": {},
   "outputs": [],
   "source": [
    "import pandas as pd\n",
    "import geopandas as gpd\n",
    "import xarray as xr\n",
    "import pyproj\n",
    "from tqdm import tqdm\n",
    "import numpy as np"
   ]
  },
  {
   "cell_type": "code",
   "execution_count": 2,
   "metadata": {},
   "outputs": [],
   "source": [
    "import os\n",
    "import matplotlib.pyplot as plt\n",
    "import cartopy.crs as ccrs\n",
    "import cartopy.feature as cfeature"
   ]
  },
  {
   "cell_type": "code",
   "execution_count": 3,
   "metadata": {},
   "outputs": [
    {
     "name": "stdout",
     "output_type": "stream",
     "text": [
      "Python version\n",
      "3.11.9 | packaged by Anaconda, Inc. | (main, Apr 19 2024, 16:40:41) [MSC v.1916 64 bit (AMD64)]\n",
      "Pandas version\n",
      "2.2.2\n",
      "Geopandas version\n",
      "0.14.2\n",
      "Xarray version\n",
      "2023.6.0\n",
      "Pyproj version\n",
      "3.6.1\n"
     ]
    }
   ],
   "source": [
    "# check python version and all packages version\n",
    "def check_python_version():\n",
    "    import sys\n",
    "    print(\"Python version\")\n",
    "    print (sys.version)\n",
    "    print(\"Pandas version\")\n",
    "    print(pd.__version__)\n",
    "    print(\"Geopandas version\")\n",
    "    print(gpd.__version__)\n",
    "    print(\"Xarray version\")\n",
    "    print(xr.__version__)\n",
    "    print(\"Pyproj version\")\n",
    "    print(pyproj.__version__)\n",
    "\n",
    "check_python_version()"
   ]
  },
  {
   "cell_type": "code",
   "execution_count": 9,
   "metadata": {},
   "outputs": [
    {
     "data": {
      "text/plain": [
       "0"
      ]
     },
     "execution_count": 9,
     "metadata": {},
     "output_type": "execute_result"
    }
   ],
   "source": [
    "# Force garbage collection\n",
    "import gc\n",
    "gc.collect()"
   ]
  },
  {
   "cell_type": "code",
   "execution_count": 10,
   "metadata": {},
   "outputs": [],
   "source": [
    "fire_label = pd.read_parquet('../Clean_Data/Fire_Data/calfire_fod_fpa_2001_2020_fire_label_w_size.parquet')"
   ]
  },
  {
   "cell_type": "code",
   "execution_count": 11,
   "metadata": {},
   "outputs": [
    {
     "data": {
      "text/plain": [
       "(126571680, 7)"
      ]
     },
     "execution_count": 11,
     "metadata": {},
     "output_type": "execute_result"
    }
   ],
   "source": [
    "fire_label.shape"
   ]
  },
  {
   "cell_type": "code",
   "execution_count": 12,
   "metadata": {},
   "outputs": [
    {
     "data": {
      "text/plain": [
       "lon                                 float64\n",
       "lat                                 float64\n",
       "day                          datetime64[ns]\n",
       "IS_FIRE                               int32\n",
       "NWCG_CAUSE_CLASSIFICATION            object\n",
       "min_FIRE_SIZE                       float64\n",
       "max_FIRE_SIZE                       float64\n",
       "dtype: object"
      ]
     },
     "execution_count": 12,
     "metadata": {},
     "output_type": "execute_result"
    }
   ],
   "source": [
    "fire_label.dtypes"
   ]
  },
  {
   "cell_type": "code",
   "execution_count": 13,
   "metadata": {},
   "outputs": [
    {
     "data": {
      "text/html": [
       "<div>\n",
       "<style scoped>\n",
       "    .dataframe tbody tr th:only-of-type {\n",
       "        vertical-align: middle;\n",
       "    }\n",
       "\n",
       "    .dataframe tbody tr th {\n",
       "        vertical-align: top;\n",
       "    }\n",
       "\n",
       "    .dataframe thead th {\n",
       "        text-align: right;\n",
       "    }\n",
       "</style>\n",
       "<table border=\"1\" class=\"dataframe\">\n",
       "  <thead>\n",
       "    <tr style=\"text-align: right;\">\n",
       "      <th></th>\n",
       "      <th>lon</th>\n",
       "      <th>lat</th>\n",
       "      <th>day</th>\n",
       "      <th>IS_FIRE</th>\n",
       "      <th>NWCG_CAUSE_CLASSIFICATION</th>\n",
       "      <th>min_FIRE_SIZE</th>\n",
       "      <th>max_FIRE_SIZE</th>\n",
       "    </tr>\n",
       "  </thead>\n",
       "  <tbody>\n",
       "    <tr>\n",
       "      <th>0</th>\n",
       "      <td>-124.391667</td>\n",
       "      <td>40.441667</td>\n",
       "      <td>2001-01-01</td>\n",
       "      <td>0</td>\n",
       "      <td>None</td>\n",
       "      <td>0.0</td>\n",
       "      <td>0.0</td>\n",
       "    </tr>\n",
       "    <tr>\n",
       "      <th>1</th>\n",
       "      <td>-124.391667</td>\n",
       "      <td>40.441667</td>\n",
       "      <td>2001-01-02</td>\n",
       "      <td>0</td>\n",
       "      <td>None</td>\n",
       "      <td>0.0</td>\n",
       "      <td>0.0</td>\n",
       "    </tr>\n",
       "    <tr>\n",
       "      <th>2</th>\n",
       "      <td>-124.391667</td>\n",
       "      <td>40.441667</td>\n",
       "      <td>2001-01-03</td>\n",
       "      <td>0</td>\n",
       "      <td>None</td>\n",
       "      <td>0.0</td>\n",
       "      <td>0.0</td>\n",
       "    </tr>\n",
       "    <tr>\n",
       "      <th>3</th>\n",
       "      <td>-124.391667</td>\n",
       "      <td>40.441667</td>\n",
       "      <td>2001-01-04</td>\n",
       "      <td>0</td>\n",
       "      <td>None</td>\n",
       "      <td>0.0</td>\n",
       "      <td>0.0</td>\n",
       "    </tr>\n",
       "    <tr>\n",
       "      <th>4</th>\n",
       "      <td>-124.391667</td>\n",
       "      <td>40.441667</td>\n",
       "      <td>2001-01-05</td>\n",
       "      <td>0</td>\n",
       "      <td>None</td>\n",
       "      <td>0.0</td>\n",
       "      <td>0.0</td>\n",
       "    </tr>\n",
       "  </tbody>\n",
       "</table>\n",
       "</div>"
      ],
      "text/plain": [
       "          lon        lat        day  IS_FIRE NWCG_CAUSE_CLASSIFICATION  \\\n",
       "0 -124.391667  40.441667 2001-01-01        0                      None   \n",
       "1 -124.391667  40.441667 2001-01-02        0                      None   \n",
       "2 -124.391667  40.441667 2001-01-03        0                      None   \n",
       "3 -124.391667  40.441667 2001-01-04        0                      None   \n",
       "4 -124.391667  40.441667 2001-01-05        0                      None   \n",
       "\n",
       "   min_FIRE_SIZE  max_FIRE_SIZE  \n",
       "0            0.0            0.0  \n",
       "1            0.0            0.0  \n",
       "2            0.0            0.0  \n",
       "3            0.0            0.0  \n",
       "4            0.0            0.0  "
      ]
     },
     "execution_count": 13,
     "metadata": {},
     "output_type": "execute_result"
    }
   ],
   "source": [
    "fire_label.head()"
   ]
  },
  {
   "cell_type": "code",
   "execution_count": 14,
   "metadata": {},
   "outputs": [
    {
     "data": {
      "text/plain": [
       "(Timestamp('2001-01-01 00:00:00'), Timestamp('2020-12-31 00:00:00'))"
      ]
     },
     "execution_count": 14,
     "metadata": {},
     "output_type": "execute_result"
    }
   ],
   "source": [
    "# check min and max of the day\n",
    "fire_label['day'].min(), fire_label['day'].max()"
   ]
  },
  {
   "cell_type": "markdown",
   "metadata": {},
   "source": [
    "CONFIRMED. AS EXPECTED. NO FIRE LABEL AFTER 2020"
   ]
  },
  {
   "cell_type": "code",
   "execution_count": 16,
   "metadata": {},
   "outputs": [
    {
     "data": {
      "text/plain": [
       "Year\n",
       "2004    6388855\n",
       "2002    6371811\n",
       "2001    6368061\n",
       "2003    6367296\n",
       "2014    6363672\n",
       "2016    6351446\n",
       "2013    6350317\n",
       "2015    6350163\n",
       "2012    6332613\n",
       "2005    6329204\n",
       "2017    6323457\n",
       "2018    6320812\n",
       "2019    6318460\n",
       "2010    6309207\n",
       "2006    6305972\n",
       "2011    6294488\n",
       "2020    6293301\n",
       "2009    6288737\n",
       "2008    6281645\n",
       "2007    6262163\n",
       "Name: count, dtype: int64"
      ]
     },
     "execution_count": 16,
     "metadata": {},
     "output_type": "execute_result"
    }
   ],
   "source": [
    "# Add a column Year to the dataframe\n",
    "fire_label['Year'] = fire_label['day'].dt.year\n",
    "fire_label['Year'].value_counts()"
   ]
  },
  {
   "cell_type": "code",
   "execution_count": 17,
   "metadata": {},
   "outputs": [],
   "source": [
    "# save the data by Year\n",
    "for year in range(2001, 2021):\n",
    "    fire_label[fire_label['Year'] == year].to_parquet(f'../Clean_Data/Model_Data/Evaluation/Fire_Label/calfire_fod_fpa_{year}_fire_label_w_size.parquet')"
   ]
  },
  {
   "cell_type": "code",
   "execution_count": 19,
   "metadata": {},
   "outputs": [
    {
     "data": {
      "text/plain": [
       "0.11995890391910734"
      ]
     },
     "execution_count": 19,
     "metadata": {},
     "output_type": "execute_result"
    }
   ],
   "source": [
    "# check mean of IS_FIRE\n",
    "fire_label['IS_FIRE'].mean()*100"
   ]
  },
  {
   "cell_type": "code",
   "execution_count": 23,
   "metadata": {},
   "outputs": [],
   "source": [
    "fire_0 = fire_label[fire_label['IS_FIRE'] == 0]\n",
    "fire_1 = fire_label[fire_label['IS_FIRE'] == 1]\n",
    "fire_0 = fire_0.sample(n=100*len(fire_1), random_state=1)\n",
    "fire_label = pd.concat([fire_0, fire_1])\n",
    "# fire_label.to_parquet(f'../Clean_Data/Model_Data/Downsample/Fire_Label/calfire_fod_fpa_{year}_fire_label_w_size_downsample.parquet')"
   ]
  },
  {
   "cell_type": "code",
   "execution_count": 26,
   "metadata": {},
   "outputs": [],
   "source": [
    "fire_label.to_parquet(f'../Clean_Data/Model_Data/Downsample/Fire_Label/calfire_fod_fpa_2001_2020_fire_label_w_size_downsample.parquet')"
   ]
  },
  {
   "cell_type": "code",
   "execution_count": 24,
   "metadata": {},
   "outputs": [
    {
     "data": {
      "text/plain": [
       "Year\n",
       "2004    773255\n",
       "2001    772091\n",
       "2014    771848\n",
       "2003    770840\n",
       "2016    768860\n",
       "2002    768633\n",
       "2015    768244\n",
       "2013    767888\n",
       "2005    767770\n",
       "2017    767543\n",
       "2012    766053\n",
       "2018    765725\n",
       "2006    765484\n",
       "2010    764617\n",
       "2019    764282\n",
       "2020    764017\n",
       "2009    762709\n",
       "2011    762375\n",
       "2007    762073\n",
       "2008    760927\n",
       "Name: count, dtype: int64"
      ]
     },
     "execution_count": 24,
     "metadata": {},
     "output_type": "execute_result"
    }
   ],
   "source": [
    "fire_label['Year'].value_counts()"
   ]
  },
  {
   "cell_type": "code",
   "execution_count": 25,
   "metadata": {},
   "outputs": [
    {
     "data": {
      "text/plain": [
       "IS_FIRE\n",
       "0    15183400\n",
       "1      151834\n",
       "Name: count, dtype: int64"
      ]
     },
     "execution_count": 25,
     "metadata": {},
     "output_type": "execute_result"
    }
   ],
   "source": [
    "fire_label['IS_FIRE'].value_counts()"
   ]
  },
  {
   "cell_type": "code",
   "execution_count": 15,
   "metadata": {},
   "outputs": [],
   "source": [
    "# for year in range(2001, 2021):\n",
    "#     # read the data\n",
    "#     fire_label = pd.read_parquet(f'../Clean_Data/Fire_Data/calfire_fod_fpa_{year}_fire_label_w_size.parquet')\n",
    "#     # add month column\n",
    "#     #fire_label['Month'] = fire_label['day'].dt.month\n",
    "#     fire_0 = fire_label[fire_label['IS_FIRE'] == 0]\n",
    "#     fire_1 = fire_label[fire_label['IS_FIRE'] == 1]\n",
    "#     # downsample fire_0 by only keep 10*len(fire_1) samples\n",
    "#     fire_0 = fire_0.sample(n=100*len(fire_1), random_state=1)\n",
    "#     # combine fire_0 and fire_1\n",
    "#     fire_label = pd.concat([fire_0, fire_1])\n",
    "#     # drop month column\n",
    "#     #fire_label = fire_label.drop(columns=['Month'])\n",
    "#     # save the data\n",
    "#     fire_label.to_parquet(f'../Clean_Data/Model_Data/Downsample/Fire_Label/calfire_fod_fpa_{year}_fire_label_w_size_downsample.parquet')"
   ]
  },
  {
   "cell_type": "code",
   "execution_count": null,
   "metadata": {},
   "outputs": [],
   "source": []
  }
 ],
 "metadata": {
  "kernelspec": {
   "display_name": "py311",
   "language": "python",
   "name": "python3"
  },
  "language_info": {
   "codemirror_mode": {
    "name": "ipython",
    "version": 3
   },
   "file_extension": ".py",
   "mimetype": "text/x-python",
   "name": "python",
   "nbconvert_exporter": "python",
   "pygments_lexer": "ipython3",
   "version": "3.11.9"
  }
 },
 "nbformat": 4,
 "nbformat_minor": 2
}
