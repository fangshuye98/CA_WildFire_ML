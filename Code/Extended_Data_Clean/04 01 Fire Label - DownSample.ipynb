{
 "cells": [
  {
   "cell_type": "code",
   "execution_count": 1,
   "metadata": {},
   "outputs": [],
   "source": [
    "import pandas as pd\n",
    "import geopandas as gpd\n",
    "import xarray as xr\n",
    "import pyproj\n",
    "from tqdm import tqdm\n",
    "import numpy as np"
   ]
  },
  {
   "cell_type": "code",
   "execution_count": 2,
   "metadata": {},
   "outputs": [],
   "source": [
    "import os\n",
    "import matplotlib.pyplot as plt"
   ]
  },
  {
   "cell_type": "code",
   "execution_count": 3,
   "metadata": {},
   "outputs": [
    {
     "name": "stdout",
     "output_type": "stream",
     "text": [
      "Python version\n",
      "3.11.9 | packaged by Anaconda, Inc. | (main, Apr 19 2024, 16:40:41) [MSC v.1916 64 bit (AMD64)]\n",
      "Pandas version\n",
      "2.2.2\n",
      "Pyproj version\n",
      "3.6.1\n"
     ]
    }
   ],
   "source": [
    "# check python version and all packages version\n",
    "def check_python_version():\n",
    "    import sys\n",
    "    print(\"Python version\")\n",
    "    print (sys.version)\n",
    "    print(\"Pandas version\")\n",
    "    print(pd.__version__)\n",
    "    print(\"Pyproj version\")\n",
    "    print(pyproj.__version__)\n",
    "\n",
    "check_python_version()"
   ]
  },
  {
   "cell_type": "code",
   "execution_count": 4,
   "metadata": {},
   "outputs": [
    {
     "data": {
      "text/plain": [
       "0"
      ]
     },
     "execution_count": 4,
     "metadata": {},
     "output_type": "execute_result"
    }
   ],
   "source": [
    "# Force garbage collection\n",
    "import gc\n",
    "gc.collect()"
   ]
  },
  {
   "cell_type": "code",
   "execution_count": 5,
   "metadata": {},
   "outputs": [],
   "source": [
    "input_fire_dir = '../../Clean_Data/Fire_Data/Extended_Fire_Data/'\n",
    "file_name = 'calfire_fod_fpa_1994_2020_fire_label.parquet'\n",
    "fire_label = pd.read_parquet(os.path.join(input_fire_dir, file_name))"
   ]
  },
  {
   "cell_type": "code",
   "execution_count": 6,
   "metadata": {},
   "outputs": [
    {
     "data": {
      "text/plain": [
       "(127833607, 6)"
      ]
     },
     "execution_count": 6,
     "metadata": {},
     "output_type": "execute_result"
    }
   ],
   "source": [
    "fire_label.shape"
   ]
  },
  {
   "cell_type": "code",
   "execution_count": 7,
   "metadata": {},
   "outputs": [
    {
     "data": {
      "text/plain": [
       "lon                     float64\n",
       "lat                     float64\n",
       "day              datetime64[ns]\n",
       "IS_FIRE                   int32\n",
       "min_FIRE_SIZE           float64\n",
       "max_FIRE_SIZE           float64\n",
       "dtype: object"
      ]
     },
     "execution_count": 7,
     "metadata": {},
     "output_type": "execute_result"
    }
   ],
   "source": [
    "fire_label.dtypes"
   ]
  },
  {
   "cell_type": "code",
   "execution_count": 8,
   "metadata": {},
   "outputs": [
    {
     "data": {
      "text/html": [
       "<div>\n",
       "<style scoped>\n",
       "    .dataframe tbody tr th:only-of-type {\n",
       "        vertical-align: middle;\n",
       "    }\n",
       "\n",
       "    .dataframe tbody tr th {\n",
       "        vertical-align: top;\n",
       "    }\n",
       "\n",
       "    .dataframe thead th {\n",
       "        text-align: right;\n",
       "    }\n",
       "</style>\n",
       "<table border=\"1\" class=\"dataframe\">\n",
       "  <thead>\n",
       "    <tr style=\"text-align: right;\">\n",
       "      <th></th>\n",
       "      <th>lon</th>\n",
       "      <th>lat</th>\n",
       "      <th>day</th>\n",
       "      <th>IS_FIRE</th>\n",
       "      <th>min_FIRE_SIZE</th>\n",
       "      <th>max_FIRE_SIZE</th>\n",
       "    </tr>\n",
       "  </thead>\n",
       "  <tbody>\n",
       "    <tr>\n",
       "      <th>0</th>\n",
       "      <td>-124.391667</td>\n",
       "      <td>40.441667</td>\n",
       "      <td>1994-01-01</td>\n",
       "      <td>0</td>\n",
       "      <td>0.0</td>\n",
       "      <td>0.0</td>\n",
       "    </tr>\n",
       "    <tr>\n",
       "      <th>1</th>\n",
       "      <td>-124.391667</td>\n",
       "      <td>40.441667</td>\n",
       "      <td>1994-01-02</td>\n",
       "      <td>0</td>\n",
       "      <td>0.0</td>\n",
       "      <td>0.0</td>\n",
       "    </tr>\n",
       "    <tr>\n",
       "      <th>2</th>\n",
       "      <td>-124.391667</td>\n",
       "      <td>40.441667</td>\n",
       "      <td>1994-01-03</td>\n",
       "      <td>0</td>\n",
       "      <td>0.0</td>\n",
       "      <td>0.0</td>\n",
       "    </tr>\n",
       "    <tr>\n",
       "      <th>3</th>\n",
       "      <td>-124.391667</td>\n",
       "      <td>40.441667</td>\n",
       "      <td>1994-01-04</td>\n",
       "      <td>0</td>\n",
       "      <td>0.0</td>\n",
       "      <td>0.0</td>\n",
       "    </tr>\n",
       "    <tr>\n",
       "      <th>4</th>\n",
       "      <td>-124.391667</td>\n",
       "      <td>40.441667</td>\n",
       "      <td>1994-01-05</td>\n",
       "      <td>0</td>\n",
       "      <td>0.0</td>\n",
       "      <td>0.0</td>\n",
       "    </tr>\n",
       "  </tbody>\n",
       "</table>\n",
       "</div>"
      ],
      "text/plain": [
       "          lon        lat        day  IS_FIRE  min_FIRE_SIZE  max_FIRE_SIZE\n",
       "0 -124.391667  40.441667 1994-01-01        0            0.0            0.0\n",
       "1 -124.391667  40.441667 1994-01-02        0            0.0            0.0\n",
       "2 -124.391667  40.441667 1994-01-03        0            0.0            0.0\n",
       "3 -124.391667  40.441667 1994-01-04        0            0.0            0.0\n",
       "4 -124.391667  40.441667 1994-01-05        0            0.0            0.0"
      ]
     },
     "execution_count": 8,
     "metadata": {},
     "output_type": "execute_result"
    }
   ],
   "source": [
    "fire_label.head()"
   ]
  },
  {
   "cell_type": "code",
   "execution_count": 9,
   "metadata": {},
   "outputs": [
    {
     "data": {
      "text/plain": [
       "(Timestamp('1994-01-01 00:00:00'), Timestamp('2020-12-31 00:00:00'))"
      ]
     },
     "execution_count": 9,
     "metadata": {},
     "output_type": "execute_result"
    }
   ],
   "source": [
    "# check min and max of the day\n",
    "fire_label['day'].min(), fire_label['day'].max()"
   ]
  },
  {
   "cell_type": "code",
   "execution_count": 10,
   "metadata": {},
   "outputs": [
    {
     "data": {
      "text/plain": [
       "0.07196855518596139"
      ]
     },
     "execution_count": 10,
     "metadata": {},
     "output_type": "execute_result"
    }
   ],
   "source": [
    "# check mean of IS_FIRE\n",
    "fire_label['IS_FIRE'].mean()*100"
   ]
  },
  {
   "cell_type": "markdown",
   "metadata": {},
   "source": [
    "## Save water year fire label"
   ]
  },
  {
   "cell_type": "code",
   "execution_count": 14,
   "metadata": {},
   "outputs": [],
   "source": [
    "save_path = '../../Clean_Data/Model_Data/Evaluation/Fire_Label/Water_Year'\n",
    "if not os.path.exists(save_path):\n",
    "    os.makedirs(save_path)"
   ]
  },
  {
   "cell_type": "code",
   "execution_count": 15,
   "metadata": {},
   "outputs": [
    {
     "name": "stderr",
     "output_type": "stream",
     "text": [
      "Processing Water Years: 100%|██████████| 26/26 [01:14<00:00,  2.88s/it]\n"
     ]
    }
   ],
   "source": [
    "log_messages = []\n",
    "log_messages.append(f\"Log messages for processing water years: {pd.Timestamp.now()}\")\n",
    "\n",
    "for year in tqdm(range(1995, 2021), desc=\"Processing Water Years\"):\n",
    "\n",
    "    # add separator line\n",
    "    log_messages.append(\"-\" * 50)\n",
    "    # Define the start and end dates for the water year\n",
    "    start_date = pd.Timestamp(year=year -1, month=10, day=1)\n",
    "    end_date = pd.Timestamp(year=year, month=9, day=30)\n",
    "\n",
    "    # Filter the fire_label DataFrame for the current water year\n",
    "    fire_label_wy = fire_label[(fire_label['day'] >= start_date) & (fire_label['day'] <= end_date)]\n",
    "\n",
    "    # Save the filtered DataFrame to a parquet file\n",
    "    file_path = os.path.join(save_path, f'calfire_fod_fpa_fire_label_wy_{year}.parquet')\n",
    "    fire_label_wy.to_parquet(file_path)\n",
    "\n",
    "    log_messages.append(f\"Processed water year {year}: {len(fire_label_wy)} records saved to {file_path}\")\n",
    "    # log the min and max of the day\n",
    "    log_messages.append(f\"Water year {year} - Min day: {fire_label_wy['day'].min()}, Max day: {fire_label_wy['day'].max()}\")"
   ]
  },
  {
   "cell_type": "code",
   "execution_count": 16,
   "metadata": {},
   "outputs": [],
   "source": [
    "log_save_path = '../../Logs/Clean_Extended_Data/'\n",
    "\n",
    "with open(f'{log_save_path}/fire_label_save_to_each_water_year.txt', 'w') as log_file:\n",
    "    log_file.write('\\n'.join(log_messages))"
   ]
  },
  {
   "cell_type": "markdown",
   "metadata": {},
   "source": [
    "## Downsample"
   ]
  },
  {
   "cell_type": "code",
   "execution_count": 17,
   "metadata": {},
   "outputs": [
    {
     "data": {
      "text/plain": [
       "IS_FIRE\n",
       "0    127741607\n",
       "1        92000\n",
       "Name: count, dtype: int64"
      ]
     },
     "execution_count": 17,
     "metadata": {},
     "output_type": "execute_result"
    }
   ],
   "source": [
    "fire_label['IS_FIRE'].value_counts()"
   ]
  },
  {
   "cell_type": "code",
   "execution_count": 18,
   "metadata": {},
   "outputs": [],
   "source": [
    "fire_0 = fire_label[fire_label['IS_FIRE'] == 0]\n",
    "fire_1 = fire_label[fire_label['IS_FIRE'] == 1]\n",
    "# assert error if num of fire_0 + fire_1 != num of fire_label\n",
    "assert len(fire_0) + len(fire_1) == len(fire_label), \"Mismatch in total number of records\""
   ]
  },
  {
   "cell_type": "code",
   "execution_count": 19,
   "metadata": {},
   "outputs": [],
   "source": [
    "fire_0 = fire_0.sample(n=100*len(fire_1), random_state=123)\n",
    "fire_label = pd.concat([fire_0, fire_1])"
   ]
  },
  {
   "cell_type": "code",
   "execution_count": 20,
   "metadata": {},
   "outputs": [
    {
     "data": {
      "text/plain": [
       "IS_FIRE\n",
       "0    9200000\n",
       "1      92000\n",
       "Name: count, dtype: int64"
      ]
     },
     "execution_count": 20,
     "metadata": {},
     "output_type": "execute_result"
    }
   ],
   "source": [
    "fire_label['IS_FIRE'].value_counts() # fire rate is ~ 1%"
   ]
  },
  {
   "cell_type": "code",
   "execution_count": 28,
   "metadata": {},
   "outputs": [],
   "source": [
    "save_path = '../../Clean_Data/Model_Data/Downsample/Fire_Label'\n",
    "file_name = 'calfire_fod_fpa_1994_2000_fire_label_downsampled.parquet'\n",
    "if not os.path.exists(save_path):\n",
    "    os.makedirs(save_path)\n",
    "fire_label.to_parquet(os.path.join(save_path, file_name))"
   ]
  }
 ],
 "metadata": {
  "kernelspec": {
   "display_name": "py311",
   "language": "python",
   "name": "python3"
  },
  "language_info": {
   "codemirror_mode": {
    "name": "ipython",
    "version": 3
   },
   "file_extension": ".py",
   "mimetype": "text/x-python",
   "name": "python",
   "nbconvert_exporter": "python",
   "pygments_lexer": "ipython3",
   "version": "3.11.9"
  }
 },
 "nbformat": 4,
 "nbformat_minor": 2
}
