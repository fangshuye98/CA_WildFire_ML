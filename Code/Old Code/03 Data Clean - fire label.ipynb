{
 "cells": [
  {
   "cell_type": "code",
   "execution_count": 111,
   "metadata": {},
   "outputs": [],
   "source": [
    "import pandas as pd\n",
    "import geopandas as gpd\n",
    "import xarray as xr\n",
    "import pyproj\n",
    "from tqdm import tqdm\n",
    "import numpy as np"
   ]
  },
  {
   "cell_type": "code",
   "execution_count": 112,
   "metadata": {},
   "outputs": [],
   "source": [
    "import os\n",
    "import matplotlib.pyplot as plt\n",
    "import cartopy.crs as ccrs\n",
    "import cartopy.feature as cfeature"
   ]
  },
  {
   "cell_type": "code",
   "execution_count": 113,
   "metadata": {},
   "outputs": [
    {
     "name": "stdout",
     "output_type": "stream",
     "text": [
      "Python version\n",
      "3.11.9 | packaged by Anaconda, Inc. | (main, Apr 19 2024, 16:40:41) [MSC v.1916 64 bit (AMD64)]\n",
      "Pandas version\n",
      "2.2.2\n",
      "Geopandas version\n",
      "0.14.2\n",
      "Xarray version\n",
      "2023.6.0\n",
      "Pyproj version\n",
      "3.6.1\n"
     ]
    }
   ],
   "source": [
    "# check python version and all packages version\n",
    "def check_python_version():\n",
    "    import sys\n",
    "    print(\"Python version\")\n",
    "    print (sys.version)\n",
    "    print(\"Pandas version\")\n",
    "    print(pd.__version__)\n",
    "    print(\"Geopandas version\")\n",
    "    print(gpd.__version__)\n",
    "    print(\"Xarray version\")\n",
    "    print(xr.__version__)\n",
    "    print(\"Pyproj version\")\n",
    "    print(pyproj.__version__)\n",
    "\n",
    "check_python_version()"
   ]
  },
  {
   "cell_type": "code",
   "execution_count": 114,
   "metadata": {},
   "outputs": [],
   "source": [
    "weather_data = pd.read_parquet('../Clean_Data/Weather_Data_w_Veg_Filter_Fire_12KM/wind_speed_filtered.parquet')"
   ]
  },
  {
   "cell_type": "code",
   "execution_count": 115,
   "metadata": {},
   "outputs": [
    {
     "data": {
      "text/plain": [
       "(134727600, 4)"
      ]
     },
     "execution_count": 115,
     "metadata": {},
     "output_type": "execute_result"
    }
   ],
   "source": [
    "weather_data.shape # this weather data is after inner join with vegetation data, within 12km of fire event"
   ]
  },
  {
   "cell_type": "code",
   "execution_count": 116,
   "metadata": {},
   "outputs": [
    {
     "data": {
      "text/html": [
       "<div>\n",
       "<style scoped>\n",
       "    .dataframe tbody tr th:only-of-type {\n",
       "        vertical-align: middle;\n",
       "    }\n",
       "\n",
       "    .dataframe tbody tr th {\n",
       "        vertical-align: top;\n",
       "    }\n",
       "\n",
       "    .dataframe thead th {\n",
       "        text-align: right;\n",
       "    }\n",
       "</style>\n",
       "<table border=\"1\" class=\"dataframe\">\n",
       "  <thead>\n",
       "    <tr style=\"text-align: right;\">\n",
       "      <th></th>\n",
       "      <th>lon</th>\n",
       "      <th>lat</th>\n",
       "      <th>day</th>\n",
       "      <th>wind_speed</th>\n",
       "    </tr>\n",
       "  </thead>\n",
       "  <tbody>\n",
       "    <tr>\n",
       "      <th>0</th>\n",
       "      <td>-124.391667</td>\n",
       "      <td>40.441667</td>\n",
       "      <td>2001-01-01</td>\n",
       "      <td>4.8</td>\n",
       "    </tr>\n",
       "    <tr>\n",
       "      <th>1</th>\n",
       "      <td>-124.391667</td>\n",
       "      <td>40.441667</td>\n",
       "      <td>2001-01-02</td>\n",
       "      <td>2.1</td>\n",
       "    </tr>\n",
       "    <tr>\n",
       "      <th>2</th>\n",
       "      <td>-124.391667</td>\n",
       "      <td>40.441667</td>\n",
       "      <td>2001-01-03</td>\n",
       "      <td>3.3</td>\n",
       "    </tr>\n",
       "    <tr>\n",
       "      <th>3</th>\n",
       "      <td>-124.391667</td>\n",
       "      <td>40.441667</td>\n",
       "      <td>2001-01-04</td>\n",
       "      <td>2.0</td>\n",
       "    </tr>\n",
       "    <tr>\n",
       "      <th>4</th>\n",
       "      <td>-124.391667</td>\n",
       "      <td>40.441667</td>\n",
       "      <td>2001-01-05</td>\n",
       "      <td>4.2</td>\n",
       "    </tr>\n",
       "  </tbody>\n",
       "</table>\n",
       "</div>"
      ],
      "text/plain": [
       "          lon        lat        day  wind_speed\n",
       "0 -124.391667  40.441667 2001-01-01         4.8\n",
       "1 -124.391667  40.441667 2001-01-02         2.1\n",
       "2 -124.391667  40.441667 2001-01-03         3.3\n",
       "3 -124.391667  40.441667 2001-01-04         2.0\n",
       "4 -124.391667  40.441667 2001-01-05         4.2"
      ]
     },
     "execution_count": 116,
     "metadata": {},
     "output_type": "execute_result"
    }
   ],
   "source": [
    "weather_data.head()"
   ]
  },
  {
   "cell_type": "code",
   "execution_count": 117,
   "metadata": {},
   "outputs": [],
   "source": [
    "# only keep columns (lon, lat, and day)\n",
    "weather_data = weather_data[['lon', 'lat', 'day']]"
   ]
  },
  {
   "cell_type": "code",
   "execution_count": 120,
   "metadata": {},
   "outputs": [],
   "source": [
    "# drop duplicates\n",
    "weather_data = weather_data.drop_duplicates()"
   ]
  },
  {
   "cell_type": "code",
   "execution_count": 121,
   "metadata": {},
   "outputs": [
    {
     "data": {
      "text/plain": [
       "(134727600, 3)"
      ]
     },
     "execution_count": 121,
     "metadata": {},
     "output_type": "execute_result"
    }
   ],
   "source": [
    "weather_data.shape"
   ]
  },
  {
   "cell_type": "code",
   "execution_count": 122,
   "metadata": {},
   "outputs": [
    {
     "data": {
      "text/plain": [
       "lon    0\n",
       "lat    0\n",
       "day    0\n",
       "dtype: int64"
      ]
     },
     "execution_count": 122,
     "metadata": {},
     "output_type": "execute_result"
    }
   ],
   "source": [
    "# check if there is any missing value\n",
    "weather_data.isnull().sum()"
   ]
  },
  {
   "cell_type": "code",
   "execution_count": 123,
   "metadata": {},
   "outputs": [],
   "source": [
    "# read ../Clean_Data/fire_data_map_weather_lon_lat.parquet\n",
    "fire_data = pd.read_parquet('../Clean_Data/fire_data_map_weather_lon_lat.parquet')"
   ]
  },
  {
   "cell_type": "code",
   "execution_count": 124,
   "metadata": {},
   "outputs": [
    {
     "data": {
      "text/plain": [
       "(7626, 22)"
      ]
     },
     "execution_count": 124,
     "metadata": {},
     "output_type": "execute_result"
    }
   ],
   "source": [
    "fire_data.shape"
   ]
  },
  {
   "cell_type": "code",
   "execution_count": 125,
   "metadata": {},
   "outputs": [
    {
     "data": {
      "text/html": [
       "<div>\n",
       "<style scoped>\n",
       "    .dataframe tbody tr th:only-of-type {\n",
       "        vertical-align: middle;\n",
       "    }\n",
       "\n",
       "    .dataframe tbody tr th {\n",
       "        vertical-align: top;\n",
       "    }\n",
       "\n",
       "    .dataframe thead th {\n",
       "        text-align: right;\n",
       "    }\n",
       "</style>\n",
       "<table border=\"1\" class=\"dataframe\">\n",
       "  <thead>\n",
       "    <tr style=\"text-align: right;\">\n",
       "      <th></th>\n",
       "      <th>lon</th>\n",
       "      <th>lat</th>\n",
       "      <th>ALARM_DATE</th>\n",
       "      <th>CONT_DATE</th>\n",
       "    </tr>\n",
       "  </thead>\n",
       "  <tbody>\n",
       "    <tr>\n",
       "      <th>0</th>\n",
       "      <td>-122.891667</td>\n",
       "      <td>41.525000</td>\n",
       "      <td>2023-06-17</td>\n",
       "      <td>2023-06-17</td>\n",
       "    </tr>\n",
       "    <tr>\n",
       "      <th>1</th>\n",
       "      <td>-121.975000</td>\n",
       "      <td>39.816667</td>\n",
       "      <td>2023-06-02</td>\n",
       "      <td>2023-06-02</td>\n",
       "    </tr>\n",
       "    <tr>\n",
       "      <th>2</th>\n",
       "      <td>-120.891667</td>\n",
       "      <td>38.275000</td>\n",
       "      <td>2023-07-01</td>\n",
       "      <td>2023-07-02</td>\n",
       "    </tr>\n",
       "    <tr>\n",
       "      <th>3</th>\n",
       "      <td>-120.975000</td>\n",
       "      <td>38.441667</td>\n",
       "      <td>2023-07-11</td>\n",
       "      <td>2023-07-11</td>\n",
       "    </tr>\n",
       "    <tr>\n",
       "      <th>4</th>\n",
       "      <td>-121.016667</td>\n",
       "      <td>38.233333</td>\n",
       "      <td>2023-07-11</td>\n",
       "      <td>2023-07-12</td>\n",
       "    </tr>\n",
       "  </tbody>\n",
       "</table>\n",
       "</div>"
      ],
      "text/plain": [
       "          lon        lat  ALARM_DATE   CONT_DATE\n",
       "0 -122.891667  41.525000  2023-06-17  2023-06-17\n",
       "1 -121.975000  39.816667  2023-06-02  2023-06-02\n",
       "2 -120.891667  38.275000  2023-07-01  2023-07-02\n",
       "3 -120.975000  38.441667  2023-07-11  2023-07-11\n",
       "4 -121.016667  38.233333  2023-07-11  2023-07-12"
      ]
     },
     "execution_count": 125,
     "metadata": {},
     "output_type": "execute_result"
    }
   ],
   "source": [
    "columns_to_show = ['lon','lat','ALARM_DATE','CONT_DATE']\n",
    "fire_data[columns_to_show].head()"
   ]
  },
  {
   "cell_type": "code",
   "execution_count": 126,
   "metadata": {},
   "outputs": [],
   "source": [
    "# Convert date columns to datetime\n",
    "fire_data['ALARM_DATE'] = pd.to_datetime(fire_data['ALARM_DATE'])\n",
    "fire_data['CONT_DATE'] = pd.to_datetime(fire_data['CONT_DATE'])"
   ]
  },
  {
   "cell_type": "code",
   "execution_count": 127,
   "metadata": {},
   "outputs": [],
   "source": [
    "fire_data_part1_date_order_wrong = fire_data[fire_data['CONT_DATE'] < fire_data['ALARM_DATE']]"
   ]
  },
  {
   "cell_type": "code",
   "execution_count": 128,
   "metadata": {},
   "outputs": [],
   "source": [
    "fire_data_part2_date_missing = fire_data[fire_data['CONT_DATE'].isna() | fire_data['ALARM_DATE'].isna()]"
   ]
  },
  {
   "cell_type": "code",
   "execution_count": 129,
   "metadata": {},
   "outputs": [],
   "source": [
    "fire_data_part3_normal = fire_data[fire_data['CONT_DATE'] >= fire_data['ALARM_DATE']]"
   ]
  },
  {
   "cell_type": "code",
   "execution_count": 130,
   "metadata": {},
   "outputs": [
    {
     "data": {
      "text/plain": [
       "True"
      ]
     },
     "execution_count": 130,
     "metadata": {},
     "output_type": "execute_result"
    }
   ],
   "source": [
    "fire_data_part1_date_order_wrong.shape[0] + fire_data_part2_date_missing.shape[0] + fire_data_part3_normal.shape[0] == fire_data.shape[0]"
   ]
  },
  {
   "cell_type": "markdown",
   "metadata": {},
   "source": [
    "For those have CONT_DATE < ALARM_DATE, removing those unit (lon, lat, day) from the final grids"
   ]
  },
  {
   "cell_type": "code",
   "execution_count": 131,
   "metadata": {},
   "outputs": [],
   "source": [
    "# Function to expand each row\n",
    "def expand_dates(row):\n",
    "    date_range = pd.date_range(start=row['ALARM_DATE'], end=row['CONT_DATE'])\n",
    "    return pd.DataFrame({\n",
    "        'lon': row['lon'],\n",
    "        'lat': row['lat'],\n",
    "        'DATE': date_range\n",
    "    })"
   ]
  },
  {
   "cell_type": "code",
   "execution_count": 132,
   "metadata": {},
   "outputs": [],
   "source": [
    "fire_data_part1_date_order_wrong = fire_data_part1_date_order_wrong[columns_to_show]\n",
    "# assign CONT_DATE to ALARM_DATE and ALARM_DATE to CONT_DATE\n",
    "fire_data_part1_date_order_wrong['CONT_DATE'], fire_data_part1_date_order_wrong['ALARM_DATE'] = fire_data_part1_date_order_wrong['ALARM_DATE'], fire_data_part1_date_order_wrong['CONT_DATE']"
   ]
  },
  {
   "cell_type": "code",
   "execution_count": 133,
   "metadata": {},
   "outputs": [
    {
     "data": {
      "text/html": [
       "<div>\n",
       "<style scoped>\n",
       "    .dataframe tbody tr th:only-of-type {\n",
       "        vertical-align: middle;\n",
       "    }\n",
       "\n",
       "    .dataframe tbody tr th {\n",
       "        vertical-align: top;\n",
       "    }\n",
       "\n",
       "    .dataframe thead th {\n",
       "        text-align: right;\n",
       "    }\n",
       "</style>\n",
       "<table border=\"1\" class=\"dataframe\">\n",
       "  <thead>\n",
       "    <tr style=\"text-align: right;\">\n",
       "      <th></th>\n",
       "      <th>lon</th>\n",
       "      <th>lat</th>\n",
       "      <th>ALARM_DATE</th>\n",
       "      <th>CONT_DATE</th>\n",
       "    </tr>\n",
       "  </thead>\n",
       "  <tbody>\n",
       "    <tr>\n",
       "      <th>2642</th>\n",
       "      <td>-120.933333</td>\n",
       "      <td>39.983333</td>\n",
       "      <td>2017-08-29</td>\n",
       "      <td>2017-09-27</td>\n",
       "    </tr>\n",
       "    <tr>\n",
       "      <th>3312</th>\n",
       "      <td>-119.308333</td>\n",
       "      <td>34.316667</td>\n",
       "      <td>2015-03-13</td>\n",
       "      <td>2015-12-03</td>\n",
       "    </tr>\n",
       "    <tr>\n",
       "      <th>3327</th>\n",
       "      <td>-119.183333</td>\n",
       "      <td>34.233333</td>\n",
       "      <td>2015-08-13</td>\n",
       "      <td>2015-11-08</td>\n",
       "    </tr>\n",
       "    <tr>\n",
       "      <th>4195</th>\n",
       "      <td>-118.225000</td>\n",
       "      <td>34.566667</td>\n",
       "      <td>2012-03-07</td>\n",
       "      <td>2012-07-03</td>\n",
       "    </tr>\n",
       "    <tr>\n",
       "      <th>4350</th>\n",
       "      <td>-119.350000</td>\n",
       "      <td>37.400000</td>\n",
       "      <td>2012-04-22</td>\n",
       "      <td>2012-09-04</td>\n",
       "    </tr>\n",
       "    <tr>\n",
       "      <th>6506</th>\n",
       "      <td>-116.891667</td>\n",
       "      <td>34.150000</td>\n",
       "      <td>2005-07-07</td>\n",
       "      <td>2005-11-16</td>\n",
       "    </tr>\n",
       "    <tr>\n",
       "      <th>6509</th>\n",
       "      <td>-121.600000</td>\n",
       "      <td>40.941667</td>\n",
       "      <td>2005-09-15</td>\n",
       "      <td>2005-09-16</td>\n",
       "    </tr>\n",
       "    <tr>\n",
       "      <th>6529</th>\n",
       "      <td>-120.016667</td>\n",
       "      <td>38.400000</td>\n",
       "      <td>2005-06-11</td>\n",
       "      <td>2005-09-27</td>\n",
       "    </tr>\n",
       "    <tr>\n",
       "      <th>6537</th>\n",
       "      <td>-118.100000</td>\n",
       "      <td>34.525000</td>\n",
       "      <td>2005-04-14</td>\n",
       "      <td>2005-07-13</td>\n",
       "    </tr>\n",
       "    <tr>\n",
       "      <th>6608</th>\n",
       "      <td>-120.766667</td>\n",
       "      <td>39.275000</td>\n",
       "      <td>2004-11-21</td>\n",
       "      <td>2004-11-24</td>\n",
       "    </tr>\n",
       "  </tbody>\n",
       "</table>\n",
       "</div>"
      ],
      "text/plain": [
       "             lon        lat ALARM_DATE  CONT_DATE\n",
       "2642 -120.933333  39.983333 2017-08-29 2017-09-27\n",
       "3312 -119.308333  34.316667 2015-03-13 2015-12-03\n",
       "3327 -119.183333  34.233333 2015-08-13 2015-11-08\n",
       "4195 -118.225000  34.566667 2012-03-07 2012-07-03\n",
       "4350 -119.350000  37.400000 2012-04-22 2012-09-04\n",
       "6506 -116.891667  34.150000 2005-07-07 2005-11-16\n",
       "6509 -121.600000  40.941667 2005-09-15 2005-09-16\n",
       "6529 -120.016667  38.400000 2005-06-11 2005-09-27\n",
       "6537 -118.100000  34.525000 2005-04-14 2005-07-13\n",
       "6608 -120.766667  39.275000 2004-11-21 2004-11-24"
      ]
     },
     "execution_count": 133,
     "metadata": {},
     "output_type": "execute_result"
    }
   ],
   "source": [
    "fire_data_part1_date_order_wrong"
   ]
  },
  {
   "cell_type": "code",
   "execution_count": 134,
   "metadata": {},
   "outputs": [
    {
     "data": {
      "text/plain": [
       "lon                  float64\n",
       "lat                  float64\n",
       "ALARM_DATE    datetime64[ns]\n",
       "CONT_DATE     datetime64[ns]\n",
       "dtype: object"
      ]
     },
     "execution_count": 134,
     "metadata": {},
     "output_type": "execute_result"
    }
   ],
   "source": [
    "fire_data_part1_date_order_wrong.dtypes"
   ]
  },
  {
   "cell_type": "code",
   "execution_count": 136,
   "metadata": {},
   "outputs": [],
   "source": [
    "# Function to expand each row\n",
    "def expand_dates(row):\n",
    "    date_range = pd.date_range(start=row['ALARM_DATE'], end=row['CONT_DATE'])\n",
    "    return pd.DataFrame({\n",
    "        'lon': row['lon'],\n",
    "        'lat': row['lat'],\n",
    "        'DATE': date_range\n",
    "    })\n",
    "\n",
    "# Apply the function to each row and concatenate the results\n",
    "part1_expanded_fire_data = pd.concat(fire_data_part1_date_order_wrong.apply(expand_dates, axis=1).to_list(), ignore_index=True)"
   ]
  },
  {
   "cell_type": "code",
   "execution_count": 137,
   "metadata": {},
   "outputs": [],
   "source": [
    "# rename DATE to day\n",
    "part1_expanded_fire_data = part1_expanded_fire_data.rename(columns={'DATE': 'day'})"
   ]
  },
  {
   "cell_type": "code",
   "execution_count": 138,
   "metadata": {},
   "outputs": [
    {
     "data": {
      "text/plain": [
       "(978, 3)"
      ]
     },
     "execution_count": 138,
     "metadata": {},
     "output_type": "execute_result"
    }
   ],
   "source": [
    "part1_expanded_fire_data.shape"
   ]
  },
  {
   "cell_type": "code",
   "execution_count": 139,
   "metadata": {},
   "outputs": [
    {
     "data": {
      "text/plain": [
       "lon           float64\n",
       "lat           float64\n",
       "day    datetime64[ns]\n",
       "dtype: object"
      ]
     },
     "execution_count": 139,
     "metadata": {},
     "output_type": "execute_result"
    }
   ],
   "source": [
    "part1_expanded_fire_data.dtypes"
   ]
  },
  {
   "cell_type": "code",
   "execution_count": 140,
   "metadata": {},
   "outputs": [
    {
     "data": {
      "text/plain": [
       "lon           float64\n",
       "lat           float64\n",
       "day    datetime64[ns]\n",
       "dtype: object"
      ]
     },
     "execution_count": 140,
     "metadata": {},
     "output_type": "execute_result"
    }
   ],
   "source": [
    "weather_data.dtypes"
   ]
  },
  {
   "cell_type": "code",
   "execution_count": 141,
   "metadata": {},
   "outputs": [
    {
     "name": "stdout",
     "output_type": "stream",
     "text": [
      "weather_data has 134727600 rows before removing part1_expanded_fire_data\n",
      "weather_data has 134726622 rows after removing part1_expanded_fire_data\n"
     ]
    }
   ],
   "source": [
    "# print the # of rows in weather_data before removing (in sentence)\n",
    "print(f'weather_data has {weather_data.shape[0]} rows before removing part1_expanded_fire_data')\n",
    "# remove part1_expanded_fire_data from weather_data\n",
    "weather_data = weather_data.merge(part1_expanded_fire_data, on=['lon', 'lat', 'day'], how='left', indicator=True)\n",
    "weather_data = weather_data[weather_data['_merge'] == 'left_only']\n",
    "weather_data = weather_data.drop(columns=['_merge'])\n",
    "# print the # of rows in weather_data after removing (in sentence)\n",
    "print(f'weather_data has {weather_data.shape[0]} rows after removing part1_expanded_fire_data')"
   ]
  },
  {
   "cell_type": "markdown",
   "metadata": {},
   "source": [
    "For those have either CONT_DATE or ALARM_DATE missing, removing those unit (lon, lat, day) from the final grids"
   ]
  },
  {
   "cell_type": "code",
   "execution_count": 142,
   "metadata": {},
   "outputs": [
    {
     "data": {
      "text/plain": [
       "(285, 22)"
      ]
     },
     "execution_count": 142,
     "metadata": {},
     "output_type": "execute_result"
    }
   ],
   "source": [
    "fire_data_part2_date_missing.shape"
   ]
  },
  {
   "cell_type": "code",
   "execution_count": 143,
   "metadata": {},
   "outputs": [],
   "source": [
    "columns_to_show = ['lon','lat','YEAR_']"
   ]
  },
  {
   "cell_type": "code",
   "execution_count": 144,
   "metadata": {},
   "outputs": [],
   "source": [
    "fire_data_part2_date_missing = fire_data_part2_date_missing[columns_to_show]"
   ]
  },
  {
   "cell_type": "code",
   "execution_count": 145,
   "metadata": {},
   "outputs": [
    {
     "data": {
      "text/html": [
       "<div>\n",
       "<style scoped>\n",
       "    .dataframe tbody tr th:only-of-type {\n",
       "        vertical-align: middle;\n",
       "    }\n",
       "\n",
       "    .dataframe tbody tr th {\n",
       "        vertical-align: top;\n",
       "    }\n",
       "\n",
       "    .dataframe thead th {\n",
       "        text-align: right;\n",
       "    }\n",
       "</style>\n",
       "<table border=\"1\" class=\"dataframe\">\n",
       "  <thead>\n",
       "    <tr style=\"text-align: right;\">\n",
       "      <th></th>\n",
       "      <th>lon</th>\n",
       "      <th>lat</th>\n",
       "      <th>YEAR_</th>\n",
       "    </tr>\n",
       "  </thead>\n",
       "  <tbody>\n",
       "    <tr>\n",
       "      <th>227</th>\n",
       "      <td>-123.516667</td>\n",
       "      <td>41.275000</td>\n",
       "      <td>2023</td>\n",
       "    </tr>\n",
       "    <tr>\n",
       "      <th>928</th>\n",
       "      <td>-122.016667</td>\n",
       "      <td>38.025000</td>\n",
       "      <td>2021</td>\n",
       "    </tr>\n",
       "    <tr>\n",
       "      <th>1225</th>\n",
       "      <td>-123.225000</td>\n",
       "      <td>41.941667</td>\n",
       "      <td>2020</td>\n",
       "    </tr>\n",
       "    <tr>\n",
       "      <th>1230</th>\n",
       "      <td>-123.683333</td>\n",
       "      <td>41.150000</td>\n",
       "      <td>2020</td>\n",
       "    </tr>\n",
       "    <tr>\n",
       "      <th>1237</th>\n",
       "      <td>-123.641667</td>\n",
       "      <td>41.025000</td>\n",
       "      <td>2020</td>\n",
       "    </tr>\n",
       "  </tbody>\n",
       "</table>\n",
       "</div>"
      ],
      "text/plain": [
       "             lon        lat  YEAR_\n",
       "227  -123.516667  41.275000   2023\n",
       "928  -122.016667  38.025000   2021\n",
       "1225 -123.225000  41.941667   2020\n",
       "1230 -123.683333  41.150000   2020\n",
       "1237 -123.641667  41.025000   2020"
      ]
     },
     "execution_count": 145,
     "metadata": {},
     "output_type": "execute_result"
    }
   ],
   "source": [
    "fire_data_part2_date_missing.head()"
   ]
  },
  {
   "cell_type": "code",
   "execution_count": 146,
   "metadata": {},
   "outputs": [
    {
     "data": {
      "text/plain": [
       "lon      0\n",
       "lat      0\n",
       "YEAR_    0\n",
       "dtype: int64"
      ]
     },
     "execution_count": 146,
     "metadata": {},
     "output_type": "execute_result"
    }
   ],
   "source": [
    "# check if there is any missing value\n",
    "fire_data_part2_date_missing.isnull().sum()"
   ]
  },
  {
   "cell_type": "code",
   "execution_count": 147,
   "metadata": {},
   "outputs": [
    {
     "name": "stdout",
     "output_type": "stream",
     "text": [
      "fire_data_part2_date_missing has 285 rows before dedup\n",
      "fire_data_part2_date_missing has 269 rows after dedup\n"
     ]
    }
   ],
   "source": [
    "# print shape before removing\n",
    "print(f'fire_data_part2_date_missing has {fire_data_part2_date_missing.shape[0]} rows before dedup')\n",
    "# remove dup\n",
    "fire_data_part2_date_missing = fire_data_part2_date_missing.drop_duplicates()\n",
    "# print shape after removing\n",
    "print(f'fire_data_part2_date_missing has {fire_data_part2_date_missing.shape[0]} rows after dedup')"
   ]
  },
  {
   "cell_type": "code",
   "execution_count": 148,
   "metadata": {},
   "outputs": [],
   "source": [
    "# add a colum YEAR_ to weather_data based on day\n",
    "weather_data['YEAR_'] = weather_data['day'].dt.year"
   ]
  },
  {
   "cell_type": "code",
   "execution_count": 149,
   "metadata": {},
   "outputs": [
    {
     "data": {
      "text/html": [
       "<div>\n",
       "<style scoped>\n",
       "    .dataframe tbody tr th:only-of-type {\n",
       "        vertical-align: middle;\n",
       "    }\n",
       "\n",
       "    .dataframe tbody tr th {\n",
       "        vertical-align: top;\n",
       "    }\n",
       "\n",
       "    .dataframe thead th {\n",
       "        text-align: right;\n",
       "    }\n",
       "</style>\n",
       "<table border=\"1\" class=\"dataframe\">\n",
       "  <thead>\n",
       "    <tr style=\"text-align: right;\">\n",
       "      <th></th>\n",
       "      <th>lon</th>\n",
       "      <th>lat</th>\n",
       "      <th>day</th>\n",
       "      <th>YEAR_</th>\n",
       "    </tr>\n",
       "  </thead>\n",
       "  <tbody>\n",
       "    <tr>\n",
       "      <th>0</th>\n",
       "      <td>-124.391667</td>\n",
       "      <td>40.441667</td>\n",
       "      <td>2001-01-01</td>\n",
       "      <td>2001</td>\n",
       "    </tr>\n",
       "    <tr>\n",
       "      <th>1</th>\n",
       "      <td>-124.391667</td>\n",
       "      <td>40.441667</td>\n",
       "      <td>2001-01-02</td>\n",
       "      <td>2001</td>\n",
       "    </tr>\n",
       "    <tr>\n",
       "      <th>2</th>\n",
       "      <td>-124.391667</td>\n",
       "      <td>40.441667</td>\n",
       "      <td>2001-01-03</td>\n",
       "      <td>2001</td>\n",
       "    </tr>\n",
       "    <tr>\n",
       "      <th>3</th>\n",
       "      <td>-124.391667</td>\n",
       "      <td>40.441667</td>\n",
       "      <td>2001-01-04</td>\n",
       "      <td>2001</td>\n",
       "    </tr>\n",
       "    <tr>\n",
       "      <th>4</th>\n",
       "      <td>-124.391667</td>\n",
       "      <td>40.441667</td>\n",
       "      <td>2001-01-05</td>\n",
       "      <td>2001</td>\n",
       "    </tr>\n",
       "  </tbody>\n",
       "</table>\n",
       "</div>"
      ],
      "text/plain": [
       "          lon        lat        day  YEAR_\n",
       "0 -124.391667  40.441667 2001-01-01   2001\n",
       "1 -124.391667  40.441667 2001-01-02   2001\n",
       "2 -124.391667  40.441667 2001-01-03   2001\n",
       "3 -124.391667  40.441667 2001-01-04   2001\n",
       "4 -124.391667  40.441667 2001-01-05   2001"
      ]
     },
     "execution_count": 149,
     "metadata": {},
     "output_type": "execute_result"
    }
   ],
   "source": [
    "weather_data.head()"
   ]
  },
  {
   "cell_type": "code",
   "execution_count": 150,
   "metadata": {},
   "outputs": [
    {
     "name": "stdout",
     "output_type": "stream",
     "text": [
      "weather_data has 134726622 rows before removing fire_data_part2_date_missing\n",
      "weather_data has 134636764 rows after removing fire_data_part2_date_missing\n"
     ]
    }
   ],
   "source": [
    "# left anti join weather_data with fire_data_part2_date_missing (lon, lat, YEAR_)\n",
    "# print the # of rows in weather_data before removing (in sentence)\n",
    "print(f'weather_data has {weather_data.shape[0]} rows before removing fire_data_part2_date_missing')\n",
    "# remove fire_data_part2_date_missing from weather_data\n",
    "weather_data = weather_data.merge(fire_data_part2_date_missing, on=['lon', 'lat', 'YEAR_'], how='left', indicator=True)\n",
    "weather_data = weather_data[weather_data['_merge'] == 'left_only']\n",
    "weather_data = weather_data.drop(columns=['_merge'])\n",
    "# print the # of rows in weather_data after removing (in sentence)\n",
    "print(f'weather_data has {weather_data.shape[0]} rows after removing fire_data_part2_date_missing')"
   ]
  },
  {
   "cell_type": "markdown",
   "metadata": {},
   "source": [
    "For normal fire data, for each location, for days\n",
    "- alarm date -4, alarm date -1: remove\n",
    "- alarm date: label 1\n",
    "- alarm date - cont date: remove"
   ]
  },
  {
   "cell_type": "code",
   "execution_count": 151,
   "metadata": {},
   "outputs": [
    {
     "data": {
      "text/html": [
       "<div>\n",
       "<style scoped>\n",
       "    .dataframe tbody tr th:only-of-type {\n",
       "        vertical-align: middle;\n",
       "    }\n",
       "\n",
       "    .dataframe tbody tr th {\n",
       "        vertical-align: top;\n",
       "    }\n",
       "\n",
       "    .dataframe thead th {\n",
       "        text-align: right;\n",
       "    }\n",
       "</style>\n",
       "<table border=\"1\" class=\"dataframe\">\n",
       "  <thead>\n",
       "    <tr style=\"text-align: right;\">\n",
       "      <th></th>\n",
       "      <th>lon</th>\n",
       "      <th>lat</th>\n",
       "      <th>ALARM_DATE</th>\n",
       "      <th>CONT_DATE</th>\n",
       "    </tr>\n",
       "  </thead>\n",
       "  <tbody>\n",
       "    <tr>\n",
       "      <th>0</th>\n",
       "      <td>-122.891667</td>\n",
       "      <td>41.525000</td>\n",
       "      <td>2023-06-17</td>\n",
       "      <td>2023-06-17</td>\n",
       "    </tr>\n",
       "    <tr>\n",
       "      <th>1</th>\n",
       "      <td>-121.975000</td>\n",
       "      <td>39.816667</td>\n",
       "      <td>2023-06-02</td>\n",
       "      <td>2023-06-02</td>\n",
       "    </tr>\n",
       "    <tr>\n",
       "      <th>2</th>\n",
       "      <td>-120.891667</td>\n",
       "      <td>38.275000</td>\n",
       "      <td>2023-07-01</td>\n",
       "      <td>2023-07-02</td>\n",
       "    </tr>\n",
       "    <tr>\n",
       "      <th>3</th>\n",
       "      <td>-120.975000</td>\n",
       "      <td>38.441667</td>\n",
       "      <td>2023-07-11</td>\n",
       "      <td>2023-07-11</td>\n",
       "    </tr>\n",
       "    <tr>\n",
       "      <th>4</th>\n",
       "      <td>-121.016667</td>\n",
       "      <td>38.233333</td>\n",
       "      <td>2023-07-11</td>\n",
       "      <td>2023-07-12</td>\n",
       "    </tr>\n",
       "  </tbody>\n",
       "</table>\n",
       "</div>"
      ],
      "text/plain": [
       "          lon        lat ALARM_DATE  CONT_DATE\n",
       "0 -122.891667  41.525000 2023-06-17 2023-06-17\n",
       "1 -121.975000  39.816667 2023-06-02 2023-06-02\n",
       "2 -120.891667  38.275000 2023-07-01 2023-07-02\n",
       "3 -120.975000  38.441667 2023-07-11 2023-07-11\n",
       "4 -121.016667  38.233333 2023-07-11 2023-07-12"
      ]
     },
     "execution_count": 151,
     "metadata": {},
     "output_type": "execute_result"
    }
   ],
   "source": [
    "columns_to_show = ['lon','lat','ALARM_DATE','CONT_DATE']\n",
    "fire_data_part3_normal = fire_data_part3_normal[columns_to_show]\n",
    "fire_data_part3_normal.head()"
   ]
  },
  {
   "cell_type": "code",
   "execution_count": 152,
   "metadata": {},
   "outputs": [
    {
     "data": {
      "text/plain": [
       "67"
      ]
     },
     "execution_count": 152,
     "metadata": {},
     "output_type": "execute_result"
    }
   ],
   "source": [
    "# check if there is any duplicate\n",
    "fire_data_part3_normal.duplicated().sum()"
   ]
  },
  {
   "cell_type": "code",
   "execution_count": 153,
   "metadata": {},
   "outputs": [
    {
     "name": "stdout",
     "output_type": "stream",
     "text": [
      "fire_data_part3_normal has 7264 rows after dedup\n"
     ]
    }
   ],
   "source": [
    "# remove duplicates\n",
    "fire_data_part3_normal = fire_data_part3_normal.drop_duplicates()\n",
    "# print shape after removing\n",
    "print(f'fire_data_part3_normal has {fire_data_part3_normal.shape[0]} rows after dedup')"
   ]
  },
  {
   "cell_type": "code",
   "execution_count": 154,
   "metadata": {},
   "outputs": [
    {
     "data": {
      "text/plain": [
       "lon                  float64\n",
       "lat                  float64\n",
       "ALARM_DATE    datetime64[ns]\n",
       "CONT_DATE     datetime64[ns]\n",
       "dtype: object"
      ]
     },
     "execution_count": 154,
     "metadata": {},
     "output_type": "execute_result"
    }
   ],
   "source": [
    "fire_data_part3_normal.dtypes"
   ]
  },
  {
   "cell_type": "code",
   "execution_count": 155,
   "metadata": {},
   "outputs": [],
   "source": [
    "# Function to expand each row\n",
    "def expand_dates(row):\n",
    "    start_date = row['ALARM_DATE'] - pd.Timedelta(days=4)\n",
    "    end_date = row['CONT_DATE']\n",
    "    date_range = pd.date_range(start=start_date, end=end_date)\n",
    "    return pd.DataFrame({\n",
    "        'lon': row['lon'],\n",
    "        'lat': row['lat'],\n",
    "        'DATE': date_range,\n",
    "        'IS_ALARM_DATE': date_range == row['ALARM_DATE']\n",
    "    })\n",
    "\n",
    "# Apply the function to each row and concatenate the results\n",
    "expanded_fire_data_part3_normal = pd.concat(fire_data_part3_normal.apply(expand_dates, axis=1).to_list(), ignore_index=True)"
   ]
  },
  {
   "cell_type": "code",
   "execution_count": 156,
   "metadata": {},
   "outputs": [
    {
     "data": {
      "text/html": [
       "<div>\n",
       "<style scoped>\n",
       "    .dataframe tbody tr th:only-of-type {\n",
       "        vertical-align: middle;\n",
       "    }\n",
       "\n",
       "    .dataframe tbody tr th {\n",
       "        vertical-align: top;\n",
       "    }\n",
       "\n",
       "    .dataframe thead th {\n",
       "        text-align: right;\n",
       "    }\n",
       "</style>\n",
       "<table border=\"1\" class=\"dataframe\">\n",
       "  <thead>\n",
       "    <tr style=\"text-align: right;\">\n",
       "      <th></th>\n",
       "      <th>lon</th>\n",
       "      <th>lat</th>\n",
       "      <th>DATE</th>\n",
       "      <th>IS_ALARM_DATE</th>\n",
       "    </tr>\n",
       "  </thead>\n",
       "  <tbody>\n",
       "    <tr>\n",
       "      <th>0</th>\n",
       "      <td>-122.891667</td>\n",
       "      <td>41.525000</td>\n",
       "      <td>2023-06-13</td>\n",
       "      <td>False</td>\n",
       "    </tr>\n",
       "    <tr>\n",
       "      <th>1</th>\n",
       "      <td>-122.891667</td>\n",
       "      <td>41.525000</td>\n",
       "      <td>2023-06-14</td>\n",
       "      <td>False</td>\n",
       "    </tr>\n",
       "    <tr>\n",
       "      <th>2</th>\n",
       "      <td>-122.891667</td>\n",
       "      <td>41.525000</td>\n",
       "      <td>2023-06-15</td>\n",
       "      <td>False</td>\n",
       "    </tr>\n",
       "    <tr>\n",
       "      <th>3</th>\n",
       "      <td>-122.891667</td>\n",
       "      <td>41.525000</td>\n",
       "      <td>2023-06-16</td>\n",
       "      <td>False</td>\n",
       "    </tr>\n",
       "    <tr>\n",
       "      <th>4</th>\n",
       "      <td>-122.891667</td>\n",
       "      <td>41.525000</td>\n",
       "      <td>2023-06-17</td>\n",
       "      <td>True</td>\n",
       "    </tr>\n",
       "    <tr>\n",
       "      <th>5</th>\n",
       "      <td>-121.975000</td>\n",
       "      <td>39.816667</td>\n",
       "      <td>2023-05-29</td>\n",
       "      <td>False</td>\n",
       "    </tr>\n",
       "  </tbody>\n",
       "</table>\n",
       "</div>"
      ],
      "text/plain": [
       "          lon        lat       DATE  IS_ALARM_DATE\n",
       "0 -122.891667  41.525000 2023-06-13          False\n",
       "1 -122.891667  41.525000 2023-06-14          False\n",
       "2 -122.891667  41.525000 2023-06-15          False\n",
       "3 -122.891667  41.525000 2023-06-16          False\n",
       "4 -122.891667  41.525000 2023-06-17           True\n",
       "5 -121.975000  39.816667 2023-05-29          False"
      ]
     },
     "execution_count": 156,
     "metadata": {},
     "output_type": "execute_result"
    }
   ],
   "source": [
    "# check row 1: row 6\n",
    "expanded_fire_data_part3_normal.iloc[0:6]"
   ]
  },
  {
   "cell_type": "code",
   "execution_count": 157,
   "metadata": {},
   "outputs": [
    {
     "data": {
      "text/plain": [
       "lon                  float64\n",
       "lat                  float64\n",
       "ALARM_DATE    datetime64[ns]\n",
       "CONT_DATE     datetime64[ns]\n",
       "dtype: object"
      ]
     },
     "execution_count": 157,
     "metadata": {},
     "output_type": "execute_result"
    }
   ],
   "source": [
    "fire_data_part3_normal.dtypes"
   ]
  },
  {
   "cell_type": "code",
   "execution_count": 158,
   "metadata": {},
   "outputs": [
    {
     "data": {
      "text/html": [
       "<div>\n",
       "<style scoped>\n",
       "    .dataframe tbody tr th:only-of-type {\n",
       "        vertical-align: middle;\n",
       "    }\n",
       "\n",
       "    .dataframe tbody tr th {\n",
       "        vertical-align: top;\n",
       "    }\n",
       "\n",
       "    .dataframe thead th {\n",
       "        text-align: right;\n",
       "    }\n",
       "</style>\n",
       "<table border=\"1\" class=\"dataframe\">\n",
       "  <thead>\n",
       "    <tr style=\"text-align: right;\">\n",
       "      <th></th>\n",
       "      <th>lon</th>\n",
       "      <th>lat</th>\n",
       "      <th>ALARM_DATE</th>\n",
       "      <th>CONT_DATE</th>\n",
       "    </tr>\n",
       "  </thead>\n",
       "  <tbody>\n",
       "    <tr>\n",
       "      <th>36</th>\n",
       "      <td>-119.35</td>\n",
       "      <td>35.025</td>\n",
       "      <td>2023-06-05</td>\n",
       "      <td>2023-06-06</td>\n",
       "    </tr>\n",
       "    <tr>\n",
       "      <th>240</th>\n",
       "      <td>-119.35</td>\n",
       "      <td>35.025</td>\n",
       "      <td>2023-06-04</td>\n",
       "      <td>2023-06-04</td>\n",
       "    </tr>\n",
       "  </tbody>\n",
       "</table>\n",
       "</div>"
      ],
      "text/plain": [
       "        lon     lat ALARM_DATE  CONT_DATE\n",
       "36  -119.35  35.025 2023-06-05 2023-06-06\n",
       "240 -119.35  35.025 2023-06-04 2023-06-04"
      ]
     },
     "execution_count": 158,
     "metadata": {},
     "output_type": "execute_result"
    }
   ],
   "source": [
    "# edge case\n",
    "fire_data_part3_normal[(fire_data_part3_normal['lon'] > -119.36) & (fire_data_part3_normal['lon'] < -119.34)\n",
    "                       & (fire_data_part3_normal['lat'] > 35) & (fire_data_part3_normal['lat'] < 35.1)]"
   ]
  },
  {
   "cell_type": "code",
   "execution_count": 159,
   "metadata": {},
   "outputs": [
    {
     "data": {
      "text/html": [
       "<div>\n",
       "<style scoped>\n",
       "    .dataframe tbody tr th:only-of-type {\n",
       "        vertical-align: middle;\n",
       "    }\n",
       "\n",
       "    .dataframe tbody tr th {\n",
       "        vertical-align: top;\n",
       "    }\n",
       "\n",
       "    .dataframe thead th {\n",
       "        text-align: right;\n",
       "    }\n",
       "</style>\n",
       "<table border=\"1\" class=\"dataframe\">\n",
       "  <thead>\n",
       "    <tr style=\"text-align: right;\">\n",
       "      <th></th>\n",
       "      <th>lon</th>\n",
       "      <th>lat</th>\n",
       "      <th>DATE</th>\n",
       "      <th>IS_ALARM_DATE</th>\n",
       "    </tr>\n",
       "  </thead>\n",
       "  <tbody>\n",
       "    <tr>\n",
       "      <th>248</th>\n",
       "      <td>-119.35</td>\n",
       "      <td>35.025</td>\n",
       "      <td>2023-06-04</td>\n",
       "      <td>False</td>\n",
       "    </tr>\n",
       "    <tr>\n",
       "      <th>2359</th>\n",
       "      <td>-119.35</td>\n",
       "      <td>35.025</td>\n",
       "      <td>2023-06-04</td>\n",
       "      <td>True</td>\n",
       "    </tr>\n",
       "  </tbody>\n",
       "</table>\n",
       "</div>"
      ],
      "text/plain": [
       "         lon     lat       DATE  IS_ALARM_DATE\n",
       "248  -119.35  35.025 2023-06-04          False\n",
       "2359 -119.35  35.025 2023-06-04           True"
      ]
     },
     "execution_count": 159,
     "metadata": {},
     "output_type": "execute_result"
    }
   ],
   "source": [
    "# for thie kind of case, from raw date, we will only keeo it as True if both rows are True.\n",
    "expanded_fire_data_part3_normal[(expanded_fire_data_part3_normal['lon'] >= -119.36) & (expanded_fire_data_part3_normal['lon'] <= -119.34) \n",
    "                                & (expanded_fire_data_part3_normal['lat'] > 35) & (expanded_fire_data_part3_normal['lat'] < 35.1)\n",
    "                                & (expanded_fire_data_part3_normal['DATE'] == '2023-06-04')]"
   ]
  },
  {
   "cell_type": "code",
   "execution_count": 160,
   "metadata": {},
   "outputs": [
    {
     "data": {
      "text/plain": [
       "(104114, 4)"
      ]
     },
     "execution_count": 160,
     "metadata": {},
     "output_type": "execute_result"
    }
   ],
   "source": [
    "expanded_fire_data_part3_normal.shape"
   ]
  },
  {
   "cell_type": "code",
   "execution_count": 161,
   "metadata": {},
   "outputs": [
    {
     "data": {
      "text/plain": [
       "lon                     float64\n",
       "lat                     float64\n",
       "DATE             datetime64[ns]\n",
       "IS_ALARM_DATE              bool\n",
       "dtype: object"
      ]
     },
     "execution_count": 161,
     "metadata": {},
     "output_type": "execute_result"
    }
   ],
   "source": [
    "expanded_fire_data_part3_normal.dtypes"
   ]
  },
  {
   "cell_type": "code",
   "execution_count": 162,
   "metadata": {},
   "outputs": [],
   "source": [
    "# group by lon, lat, and DATE, and aggregate IS_ALARM_DATE (only True if all are True)\n",
    "expanded_fire_data_part3_normal = expanded_fire_data_part3_normal.groupby(['lon', 'lat', 'DATE']).agg({'IS_ALARM_DATE': 'all'}).reset_index()"
   ]
  },
  {
   "cell_type": "code",
   "execution_count": 163,
   "metadata": {},
   "outputs": [
    {
     "data": {
      "text/html": [
       "<div>\n",
       "<style scoped>\n",
       "    .dataframe tbody tr th:only-of-type {\n",
       "        vertical-align: middle;\n",
       "    }\n",
       "\n",
       "    .dataframe tbody tr th {\n",
       "        vertical-align: top;\n",
       "    }\n",
       "\n",
       "    .dataframe thead th {\n",
       "        text-align: right;\n",
       "    }\n",
       "</style>\n",
       "<table border=\"1\" class=\"dataframe\">\n",
       "  <thead>\n",
       "    <tr style=\"text-align: right;\">\n",
       "      <th></th>\n",
       "      <th>lon</th>\n",
       "      <th>lat</th>\n",
       "      <th>DATE</th>\n",
       "      <th>IS_ALARM_DATE</th>\n",
       "    </tr>\n",
       "  </thead>\n",
       "  <tbody>\n",
       "    <tr>\n",
       "      <th>68494</th>\n",
       "      <td>-119.35</td>\n",
       "      <td>35.025</td>\n",
       "      <td>2023-06-04</td>\n",
       "      <td>False</td>\n",
       "    </tr>\n",
       "  </tbody>\n",
       "</table>\n",
       "</div>"
      ],
      "text/plain": [
       "          lon     lat       DATE  IS_ALARM_DATE\n",
       "68494 -119.35  35.025 2023-06-04          False"
      ]
     },
     "execution_count": 163,
     "metadata": {},
     "output_type": "execute_result"
    }
   ],
   "source": [
    "# for thie kind of case, from raw date, we will only keeo it as True if both rows are True.\n",
    "expanded_fire_data_part3_normal[(expanded_fire_data_part3_normal['lon'] >= -119.36) & (expanded_fire_data_part3_normal['lon'] <= -119.34) \n",
    "                                & (expanded_fire_data_part3_normal['lat'] > 35) & (expanded_fire_data_part3_normal['lat'] < 35.1)\n",
    "                                & (expanded_fire_data_part3_normal['DATE'] == '2023-06-04')]"
   ]
  },
  {
   "cell_type": "code",
   "execution_count": 164,
   "metadata": {},
   "outputs": [
    {
     "data": {
      "text/plain": [
       "lon              0\n",
       "lat              0\n",
       "DATE             0\n",
       "IS_ALARM_DATE    0\n",
       "dtype: int64"
      ]
     },
     "execution_count": 164,
     "metadata": {},
     "output_type": "execute_result"
    }
   ],
   "source": [
    "# check if there is any missing value\n",
    "expanded_fire_data_part3_normal.isnull().sum()"
   ]
  },
  {
   "cell_type": "code",
   "execution_count": 165,
   "metadata": {},
   "outputs": [
    {
     "data": {
      "text/plain": [
       "0"
      ]
     },
     "execution_count": 165,
     "metadata": {},
     "output_type": "execute_result"
    }
   ],
   "source": [
    "# check if there is any duplicate  \n",
    "expanded_fire_data_part3_normal.duplicated().sum()"
   ]
  },
  {
   "cell_type": "code",
   "execution_count": 166,
   "metadata": {},
   "outputs": [],
   "source": [
    "expanded_fire_data_part3_normal = expanded_fire_data_part3_normal.rename(columns={'DATE': 'day'})"
   ]
  },
  {
   "cell_type": "code",
   "execution_count": 167,
   "metadata": {},
   "outputs": [
    {
     "data": {
      "text/plain": [
       "IS_ALARM_DATE\n",
       "False    95523\n",
       "True      7163\n",
       "Name: count, dtype: int64"
      ]
     },
     "execution_count": 167,
     "metadata": {},
     "output_type": "execute_result"
    }
   ],
   "source": [
    "# freq table of IS_ALARM_DATE\n",
    "expanded_fire_data_part3_normal['IS_ALARM_DATE'].value_counts()"
   ]
  },
  {
   "cell_type": "code",
   "execution_count": 168,
   "metadata": {},
   "outputs": [
    {
     "name": "stdout",
     "output_type": "stream",
     "text": [
      "weather_data has 134636764 rows before merging\n",
      "weather_data has 134636764 rows after merging\n"
     ]
    }
   ],
   "source": [
    "# left join weather_data with expanded_fire_data_part3_normal (lon, lat, DATE)\n",
    "# print the # of rows in weather_data before removing (in sentence)\n",
    "print(f'weather_data has {weather_data.shape[0]} rows before merging')\n",
    "# merge expanded_fire_data_part3_normal with weather_data\n",
    "weather_data = weather_data.merge(expanded_fire_data_part3_normal, on=['lon', 'lat', 'day'], how='left')\n",
    "# print the # of rows in weather_data after merging (in sentence)\n",
    "print(f'weather_data has {weather_data.shape[0]} rows after merging')"
   ]
  },
  {
   "cell_type": "code",
   "execution_count": 170,
   "metadata": {},
   "outputs": [
    {
     "name": "stdout",
     "output_type": "stream",
     "text": [
      "weather_data has 134636764 rows before removing IS_ALARM_DATE is False\n",
      "weather_data has 134548841 rows after removing IS_ALARM_DATE is False\n"
     ]
    }
   ],
   "source": [
    "# remove rows when IS_ALARM_DATE is False\n",
    "# print the # of rows in weather_data before removing (in sentence)\n",
    "print(f'weather_data has {weather_data.shape[0]} rows before removing IS_ALARM_DATE is False')\n",
    "# only keep rows when IS_ALARM_DATE is True or NA\n",
    "weather_data = weather_data[weather_data['IS_ALARM_DATE'].isna() | weather_data['IS_ALARM_DATE']]\n",
    "# print the # of rows in weather_data after removing (in sentence)\n",
    "print(f'weather_data has {weather_data.shape[0]} rows after removing IS_ALARM_DATE is False')"
   ]
  },
  {
   "cell_type": "code",
   "execution_count": 171,
   "metadata": {},
   "outputs": [
    {
     "data": {
      "text/plain": [
       "IS_ALARM_DATE\n",
       "True    6428\n",
       "Name: count, dtype: int64"
      ]
     },
     "execution_count": 171,
     "metadata": {},
     "output_type": "execute_result"
    }
   ],
   "source": [
    "# check IS_ALARM_DATE freq table\n",
    "weather_data['IS_ALARM_DATE'].value_counts()"
   ]
  },
  {
   "cell_type": "code",
   "execution_count": 172,
   "metadata": {},
   "outputs": [],
   "source": [
    "# if IS_ALARM_DATE is NA, fill it with 0, else fill it with 1\n",
    "weather_data['IS_ALARM_DATE'] = weather_data['IS_ALARM_DATE'].fillna(0).astype(int)"
   ]
  },
  {
   "cell_type": "code",
   "execution_count": 173,
   "metadata": {},
   "outputs": [],
   "source": [
    "# rename IS_ALARM_DATE to IS_FIRE\n",
    "weather_data = weather_data.rename(columns={'IS_ALARM_DATE': 'IS_FIRE'})"
   ]
  },
  {
   "cell_type": "code",
   "execution_count": 174,
   "metadata": {},
   "outputs": [
    {
     "data": {
      "text/html": [
       "<div>\n",
       "<style scoped>\n",
       "    .dataframe tbody tr th:only-of-type {\n",
       "        vertical-align: middle;\n",
       "    }\n",
       "\n",
       "    .dataframe tbody tr th {\n",
       "        vertical-align: top;\n",
       "    }\n",
       "\n",
       "    .dataframe thead th {\n",
       "        text-align: right;\n",
       "    }\n",
       "</style>\n",
       "<table border=\"1\" class=\"dataframe\">\n",
       "  <thead>\n",
       "    <tr style=\"text-align: right;\">\n",
       "      <th></th>\n",
       "      <th>lon</th>\n",
       "      <th>lat</th>\n",
       "      <th>day</th>\n",
       "      <th>YEAR_</th>\n",
       "      <th>IS_FIRE</th>\n",
       "    </tr>\n",
       "  </thead>\n",
       "  <tbody>\n",
       "    <tr>\n",
       "      <th>0</th>\n",
       "      <td>-124.391667</td>\n",
       "      <td>40.441667</td>\n",
       "      <td>2001-01-01</td>\n",
       "      <td>2001</td>\n",
       "      <td>0</td>\n",
       "    </tr>\n",
       "    <tr>\n",
       "      <th>1</th>\n",
       "      <td>-124.391667</td>\n",
       "      <td>40.441667</td>\n",
       "      <td>2001-01-02</td>\n",
       "      <td>2001</td>\n",
       "      <td>0</td>\n",
       "    </tr>\n",
       "    <tr>\n",
       "      <th>2</th>\n",
       "      <td>-124.391667</td>\n",
       "      <td>40.441667</td>\n",
       "      <td>2001-01-03</td>\n",
       "      <td>2001</td>\n",
       "      <td>0</td>\n",
       "    </tr>\n",
       "    <tr>\n",
       "      <th>3</th>\n",
       "      <td>-124.391667</td>\n",
       "      <td>40.441667</td>\n",
       "      <td>2001-01-04</td>\n",
       "      <td>2001</td>\n",
       "      <td>0</td>\n",
       "    </tr>\n",
       "    <tr>\n",
       "      <th>4</th>\n",
       "      <td>-124.391667</td>\n",
       "      <td>40.441667</td>\n",
       "      <td>2001-01-05</td>\n",
       "      <td>2001</td>\n",
       "      <td>0</td>\n",
       "    </tr>\n",
       "  </tbody>\n",
       "</table>\n",
       "</div>"
      ],
      "text/plain": [
       "          lon        lat        day  YEAR_  IS_FIRE\n",
       "0 -124.391667  40.441667 2001-01-01   2001        0\n",
       "1 -124.391667  40.441667 2001-01-02   2001        0\n",
       "2 -124.391667  40.441667 2001-01-03   2001        0\n",
       "3 -124.391667  40.441667 2001-01-04   2001        0\n",
       "4 -124.391667  40.441667 2001-01-05   2001        0"
      ]
     },
     "execution_count": 174,
     "metadata": {},
     "output_type": "execute_result"
    }
   ],
   "source": [
    "weather_data.head()"
   ]
  },
  {
   "cell_type": "code",
   "execution_count": 175,
   "metadata": {},
   "outputs": [],
   "source": [
    "# remove YEAR_ column\n",
    "weather_data = weather_data.drop(columns=['YEAR_'])"
   ]
  },
  {
   "cell_type": "code",
   "execution_count": 176,
   "metadata": {},
   "outputs": [],
   "source": [
    "# write weather_data\n",
    "weather_data.to_parquet('../Clean_Data/fire_label_data.parquet')"
   ]
  },
  {
   "cell_type": "code",
   "execution_count": null,
   "metadata": {},
   "outputs": [],
   "source": []
  }
 ],
 "metadata": {
  "kernelspec": {
   "display_name": "py311",
   "language": "python",
   "name": "python3"
  },
  "language_info": {
   "codemirror_mode": {
    "name": "ipython",
    "version": 3
   },
   "file_extension": ".py",
   "mimetype": "text/x-python",
   "name": "python",
   "nbconvert_exporter": "python",
   "pygments_lexer": "ipython3",
   "version": "3.11.9"
  }
 },
 "nbformat": 4,
 "nbformat_minor": 2
}
