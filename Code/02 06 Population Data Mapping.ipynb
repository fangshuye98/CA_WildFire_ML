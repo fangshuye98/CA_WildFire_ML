{
 "cells": [
  {
   "cell_type": "code",
   "execution_count": 1,
   "metadata": {},
   "outputs": [],
   "source": [
    "import pandas as pd\n",
    "import geopandas as gpd\n",
    "import xarray as xr\n",
    "import pyproj\n",
    "from tqdm import tqdm\n",
    "import numpy as np\n",
    "import os"
   ]
  },
  {
   "cell_type": "code",
   "execution_count": 24,
   "metadata": {},
   "outputs": [],
   "source": [
    "import matplotlib.pyplot as plt"
   ]
  },
  {
   "cell_type": "code",
   "execution_count": 2,
   "metadata": {},
   "outputs": [
    {
     "name": "stdout",
     "output_type": "stream",
     "text": [
      "Python version\n",
      "3.11.9 | packaged by Anaconda, Inc. | (main, Apr 19 2024, 16:40:41) [MSC v.1916 64 bit (AMD64)]\n",
      "Pandas version\n",
      "2.2.2\n",
      "Geopandas version\n",
      "0.14.2\n",
      "Xarray version\n",
      "2023.6.0\n",
      "Pyproj version\n",
      "3.6.1\n"
     ]
    }
   ],
   "source": [
    "# check python version and all packages version\n",
    "def check_python_version():\n",
    "    import sys\n",
    "    print(\"Python version\")\n",
    "    print (sys.version)\n",
    "    print(\"Pandas version\")\n",
    "    print(pd.__version__)\n",
    "    print(\"Geopandas version\")\n",
    "    print(gpd.__version__)\n",
    "    print(\"Xarray version\")\n",
    "    print(xr.__version__)\n",
    "    print(\"Pyproj version\")\n",
    "    print(pyproj.__version__)\n",
    "\n",
    "check_python_version()"
   ]
  },
  {
   "cell_type": "code",
   "execution_count": 73,
   "metadata": {},
   "outputs": [],
   "source": [
    "population_dat = xr.open_dataset('../New_Data/gpw_v4_population_density.2000.2020.CA.nc')"
   ]
  },
  {
   "cell_type": "code",
   "execution_count": 74,
   "metadata": {},
   "outputs": [
    {
     "data": {
      "text/html": [
       "<div><svg style=\"position: absolute; width: 0; height: 0; overflow: hidden\">\n",
       "<defs>\n",
       "<symbol id=\"icon-database\" viewBox=\"0 0 32 32\">\n",
       "<path d=\"M16 0c-8.837 0-16 2.239-16 5v4c0 2.761 7.163 5 16 5s16-2.239 16-5v-4c0-2.761-7.163-5-16-5z\"></path>\n",
       "<path d=\"M16 17c-8.837 0-16-2.239-16-5v6c0 2.761 7.163 5 16 5s16-2.239 16-5v-6c0 2.761-7.163 5-16 5z\"></path>\n",
       "<path d=\"M16 26c-8.837 0-16-2.239-16-5v6c0 2.761 7.163 5 16 5s16-2.239 16-5v-6c0 2.761-7.163 5-16 5z\"></path>\n",
       "</symbol>\n",
       "<symbol id=\"icon-file-text2\" viewBox=\"0 0 32 32\">\n",
       "<path d=\"M28.681 7.159c-0.694-0.947-1.662-2.053-2.724-3.116s-2.169-2.030-3.116-2.724c-1.612-1.182-2.393-1.319-2.841-1.319h-15.5c-1.378 0-2.5 1.121-2.5 2.5v27c0 1.378 1.122 2.5 2.5 2.5h23c1.378 0 2.5-1.122 2.5-2.5v-19.5c0-0.448-0.137-1.23-1.319-2.841zM24.543 5.457c0.959 0.959 1.712 1.825 2.268 2.543h-4.811v-4.811c0.718 0.556 1.584 1.309 2.543 2.268zM28 29.5c0 0.271-0.229 0.5-0.5 0.5h-23c-0.271 0-0.5-0.229-0.5-0.5v-27c0-0.271 0.229-0.5 0.5-0.5 0 0 15.499-0 15.5 0v7c0 0.552 0.448 1 1 1h7v19.5z\"></path>\n",
       "<path d=\"M23 26h-14c-0.552 0-1-0.448-1-1s0.448-1 1-1h14c0.552 0 1 0.448 1 1s-0.448 1-1 1z\"></path>\n",
       "<path d=\"M23 22h-14c-0.552 0-1-0.448-1-1s0.448-1 1-1h14c0.552 0 1 0.448 1 1s-0.448 1-1 1z\"></path>\n",
       "<path d=\"M23 18h-14c-0.552 0-1-0.448-1-1s0.448-1 1-1h14c0.552 0 1 0.448 1 1s-0.448 1-1 1z\"></path>\n",
       "</symbol>\n",
       "</defs>\n",
       "</svg>\n",
       "<style>/* CSS stylesheet for displaying xarray objects in jupyterlab.\n",
       " *\n",
       " */\n",
       "\n",
       ":root {\n",
       "  --xr-font-color0: var(--jp-content-font-color0, rgba(0, 0, 0, 1));\n",
       "  --xr-font-color2: var(--jp-content-font-color2, rgba(0, 0, 0, 0.54));\n",
       "  --xr-font-color3: var(--jp-content-font-color3, rgba(0, 0, 0, 0.38));\n",
       "  --xr-border-color: var(--jp-border-color2, #e0e0e0);\n",
       "  --xr-disabled-color: var(--jp-layout-color3, #bdbdbd);\n",
       "  --xr-background-color: var(--jp-layout-color0, white);\n",
       "  --xr-background-color-row-even: var(--jp-layout-color1, white);\n",
       "  --xr-background-color-row-odd: var(--jp-layout-color2, #eeeeee);\n",
       "}\n",
       "\n",
       "html[theme=dark],\n",
       "body[data-theme=dark],\n",
       "body.vscode-dark {\n",
       "  --xr-font-color0: rgba(255, 255, 255, 1);\n",
       "  --xr-font-color2: rgba(255, 255, 255, 0.54);\n",
       "  --xr-font-color3: rgba(255, 255, 255, 0.38);\n",
       "  --xr-border-color: #1F1F1F;\n",
       "  --xr-disabled-color: #515151;\n",
       "  --xr-background-color: #111111;\n",
       "  --xr-background-color-row-even: #111111;\n",
       "  --xr-background-color-row-odd: #313131;\n",
       "}\n",
       "\n",
       ".xr-wrap {\n",
       "  display: block !important;\n",
       "  min-width: 300px;\n",
       "  max-width: 700px;\n",
       "}\n",
       "\n",
       ".xr-text-repr-fallback {\n",
       "  /* fallback to plain text repr when CSS is not injected (untrusted notebook) */\n",
       "  display: none;\n",
       "}\n",
       "\n",
       ".xr-header {\n",
       "  padding-top: 6px;\n",
       "  padding-bottom: 6px;\n",
       "  margin-bottom: 4px;\n",
       "  border-bottom: solid 1px var(--xr-border-color);\n",
       "}\n",
       "\n",
       ".xr-header > div,\n",
       ".xr-header > ul {\n",
       "  display: inline;\n",
       "  margin-top: 0;\n",
       "  margin-bottom: 0;\n",
       "}\n",
       "\n",
       ".xr-obj-type,\n",
       ".xr-array-name {\n",
       "  margin-left: 2px;\n",
       "  margin-right: 10px;\n",
       "}\n",
       "\n",
       ".xr-obj-type {\n",
       "  color: var(--xr-font-color2);\n",
       "}\n",
       "\n",
       ".xr-sections {\n",
       "  padding-left: 0 !important;\n",
       "  display: grid;\n",
       "  grid-template-columns: 150px auto auto 1fr 20px 20px;\n",
       "}\n",
       "\n",
       ".xr-section-item {\n",
       "  display: contents;\n",
       "}\n",
       "\n",
       ".xr-section-item input {\n",
       "  display: none;\n",
       "}\n",
       "\n",
       ".xr-section-item input + label {\n",
       "  color: var(--xr-disabled-color);\n",
       "}\n",
       "\n",
       ".xr-section-item input:enabled + label {\n",
       "  cursor: pointer;\n",
       "  color: var(--xr-font-color2);\n",
       "}\n",
       "\n",
       ".xr-section-item input:enabled + label:hover {\n",
       "  color: var(--xr-font-color0);\n",
       "}\n",
       "\n",
       ".xr-section-summary {\n",
       "  grid-column: 1;\n",
       "  color: var(--xr-font-color2);\n",
       "  font-weight: 500;\n",
       "}\n",
       "\n",
       ".xr-section-summary > span {\n",
       "  display: inline-block;\n",
       "  padding-left: 0.5em;\n",
       "}\n",
       "\n",
       ".xr-section-summary-in:disabled + label {\n",
       "  color: var(--xr-font-color2);\n",
       "}\n",
       "\n",
       ".xr-section-summary-in + label:before {\n",
       "  display: inline-block;\n",
       "  content: '►';\n",
       "  font-size: 11px;\n",
       "  width: 15px;\n",
       "  text-align: center;\n",
       "}\n",
       "\n",
       ".xr-section-summary-in:disabled + label:before {\n",
       "  color: var(--xr-disabled-color);\n",
       "}\n",
       "\n",
       ".xr-section-summary-in:checked + label:before {\n",
       "  content: '▼';\n",
       "}\n",
       "\n",
       ".xr-section-summary-in:checked + label > span {\n",
       "  display: none;\n",
       "}\n",
       "\n",
       ".xr-section-summary,\n",
       ".xr-section-inline-details {\n",
       "  padding-top: 4px;\n",
       "  padding-bottom: 4px;\n",
       "}\n",
       "\n",
       ".xr-section-inline-details {\n",
       "  grid-column: 2 / -1;\n",
       "}\n",
       "\n",
       ".xr-section-details {\n",
       "  display: none;\n",
       "  grid-column: 1 / -1;\n",
       "  margin-bottom: 5px;\n",
       "}\n",
       "\n",
       ".xr-section-summary-in:checked ~ .xr-section-details {\n",
       "  display: contents;\n",
       "}\n",
       "\n",
       ".xr-array-wrap {\n",
       "  grid-column: 1 / -1;\n",
       "  display: grid;\n",
       "  grid-template-columns: 20px auto;\n",
       "}\n",
       "\n",
       ".xr-array-wrap > label {\n",
       "  grid-column: 1;\n",
       "  vertical-align: top;\n",
       "}\n",
       "\n",
       ".xr-preview {\n",
       "  color: var(--xr-font-color3);\n",
       "}\n",
       "\n",
       ".xr-array-preview,\n",
       ".xr-array-data {\n",
       "  padding: 0 5px !important;\n",
       "  grid-column: 2;\n",
       "}\n",
       "\n",
       ".xr-array-data,\n",
       ".xr-array-in:checked ~ .xr-array-preview {\n",
       "  display: none;\n",
       "}\n",
       "\n",
       ".xr-array-in:checked ~ .xr-array-data,\n",
       ".xr-array-preview {\n",
       "  display: inline-block;\n",
       "}\n",
       "\n",
       ".xr-dim-list {\n",
       "  display: inline-block !important;\n",
       "  list-style: none;\n",
       "  padding: 0 !important;\n",
       "  margin: 0;\n",
       "}\n",
       "\n",
       ".xr-dim-list li {\n",
       "  display: inline-block;\n",
       "  padding: 0;\n",
       "  margin: 0;\n",
       "}\n",
       "\n",
       ".xr-dim-list:before {\n",
       "  content: '(';\n",
       "}\n",
       "\n",
       ".xr-dim-list:after {\n",
       "  content: ')';\n",
       "}\n",
       "\n",
       ".xr-dim-list li:not(:last-child):after {\n",
       "  content: ',';\n",
       "  padding-right: 5px;\n",
       "}\n",
       "\n",
       ".xr-has-index {\n",
       "  font-weight: bold;\n",
       "}\n",
       "\n",
       ".xr-var-list,\n",
       ".xr-var-item {\n",
       "  display: contents;\n",
       "}\n",
       "\n",
       ".xr-var-item > div,\n",
       ".xr-var-item label,\n",
       ".xr-var-item > .xr-var-name span {\n",
       "  background-color: var(--xr-background-color-row-even);\n",
       "  margin-bottom: 0;\n",
       "}\n",
       "\n",
       ".xr-var-item > .xr-var-name:hover span {\n",
       "  padding-right: 5px;\n",
       "}\n",
       "\n",
       ".xr-var-list > li:nth-child(odd) > div,\n",
       ".xr-var-list > li:nth-child(odd) > label,\n",
       ".xr-var-list > li:nth-child(odd) > .xr-var-name span {\n",
       "  background-color: var(--xr-background-color-row-odd);\n",
       "}\n",
       "\n",
       ".xr-var-name {\n",
       "  grid-column: 1;\n",
       "}\n",
       "\n",
       ".xr-var-dims {\n",
       "  grid-column: 2;\n",
       "}\n",
       "\n",
       ".xr-var-dtype {\n",
       "  grid-column: 3;\n",
       "  text-align: right;\n",
       "  color: var(--xr-font-color2);\n",
       "}\n",
       "\n",
       ".xr-var-preview {\n",
       "  grid-column: 4;\n",
       "}\n",
       "\n",
       ".xr-index-preview {\n",
       "  grid-column: 2 / 5;\n",
       "  color: var(--xr-font-color2);\n",
       "}\n",
       "\n",
       ".xr-var-name,\n",
       ".xr-var-dims,\n",
       ".xr-var-dtype,\n",
       ".xr-preview,\n",
       ".xr-attrs dt {\n",
       "  white-space: nowrap;\n",
       "  overflow: hidden;\n",
       "  text-overflow: ellipsis;\n",
       "  padding-right: 10px;\n",
       "}\n",
       "\n",
       ".xr-var-name:hover,\n",
       ".xr-var-dims:hover,\n",
       ".xr-var-dtype:hover,\n",
       ".xr-attrs dt:hover {\n",
       "  overflow: visible;\n",
       "  width: auto;\n",
       "  z-index: 1;\n",
       "}\n",
       "\n",
       ".xr-var-attrs,\n",
       ".xr-var-data,\n",
       ".xr-index-data {\n",
       "  display: none;\n",
       "  background-color: var(--xr-background-color) !important;\n",
       "  padding-bottom: 5px !important;\n",
       "}\n",
       "\n",
       ".xr-var-attrs-in:checked ~ .xr-var-attrs,\n",
       ".xr-var-data-in:checked ~ .xr-var-data,\n",
       ".xr-index-data-in:checked ~ .xr-index-data {\n",
       "  display: block;\n",
       "}\n",
       "\n",
       ".xr-var-data > table {\n",
       "  float: right;\n",
       "}\n",
       "\n",
       ".xr-var-name span,\n",
       ".xr-var-data,\n",
       ".xr-index-name div,\n",
       ".xr-index-data,\n",
       ".xr-attrs {\n",
       "  padding-left: 25px !important;\n",
       "}\n",
       "\n",
       ".xr-attrs,\n",
       ".xr-var-attrs,\n",
       ".xr-var-data,\n",
       ".xr-index-data {\n",
       "  grid-column: 1 / -1;\n",
       "}\n",
       "\n",
       "dl.xr-attrs {\n",
       "  padding: 0;\n",
       "  margin: 0;\n",
       "  display: grid;\n",
       "  grid-template-columns: 125px auto;\n",
       "}\n",
       "\n",
       ".xr-attrs dt,\n",
       ".xr-attrs dd {\n",
       "  padding: 0;\n",
       "  margin: 0;\n",
       "  float: left;\n",
       "  padding-right: 10px;\n",
       "  width: auto;\n",
       "}\n",
       "\n",
       ".xr-attrs dt {\n",
       "  font-weight: normal;\n",
       "  grid-column: 1;\n",
       "}\n",
       "\n",
       ".xr-attrs dt:hover span {\n",
       "  display: inline-block;\n",
       "  background: var(--xr-background-color);\n",
       "  padding-right: 10px;\n",
       "}\n",
       "\n",
       ".xr-attrs dd {\n",
       "  grid-column: 2;\n",
       "  white-space: pre-wrap;\n",
       "  word-break: break-all;\n",
       "}\n",
       "\n",
       ".xr-icon-database,\n",
       ".xr-icon-file-text2,\n",
       ".xr-no-icon {\n",
       "  display: inline-block;\n",
       "  vertical-align: middle;\n",
       "  width: 1em;\n",
       "  height: 1.5em !important;\n",
       "  stroke-width: 0;\n",
       "  stroke: currentColor;\n",
       "  fill: currentColor;\n",
       "}\n",
       "</style><pre class='xr-text-repr-fallback'>&lt;xarray.Dataset&gt;\n",
       "Dimensions:  (time: 5, lon: 259, lat: 240)\n",
       "Coordinates:\n",
       "  * time     (time) float64 2e+07 2.005e+07 2.01e+07 2.015e+07 2.02e+07\n",
       "  * lon      (lon) float64 -124.8 -124.7 -124.7 -124.6 ... -114.1 -114.1 -114.0\n",
       "  * lat      (lat) float64 41.98 41.94 41.9 41.86 ... 32.15 32.11 32.07 32.03\n",
       "Data variables:\n",
       "    Band1    (time, lat, lon) float32 ...\n",
       "Attributes:\n",
       "    CDI:                 Climate Data Interface version 2.4.4 (https://mpimet...\n",
       "    Conventions:         CF-1.5\n",
       "    GDAL_DataType:       Generic\n",
       "    GDAL_AREA_OR_POINT:  Area\n",
       "    GDAL:                GDAL 3.9.3, released 2024/10/07\n",
       "    history:             Mon Feb 03 21:51:04 2025: cdo setmissval,0 gpw_v4_po...\n",
       "    CDO:                 Climate Data Operators version 2.4.4 (https://mpimet...</pre><div class='xr-wrap' style='display:none'><div class='xr-header'><div class='xr-obj-type'>xarray.Dataset</div></div><ul class='xr-sections'><li class='xr-section-item'><input id='section-9ac348a8-30fe-4eb8-baa1-0f26dc0dd223' class='xr-section-summary-in' type='checkbox' disabled ><label for='section-9ac348a8-30fe-4eb8-baa1-0f26dc0dd223' class='xr-section-summary'  title='Expand/collapse section'>Dimensions:</label><div class='xr-section-inline-details'><ul class='xr-dim-list'><li><span class='xr-has-index'>time</span>: 5</li><li><span class='xr-has-index'>lon</span>: 259</li><li><span class='xr-has-index'>lat</span>: 240</li></ul></div><div class='xr-section-details'></div></li><li class='xr-section-item'><input id='section-19232c9e-d7b7-419c-9af1-869ee4622d0c' class='xr-section-summary-in' type='checkbox'  checked><label for='section-19232c9e-d7b7-419c-9af1-869ee4622d0c' class='xr-section-summary' >Coordinates: <span>(3)</span></label><div class='xr-section-inline-details'></div><div class='xr-section-details'><ul class='xr-var-list'><li class='xr-var-item'><div class='xr-var-name'><span class='xr-has-index'>time</span></div><div class='xr-var-dims'>(time)</div><div class='xr-var-dtype'>float64</div><div class='xr-var-preview xr-preview'>2e+07 2.005e+07 ... 2.02e+07</div><input id='attrs-d0703450-21c6-4ce9-8475-1bae694f2939' class='xr-var-attrs-in' type='checkbox' ><label for='attrs-d0703450-21c6-4ce9-8475-1bae694f2939' title='Show/Hide attributes'><svg class='icon xr-icon-file-text2'><use xlink:href='#icon-file-text2'></use></svg></label><input id='data-933e6ae9-6e10-4ca8-aeea-3bfd4993654a' class='xr-var-data-in' type='checkbox'><label for='data-933e6ae9-6e10-4ca8-aeea-3bfd4993654a' title='Show/Hide data repr'><svg class='icon xr-icon-database'><use xlink:href='#icon-database'></use></svg></label><div class='xr-var-attrs'><dl class='xr-attrs'><dt><span>standard_name :</span></dt><dd>time</dd><dt><span>units :</span></dt><dd>day as %Y%m%d.%f</dd><dt><span>calendar :</span></dt><dd>proleptic_gregorian</dd><dt><span>axis :</span></dt><dd>T</dd></dl></div><div class='xr-var-data'><pre>array([20000101., 20050101., 20100101., 20150101., 20200101.])</pre></div></li><li class='xr-var-item'><div class='xr-var-name'><span class='xr-has-index'>lon</span></div><div class='xr-var-dims'>(lon)</div><div class='xr-var-dtype'>float64</div><div class='xr-var-preview xr-preview'>-124.8 -124.7 ... -114.1 -114.0</div><input id='attrs-fcc3fa7f-3ca5-47f6-9125-dbee10938a09' class='xr-var-attrs-in' type='checkbox' ><label for='attrs-fcc3fa7f-3ca5-47f6-9125-dbee10938a09' title='Show/Hide attributes'><svg class='icon xr-icon-file-text2'><use xlink:href='#icon-file-text2'></use></svg></label><input id='data-428fca33-0e54-4e90-8084-41fb27f43adb' class='xr-var-data-in' type='checkbox'><label for='data-428fca33-0e54-4e90-8084-41fb27f43adb' title='Show/Hide data repr'><svg class='icon xr-icon-database'><use xlink:href='#icon-database'></use></svg></label><div class='xr-var-attrs'><dl class='xr-attrs'><dt><span>standard_name :</span></dt><dd>longitude</dd><dt><span>long_name :</span></dt><dd>longitude</dd><dt><span>units :</span></dt><dd>degrees_east</dd><dt><span>axis :</span></dt><dd>X</dd></dl></div><div class='xr-var-data'><pre>array([-124.766667, -124.725   , -124.683333, ..., -114.1     , -114.058333,\n",
       "       -114.016667])</pre></div></li><li class='xr-var-item'><div class='xr-var-name'><span class='xr-has-index'>lat</span></div><div class='xr-var-dims'>(lat)</div><div class='xr-var-dtype'>float64</div><div class='xr-var-preview xr-preview'>41.98 41.94 41.9 ... 32.07 32.03</div><input id='attrs-5983fb97-e154-4ba8-a075-c726dafb0492' class='xr-var-attrs-in' type='checkbox' ><label for='attrs-5983fb97-e154-4ba8-a075-c726dafb0492' title='Show/Hide attributes'><svg class='icon xr-icon-file-text2'><use xlink:href='#icon-file-text2'></use></svg></label><input id='data-10d7741b-561f-4654-9656-23cf585916ed' class='xr-var-data-in' type='checkbox'><label for='data-10d7741b-561f-4654-9656-23cf585916ed' title='Show/Hide data repr'><svg class='icon xr-icon-database'><use xlink:href='#icon-database'></use></svg></label><div class='xr-var-attrs'><dl class='xr-attrs'><dt><span>standard_name :</span></dt><dd>latitude</dd><dt><span>long_name :</span></dt><dd>latitude</dd><dt><span>units :</span></dt><dd>degrees_north</dd><dt><span>axis :</span></dt><dd>Y</dd></dl></div><div class='xr-var-data'><pre>array([41.983333, 41.941667, 41.9     , ..., 32.108333, 32.066667, 32.025   ])</pre></div></li></ul></div></li><li class='xr-section-item'><input id='section-4ca7a6c3-eb9d-45d3-a902-c2a37b74b063' class='xr-section-summary-in' type='checkbox'  checked><label for='section-4ca7a6c3-eb9d-45d3-a902-c2a37b74b063' class='xr-section-summary' >Data variables: <span>(1)</span></label><div class='xr-section-inline-details'></div><div class='xr-section-details'><ul class='xr-var-list'><li class='xr-var-item'><div class='xr-var-name'><span>Band1</span></div><div class='xr-var-dims'>(time, lat, lon)</div><div class='xr-var-dtype'>float32</div><div class='xr-var-preview xr-preview'>...</div><input id='attrs-1d185036-2704-4522-a85a-03b4baa3ab7a' class='xr-var-attrs-in' type='checkbox' ><label for='attrs-1d185036-2704-4522-a85a-03b4baa3ab7a' title='Show/Hide attributes'><svg class='icon xr-icon-file-text2'><use xlink:href='#icon-file-text2'></use></svg></label><input id='data-001b7596-e9d0-44d7-87f0-f4ed5bd2e788' class='xr-var-data-in' type='checkbox'><label for='data-001b7596-e9d0-44d7-87f0-f4ed5bd2e788' title='Show/Hide data repr'><svg class='icon xr-icon-database'><use xlink:href='#icon-database'></use></svg></label><div class='xr-var-attrs'><dl class='xr-attrs'><dt><span>long_name :</span></dt><dd>GDAL Band Number 1</dd><dt><span>RepresentationType :</span></dt><dd>ATHEMATIC</dd></dl></div><div class='xr-var-data'><pre>[310800 values with dtype=float32]</pre></div></li></ul></div></li><li class='xr-section-item'><input id='section-2ef186ae-b153-4187-aa46-14d7eb359887' class='xr-section-summary-in' type='checkbox'  ><label for='section-2ef186ae-b153-4187-aa46-14d7eb359887' class='xr-section-summary' >Indexes: <span>(3)</span></label><div class='xr-section-inline-details'></div><div class='xr-section-details'><ul class='xr-var-list'><li class='xr-var-item'><div class='xr-index-name'><div>time</div></div><div class='xr-index-preview'>PandasIndex</div><div></div><input id='index-2f73965a-444c-472a-b967-126a0775b879' class='xr-index-data-in' type='checkbox'/><label for='index-2f73965a-444c-472a-b967-126a0775b879' title='Show/Hide index repr'><svg class='icon xr-icon-database'><use xlink:href='#icon-database'></use></svg></label><div class='xr-index-data'><pre>PandasIndex(Index([20000101.0, 20050101.0, 20100101.0, 20150101.0, 20200101.0], dtype=&#x27;float64&#x27;, name=&#x27;time&#x27;))</pre></div></li><li class='xr-var-item'><div class='xr-index-name'><div>lon</div></div><div class='xr-index-preview'>PandasIndex</div><div></div><input id='index-1a91b47b-9e25-4d24-b9e0-38e587666226' class='xr-index-data-in' type='checkbox'/><label for='index-1a91b47b-9e25-4d24-b9e0-38e587666226' title='Show/Hide index repr'><svg class='icon xr-icon-database'><use xlink:href='#icon-database'></use></svg></label><div class='xr-index-data'><pre>PandasIndex(Index([-124.76666663333334, -124.72499996666667, -124.68333330000002,\n",
       "       -124.64166663333334, -124.59999996666667, -124.55833330000002,\n",
       "       -124.51666663333334, -124.47499996666667, -124.43333330000002,\n",
       "       -124.39166663333334,\n",
       "       ...\n",
       "       -114.39166663333334, -114.34999996666667, -114.30833330000002,\n",
       "       -114.26666663333334, -114.22499996666667, -114.18333330000002,\n",
       "       -114.14166663333334, -114.09999996666667, -114.05833330000002,\n",
       "       -114.01666663333334],\n",
       "      dtype=&#x27;float64&#x27;, name=&#x27;lon&#x27;, length=259))</pre></div></li><li class='xr-var-item'><div class='xr-index-name'><div>lat</div></div><div class='xr-index-preview'>PandasIndex</div><div></div><input id='index-8ab9b8e7-8909-4fb5-9b9e-16321c5665c4' class='xr-index-data-in' type='checkbox'/><label for='index-8ab9b8e7-8909-4fb5-9b9e-16321c5665c4' title='Show/Hide index repr'><svg class='icon xr-icon-database'><use xlink:href='#icon-database'></use></svg></label><div class='xr-index-data'><pre>PandasIndex(Index([41.983333333333334,  41.94166666666667, 41.900000000000006,\n",
       "        41.85833333333334,  41.81666666666667, 41.775000000000006,\n",
       "        41.73333333333334,  41.69166666666667, 41.650000000000006,\n",
       "        41.60833333333334,\n",
       "       ...\n",
       "       32.400000000000006, 32.358333333333334,  32.31666666666667,\n",
       "       32.275000000000006, 32.233333333333334,  32.19166666666667,\n",
       "       32.150000000000006, 32.108333333333334,  32.06666666666667,\n",
       "       32.025000000000006],\n",
       "      dtype=&#x27;float64&#x27;, name=&#x27;lat&#x27;, length=240))</pre></div></li></ul></div></li><li class='xr-section-item'><input id='section-2a88689f-8634-4030-8b5c-33d76aa5af3c' class='xr-section-summary-in' type='checkbox'  checked><label for='section-2a88689f-8634-4030-8b5c-33d76aa5af3c' class='xr-section-summary' >Attributes: <span>(7)</span></label><div class='xr-section-inline-details'></div><div class='xr-section-details'><dl class='xr-attrs'><dt><span>CDI :</span></dt><dd>Climate Data Interface version 2.4.4 (https://mpimet.mpg.de/cdi)</dd><dt><span>Conventions :</span></dt><dd>CF-1.5</dd><dt><span>GDAL_DataType :</span></dt><dd>Generic</dd><dt><span>GDAL_AREA_OR_POINT :</span></dt><dd>Area</dd><dt><span>GDAL :</span></dt><dd>GDAL 3.9.3, released 2024/10/07</dd><dt><span>history :</span></dt><dd>Mon Feb 03 21:51:04 2025: cdo setmissval,0 gpw_v4_population_density.2000.2020.CA.nc gpw_v4_population_density.2000.2020.CA.set.nc\n",
       "Mon Feb 03 17:32:28 2025: cdo mul gpw_v4_population_density_2000_2020.WUS.remap.nc CA.remap.nc gpw_v4_population_density_2000_2020.CA.nc\n",
       "Mon Feb 03 17:32:17 2025: cdo remapbil,CA.remap.nc gpw_v4_population_density_2000_2020.WUS.nc gpw_v4_population_density_2000_2020.WUS.remap.nc\n",
       "Mon Feb 03 17:31:40 2025: cdo sellonlatbox,-125,-114,32,42 gpw_v4_population_density_2000_2020.nc gpw_v4_population_density_2000_2020.WUS.nc\n",
       "Mon Feb 03 17:27:42 2025: cdo mergetime gpw_v4_population_density_2000.nc gpw_v4_population_density_2005.nc gpw_v4_population_density_2010.nc gpw_v4_population_density_2015.nc gpw_v4_population_density_2020.nc gpw_v4_population_density_2000_2020.nc\n",
       "Mon Feb 03 17:22:30 2025: cdo settaxis,2000-01-01 gpw_v4_population_density_rev11_2000_30_sec.nc gpw_v4_population_density_2000.nc\n",
       "Mon Feb 03 17:02:25 2025: GDAL CreateCopy( gpw_v4_population_density_rev11_2000_30_sec.nc, ... )</dd><dt><span>CDO :</span></dt><dd>Climate Data Operators version 2.4.4 (https://mpimet.mpg.de/cdo)</dd></dl></div></li></ul></div></div>"
      ],
      "text/plain": [
       "<xarray.Dataset>\n",
       "Dimensions:  (time: 5, lon: 259, lat: 240)\n",
       "Coordinates:\n",
       "  * time     (time) float64 2e+07 2.005e+07 2.01e+07 2.015e+07 2.02e+07\n",
       "  * lon      (lon) float64 -124.8 -124.7 -124.7 -124.6 ... -114.1 -114.1 -114.0\n",
       "  * lat      (lat) float64 41.98 41.94 41.9 41.86 ... 32.15 32.11 32.07 32.03\n",
       "Data variables:\n",
       "    Band1    (time, lat, lon) float32 ...\n",
       "Attributes:\n",
       "    CDI:                 Climate Data Interface version 2.4.4 (https://mpimet...\n",
       "    Conventions:         CF-1.5\n",
       "    GDAL_DataType:       Generic\n",
       "    GDAL_AREA_OR_POINT:  Area\n",
       "    GDAL:                GDAL 3.9.3, released 2024/10/07\n",
       "    history:             Mon Feb 03 21:51:04 2025: cdo setmissval,0 gpw_v4_po...\n",
       "    CDO:                 Climate Data Operators version 2.4.4 (https://mpimet..."
      ]
     },
     "execution_count": 74,
     "metadata": {},
     "output_type": "execute_result"
    }
   ],
   "source": [
    "population_dat"
   ]
  },
  {
   "cell_type": "code",
   "execution_count": 75,
   "metadata": {},
   "outputs": [],
   "source": [
    "population_dat = population_dat.to_dataframe().reset_index()"
   ]
  },
  {
   "cell_type": "code",
   "execution_count": 76,
   "metadata": {},
   "outputs": [
    {
     "data": {
      "text/html": [
       "<div>\n",
       "<style scoped>\n",
       "    .dataframe tbody tr th:only-of-type {\n",
       "        vertical-align: middle;\n",
       "    }\n",
       "\n",
       "    .dataframe tbody tr th {\n",
       "        vertical-align: top;\n",
       "    }\n",
       "\n",
       "    .dataframe thead th {\n",
       "        text-align: right;\n",
       "    }\n",
       "</style>\n",
       "<table border=\"1\" class=\"dataframe\">\n",
       "  <thead>\n",
       "    <tr style=\"text-align: right;\">\n",
       "      <th></th>\n",
       "      <th>time</th>\n",
       "      <th>lon</th>\n",
       "      <th>lat</th>\n",
       "      <th>Band1</th>\n",
       "    </tr>\n",
       "  </thead>\n",
       "  <tbody>\n",
       "    <tr>\n",
       "      <th>0</th>\n",
       "      <td>20000101.0</td>\n",
       "      <td>-124.766667</td>\n",
       "      <td>41.983333</td>\n",
       "      <td>NaN</td>\n",
       "    </tr>\n",
       "    <tr>\n",
       "      <th>1</th>\n",
       "      <td>20000101.0</td>\n",
       "      <td>-124.766667</td>\n",
       "      <td>41.941667</td>\n",
       "      <td>NaN</td>\n",
       "    </tr>\n",
       "    <tr>\n",
       "      <th>2</th>\n",
       "      <td>20000101.0</td>\n",
       "      <td>-124.766667</td>\n",
       "      <td>41.900000</td>\n",
       "      <td>NaN</td>\n",
       "    </tr>\n",
       "    <tr>\n",
       "      <th>3</th>\n",
       "      <td>20000101.0</td>\n",
       "      <td>-124.766667</td>\n",
       "      <td>41.858333</td>\n",
       "      <td>NaN</td>\n",
       "    </tr>\n",
       "    <tr>\n",
       "      <th>4</th>\n",
       "      <td>20000101.0</td>\n",
       "      <td>-124.766667</td>\n",
       "      <td>41.816667</td>\n",
       "      <td>NaN</td>\n",
       "    </tr>\n",
       "  </tbody>\n",
       "</table>\n",
       "</div>"
      ],
      "text/plain": [
       "         time         lon        lat  Band1\n",
       "0  20000101.0 -124.766667  41.983333    NaN\n",
       "1  20000101.0 -124.766667  41.941667    NaN\n",
       "2  20000101.0 -124.766667  41.900000    NaN\n",
       "3  20000101.0 -124.766667  41.858333    NaN\n",
       "4  20000101.0 -124.766667  41.816667    NaN"
      ]
     },
     "execution_count": 76,
     "metadata": {},
     "output_type": "execute_result"
    }
   ],
   "source": [
    "population_dat.head()"
   ]
  },
  {
   "cell_type": "code",
   "execution_count": 77,
   "metadata": {},
   "outputs": [],
   "source": [
    "# time have format like [20000101., 20050101., 20100101., 20150101., 20200101.], we need to convert it to datetime\n",
    "# first we need to convert it to int so to remove.0\n",
    "population_dat['time'] = population_dat['time'].astype(int)\n",
    "population_dat['time'] = pd.to_datetime(population_dat['time'].astype(str), format='%Y%m%d')"
   ]
  },
  {
   "cell_type": "code",
   "execution_count": 78,
   "metadata": {},
   "outputs": [
    {
     "data": {
      "text/html": [
       "<div>\n",
       "<style scoped>\n",
       "    .dataframe tbody tr th:only-of-type {\n",
       "        vertical-align: middle;\n",
       "    }\n",
       "\n",
       "    .dataframe tbody tr th {\n",
       "        vertical-align: top;\n",
       "    }\n",
       "\n",
       "    .dataframe thead th {\n",
       "        text-align: right;\n",
       "    }\n",
       "</style>\n",
       "<table border=\"1\" class=\"dataframe\">\n",
       "  <thead>\n",
       "    <tr style=\"text-align: right;\">\n",
       "      <th></th>\n",
       "      <th>time</th>\n",
       "      <th>lon</th>\n",
       "      <th>lat</th>\n",
       "      <th>Band1</th>\n",
       "    </tr>\n",
       "  </thead>\n",
       "  <tbody>\n",
       "    <tr>\n",
       "      <th>0</th>\n",
       "      <td>2000-01-01</td>\n",
       "      <td>-124.766667</td>\n",
       "      <td>41.983333</td>\n",
       "      <td>NaN</td>\n",
       "    </tr>\n",
       "    <tr>\n",
       "      <th>1</th>\n",
       "      <td>2000-01-01</td>\n",
       "      <td>-124.766667</td>\n",
       "      <td>41.941667</td>\n",
       "      <td>NaN</td>\n",
       "    </tr>\n",
       "    <tr>\n",
       "      <th>2</th>\n",
       "      <td>2000-01-01</td>\n",
       "      <td>-124.766667</td>\n",
       "      <td>41.900000</td>\n",
       "      <td>NaN</td>\n",
       "    </tr>\n",
       "    <tr>\n",
       "      <th>3</th>\n",
       "      <td>2000-01-01</td>\n",
       "      <td>-124.766667</td>\n",
       "      <td>41.858333</td>\n",
       "      <td>NaN</td>\n",
       "    </tr>\n",
       "    <tr>\n",
       "      <th>4</th>\n",
       "      <td>2000-01-01</td>\n",
       "      <td>-124.766667</td>\n",
       "      <td>41.816667</td>\n",
       "      <td>NaN</td>\n",
       "    </tr>\n",
       "  </tbody>\n",
       "</table>\n",
       "</div>"
      ],
      "text/plain": [
       "        time         lon        lat  Band1\n",
       "0 2000-01-01 -124.766667  41.983333    NaN\n",
       "1 2000-01-01 -124.766667  41.941667    NaN\n",
       "2 2000-01-01 -124.766667  41.900000    NaN\n",
       "3 2000-01-01 -124.766667  41.858333    NaN\n",
       "4 2000-01-01 -124.766667  41.816667    NaN"
      ]
     },
     "execution_count": 78,
     "metadata": {},
     "output_type": "execute_result"
    }
   ],
   "source": [
    "population_dat.head()"
   ]
  },
  {
   "cell_type": "code",
   "execution_count": 11,
   "metadata": {},
   "outputs": [
    {
     "data": {
      "text/plain": [
       "<DatetimeArray>\n",
       "['2000-01-01 00:00:00', '2005-01-01 00:00:00', '2010-01-01 00:00:00',\n",
       " '2015-01-01 00:00:00', '2020-01-01 00:00:00']\n",
       "Length: 5, dtype: datetime64[ns]"
      ]
     },
     "execution_count": 11,
     "metadata": {},
     "output_type": "execute_result"
    }
   ],
   "source": [
    "# check unique values of time\n",
    "population_dat['time'].unique()"
   ]
  },
  {
   "cell_type": "code",
   "execution_count": 8,
   "metadata": {},
   "outputs": [
    {
     "data": {
      "text/plain": [
       "array([20000101., 20050101., 20100101., 20150101., 20200101.])"
      ]
     },
     "execution_count": 8,
     "metadata": {},
     "output_type": "execute_result"
    }
   ],
   "source": [
    "# check unique values of time\n",
    "population_dat['time'].unique()"
   ]
  },
  {
   "cell_type": "code",
   "execution_count": 79,
   "metadata": {},
   "outputs": [
    {
     "data": {
      "text/plain": [
       "(62160, 2)"
      ]
     },
     "execution_count": 79,
     "metadata": {},
     "output_type": "execute_result"
    }
   ],
   "source": [
    "population_dat_lon_lat = population_dat[['lon', 'lat']].drop_duplicates()\n",
    "population_dat_lon_lat.shape"
   ]
  },
  {
   "cell_type": "code",
   "execution_count": 14,
   "metadata": {},
   "outputs": [],
   "source": [
    "# read reference weather data to confirm the grid is the same\n",
    "data_dir = '../Weather_Data/'\n",
    "files = os.listdir('../Weather_Data/')\n",
    "reference_ds = xr.open_dataset(os.path.join(data_dir, files[-1]))\n",
    "\n",
    "# Extract lon and lat coordinates\n",
    "lon = reference_ds.coords['lon'].values\n",
    "lat = reference_ds.coords['lat'].values\n",
    "\n",
    "# Create a DataFrame with all combinations of lon and lat\n",
    "lon_lat_combinations = pd.DataFrame([(lo, la) for lo in lon for la in lat], columns=['lon', 'lat'])"
   ]
  },
  {
   "cell_type": "code",
   "execution_count": 15,
   "metadata": {},
   "outputs": [
    {
     "data": {
      "text/plain": [
       "(62160, 2)"
      ]
     },
     "execution_count": 15,
     "metadata": {},
     "output_type": "execute_result"
    }
   ],
   "source": [
    "lon_lat_combinations.shape"
   ]
  },
  {
   "cell_type": "code",
   "execution_count": 16,
   "metadata": {},
   "outputs": [],
   "source": [
    "# check if the lon and lat in population data is the same as the reference weather data\n",
    "test = population_dat_lon_lat.merge(lon_lat_combinations, on=['lon', 'lat'], how='inner')"
   ]
  },
  {
   "cell_type": "code",
   "execution_count": 18,
   "metadata": {},
   "outputs": [
    {
     "data": {
      "text/plain": [
       "(62160, 2)"
      ]
     },
     "execution_count": 18,
     "metadata": {},
     "output_type": "execute_result"
    }
   ],
   "source": [
    "test.shape"
   ]
  },
  {
   "cell_type": "markdown",
   "metadata": {},
   "source": [
    "Confirmed!"
   ]
  },
  {
   "cell_type": "code",
   "execution_count": 21,
   "metadata": {},
   "outputs": [
    {
     "data": {
      "text/html": [
       "<div>\n",
       "<style scoped>\n",
       "    .dataframe tbody tr th:only-of-type {\n",
       "        vertical-align: middle;\n",
       "    }\n",
       "\n",
       "    .dataframe tbody tr th {\n",
       "        vertical-align: top;\n",
       "    }\n",
       "\n",
       "    .dataframe thead th {\n",
       "        text-align: right;\n",
       "    }\n",
       "</style>\n",
       "<table border=\"1\" class=\"dataframe\">\n",
       "  <thead>\n",
       "    <tr style=\"text-align: right;\">\n",
       "      <th></th>\n",
       "      <th>time</th>\n",
       "      <th>lon</th>\n",
       "      <th>lat</th>\n",
       "      <th>Band1</th>\n",
       "    </tr>\n",
       "  </thead>\n",
       "  <tbody>\n",
       "    <tr>\n",
       "      <th>0</th>\n",
       "      <td>2000-01-01</td>\n",
       "      <td>-124.766667</td>\n",
       "      <td>41.983333</td>\n",
       "      <td>NaN</td>\n",
       "    </tr>\n",
       "    <tr>\n",
       "      <th>1</th>\n",
       "      <td>2000-01-01</td>\n",
       "      <td>-124.766667</td>\n",
       "      <td>41.941667</td>\n",
       "      <td>NaN</td>\n",
       "    </tr>\n",
       "    <tr>\n",
       "      <th>2</th>\n",
       "      <td>2000-01-01</td>\n",
       "      <td>-124.766667</td>\n",
       "      <td>41.900000</td>\n",
       "      <td>NaN</td>\n",
       "    </tr>\n",
       "    <tr>\n",
       "      <th>3</th>\n",
       "      <td>2000-01-01</td>\n",
       "      <td>-124.766667</td>\n",
       "      <td>41.858333</td>\n",
       "      <td>NaN</td>\n",
       "    </tr>\n",
       "    <tr>\n",
       "      <th>4</th>\n",
       "      <td>2000-01-01</td>\n",
       "      <td>-124.766667</td>\n",
       "      <td>41.816667</td>\n",
       "      <td>NaN</td>\n",
       "    </tr>\n",
       "    <tr>\n",
       "      <th>...</th>\n",
       "      <td>...</td>\n",
       "      <td>...</td>\n",
       "      <td>...</td>\n",
       "      <td>...</td>\n",
       "    </tr>\n",
       "    <tr>\n",
       "      <th>310795</th>\n",
       "      <td>2020-01-01</td>\n",
       "      <td>-114.016667</td>\n",
       "      <td>32.191667</td>\n",
       "      <td>NaN</td>\n",
       "    </tr>\n",
       "    <tr>\n",
       "      <th>310796</th>\n",
       "      <td>2020-01-01</td>\n",
       "      <td>-114.016667</td>\n",
       "      <td>32.150000</td>\n",
       "      <td>NaN</td>\n",
       "    </tr>\n",
       "    <tr>\n",
       "      <th>310797</th>\n",
       "      <td>2020-01-01</td>\n",
       "      <td>-114.016667</td>\n",
       "      <td>32.108333</td>\n",
       "      <td>NaN</td>\n",
       "    </tr>\n",
       "    <tr>\n",
       "      <th>310798</th>\n",
       "      <td>2020-01-01</td>\n",
       "      <td>-114.016667</td>\n",
       "      <td>32.066667</td>\n",
       "      <td>NaN</td>\n",
       "    </tr>\n",
       "    <tr>\n",
       "      <th>310799</th>\n",
       "      <td>2020-01-01</td>\n",
       "      <td>-114.016667</td>\n",
       "      <td>32.025000</td>\n",
       "      <td>NaN</td>\n",
       "    </tr>\n",
       "  </tbody>\n",
       "</table>\n",
       "<p>310800 rows × 4 columns</p>\n",
       "</div>"
      ],
      "text/plain": [
       "             time         lon        lat  Band1\n",
       "0      2000-01-01 -124.766667  41.983333    NaN\n",
       "1      2000-01-01 -124.766667  41.941667    NaN\n",
       "2      2000-01-01 -124.766667  41.900000    NaN\n",
       "3      2000-01-01 -124.766667  41.858333    NaN\n",
       "4      2000-01-01 -124.766667  41.816667    NaN\n",
       "...           ...         ...        ...    ...\n",
       "310795 2020-01-01 -114.016667  32.191667    NaN\n",
       "310796 2020-01-01 -114.016667  32.150000    NaN\n",
       "310797 2020-01-01 -114.016667  32.108333    NaN\n",
       "310798 2020-01-01 -114.016667  32.066667    NaN\n",
       "310799 2020-01-01 -114.016667  32.025000    NaN\n",
       "\n",
       "[310800 rows x 4 columns]"
      ]
     },
     "execution_count": 21,
     "metadata": {},
     "output_type": "execute_result"
    }
   ],
   "source": [
    "population_dat"
   ]
  },
  {
   "cell_type": "code",
   "execution_count": 80,
   "metadata": {},
   "outputs": [
    {
     "data": {
      "text/plain": [
       "<DatetimeArray>\n",
       "['2000-01-01 00:00:00', '2005-01-01 00:00:00', '2010-01-01 00:00:00',\n",
       " '2015-01-01 00:00:00', '2020-01-01 00:00:00']\n",
       "Length: 5, dtype: datetime64[ns]"
      ]
     },
     "execution_count": 80,
     "metadata": {},
     "output_type": "execute_result"
    }
   ],
   "source": [
    "population_dat['time'].unique()"
   ]
  },
  {
   "cell_type": "code",
   "execution_count": 81,
   "metadata": {},
   "outputs": [
    {
     "data": {
      "text/plain": [
       "time      0.000000\n",
       "lon       0.000000\n",
       "lat       0.000000\n",
       "Band1    76.911197\n",
       "dtype: float64"
      ]
     },
     "execution_count": 81,
     "metadata": {},
     "output_type": "execute_result"
    }
   ],
   "source": [
    "# check missing rate in each column\n",
    "missing_rate = population_dat.isnull().sum() / len(population_dat) * 100\n",
    "missing_rate"
   ]
  },
  {
   "cell_type": "code",
   "execution_count": 25,
   "metadata": {},
   "outputs": [
    {
     "data": {
      "image/png": "[encoded data removed]",
      "text/plain": [
       "<Figure size 1000x1000 with 2 Axes>"
      ]
     },
     "metadata": {},
     "output_type": "display_data"
    }
   ],
   "source": [
    "population_dat.plot(kind='scatter', x='lon', y='lat', c='Band1', cmap='viridis', s=1, figsize=(10, 10))\n",
    "plt.show()"
   ]
  },
  {
   "cell_type": "code",
   "execution_count": 82,
   "metadata": {},
   "outputs": [],
   "source": [
    "# read first one\n",
    "reference_ds = pd.read_parquet('../Clean_Data/Weather_Data_w_Veg_Filter_FOD_FPA_Fire_12KM/dead_fuel_moisture_1000hr_filtered.parquet')"
   ]
  },
  {
   "cell_type": "code",
   "execution_count": 83,
   "metadata": {},
   "outputs": [
    {
     "data": {
      "text/plain": [
       "(17530, 2)"
      ]
     },
     "execution_count": 83,
     "metadata": {},
     "output_type": "execute_result"
    }
   ],
   "source": [
    "reference_ds_lon_lat = reference_ds[['lon', 'lat']].drop_duplicates()\n",
    "reference_ds_lon_lat.shape"
   ]
  },
  {
   "cell_type": "code",
   "execution_count": 84,
   "metadata": {},
   "outputs": [
    {
     "data": {
      "text/plain": [
       "(310800, 4)"
      ]
     },
     "execution_count": 84,
     "metadata": {},
     "output_type": "execute_result"
    }
   ],
   "source": [
    "population_dat.shape"
   ]
  },
  {
   "cell_type": "code",
   "execution_count": 85,
   "metadata": {},
   "outputs": [],
   "source": [
    "population_dat_filtered = pd.merge(reference_ds_lon_lat, population_dat, on=['lon', 'lat'], how='inner')"
   ]
  },
  {
   "cell_type": "code",
   "execution_count": 86,
   "metadata": {},
   "outputs": [
    {
     "data": {
      "text/plain": [
       "(87650, 4)"
      ]
     },
     "execution_count": 86,
     "metadata": {},
     "output_type": "execute_result"
    }
   ],
   "source": [
    "population_dat_filtered.shape"
   ]
  },
  {
   "cell_type": "code",
   "execution_count": 87,
   "metadata": {},
   "outputs": [
    {
     "data": {
      "text/plain": [
       "lon       0.00000\n",
       "lat       0.00000\n",
       "time      0.00000\n",
       "Band1    33.53109\n",
       "dtype: float64"
      ]
     },
     "execution_count": 87,
     "metadata": {},
     "output_type": "execute_result"
    }
   ],
   "source": [
    "# check missing rate in each column\n",
    "missing_rate = population_dat_filtered.isnull().sum() / len(population_dat_filtered) * 100\n",
    "missing_rate"
   ]
  },
  {
   "cell_type": "code",
   "execution_count": 32,
   "metadata": {},
   "outputs": [],
   "source": [
    "# write to parquet file\n",
    "output_file = f'../Clean_Data/Weather_Data_w_Veg_Filter_FOD_FPA_Fire_12KM/population_density_2000_2020_filtered.parquet'\n",
    "population_dat_filtered.to_parquet(output_file)"
   ]
  },
  {
   "cell_type": "markdown",
   "metadata": {},
   "source": [
    "## MERGE w the FINAL WEATHER CLEANED DATA\n",
    "\n",
    "after step 02 05"
   ]
  },
  {
   "cell_type": "code",
   "execution_count": 33,
   "metadata": {},
   "outputs": [],
   "source": [
    "all_features = pd.read_parquet('../Clean_Data/Weather_Data_w_Veg_Filter_FOD_FPA_Fire_12KM_Merged_Cleaned_2001_2020.parquet')"
   ]
  },
  {
   "cell_type": "code",
   "execution_count": 34,
   "metadata": {},
   "outputs": [
    {
     "data": {
      "text/plain": [
       "(128056650, 19)"
      ]
     },
     "execution_count": 34,
     "metadata": {},
     "output_type": "execute_result"
    }
   ],
   "source": [
    "all_features.shape"
   ]
  },
  {
   "cell_type": "code",
   "execution_count": 35,
   "metadata": {},
   "outputs": [
    {
     "data": {
      "text/plain": [
       "lon                                                 float64\n",
       "lat                                                 float64\n",
       "day                                          datetime64[ns]\n",
       "dead_fuel_moisture_1000hr                           float32\n",
       "dead_fuel_moisture_100hr                            float32\n",
       "pdsi                                                float32\n",
       "pdsi_class                                          float32\n",
       "max_air_temperature                                 float64\n",
       "max_relative_humidity                               float32\n",
       "max_wind_speed                                      float32\n",
       "min_air_temperature                                 float64\n",
       "min_relative_humidity                               float32\n",
       "precipitation_amount                                float32\n",
       "specific_humidity                                   float32\n",
       "surface_downwelling_shortwave_flux_in_air           float32\n",
       "wind_from_direction                                 float32\n",
       "wind_speed                                          float32\n",
       "wind_direction_category                            category\n",
       "SWE                                                 float32\n",
       "dtype: object"
      ]
     },
     "execution_count": 35,
     "metadata": {},
     "output_type": "execute_result"
    }
   ],
   "source": [
    "all_features.dtypes"
   ]
  },
  {
   "cell_type": "code",
   "execution_count": 60,
   "metadata": {},
   "outputs": [],
   "source": [
    "# generate a new column called 'year' from the 'time' column\n",
    "all_features['year'] = all_features['day'].dt.year"
   ]
  },
  {
   "cell_type": "code",
   "execution_count": 71,
   "metadata": {},
   "outputs": [],
   "source": [
    "population_dat = pd.read_parquet('../Clean_Data/Weather_Data_w_Veg_Filter_FOD_FPA_Fire_12KM/population_density_2000_2020_filtered.parquet')"
   ]
  },
  {
   "cell_type": "code",
   "execution_count": 72,
   "metadata": {},
   "outputs": [
    {
     "data": {
      "text/plain": [
       "lon       0.00000\n",
       "lat       0.00000\n",
       "time      0.00000\n",
       "Band1    33.53109\n",
       "dtype: float64"
      ]
     },
     "execution_count": 72,
     "metadata": {},
     "output_type": "execute_result"
    }
   ],
   "source": [
    "population_dat.isnull().sum() / len(population_dat) * 100"
   ]
  },
  {
   "cell_type": "code",
   "execution_count": 37,
   "metadata": {},
   "outputs": [
    {
     "data": {
      "text/plain": [
       "lon             float64\n",
       "lat             float64\n",
       "time     datetime64[ns]\n",
       "Band1           float32\n",
       "dtype: object"
      ]
     },
     "execution_count": 37,
     "metadata": {},
     "output_type": "execute_result"
    }
   ],
   "source": [
    "population_dat.dtypes"
   ]
  },
  {
   "cell_type": "code",
   "execution_count": 38,
   "metadata": {},
   "outputs": [],
   "source": [
    "# extract year from time\n",
    "population_dat['year'] = population_dat['time'].dt.year"
   ]
  },
  {
   "cell_type": "code",
   "execution_count": 40,
   "metadata": {},
   "outputs": [
    {
     "data": {
      "text/plain": [
       "array([2000, 2005, 2010, 2015, 2020])"
      ]
     },
     "execution_count": 40,
     "metadata": {},
     "output_type": "execute_result"
    }
   ],
   "source": [
    "# get unique years\n",
    "population_dat['year'].unique()"
   ]
  },
  {
   "cell_type": "code",
   "execution_count": 41,
   "metadata": {},
   "outputs": [
    {
     "data": {
      "text/plain": [
       "(87650, 5)"
      ]
     },
     "execution_count": 41,
     "metadata": {},
     "output_type": "execute_result"
    }
   ],
   "source": [
    "population_dat.shape"
   ]
  },
  {
   "cell_type": "code",
   "execution_count": 48,
   "metadata": {},
   "outputs": [
    {
     "data": {
      "text/plain": [
       "368130"
      ]
     },
     "execution_count": 48,
     "metadata": {},
     "output_type": "execute_result"
    }
   ],
   "source": [
    "17530*21"
   ]
  },
  {
   "cell_type": "code",
   "execution_count": 43,
   "metadata": {},
   "outputs": [],
   "source": [
    "# Create a new DataFrame with all the years from 2000 to 2020\n",
    "years = list(range(2000, 2021))\n",
    "lon_lat = population_dat[['lon', 'lat']].drop_duplicates()\n",
    "new_df = pd.DataFrame([(year, lon, lat) for year in years for lon, lat in lon_lat.values], columns=['year', 'lon', 'lat'])\n",
    "\n",
    "# Define a function to map each year to the nearest specified year\n",
    "def map_year(year):\n",
    "    if year <= 2004:\n",
    "        return 2000\n",
    "    elif year <= 2009:\n",
    "        return 2005\n",
    "    elif year <= 2014:\n",
    "        return 2010\n",
    "    elif year <= 2019:\n",
    "        return 2015\n",
    "    else:\n",
    "        return 2020\n",
    "\n",
    "# Apply the function to create a new column with the mapped years\n",
    "new_df['mapped_year'] = new_df['year'].apply(map_year)"
   ]
  },
  {
   "cell_type": "code",
   "execution_count": 51,
   "metadata": {},
   "outputs": [
    {
     "data": {
      "text/plain": [
       "True"
      ]
     },
     "execution_count": 51,
     "metadata": {},
     "output_type": "execute_result"
    }
   ],
   "source": [
    "population_dat.shape[0] == lon_lat.shape[0]*5"
   ]
  },
  {
   "cell_type": "code",
   "execution_count": 50,
   "metadata": {},
   "outputs": [
    {
     "data": {
      "text/plain": [
       "True"
      ]
     },
     "execution_count": 50,
     "metadata": {},
     "output_type": "execute_result"
    }
   ],
   "source": [
    "new_df.shape[0] == lon_lat.shape[0]*21"
   ]
  },
  {
   "cell_type": "code",
   "execution_count": 52,
   "metadata": {},
   "outputs": [],
   "source": [
    "# Merge the new DataFrame with the original DataFrame on the mapped years\n",
    "population_dat = pd.merge(new_df, population_dat, left_on=['mapped_year', 'lon', 'lat'], right_on=['year', 'lon', 'lat'], suffixes=('', '_original'))\n",
    "\n",
    "# Drop the original year columns and rename the mapped year column\n",
    "population_dat = population_dat.drop(columns=['year_original', 'mapped_year'])"
   ]
  },
  {
   "cell_type": "code",
   "execution_count": 53,
   "metadata": {},
   "outputs": [
    {
     "data": {
      "text/plain": [
       "(368130, 5)"
      ]
     },
     "execution_count": 53,
     "metadata": {},
     "output_type": "execute_result"
    }
   ],
   "source": [
    "population_dat.shape"
   ]
  },
  {
   "cell_type": "code",
   "execution_count": 62,
   "metadata": {},
   "outputs": [],
   "source": [
    "# drop time column\n",
    "population_dat = population_dat.drop(columns=['time'])"
   ]
  },
  {
   "cell_type": "code",
   "execution_count": 63,
   "metadata": {},
   "outputs": [
    {
     "data": {
      "text/html": [
       "<div>\n",
       "<style scoped>\n",
       "    .dataframe tbody tr th:only-of-type {\n",
       "        vertical-align: middle;\n",
       "    }\n",
       "\n",
       "    .dataframe tbody tr th {\n",
       "        vertical-align: top;\n",
       "    }\n",
       "\n",
       "    .dataframe thead th {\n",
       "        text-align: right;\n",
       "    }\n",
       "</style>\n",
       "<table border=\"1\" class=\"dataframe\">\n",
       "  <thead>\n",
       "    <tr style=\"text-align: right;\">\n",
       "      <th></th>\n",
       "      <th>year</th>\n",
       "      <th>lon</th>\n",
       "      <th>lat</th>\n",
       "      <th>Band1</th>\n",
       "    </tr>\n",
       "  </thead>\n",
       "  <tbody>\n",
       "    <tr>\n",
       "      <th>0</th>\n",
       "      <td>2000</td>\n",
       "      <td>-124.391667</td>\n",
       "      <td>40.441667</td>\n",
       "      <td>0.443413</td>\n",
       "    </tr>\n",
       "    <tr>\n",
       "      <th>17530</th>\n",
       "      <td>2001</td>\n",
       "      <td>-124.391667</td>\n",
       "      <td>40.441667</td>\n",
       "      <td>0.443413</td>\n",
       "    </tr>\n",
       "    <tr>\n",
       "      <th>35060</th>\n",
       "      <td>2002</td>\n",
       "      <td>-124.391667</td>\n",
       "      <td>40.441667</td>\n",
       "      <td>0.443413</td>\n",
       "    </tr>\n",
       "    <tr>\n",
       "      <th>52590</th>\n",
       "      <td>2003</td>\n",
       "      <td>-124.391667</td>\n",
       "      <td>40.441667</td>\n",
       "      <td>0.443413</td>\n",
       "    </tr>\n",
       "    <tr>\n",
       "      <th>70120</th>\n",
       "      <td>2004</td>\n",
       "      <td>-124.391667</td>\n",
       "      <td>40.441667</td>\n",
       "      <td>0.443413</td>\n",
       "    </tr>\n",
       "    <tr>\n",
       "      <th>87650</th>\n",
       "      <td>2005</td>\n",
       "      <td>-124.391667</td>\n",
       "      <td>40.441667</td>\n",
       "      <td>0.457414</td>\n",
       "    </tr>\n",
       "    <tr>\n",
       "      <th>105180</th>\n",
       "      <td>2006</td>\n",
       "      <td>-124.391667</td>\n",
       "      <td>40.441667</td>\n",
       "      <td>0.457414</td>\n",
       "    </tr>\n",
       "    <tr>\n",
       "      <th>122710</th>\n",
       "      <td>2007</td>\n",
       "      <td>-124.391667</td>\n",
       "      <td>40.441667</td>\n",
       "      <td>0.457414</td>\n",
       "    </tr>\n",
       "    <tr>\n",
       "      <th>140240</th>\n",
       "      <td>2008</td>\n",
       "      <td>-124.391667</td>\n",
       "      <td>40.441667</td>\n",
       "      <td>0.457414</td>\n",
       "    </tr>\n",
       "    <tr>\n",
       "      <th>157770</th>\n",
       "      <td>2009</td>\n",
       "      <td>-124.391667</td>\n",
       "      <td>40.441667</td>\n",
       "      <td>0.457414</td>\n",
       "    </tr>\n",
       "    <tr>\n",
       "      <th>175300</th>\n",
       "      <td>2010</td>\n",
       "      <td>-124.391667</td>\n",
       "      <td>40.441667</td>\n",
       "      <td>0.471857</td>\n",
       "    </tr>\n",
       "    <tr>\n",
       "      <th>192830</th>\n",
       "      <td>2011</td>\n",
       "      <td>-124.391667</td>\n",
       "      <td>40.441667</td>\n",
       "      <td>0.471857</td>\n",
       "    </tr>\n",
       "    <tr>\n",
       "      <th>210360</th>\n",
       "      <td>2012</td>\n",
       "      <td>-124.391667</td>\n",
       "      <td>40.441667</td>\n",
       "      <td>0.471857</td>\n",
       "    </tr>\n",
       "    <tr>\n",
       "      <th>227890</th>\n",
       "      <td>2013</td>\n",
       "      <td>-124.391667</td>\n",
       "      <td>40.441667</td>\n",
       "      <td>0.471857</td>\n",
       "    </tr>\n",
       "    <tr>\n",
       "      <th>245420</th>\n",
       "      <td>2014</td>\n",
       "      <td>-124.391667</td>\n",
       "      <td>40.441667</td>\n",
       "      <td>0.471857</td>\n",
       "    </tr>\n",
       "    <tr>\n",
       "      <th>262950</th>\n",
       "      <td>2015</td>\n",
       "      <td>-124.391667</td>\n",
       "      <td>40.441667</td>\n",
       "      <td>0.486755</td>\n",
       "    </tr>\n",
       "    <tr>\n",
       "      <th>280480</th>\n",
       "      <td>2016</td>\n",
       "      <td>-124.391667</td>\n",
       "      <td>40.441667</td>\n",
       "      <td>0.486755</td>\n",
       "    </tr>\n",
       "    <tr>\n",
       "      <th>298010</th>\n",
       "      <td>2017</td>\n",
       "      <td>-124.391667</td>\n",
       "      <td>40.441667</td>\n",
       "      <td>0.486755</td>\n",
       "    </tr>\n",
       "    <tr>\n",
       "      <th>315540</th>\n",
       "      <td>2018</td>\n",
       "      <td>-124.391667</td>\n",
       "      <td>40.441667</td>\n",
       "      <td>0.486755</td>\n",
       "    </tr>\n",
       "    <tr>\n",
       "      <th>333070</th>\n",
       "      <td>2019</td>\n",
       "      <td>-124.391667</td>\n",
       "      <td>40.441667</td>\n",
       "      <td>0.486755</td>\n",
       "    </tr>\n",
       "    <tr>\n",
       "      <th>350600</th>\n",
       "      <td>2020</td>\n",
       "      <td>-124.391667</td>\n",
       "      <td>40.441667</td>\n",
       "      <td>0.502124</td>\n",
       "    </tr>\n",
       "  </tbody>\n",
       "</table>\n",
       "</div>"
      ],
      "text/plain": [
       "        year         lon        lat     Band1\n",
       "0       2000 -124.391667  40.441667  0.443413\n",
       "17530   2001 -124.391667  40.441667  0.443413\n",
       "35060   2002 -124.391667  40.441667  0.443413\n",
       "52590   2003 -124.391667  40.441667  0.443413\n",
       "70120   2004 -124.391667  40.441667  0.443413\n",
       "87650   2005 -124.391667  40.441667  0.457414\n",
       "105180  2006 -124.391667  40.441667  0.457414\n",
       "122710  2007 -124.391667  40.441667  0.457414\n",
       "140240  2008 -124.391667  40.441667  0.457414\n",
       "157770  2009 -124.391667  40.441667  0.457414\n",
       "175300  2010 -124.391667  40.441667  0.471857\n",
       "192830  2011 -124.391667  40.441667  0.471857\n",
       "210360  2012 -124.391667  40.441667  0.471857\n",
       "227890  2013 -124.391667  40.441667  0.471857\n",
       "245420  2014 -124.391667  40.441667  0.471857\n",
       "262950  2015 -124.391667  40.441667  0.486755\n",
       "280480  2016 -124.391667  40.441667  0.486755\n",
       "298010  2017 -124.391667  40.441667  0.486755\n",
       "315540  2018 -124.391667  40.441667  0.486755\n",
       "333070  2019 -124.391667  40.441667  0.486755\n",
       "350600  2020 -124.391667  40.441667  0.502124"
      ]
     },
     "execution_count": 63,
     "metadata": {},
     "output_type": "execute_result"
    }
   ],
   "source": [
    "population_dat.sort_values(by=['lon', 'lat']).iloc[21:42]"
   ]
  },
  {
   "cell_type": "code",
   "execution_count": 61,
   "metadata": {},
   "outputs": [
    {
     "data": {
      "text/plain": [
       "array([2001, 2002, 2003, 2004, 2005, 2006, 2007, 2008, 2009, 2010, 2011,\n",
       "       2012, 2013, 2014, 2015, 2016, 2017, 2018, 2019, 2020])"
      ]
     },
     "execution_count": 61,
     "metadata": {},
     "output_type": "execute_result"
    }
   ],
   "source": [
    "# check unique values of year from all_features\n",
    "all_features['year'].unique()"
   ]
  },
  {
   "cell_type": "code",
   "execution_count": 70,
   "metadata": {},
   "outputs": [
    {
     "data": {
      "text/plain": [
       "year      0.00000\n",
       "lon       0.00000\n",
       "lat       0.00000\n",
       "Band1    33.53109\n",
       "dtype: float64"
      ]
     },
     "execution_count": 70,
     "metadata": {},
     "output_type": "execute_result"
    }
   ],
   "source": [
    "# missing rate in population_dat\n",
    "population_dat.isnull().sum() / len(population_dat) * 100"
   ]
  },
  {
   "cell_type": "code",
   "execution_count": 64,
   "metadata": {},
   "outputs": [],
   "source": [
    "# left join all_features and population_dat by ['lon', 'lat', 'year']\n",
    "all_features = pd.merge(all_features, population_dat, on=['lon', 'lat', 'year'], how='left')"
   ]
  },
  {
   "cell_type": "code",
   "execution_count": 65,
   "metadata": {},
   "outputs": [
    {
     "data": {
      "text/plain": [
       "(128056650, 21)"
      ]
     },
     "execution_count": 65,
     "metadata": {},
     "output_type": "execute_result"
    }
   ],
   "source": [
    "all_features.shape"
   ]
  },
  {
   "cell_type": "code",
   "execution_count": 66,
   "metadata": {},
   "outputs": [],
   "source": [
    "# drop year column\n",
    "all_features = all_features.drop(columns=['year'])"
   ]
  },
  {
   "cell_type": "code",
   "execution_count": 67,
   "metadata": {},
   "outputs": [
    {
     "data": {
      "text/plain": [
       "lon                                                 float64\n",
       "lat                                                 float64\n",
       "day                                          datetime64[ns]\n",
       "dead_fuel_moisture_1000hr                           float32\n",
       "dead_fuel_moisture_100hr                            float32\n",
       "pdsi                                                float32\n",
       "pdsi_class                                          float32\n",
       "max_air_temperature                                 float64\n",
       "max_relative_humidity                               float32\n",
       "max_wind_speed                                      float32\n",
       "min_air_temperature                                 float64\n",
       "min_relative_humidity                               float32\n",
       "precipitation_amount                                float32\n",
       "specific_humidity                                   float32\n",
       "surface_downwelling_shortwave_flux_in_air           float32\n",
       "wind_from_direction                                 float32\n",
       "wind_speed                                          float32\n",
       "wind_direction_category                            category\n",
       "SWE                                                 float32\n",
       "Band1                                               float32\n",
       "dtype: object"
      ]
     },
     "execution_count": 67,
     "metadata": {},
     "output_type": "execute_result"
    }
   ],
   "source": [
    "all_features.dtypes"
   ]
  },
  {
   "cell_type": "code",
   "execution_count": 68,
   "metadata": {},
   "outputs": [
    {
     "data": {
      "text/plain": [
       "lon                                           0.000000\n",
       "lat                                           0.000000\n",
       "day                                           0.000000\n",
       "dead_fuel_moisture_1000hr                     0.929835\n",
       "dead_fuel_moisture_100hr                      0.929835\n",
       "pdsi                                          0.250998\n",
       "pdsi_class                                    1.180833\n",
       "max_air_temperature                           0.000000\n",
       "max_relative_humidity                         0.929835\n",
       "max_wind_speed                                0.984082\n",
       "min_air_temperature                           0.000000\n",
       "min_relative_humidity                         0.929836\n",
       "precipitation_amount                          0.000000\n",
       "specific_humidity                             0.929835\n",
       "surface_downwelling_shortwave_flux_in_air     0.929835\n",
       "wind_from_direction                           1.053771\n",
       "wind_speed                                    0.929835\n",
       "wind_direction_category                       1.053771\n",
       "SWE                                           0.000000\n",
       "Band1                                        33.531090\n",
       "dtype: float64"
      ]
     },
     "execution_count": 68,
     "metadata": {},
     "output_type": "execute_result"
    }
   ],
   "source": [
    "# check missing rate in each column\n",
    "all_features.isnull().sum() / len(all_features) * 100"
   ]
  },
  {
   "cell_type": "code",
   "execution_count": 69,
   "metadata": {},
   "outputs": [],
   "source": [
    "# write it back to parquet file\n",
    "output_file = f'../Clean_Data/Weather_Data_w_Veg_Filter_FOD_FPA_Fire_12KM_Merged_Cleaned_2001_2020.parquet'\n",
    "all_features.to_parquet(output_file)"
   ]
  },
  {
   "cell_type": "code",
   "execution_count": null,
   "metadata": {},
   "outputs": [],
   "source": []
  }
 ],
 "metadata": {
  "kernelspec": {
   "display_name": "py311",
   "language": "python",
   "name": "python3"
  },
  "language_info": {
   "codemirror_mode": {
    "name": "ipython",
    "version": 3
   },
   "file_extension": ".py",
   "mimetype": "text/x-python",
   "name": "python",
   "nbconvert_exporter": "python",
   "pygments_lexer": "ipython3",
   "version": "3.11.9"
  }
 },
 "nbformat": 4,
 "nbformat_minor": 2
}
