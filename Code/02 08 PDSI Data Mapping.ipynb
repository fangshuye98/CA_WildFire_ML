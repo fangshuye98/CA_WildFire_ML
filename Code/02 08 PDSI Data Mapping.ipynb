{
 "cells": [
  {
   "cell_type": "code",
   "execution_count": 1,
   "metadata": {},
   "outputs": [],
   "source": [
    "import pandas as pd\n",
    "import geopandas as gpd\n",
    "import xarray as xr\n",
    "import pyproj\n",
    "from tqdm import tqdm\n",
    "import numpy as np"
   ]
  },
  {
   "cell_type": "code",
   "execution_count": 2,
   "metadata": {},
   "outputs": [],
   "source": [
    "import os\n",
    "import matplotlib.pyplot as plt\n",
    "import cartopy.crs as ccrs\n",
    "import cartopy.feature as cfeature"
   ]
  },
  {
   "cell_type": "code",
   "execution_count": 4,
   "metadata": {},
   "outputs": [
    {
     "name": "stdout",
     "output_type": "stream",
     "text": [
      "Python version\n",
      "3.11.9 | packaged by Anaconda, Inc. | (main, Apr 19 2024, 16:40:41) [MSC v.1916 64 bit (AMD64)]\n",
      "Pandas version\n",
      "2.2.2\n",
      "Geopandas version\n",
      "0.14.2\n",
      "Xarray version\n",
      "2023.6.0\n",
      "Pyproj version\n",
      "3.6.1\n"
     ]
    }
   ],
   "source": [
    "# check python version and all packages version\n",
    "def check_python_version():\n",
    "    import sys\n",
    "    print(\"Python version\")\n",
    "    print (sys.version)\n",
    "    print(\"Pandas version\")\n",
    "    print(pd.__version__)\n",
    "    print(\"Geopandas version\")\n",
    "    print(gpd.__version__)\n",
    "    print(\"Xarray version\")\n",
    "    print(xr.__version__)\n",
    "    print(\"Pyproj version\")\n",
    "    print(pyproj.__version__)\n",
    "\n",
    "check_python_version()"
   ]
  },
  {
   "cell_type": "code",
   "execution_count": 5,
   "metadata": {},
   "outputs": [],
   "source": [
    "pd.set_option('display.max_colwidth', None)"
   ]
  },
  {
   "cell_type": "code",
   "execution_count": 6,
   "metadata": {},
   "outputs": [
    {
     "data": {
      "text/plain": [
       "(62160, 2)"
      ]
     },
     "execution_count": 6,
     "metadata": {},
     "output_type": "execute_result"
    }
   ],
   "source": [
    "data_dir = '../Weather_Data/'\n",
    "files = os.listdir(data_dir)\n",
    "reference_ds = xr.open_dataset(os.path.join(data_dir, files[-1]))\n",
    "\n",
    "# Extract lon and lat coordinates\n",
    "lon = reference_ds.coords['lon'].values\n",
    "lat = reference_ds.coords['lat'].values\n",
    "\n",
    "# Create a DataFrame with all combinations of lon and lat\n",
    "lon_lat_combinations = pd.DataFrame([(lo, la) for lo in lon for la in lat], columns=['lon', 'lat'])\n",
    "\n",
    "lon_lat_combinations.shape"
   ]
  },
  {
   "cell_type": "code",
   "execution_count": 7,
   "metadata": {},
   "outputs": [],
   "source": [
    "pdsi_Dat = xr.open_dataset('../New_Data/pdsi.2001.2023.CA.daily_interpolated.nc')"
   ]
  },
  {
   "cell_type": "code",
   "execution_count": 8,
   "metadata": {},
   "outputs": [
    {
     "data": {
      "text/html": [
       "<div><svg style=\"position: absolute; width: 0; height: 0; overflow: hidden\">\n",
       "<defs>\n",
       "<symbol id=\"icon-database\" viewBox=\"0 0 32 32\">\n",
       "<path d=\"M16 0c-8.837 0-16 2.239-16 5v4c0 2.761 7.163 5 16 5s16-2.239 16-5v-4c0-2.761-7.163-5-16-5z\"></path>\n",
       "<path d=\"M16 17c-8.837 0-16-2.239-16-5v6c0 2.761 7.163 5 16 5s16-2.239 16-5v-6c0 2.761-7.163 5-16 5z\"></path>\n",
       "<path d=\"M16 26c-8.837 0-16-2.239-16-5v6c0 2.761 7.163 5 16 5s16-2.239 16-5v-6c0 2.761-7.163 5-16 5z\"></path>\n",
       "</symbol>\n",
       "<symbol id=\"icon-file-text2\" viewBox=\"0 0 32 32\">\n",
       "<path d=\"M28.681 7.159c-0.694-0.947-1.662-2.053-2.724-3.116s-2.169-2.030-3.116-2.724c-1.612-1.182-2.393-1.319-2.841-1.319h-15.5c-1.378 0-2.5 1.121-2.5 2.5v27c0 1.378 1.122 2.5 2.5 2.5h23c1.378 0 2.5-1.122 2.5-2.5v-19.5c0-0.448-0.137-1.23-1.319-2.841zM24.543 5.457c0.959 0.959 1.712 1.825 2.268 2.543h-4.811v-4.811c0.718 0.556 1.584 1.309 2.543 2.268zM28 29.5c0 0.271-0.229 0.5-0.5 0.5h-23c-0.271 0-0.5-0.229-0.5-0.5v-27c0-0.271 0.229-0.5 0.5-0.5 0 0 15.499-0 15.5 0v7c0 0.552 0.448 1 1 1h7v19.5z\"></path>\n",
       "<path d=\"M23 26h-14c-0.552 0-1-0.448-1-1s0.448-1 1-1h14c0.552 0 1 0.448 1 1s-0.448 1-1 1z\"></path>\n",
       "<path d=\"M23 22h-14c-0.552 0-1-0.448-1-1s0.448-1 1-1h14c0.552 0 1 0.448 1 1s-0.448 1-1 1z\"></path>\n",
       "<path d=\"M23 18h-14c-0.552 0-1-0.448-1-1s0.448-1 1-1h14c0.552 0 1 0.448 1 1s-0.448 1-1 1z\"></path>\n",
       "</symbol>\n",
       "</defs>\n",
       "</svg>\n",
       "<style>/* CSS stylesheet for displaying xarray objects in jupyterlab.\n",
       " *\n",
       " */\n",
       "\n",
       ":root {\n",
       "  --xr-font-color0: var(--jp-content-font-color0, rgba(0, 0, 0, 1));\n",
       "  --xr-font-color2: var(--jp-content-font-color2, rgba(0, 0, 0, 0.54));\n",
       "  --xr-font-color3: var(--jp-content-font-color3, rgba(0, 0, 0, 0.38));\n",
       "  --xr-border-color: var(--jp-border-color2, #e0e0e0);\n",
       "  --xr-disabled-color: var(--jp-layout-color3, #bdbdbd);\n",
       "  --xr-background-color: var(--jp-layout-color0, white);\n",
       "  --xr-background-color-row-even: var(--jp-layout-color1, white);\n",
       "  --xr-background-color-row-odd: var(--jp-layout-color2, #eeeeee);\n",
       "}\n",
       "\n",
       "html[theme=dark],\n",
       "body[data-theme=dark],\n",
       "body.vscode-dark {\n",
       "  --xr-font-color0: rgba(255, 255, 255, 1);\n",
       "  --xr-font-color2: rgba(255, 255, 255, 0.54);\n",
       "  --xr-font-color3: rgba(255, 255, 255, 0.38);\n",
       "  --xr-border-color: #1F1F1F;\n",
       "  --xr-disabled-color: #515151;\n",
       "  --xr-background-color: #111111;\n",
       "  --xr-background-color-row-even: #111111;\n",
       "  --xr-background-color-row-odd: #313131;\n",
       "}\n",
       "\n",
       ".xr-wrap {\n",
       "  display: block !important;\n",
       "  min-width: 300px;\n",
       "  max-width: 700px;\n",
       "}\n",
       "\n",
       ".xr-text-repr-fallback {\n",
       "  /* fallback to plain text repr when CSS is not injected (untrusted notebook) */\n",
       "  display: none;\n",
       "}\n",
       "\n",
       ".xr-header {\n",
       "  padding-top: 6px;\n",
       "  padding-bottom: 6px;\n",
       "  margin-bottom: 4px;\n",
       "  border-bottom: solid 1px var(--xr-border-color);\n",
       "}\n",
       "\n",
       ".xr-header > div,\n",
       ".xr-header > ul {\n",
       "  display: inline;\n",
       "  margin-top: 0;\n",
       "  margin-bottom: 0;\n",
       "}\n",
       "\n",
       ".xr-obj-type,\n",
       ".xr-array-name {\n",
       "  margin-left: 2px;\n",
       "  margin-right: 10px;\n",
       "}\n",
       "\n",
       ".xr-obj-type {\n",
       "  color: var(--xr-font-color2);\n",
       "}\n",
       "\n",
       ".xr-sections {\n",
       "  padding-left: 0 !important;\n",
       "  display: grid;\n",
       "  grid-template-columns: 150px auto auto 1fr 20px 20px;\n",
       "}\n",
       "\n",
       ".xr-section-item {\n",
       "  display: contents;\n",
       "}\n",
       "\n",
       ".xr-section-item input {\n",
       "  display: none;\n",
       "}\n",
       "\n",
       ".xr-section-item input + label {\n",
       "  color: var(--xr-disabled-color);\n",
       "}\n",
       "\n",
       ".xr-section-item input:enabled + label {\n",
       "  cursor: pointer;\n",
       "  color: var(--xr-font-color2);\n",
       "}\n",
       "\n",
       ".xr-section-item input:enabled + label:hover {\n",
       "  color: var(--xr-font-color0);\n",
       "}\n",
       "\n",
       ".xr-section-summary {\n",
       "  grid-column: 1;\n",
       "  color: var(--xr-font-color2);\n",
       "  font-weight: 500;\n",
       "}\n",
       "\n",
       ".xr-section-summary > span {\n",
       "  display: inline-block;\n",
       "  padding-left: 0.5em;\n",
       "}\n",
       "\n",
       ".xr-section-summary-in:disabled + label {\n",
       "  color: var(--xr-font-color2);\n",
       "}\n",
       "\n",
       ".xr-section-summary-in + label:before {\n",
       "  display: inline-block;\n",
       "  content: '►';\n",
       "  font-size: 11px;\n",
       "  width: 15px;\n",
       "  text-align: center;\n",
       "}\n",
       "\n",
       ".xr-section-summary-in:disabled + label:before {\n",
       "  color: var(--xr-disabled-color);\n",
       "}\n",
       "\n",
       ".xr-section-summary-in:checked + label:before {\n",
       "  content: '▼';\n",
       "}\n",
       "\n",
       ".xr-section-summary-in:checked + label > span {\n",
       "  display: none;\n",
       "}\n",
       "\n",
       ".xr-section-summary,\n",
       ".xr-section-inline-details {\n",
       "  padding-top: 4px;\n",
       "  padding-bottom: 4px;\n",
       "}\n",
       "\n",
       ".xr-section-inline-details {\n",
       "  grid-column: 2 / -1;\n",
       "}\n",
       "\n",
       ".xr-section-details {\n",
       "  display: none;\n",
       "  grid-column: 1 / -1;\n",
       "  margin-bottom: 5px;\n",
       "}\n",
       "\n",
       ".xr-section-summary-in:checked ~ .xr-section-details {\n",
       "  display: contents;\n",
       "}\n",
       "\n",
       ".xr-array-wrap {\n",
       "  grid-column: 1 / -1;\n",
       "  display: grid;\n",
       "  grid-template-columns: 20px auto;\n",
       "}\n",
       "\n",
       ".xr-array-wrap > label {\n",
       "  grid-column: 1;\n",
       "  vertical-align: top;\n",
       "}\n",
       "\n",
       ".xr-preview {\n",
       "  color: var(--xr-font-color3);\n",
       "}\n",
       "\n",
       ".xr-array-preview,\n",
       ".xr-array-data {\n",
       "  padding: 0 5px !important;\n",
       "  grid-column: 2;\n",
       "}\n",
       "\n",
       ".xr-array-data,\n",
       ".xr-array-in:checked ~ .xr-array-preview {\n",
       "  display: none;\n",
       "}\n",
       "\n",
       ".xr-array-in:checked ~ .xr-array-data,\n",
       ".xr-array-preview {\n",
       "  display: inline-block;\n",
       "}\n",
       "\n",
       ".xr-dim-list {\n",
       "  display: inline-block !important;\n",
       "  list-style: none;\n",
       "  padding: 0 !important;\n",
       "  margin: 0;\n",
       "}\n",
       "\n",
       ".xr-dim-list li {\n",
       "  display: inline-block;\n",
       "  padding: 0;\n",
       "  margin: 0;\n",
       "}\n",
       "\n",
       ".xr-dim-list:before {\n",
       "  content: '(';\n",
       "}\n",
       "\n",
       ".xr-dim-list:after {\n",
       "  content: ')';\n",
       "}\n",
       "\n",
       ".xr-dim-list li:not(:last-child):after {\n",
       "  content: ',';\n",
       "  padding-right: 5px;\n",
       "}\n",
       "\n",
       ".xr-has-index {\n",
       "  font-weight: bold;\n",
       "}\n",
       "\n",
       ".xr-var-list,\n",
       ".xr-var-item {\n",
       "  display: contents;\n",
       "}\n",
       "\n",
       ".xr-var-item > div,\n",
       ".xr-var-item label,\n",
       ".xr-var-item > .xr-var-name span {\n",
       "  background-color: var(--xr-background-color-row-even);\n",
       "  margin-bottom: 0;\n",
       "}\n",
       "\n",
       ".xr-var-item > .xr-var-name:hover span {\n",
       "  padding-right: 5px;\n",
       "}\n",
       "\n",
       ".xr-var-list > li:nth-child(odd) > div,\n",
       ".xr-var-list > li:nth-child(odd) > label,\n",
       ".xr-var-list > li:nth-child(odd) > .xr-var-name span {\n",
       "  background-color: var(--xr-background-color-row-odd);\n",
       "}\n",
       "\n",
       ".xr-var-name {\n",
       "  grid-column: 1;\n",
       "}\n",
       "\n",
       ".xr-var-dims {\n",
       "  grid-column: 2;\n",
       "}\n",
       "\n",
       ".xr-var-dtype {\n",
       "  grid-column: 3;\n",
       "  text-align: right;\n",
       "  color: var(--xr-font-color2);\n",
       "}\n",
       "\n",
       ".xr-var-preview {\n",
       "  grid-column: 4;\n",
       "}\n",
       "\n",
       ".xr-index-preview {\n",
       "  grid-column: 2 / 5;\n",
       "  color: var(--xr-font-color2);\n",
       "}\n",
       "\n",
       ".xr-var-name,\n",
       ".xr-var-dims,\n",
       ".xr-var-dtype,\n",
       ".xr-preview,\n",
       ".xr-attrs dt {\n",
       "  white-space: nowrap;\n",
       "  overflow: hidden;\n",
       "  text-overflow: ellipsis;\n",
       "  padding-right: 10px;\n",
       "}\n",
       "\n",
       ".xr-var-name:hover,\n",
       ".xr-var-dims:hover,\n",
       ".xr-var-dtype:hover,\n",
       ".xr-attrs dt:hover {\n",
       "  overflow: visible;\n",
       "  width: auto;\n",
       "  z-index: 1;\n",
       "}\n",
       "\n",
       ".xr-var-attrs,\n",
       ".xr-var-data,\n",
       ".xr-index-data {\n",
       "  display: none;\n",
       "  background-color: var(--xr-background-color) !important;\n",
       "  padding-bottom: 5px !important;\n",
       "}\n",
       "\n",
       ".xr-var-attrs-in:checked ~ .xr-var-attrs,\n",
       ".xr-var-data-in:checked ~ .xr-var-data,\n",
       ".xr-index-data-in:checked ~ .xr-index-data {\n",
       "  display: block;\n",
       "}\n",
       "\n",
       ".xr-var-data > table {\n",
       "  float: right;\n",
       "}\n",
       "\n",
       ".xr-var-name span,\n",
       ".xr-var-data,\n",
       ".xr-index-name div,\n",
       ".xr-index-data,\n",
       ".xr-attrs {\n",
       "  padding-left: 25px !important;\n",
       "}\n",
       "\n",
       ".xr-attrs,\n",
       ".xr-var-attrs,\n",
       ".xr-var-data,\n",
       ".xr-index-data {\n",
       "  grid-column: 1 / -1;\n",
       "}\n",
       "\n",
       "dl.xr-attrs {\n",
       "  padding: 0;\n",
       "  margin: 0;\n",
       "  display: grid;\n",
       "  grid-template-columns: 125px auto;\n",
       "}\n",
       "\n",
       ".xr-attrs dt,\n",
       ".xr-attrs dd {\n",
       "  padding: 0;\n",
       "  margin: 0;\n",
       "  float: left;\n",
       "  padding-right: 10px;\n",
       "  width: auto;\n",
       "}\n",
       "\n",
       ".xr-attrs dt {\n",
       "  font-weight: normal;\n",
       "  grid-column: 1;\n",
       "}\n",
       "\n",
       ".xr-attrs dt:hover span {\n",
       "  display: inline-block;\n",
       "  background: var(--xr-background-color);\n",
       "  padding-right: 10px;\n",
       "}\n",
       "\n",
       ".xr-attrs dd {\n",
       "  grid-column: 2;\n",
       "  white-space: pre-wrap;\n",
       "  word-break: break-all;\n",
       "}\n",
       "\n",
       ".xr-icon-database,\n",
       ".xr-icon-file-text2,\n",
       ".xr-no-icon {\n",
       "  display: inline-block;\n",
       "  vertical-align: middle;\n",
       "  width: 1em;\n",
       "  height: 1.5em !important;\n",
       "  stroke-width: 0;\n",
       "  stroke: currentColor;\n",
       "  fill: currentColor;\n",
       "}\n",
       "</style><pre class='xr-text-repr-fallback'>&lt;xarray.Dataset&gt;\n",
       "Dimensions:   (day: 8400, lon: 259, lat: 240)\n",
       "Coordinates:\n",
       "  * day       (day) datetime64[ns] 2001-01-01 2001-01-02 ... 2023-12-31\n",
       "  * lon       (lon) float64 -124.8 -124.7 -124.7 -124.6 ... -114.1 -114.1 -114.0\n",
       "  * lat       (lat) float64 41.98 41.94 41.9 41.86 ... 32.15 32.11 32.07 32.03\n",
       "Data variables:\n",
       "    pdsi      (day, lat, lon) float32 ...\n",
       "    category  (day, lat, lon) float32 ...\n",
       "Attributes: (12/23)\n",
       "    CDI:                        Climate Data Interface version 2.1.1 (https:/...\n",
       "    Conventions:                CF-1.6\n",
       "    geospatial_bounds_crs:      EPSG:4326\n",
       "    geospatial_bounds:          POLYGON((-124.7666666333333 49.40000000000000...\n",
       "    geospatial_lat_min:         25.066666666666666\n",
       "    geospatial_lat_max:         49.40000000000000\n",
       "    ...                         ...\n",
       "    note2:                      Citation: Abatzoglou, J.T., 2013, Development...\n",
       "    note3:                      Data in slices after last_permanent_slice (1-...\n",
       "    note4:                      Data in slices after last_provisional_slice (...\n",
       "    note5:                      Days correspond approximately to calendar day...\n",
       "    history:                    Fri Feb 14 15:21:23 2025: cdo -seldate,2001-0...\n",
       "    CDO:                        Climate Data Operators version 2.1.1 (https:/...</pre><div class='xr-wrap' style='display:none'><div class='xr-header'><div class='xr-obj-type'>xarray.Dataset</div></div><ul class='xr-sections'><li class='xr-section-item'><input id='section-61bf7730-f51d-4d54-99e8-5065284980b6' class='xr-section-summary-in' type='checkbox' disabled ><label for='section-61bf7730-f51d-4d54-99e8-5065284980b6' class='xr-section-summary'  title='Expand/collapse section'>Dimensions:</label><div class='xr-section-inline-details'><ul class='xr-dim-list'><li><span class='xr-has-index'>day</span>: 8400</li><li><span class='xr-has-index'>lon</span>: 259</li><li><span class='xr-has-index'>lat</span>: 240</li></ul></div><div class='xr-section-details'></div></li><li class='xr-section-item'><input id='section-59a4902c-0d11-46c8-9ea9-ff0201873625' class='xr-section-summary-in' type='checkbox'  checked><label for='section-59a4902c-0d11-46c8-9ea9-ff0201873625' class='xr-section-summary' >Coordinates: <span>(3)</span></label><div class='xr-section-inline-details'></div><div class='xr-section-details'><ul class='xr-var-list'><li class='xr-var-item'><div class='xr-var-name'><span class='xr-has-index'>day</span></div><div class='xr-var-dims'>(day)</div><div class='xr-var-dtype'>datetime64[ns]</div><div class='xr-var-preview xr-preview'>2001-01-01 ... 2023-12-31</div><input id='attrs-d0c5022b-9be3-4433-920c-bd8af4455272' class='xr-var-attrs-in' type='checkbox' ><label for='attrs-d0c5022b-9be3-4433-920c-bd8af4455272' title='Show/Hide attributes'><svg class='icon xr-icon-file-text2'><use xlink:href='#icon-file-text2'></use></svg></label><input id='data-b1dc6ba7-a224-48b5-ba02-705fdf13e4a9' class='xr-var-data-in' type='checkbox'><label for='data-b1dc6ba7-a224-48b5-ba02-705fdf13e4a9' title='Show/Hide data repr'><svg class='icon xr-icon-database'><use xlink:href='#icon-database'></use></svg></label><div class='xr-var-attrs'><dl class='xr-attrs'><dt><span>standard_name :</span></dt><dd>time</dd><dt><span>long_name :</span></dt><dd>time</dd><dt><span>axis :</span></dt><dd>T</dd></dl></div><div class='xr-var-data'><pre>array([&#x27;2001-01-01T00:00:00.000000000&#x27;, &#x27;2001-01-02T00:00:00.000000000&#x27;,\n",
       "       &#x27;2001-01-03T00:00:00.000000000&#x27;, ..., &#x27;2023-12-29T00:00:00.000000000&#x27;,\n",
       "       &#x27;2023-12-30T00:00:00.000000000&#x27;, &#x27;2023-12-31T00:00:00.000000000&#x27;],\n",
       "      dtype=&#x27;datetime64[ns]&#x27;)</pre></div></li><li class='xr-var-item'><div class='xr-var-name'><span class='xr-has-index'>lon</span></div><div class='xr-var-dims'>(lon)</div><div class='xr-var-dtype'>float64</div><div class='xr-var-preview xr-preview'>-124.8 -124.7 ... -114.1 -114.0</div><input id='attrs-f68268ad-55e0-470e-b6d1-5cdc84eba637' class='xr-var-attrs-in' type='checkbox' ><label for='attrs-f68268ad-55e0-470e-b6d1-5cdc84eba637' title='Show/Hide attributes'><svg class='icon xr-icon-file-text2'><use xlink:href='#icon-file-text2'></use></svg></label><input id='data-06f40e07-2432-46f5-a3f7-5fb57af62109' class='xr-var-data-in' type='checkbox'><label for='data-06f40e07-2432-46f5-a3f7-5fb57af62109' title='Show/Hide data repr'><svg class='icon xr-icon-database'><use xlink:href='#icon-database'></use></svg></label><div class='xr-var-attrs'><dl class='xr-attrs'><dt><span>standard_name :</span></dt><dd>longitude</dd><dt><span>long_name :</span></dt><dd>longitude</dd><dt><span>units :</span></dt><dd>degrees_east</dd><dt><span>axis :</span></dt><dd>X</dd></dl></div><div class='xr-var-data'><pre>array([-124.766667, -124.725   , -124.683333, ..., -114.1     , -114.058333,\n",
       "       -114.016667])</pre></div></li><li class='xr-var-item'><div class='xr-var-name'><span class='xr-has-index'>lat</span></div><div class='xr-var-dims'>(lat)</div><div class='xr-var-dtype'>float64</div><div class='xr-var-preview xr-preview'>41.98 41.94 41.9 ... 32.07 32.03</div><input id='attrs-2b6f42b7-d9c6-4013-a874-11cbe6e8690a' class='xr-var-attrs-in' type='checkbox' ><label for='attrs-2b6f42b7-d9c6-4013-a874-11cbe6e8690a' title='Show/Hide attributes'><svg class='icon xr-icon-file-text2'><use xlink:href='#icon-file-text2'></use></svg></label><input id='data-666f968f-cd64-4bb5-b695-1b540d698367' class='xr-var-data-in' type='checkbox'><label for='data-666f968f-cd64-4bb5-b695-1b540d698367' title='Show/Hide data repr'><svg class='icon xr-icon-database'><use xlink:href='#icon-database'></use></svg></label><div class='xr-var-attrs'><dl class='xr-attrs'><dt><span>standard_name :</span></dt><dd>latitude</dd><dt><span>long_name :</span></dt><dd>latitude</dd><dt><span>units :</span></dt><dd>degrees_north</dd><dt><span>axis :</span></dt><dd>Y</dd></dl></div><div class='xr-var-data'><pre>array([41.983333, 41.941667, 41.9     , ..., 32.108333, 32.066667, 32.025   ])</pre></div></li></ul></div></li><li class='xr-section-item'><input id='section-7e41fa64-6307-4a4d-b99a-267238472737' class='xr-section-summary-in' type='checkbox'  checked><label for='section-7e41fa64-6307-4a4d-b99a-267238472737' class='xr-section-summary' >Data variables: <span>(2)</span></label><div class='xr-section-inline-details'></div><div class='xr-section-details'><ul class='xr-var-list'><li class='xr-var-item'><div class='xr-var-name'><span>pdsi</span></div><div class='xr-var-dims'>(day, lat, lon)</div><div class='xr-var-dtype'>float32</div><div class='xr-var-preview xr-preview'>...</div><input id='attrs-fba43dd3-0ab5-4aae-9420-b39cfb0de795' class='xr-var-attrs-in' type='checkbox' ><label for='attrs-fba43dd3-0ab5-4aae-9420-b39cfb0de795' title='Show/Hide attributes'><svg class='icon xr-icon-file-text2'><use xlink:href='#icon-file-text2'></use></svg></label><input id='data-694c6b2f-2f52-4034-9f7f-1598a40ac2a5' class='xr-var-data-in' type='checkbox'><label for='data-694c6b2f-2f52-4034-9f7f-1598a40ac2a5' title='Show/Hide data repr'><svg class='icon xr-icon-database'><use xlink:href='#icon-database'></use></svg></label><div class='xr-var-attrs'><dl class='xr-attrs'><dt><span>standard_name :</span></dt><dd>pdsi</dd><dt><span>long_name :</span></dt><dd>pdsi</dd><dt><span>description :</span></dt><dd>Palmer Drought Severity Index</dd><dt><span>dimensions :</span></dt><dd>lon lat time</dd><dt><span>coordinate_system :</span></dt><dd>WGS84,EPSG:4326</dd></dl></div><div class='xr-var-data'><pre>[522144000 values with dtype=float32]</pre></div></li><li class='xr-var-item'><div class='xr-var-name'><span>category</span></div><div class='xr-var-dims'>(day, lat, lon)</div><div class='xr-var-dtype'>float32</div><div class='xr-var-preview xr-preview'>...</div><input id='attrs-6cbfda03-4332-4c95-8d31-7b294e086b53' class='xr-var-attrs-in' type='checkbox' ><label for='attrs-6cbfda03-4332-4c95-8d31-7b294e086b53' title='Show/Hide attributes'><svg class='icon xr-icon-file-text2'><use xlink:href='#icon-file-text2'></use></svg></label><input id='data-3525fa15-0cf5-44e9-8d2e-53785062f58b' class='xr-var-data-in' type='checkbox'><label for='data-3525fa15-0cf5-44e9-8d2e-53785062f58b' title='Show/Hide data repr'><svg class='icon xr-icon-database'><use xlink:href='#icon-database'></use></svg></label><div class='xr-var-attrs'><dl class='xr-attrs'><dt><span>standard_name :</span></dt><dd>category</dd><dt><span>long_name :</span></dt><dd>category</dd><dt><span>description :</span></dt><dd>11 Categories align with US Drought monitor classifications for standardized Palmer drought indices: 0: value&lt;-5, 1: -5&lt;value&lt;=-4, 2: -4&lt;value&lt;=-3,3:-3&lt;value&lt;=-2, 4:-2&lt;value&lt;=-1, 5:-1&lt;value&lt;=-1, 6: 1&lt;value&lt;=2, 7: 2&lt;value&lt;=3, 8:3&lt;value&lt;=4, 9:4&lt;value&lt;=5, 10:5&lt;=value</dd></dl></div><div class='xr-var-data'><pre>[522144000 values with dtype=float32]</pre></div></li></ul></div></li><li class='xr-section-item'><input id='section-6c76fbb9-a85c-46dd-b5a0-0aebe9aa4154' class='xr-section-summary-in' type='checkbox'  ><label for='section-6c76fbb9-a85c-46dd-b5a0-0aebe9aa4154' class='xr-section-summary' >Indexes: <span>(3)</span></label><div class='xr-section-inline-details'></div><div class='xr-section-details'><ul class='xr-var-list'><li class='xr-var-item'><div class='xr-index-name'><div>day</div></div><div class='xr-index-preview'>PandasIndex</div><div></div><input id='index-8e2d316b-14be-477a-b060-e883b0a8532c' class='xr-index-data-in' type='checkbox'/><label for='index-8e2d316b-14be-477a-b060-e883b0a8532c' title='Show/Hide index repr'><svg class='icon xr-icon-database'><use xlink:href='#icon-database'></use></svg></label><div class='xr-index-data'><pre>PandasIndex(DatetimeIndex([&#x27;2001-01-01&#x27;, &#x27;2001-01-02&#x27;, &#x27;2001-01-03&#x27;, &#x27;2001-01-04&#x27;,\n",
       "               &#x27;2001-01-05&#x27;, &#x27;2001-01-06&#x27;, &#x27;2001-01-07&#x27;, &#x27;2001-01-08&#x27;,\n",
       "               &#x27;2001-01-09&#x27;, &#x27;2001-01-10&#x27;,\n",
       "               ...\n",
       "               &#x27;2023-12-22&#x27;, &#x27;2023-12-23&#x27;, &#x27;2023-12-24&#x27;, &#x27;2023-12-25&#x27;,\n",
       "               &#x27;2023-12-26&#x27;, &#x27;2023-12-27&#x27;, &#x27;2023-12-28&#x27;, &#x27;2023-12-29&#x27;,\n",
       "               &#x27;2023-12-30&#x27;, &#x27;2023-12-31&#x27;],\n",
       "              dtype=&#x27;datetime64[ns]&#x27;, name=&#x27;day&#x27;, length=8400, freq=None))</pre></div></li><li class='xr-var-item'><div class='xr-index-name'><div>lon</div></div><div class='xr-index-preview'>PandasIndex</div><div></div><input id='index-a4539a72-220d-448d-9f85-d0c42f45dd3f' class='xr-index-data-in' type='checkbox'/><label for='index-a4539a72-220d-448d-9f85-d0c42f45dd3f' title='Show/Hide index repr'><svg class='icon xr-icon-database'><use xlink:href='#icon-database'></use></svg></label><div class='xr-index-data'><pre>PandasIndex(Index([-124.76666663333334, -124.72499996666667, -124.68333330000002,\n",
       "       -124.64166663333334, -124.59999996666667, -124.55833330000002,\n",
       "       -124.51666663333334, -124.47499996666667, -124.43333330000002,\n",
       "       -124.39166663333334,\n",
       "       ...\n",
       "       -114.39166663333334, -114.34999996666667, -114.30833330000002,\n",
       "       -114.26666663333334, -114.22499996666667, -114.18333330000002,\n",
       "       -114.14166663333334, -114.09999996666667, -114.05833330000002,\n",
       "       -114.01666663333334],\n",
       "      dtype=&#x27;float64&#x27;, name=&#x27;lon&#x27;, length=259))</pre></div></li><li class='xr-var-item'><div class='xr-index-name'><div>lat</div></div><div class='xr-index-preview'>PandasIndex</div><div></div><input id='index-5483fafd-719e-4046-9ada-bf4520abaf8e' class='xr-index-data-in' type='checkbox'/><label for='index-5483fafd-719e-4046-9ada-bf4520abaf8e' title='Show/Hide index repr'><svg class='icon xr-icon-database'><use xlink:href='#icon-database'></use></svg></label><div class='xr-index-data'><pre>PandasIndex(Index([41.983333333333334,  41.94166666666667, 41.900000000000006,\n",
       "        41.85833333333334,  41.81666666666667, 41.775000000000006,\n",
       "        41.73333333333334,  41.69166666666667, 41.650000000000006,\n",
       "        41.60833333333334,\n",
       "       ...\n",
       "       32.400000000000006, 32.358333333333334,  32.31666666666667,\n",
       "       32.275000000000006, 32.233333333333334,  32.19166666666667,\n",
       "       32.150000000000006, 32.108333333333334,  32.06666666666667,\n",
       "       32.025000000000006],\n",
       "      dtype=&#x27;float64&#x27;, name=&#x27;lat&#x27;, length=240))</pre></div></li></ul></div></li><li class='xr-section-item'><input id='section-8b642217-5995-442d-83e7-56b34ff3c063' class='xr-section-summary-in' type='checkbox'  ><label for='section-8b642217-5995-442d-83e7-56b34ff3c063' class='xr-section-summary' >Attributes: <span>(23)</span></label><div class='xr-section-inline-details'></div><div class='xr-section-details'><dl class='xr-attrs'><dt><span>CDI :</span></dt><dd>Climate Data Interface version 2.1.1 (https://mpimet.mpg.de/cdi)</dd><dt><span>Conventions :</span></dt><dd>CF-1.6</dd><dt><span>geospatial_bounds_crs :</span></dt><dd>EPSG:4326</dd><dt><span>geospatial_bounds :</span></dt><dd>POLYGON((-124.7666666333333 49.400000000000000, -124.7666666333333 25.066666666666666, -67.058333300000015 25.066666666666666, -67.058333300000015 49.400000000000000, -124.7666666333333 49.400000000000000))</dd><dt><span>geospatial_lat_min :</span></dt><dd>25.066666666666666</dd><dt><span>geospatial_lat_max :</span></dt><dd>49.40000000000000</dd><dt><span>geospatial_lon_min :</span></dt><dd>-124.7666666333333</dd><dt><span>geospatial_lon_max :</span></dt><dd>-67.058333300000015</dd><dt><span>geospatial_lon_resolution :</span></dt><dd>0.041666666666666</dd><dt><span>geospatial_lat_resolution :</span></dt><dd>0.041666666666666</dd><dt><span>geospatial_lat_units :</span></dt><dd>decimal_degrees north</dd><dt><span>geospatial_lon_units :</span></dt><dd>decimal_degrees east</dd><dt><span>coordinate_system :</span></dt><dd>EPSG:4326</dd><dt><span>author :</span></dt><dd>John Abatzoglou - University of Idaho, jabatzoglou@uidaho.edu</dd><dt><span>date :</span></dt><dd>23 November 2024</dd><dt><span>note1 :</span></dt><dd>The projection information for this file is: GCS WGS 1984.</dd><dt><span>baseperiod :</span></dt><dd>1980-2019 base period.</dd><dt><span>note2 :</span></dt><dd>Citation: Abatzoglou, J.T., 2013, Development of gridded surface meteorological data for ecological applications and modeling, International Journal of Climatology, DOI: 10.1002/joc.3413</dd><dt><span>note3 :</span></dt><dd>Data in slices after last_permanent_slice (1-based) are considered provisional and subject to change with subsequent updates</dd><dt><span>note4 :</span></dt><dd>Data in slices after last_provisional_slice (1-based) are considered early and subject to change with subsequent updates</dd><dt><span>note5 :</span></dt><dd>Days correspond approximately to calendar days ending at midnight, Mountain Standard Time (7 UTC the next calendar day)</dd><dt><span>history :</span></dt><dd>Fri Feb 14 15:21:23 2025: cdo -seldate,2001-01-01,2023-12-31 -setmissval,nan -inttime,1980-01-05,00:00:00,1day pdsi.CA.nc pdsi.2001.2023.CA.daily_interpolated.nc\n",
       "Fri Feb 14 15:19:10 2025: cdo mul pdsi.sel.nc CA.remap.nc pdsi.CA.nc\n",
       "Fri Feb 14 13:50:20 2025: cdo sellonlatbox,-125,-114,32,42 pdsi.nc pdsi.sel.nc</dd><dt><span>CDO :</span></dt><dd>Climate Data Operators version 2.1.1 (https://mpimet.mpg.de/cdo)</dd></dl></div></li></ul></div></div>"
      ],
      "text/plain": [
       "<xarray.Dataset>\n",
       "Dimensions:   (day: 8400, lon: 259, lat: 240)\n",
       "Coordinates:\n",
       "  * day       (day) datetime64[ns] 2001-01-01 2001-01-02 ... 2023-12-31\n",
       "  * lon       (lon) float64 -124.8 -124.7 -124.7 -124.6 ... -114.1 -114.1 -114.0\n",
       "  * lat       (lat) float64 41.98 41.94 41.9 41.86 ... 32.15 32.11 32.07 32.03\n",
       "Data variables:\n",
       "    pdsi      (day, lat, lon) float32 ...\n",
       "    category  (day, lat, lon) float32 ...\n",
       "Attributes: (12/23)\n",
       "    CDI:                        Climate Data Interface version 2.1.1 (https:/...\n",
       "    Conventions:                CF-1.6\n",
       "    geospatial_bounds_crs:      EPSG:4326\n",
       "    geospatial_bounds:          POLYGON((-124.7666666333333 49.40000000000000...\n",
       "    geospatial_lat_min:         25.066666666666666\n",
       "    geospatial_lat_max:         49.40000000000000\n",
       "    ...                         ...\n",
       "    note2:                      Citation: Abatzoglou, J.T., 2013, Development...\n",
       "    note3:                      Data in slices after last_permanent_slice (1-...\n",
       "    note4:                      Data in slices after last_provisional_slice (...\n",
       "    note5:                      Days correspond approximately to calendar day...\n",
       "    history:                    Fri Feb 14 15:21:23 2025: cdo -seldate,2001-0...\n",
       "    CDO:                        Climate Data Operators version 2.1.1 (https:/..."
      ]
     },
     "execution_count": 8,
     "metadata": {},
     "output_type": "execute_result"
    }
   ],
   "source": [
    "pdsi_Dat"
   ]
  },
  {
   "cell_type": "code",
   "execution_count": 9,
   "metadata": {},
   "outputs": [
    {
     "data": {
      "text/plain": [
       "(62160, 2)"
      ]
     },
     "execution_count": 9,
     "metadata": {},
     "output_type": "execute_result"
    }
   ],
   "source": [
    "# Extract lon and lat coordinates\n",
    "lon = pdsi_Dat.coords['lon'].values\n",
    "lat = pdsi_Dat.coords['lat'].values\n",
    "\n",
    "# Create a DataFrame with all combinations of lon and lat\n",
    "pdsi_Dat_lon_lat = pd.DataFrame([(lo, la) for lo in lon for la in lat], columns=['lon', 'lat'])\n",
    "\n",
    "pdsi_Dat_lon_lat.shape"
   ]
  },
  {
   "cell_type": "code",
   "execution_count": 10,
   "metadata": {},
   "outputs": [],
   "source": [
    "test_merge = lon_lat_combinations.merge(pdsi_Dat_lon_lat, on=['lon', 'lat'], how='inner')"
   ]
  },
  {
   "cell_type": "code",
   "execution_count": 11,
   "metadata": {},
   "outputs": [
    {
     "data": {
      "text/plain": [
       "(62160, 2)"
      ]
     },
     "execution_count": 11,
     "metadata": {},
     "output_type": "execute_result"
    }
   ],
   "source": [
    "test_merge.shape"
   ]
  },
  {
   "cell_type": "markdown",
   "metadata": {},
   "source": [
    "Confirmed that grid matched w existing weather data"
   ]
  },
  {
   "cell_type": "code",
   "execution_count": 12,
   "metadata": {},
   "outputs": [],
   "source": [
    "pdsi_Dat = pdsi_Dat.to_dataframe().reset_index()"
   ]
  },
  {
   "cell_type": "code",
   "execution_count": 13,
   "metadata": {},
   "outputs": [
    {
     "data": {
      "text/plain": [
       "day         datetime64[ns]\n",
       "lon                float64\n",
       "lat                float64\n",
       "pdsi               float32\n",
       "category           float32\n",
       "dtype: object"
      ]
     },
     "execution_count": 13,
     "metadata": {},
     "output_type": "execute_result"
    }
   ],
   "source": [
    "pdsi_Dat.dtypes"
   ]
  },
  {
   "cell_type": "code",
   "execution_count": 14,
   "metadata": {},
   "outputs": [
    {
     "data": {
      "text/plain": [
       "0.01151866151866152"
      ]
     },
     "execution_count": 14,
     "metadata": {},
     "output_type": "execute_result"
    }
   ],
   "source": [
    "pdsi_Dat['pdsi'].isna().sum() / pdsi_Dat.shape[0]"
   ]
  },
  {
   "cell_type": "code",
   "execution_count": 15,
   "metadata": {},
   "outputs": [
    {
     "data": {
      "text/plain": [
       "0.6141327315836245"
      ]
     },
     "execution_count": 15,
     "metadata": {},
     "output_type": "execute_result"
    }
   ],
   "source": [
    "pdsi_Dat['category'].isna().sum() / pdsi_Dat.shape[0]"
   ]
  },
  {
   "cell_type": "code",
   "execution_count": 16,
   "metadata": {},
   "outputs": [],
   "source": [
    "# drop category column\n",
    "pdsi_Dat = pdsi_Dat.drop(columns=['category'])"
   ]
  },
  {
   "cell_type": "markdown",
   "metadata": {},
   "source": [
    "## Filter w Fire 12KM (FOD_FPA)"
   ]
  },
  {
   "cell_type": "code",
   "execution_count": 17,
   "metadata": {},
   "outputs": [],
   "source": [
    "reference_ds = pd.read_parquet('../Clean_Data/Weather_Data_w_Veg_Filter_FOD_FPA_Fire_12KM/dead_fuel_moisture_1000hr_filtered.parquet')\n",
    "# extract lon and lat and dedup\n",
    "reference_ds_lon_lat = reference_ds[['lon', 'lat']].drop_duplicates()"
   ]
  },
  {
   "cell_type": "code",
   "execution_count": 18,
   "metadata": {},
   "outputs": [
    {
     "data": {
      "text/plain": [
       "(17530, 2)"
      ]
     },
     "execution_count": 18,
     "metadata": {},
     "output_type": "execute_result"
    }
   ],
   "source": [
    "reference_ds_lon_lat.shape"
   ]
  },
  {
   "cell_type": "code",
   "execution_count": 19,
   "metadata": {},
   "outputs": [
    {
     "data": {
      "text/plain": [
       "(522144000, 4)"
      ]
     },
     "execution_count": 19,
     "metadata": {},
     "output_type": "execute_result"
    }
   ],
   "source": [
    "pdsi_Dat.shape"
   ]
  },
  {
   "cell_type": "code",
   "execution_count": 20,
   "metadata": {},
   "outputs": [],
   "source": [
    "pdsi_Dat_filtered = pd.merge(reference_ds_lon_lat, pdsi_Dat, on=['lon', 'lat'], how='inner')"
   ]
  },
  {
   "cell_type": "code",
   "execution_count": 21,
   "metadata": {},
   "outputs": [
    {
     "data": {
      "text/plain": [
       "(147252000, 4)"
      ]
     },
     "execution_count": 21,
     "metadata": {},
     "output_type": "execute_result"
    }
   ],
   "source": [
    "pdsi_Dat_filtered.shape"
   ]
  },
  {
   "cell_type": "code",
   "execution_count": 22,
   "metadata": {},
   "outputs": [
    {
     "data": {
      "text/plain": [
       "0.0025099828864803193"
      ]
     },
     "execution_count": 22,
     "metadata": {},
     "output_type": "execute_result"
    }
   ],
   "source": [
    "pdsi_Dat_filtered['pdsi'].isna().sum() / pdsi_Dat_filtered.shape[0]"
   ]
  },
  {
   "cell_type": "code",
   "execution_count": 23,
   "metadata": {},
   "outputs": [],
   "source": [
    "# write to parquet file\n",
    "output_file = f'../Clean_Data/Weather_Data_w_Veg_Filter_FOD_FPA_Fire_12KM/pdsi_200101_202112_filtered.parquet'\n",
    "pdsi_Dat_filtered.to_parquet(output_file)"
   ]
  },
  {
   "cell_type": "markdown",
   "metadata": {},
   "source": [
    "## MERGE w the FINAL WEATHER CLEANED DATA"
   ]
  },
  {
   "cell_type": "code",
   "execution_count": 30,
   "metadata": {},
   "outputs": [],
   "source": [
    "all_features = pd.read_parquet('../Clean_Data/Weather_Data_w_Veg_Filter_FOD_FPA_Fire_12KM_Merged_Cleaned_2001_2020.parquet')"
   ]
  },
  {
   "cell_type": "code",
   "execution_count": 25,
   "metadata": {},
   "outputs": [],
   "source": [
    "pdsi_Dat_filtered = pd.read_parquet('../Clean_Data/Weather_Data_w_Veg_Filter_FOD_FPA_Fire_12KM/pdsi_200101_202112_filtered.parquet')"
   ]
  },
  {
   "cell_type": "code",
   "execution_count": 26,
   "metadata": {},
   "outputs": [
    {
     "data": {
      "text/plain": [
       "((128056650, 21), (147252000, 4))"
      ]
     },
     "execution_count": 26,
     "metadata": {},
     "output_type": "execute_result"
    }
   ],
   "source": [
    "all_features.shape, pdsi_Dat_filtered.shape"
   ]
  },
  {
   "cell_type": "code",
   "execution_count": 31,
   "metadata": {},
   "outputs": [
    {
     "data": {
      "text/plain": [
       "lon                                                 float64\n",
       "lat                                                 float64\n",
       "day                                          datetime64[ns]\n",
       "dead_fuel_moisture_1000hr                           float32\n",
       "dead_fuel_moisture_100hr                            float32\n",
       "pdsi                                                float32\n",
       "pdsi_class                                          float32\n",
       "max_air_temperature                                 float64\n",
       "max_relative_humidity                               float32\n",
       "max_wind_speed                                      float32\n",
       "min_air_temperature                                 float64\n",
       "min_relative_humidity                               float32\n",
       "precipitation_amount                                float32\n",
       "specific_humidity                                   float32\n",
       "surface_downwelling_shortwave_flux_in_air           float32\n",
       "wind_from_direction                                 float32\n",
       "wind_speed                                          float32\n",
       "wind_direction_category                            category\n",
       "SWE                                                 float32\n",
       "Band1                                               float32\n",
       "LAI                                                 float32\n",
       "dtype: object"
      ]
     },
     "execution_count": 31,
     "metadata": {},
     "output_type": "execute_result"
    }
   ],
   "source": [
    "all_features.dtypes"
   ]
  },
  {
   "cell_type": "code",
   "execution_count": 32,
   "metadata": {},
   "outputs": [],
   "source": [
    "# rename pdsi as 'old_pdsi'\n",
    "all_features.rename(columns={'pdsi': 'pdsi_pre_interpolated'}, inplace=True)"
   ]
  },
  {
   "cell_type": "code",
   "execution_count": 33,
   "metadata": {},
   "outputs": [
    {
     "data": {
      "text/plain": [
       "lon                                                 float64\n",
       "lat                                                 float64\n",
       "day                                          datetime64[ns]\n",
       "dead_fuel_moisture_1000hr                           float32\n",
       "dead_fuel_moisture_100hr                            float32\n",
       "pdsi_pre_interpolated                               float32\n",
       "pdsi_class                                          float32\n",
       "max_air_temperature                                 float64\n",
       "max_relative_humidity                               float32\n",
       "max_wind_speed                                      float32\n",
       "min_air_temperature                                 float64\n",
       "min_relative_humidity                               float32\n",
       "precipitation_amount                                float32\n",
       "specific_humidity                                   float32\n",
       "surface_downwelling_shortwave_flux_in_air           float32\n",
       "wind_from_direction                                 float32\n",
       "wind_speed                                          float32\n",
       "wind_direction_category                            category\n",
       "SWE                                                 float32\n",
       "Band1                                               float32\n",
       "LAI                                                 float32\n",
       "dtype: object"
      ]
     },
     "execution_count": 33,
     "metadata": {},
     "output_type": "execute_result"
    }
   ],
   "source": [
    "all_features.dtypes"
   ]
  },
  {
   "cell_type": "code",
   "execution_count": 27,
   "metadata": {},
   "outputs": [
    {
     "data": {
      "text/plain": [
       "lon            float64\n",
       "lat            float64\n",
       "day     datetime64[ns]\n",
       "pdsi           float32\n",
       "dtype: object"
      ]
     },
     "execution_count": 27,
     "metadata": {},
     "output_type": "execute_result"
    }
   ],
   "source": [
    "pdsi_Dat_filtered.dtypes"
   ]
  },
  {
   "cell_type": "code",
   "execution_count": 34,
   "metadata": {},
   "outputs": [],
   "source": [
    "# merge all_features with SNOW_dat on lon, lat, day\n",
    "all_features = pd.merge(all_features, pdsi_Dat_filtered, on=['lon', 'lat', 'day'], how='left')"
   ]
  },
  {
   "cell_type": "code",
   "execution_count": 35,
   "metadata": {},
   "outputs": [
    {
     "data": {
      "text/plain": [
       "(128056650, 22)"
      ]
     },
     "execution_count": 35,
     "metadata": {},
     "output_type": "execute_result"
    }
   ],
   "source": [
    "all_features.shape"
   ]
  },
  {
   "cell_type": "code",
   "execution_count": 37,
   "metadata": {},
   "outputs": [
    {
     "data": {
      "text/plain": [
       "lon                                                 float64\n",
       "lat                                                 float64\n",
       "day                                          datetime64[ns]\n",
       "dead_fuel_moisture_1000hr                           float32\n",
       "dead_fuel_moisture_100hr                            float32\n",
       "pdsi_pre_interpolated                               float32\n",
       "pdsi_class                                          float32\n",
       "max_air_temperature                                 float64\n",
       "max_relative_humidity                               float32\n",
       "max_wind_speed                                      float32\n",
       "min_air_temperature                                 float64\n",
       "min_relative_humidity                               float32\n",
       "precipitation_amount                                float32\n",
       "specific_humidity                                   float32\n",
       "surface_downwelling_shortwave_flux_in_air           float32\n",
       "wind_from_direction                                 float32\n",
       "wind_speed                                          float32\n",
       "wind_direction_category                            category\n",
       "SWE                                                 float32\n",
       "Band1                                               float32\n",
       "LAI                                                 float32\n",
       "pdsi                                                float32\n",
       "dtype: object"
      ]
     },
     "execution_count": 37,
     "metadata": {},
     "output_type": "execute_result"
    }
   ],
   "source": [
    "all_features.dtypes"
   ]
  },
  {
   "cell_type": "code",
   "execution_count": 36,
   "metadata": {},
   "outputs": [
    {
     "data": {
      "text/plain": [
       "0.0025099828864803193"
      ]
     },
     "execution_count": 36,
     "metadata": {},
     "output_type": "execute_result"
    }
   ],
   "source": [
    "all_features['pdsi'].isna().sum() / all_features.shape[0]"
   ]
  },
  {
   "cell_type": "code",
   "execution_count": 38,
   "metadata": {},
   "outputs": [],
   "source": [
    "# write it back to parquet file\n",
    "output_file = f'../Clean_Data/Weather_Data_w_Veg_Filter_FOD_FPA_Fire_12KM_Merged_Cleaned_2001_2020.parquet'\n",
    "all_features.to_parquet(output_file)"
   ]
  },
  {
   "cell_type": "code",
   "execution_count": null,
   "metadata": {},
   "outputs": [],
   "source": []
  }
 ],
 "metadata": {
  "kernelspec": {
   "display_name": "py311",
   "language": "python",
   "name": "python3"
  },
  "language_info": {
   "codemirror_mode": {
    "name": "ipython",
    "version": 3
   },
   "file_extension": ".py",
   "mimetype": "text/x-python",
   "name": "python",
   "nbconvert_exporter": "python",
   "pygments_lexer": "ipython3",
   "version": "3.11.9"
  }
 },
 "nbformat": 4,
 "nbformat_minor": 2
}
