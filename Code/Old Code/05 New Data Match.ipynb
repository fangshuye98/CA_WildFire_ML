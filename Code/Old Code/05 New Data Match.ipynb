{
 "cells": [
  {
   "cell_type": "code",
   "execution_count": 1,
   "metadata": {},
   "outputs": [],
   "source": [
    "import pandas as pd\n",
    "import geopandas as gpd\n",
    "import xarray as xr\n",
    "import pyproj\n",
    "from tqdm import tqdm\n",
    "import numpy as np\n",
    "import os\n",
    "import matplotlib.pyplot as plt\n",
    "import cartopy.crs as ccrs\n",
    "import cartopy.feature as cfeature"
   ]
  },
  {
   "cell_type": "code",
   "execution_count": 2,
   "metadata": {},
   "outputs": [
    {
     "name": "stdout",
     "output_type": "stream",
     "text": [
      "Python version\n",
      "3.11.9 | packaged by Anaconda, Inc. | (main, Apr 19 2024, 16:40:41) [MSC v.1916 64 bit (AMD64)]\n",
      "Pandas version\n",
      "2.2.2\n",
      "Geopandas version\n",
      "0.14.2\n",
      "Xarray version\n",
      "2023.6.0\n",
      "Pyproj version\n",
      "3.6.1\n"
     ]
    }
   ],
   "source": [
    "# check python version and all packages version\n",
    "def check_python_version():\n",
    "    import sys\n",
    "    print(\"Python version\")\n",
    "    print (sys.version)\n",
    "    print(\"Pandas version\")\n",
    "    print(pd.__version__)\n",
    "    print(\"Geopandas version\")\n",
    "    print(gpd.__version__)\n",
    "    print(\"Xarray version\")\n",
    "    print(xr.__version__)\n",
    "    print(\"Pyproj version\")\n",
    "    print(pyproj.__version__)\n",
    "\n",
    "check_python_version()"
   ]
  },
  {
   "cell_type": "code",
   "execution_count": 284,
   "metadata": {},
   "outputs": [],
   "source": [
    "path = '../New_Data/calfire_2001_2023_MTBS_match_TableToExcel.csv'\n",
    "fod_fpa = pd.read_csv(path, encoding='latin1')"
   ]
  },
  {
   "cell_type": "code",
   "execution_count": 25,
   "metadata": {},
   "outputs": [
    {
     "data": {
      "text/plain": [
       "Index(['OBJECTID', 'FOD_ID', 'FPA_ID', 'SOURCE_SYSTEM_TYPE', 'SOURCE_SYSTEM',\n",
       "       'NWCG_REPORTING_AGENCY', 'NWCG_REPORTING_UNIT_ID',\n",
       "       'NWCG_REPORTING_UNIT_NAME', 'SOURCE_REPORTING_UNIT_NAME',\n",
       "       'LOCAL_FIRE_REPORT_ID', 'FIRE_CODE', 'FIRE_NAME',\n",
       "       'ICS_209_PLUS_INCIDENT_JOIN_ID', 'ICS_209_PLUS_COMPLEX_JOIN_ID',\n",
       "       'MTBS_ID', 'MTBS_FIRE_NAME', 'COMPLEX_NAME', 'FIRE_YEAR',\n",
       "       'DISCOVERY_DATE', 'DISCOVERY_DOY', 'NWCG_CAUSE_CLASSIFICATION',\n",
       "       'NWCG_GENERAL_CAUSE', 'NWCG_CAUSE_AGE_CATEGORY', 'CONT_DATE',\n",
       "       'CONT_DOY', 'FIRE_SIZE', 'FIRE_SIZE_CLASS', 'LATITUDE', 'LONGITUDE',\n",
       "       'OWNER_DESCR', 'STATE', 'COUNTY', 'FIPS_NAME'],\n",
       "      dtype='object')"
      ]
     },
     "execution_count": 25,
     "metadata": {},
     "output_type": "execute_result"
    }
   ],
   "source": [
    "fod_fpa.columns"
   ]
  },
  {
   "cell_type": "code",
   "execution_count": 237,
   "metadata": {},
   "outputs": [
    {
     "name": "stderr",
     "output_type": "stream",
     "text": [
      "C:\\Users\\fangshuye\\AppData\\Local\\Temp\\ipykernel_36592\\2502015262.py:3: SettingWithCopyWarning: \n",
      "A value is trying to be set on a copy of a slice from a DataFrame\n",
      "\n",
      "See the caveats in the documentation: https://pandas.pydata.org/pandas-docs/stable/user_guide/indexing.html#returning-a-view-versus-a-copy\n",
      "  fod_fpa_sub.rename(columns={'MTBS_FIRE_NAME':'FIRE_NAME'}, inplace=True)\n"
     ]
    }
   ],
   "source": [
    "cols = ['MTBS_FIRE_NAME','DISCOVERY_DATE','CONT_DATE','FIRE_SIZE','LONGITUDE','LATITUDE','FIRE_YEAR']\n",
    "fod_fpa_sub = fod_fpa[cols]\n",
    "fod_fpa_sub.rename(columns={'MTBS_FIRE_NAME':'FIRE_NAME'}, inplace=True)"
   ]
  },
  {
   "cell_type": "code",
   "execution_count": 238,
   "metadata": {},
   "outputs": [
    {
     "data": {
      "text/plain": [
       "0"
      ]
     },
     "execution_count": 238,
     "metadata": {},
     "output_type": "execute_result"
    }
   ],
   "source": [
    "# CHECK IF fod_fpa_sub HAS DUPLICATES\n",
    "fod_fpa_sub.duplicated().sum()"
   ]
  },
  {
   "cell_type": "code",
   "execution_count": 239,
   "metadata": {},
   "outputs": [
    {
     "name": "stderr",
     "output_type": "stream",
     "text": [
      "C:\\Users\\fangshuye\\AppData\\Local\\Temp\\ipykernel_36592\\1058428205.py:2: SettingWithCopyWarning: \n",
      "A value is trying to be set on a copy of a slice from a DataFrame.\n",
      "Try using .loc[row_indexer,col_indexer] = value instead\n",
      "\n",
      "See the caveats in the documentation: https://pandas.pydata.org/pandas-docs/stable/user_guide/indexing.html#returning-a-view-versus-a-copy\n",
      "  fod_fpa_sub['index'] = fod_fpa_sub.index\n",
      "C:\\Users\\fangshuye\\AppData\\Local\\Temp\\ipykernel_36592\\1058428205.py:3: SettingWithCopyWarning: \n",
      "A value is trying to be set on a copy of a slice from a DataFrame.\n",
      "Try using .loc[row_indexer,col_indexer] = value instead\n",
      "\n",
      "See the caveats in the documentation: https://pandas.pydata.org/pandas-docs/stable/user_guide/indexing.html#returning-a-view-versus-a-copy\n",
      "  fod_fpa_sub['index'] = 'fod_fpa' + fod_fpa_sub['index'].astype(str)\n"
     ]
    }
   ],
   "source": [
    "# add index column to be row number + fod_fpa\n",
    "fod_fpa_sub['index'] = fod_fpa_sub.index\n",
    "fod_fpa_sub['index'] = 'fod_fpa' + fod_fpa_sub['index'].astype(str)"
   ]
  },
  {
   "cell_type": "code",
   "execution_count": 240,
   "metadata": {},
   "outputs": [
    {
     "data": {
      "text/plain": [
       "(1056, 8)"
      ]
     },
     "execution_count": 240,
     "metadata": {},
     "output_type": "execute_result"
    }
   ],
   "source": [
    "fod_fpa_sub.shape"
   ]
  },
  {
   "cell_type": "code",
   "execution_count": 241,
   "metadata": {},
   "outputs": [
    {
     "data": {
      "text/html": [
       "<div>\n",
       "<style scoped>\n",
       "    .dataframe tbody tr th:only-of-type {\n",
       "        vertical-align: middle;\n",
       "    }\n",
       "\n",
       "    .dataframe tbody tr th {\n",
       "        vertical-align: top;\n",
       "    }\n",
       "\n",
       "    .dataframe thead th {\n",
       "        text-align: right;\n",
       "    }\n",
       "</style>\n",
       "<table border=\"1\" class=\"dataframe\">\n",
       "  <thead>\n",
       "    <tr style=\"text-align: right;\">\n",
       "      <th></th>\n",
       "      <th>FIRE_NAME</th>\n",
       "      <th>DISCOVERY_DATE</th>\n",
       "      <th>CONT_DATE</th>\n",
       "      <th>FIRE_SIZE</th>\n",
       "      <th>LONGITUDE</th>\n",
       "      <th>LATITUDE</th>\n",
       "      <th>FIRE_YEAR</th>\n",
       "      <th>index</th>\n",
       "    </tr>\n",
       "  </thead>\n",
       "  <tbody>\n",
       "    <tr>\n",
       "      <th>0</th>\n",
       "      <td>POWER</td>\n",
       "      <td>10/6/2004</td>\n",
       "      <td>10/21/2004</td>\n",
       "      <td>16823.0</td>\n",
       "      <td>-120.211667</td>\n",
       "      <td>38.523333</td>\n",
       "      <td>2004</td>\n",
       "      <td>fod_fpa0</td>\n",
       "    </tr>\n",
       "    <tr>\n",
       "      <th>1</th>\n",
       "      <td>FREDS</td>\n",
       "      <td>10/13/2004</td>\n",
       "      <td>10/17/2004</td>\n",
       "      <td>7700.0</td>\n",
       "      <td>-120.260000</td>\n",
       "      <td>38.780000</td>\n",
       "      <td>2004</td>\n",
       "      <td>fod_fpa1</td>\n",
       "    </tr>\n",
       "    <tr>\n",
       "      <th>2</th>\n",
       "      <td>SLINKARD 2</td>\n",
       "      <td>7/21/2005</td>\n",
       "      <td>7/24/2005</td>\n",
       "      <td>89.0</td>\n",
       "      <td>-119.554722</td>\n",
       "      <td>38.573611</td>\n",
       "      <td>2005</td>\n",
       "      <td>fod_fpa2</td>\n",
       "    </tr>\n",
       "    <tr>\n",
       "      <th>3</th>\n",
       "      <td>NINE</td>\n",
       "      <td>7/9/2005</td>\n",
       "      <td>7/10/2005</td>\n",
       "      <td>1149.0</td>\n",
       "      <td>-118.438333</td>\n",
       "      <td>35.688056</td>\n",
       "      <td>2005</td>\n",
       "      <td>fod_fpa3</td>\n",
       "    </tr>\n",
       "    <tr>\n",
       "      <th>4</th>\n",
       "      <td>MUNZ</td>\n",
       "      <td>6/27/2005</td>\n",
       "      <td>6/27/2005</td>\n",
       "      <td>800.0</td>\n",
       "      <td>-118.388889</td>\n",
       "      <td>34.683056</td>\n",
       "      <td>2005</td>\n",
       "      <td>fod_fpa4</td>\n",
       "    </tr>\n",
       "  </tbody>\n",
       "</table>\n",
       "</div>"
      ],
      "text/plain": [
       "    FIRE_NAME DISCOVERY_DATE   CONT_DATE  FIRE_SIZE   LONGITUDE   LATITUDE  \\\n",
       "0       POWER      10/6/2004  10/21/2004    16823.0 -120.211667  38.523333   \n",
       "1       FREDS     10/13/2004  10/17/2004     7700.0 -120.260000  38.780000   \n",
       "2  SLINKARD 2      7/21/2005   7/24/2005       89.0 -119.554722  38.573611   \n",
       "3        NINE       7/9/2005   7/10/2005     1149.0 -118.438333  35.688056   \n",
       "4        MUNZ      6/27/2005   6/27/2005      800.0 -118.388889  34.683056   \n",
       "\n",
       "   FIRE_YEAR     index  \n",
       "0       2004  fod_fpa0  \n",
       "1       2004  fod_fpa1  \n",
       "2       2005  fod_fpa2  \n",
       "3       2005  fod_fpa3  \n",
       "4       2005  fod_fpa4  "
      ]
     },
     "execution_count": 241,
     "metadata": {},
     "output_type": "execute_result"
    }
   ],
   "source": [
    "fod_fpa_sub.head()"
   ]
  },
  {
   "cell_type": "code",
   "execution_count": 35,
   "metadata": {},
   "outputs": [],
   "source": [
    "fire_data = pd.read_parquet('../Clean_Data/fire_data_map_weather_lon_lat.parquet')"
   ]
  },
  {
   "cell_type": "code",
   "execution_count": 95,
   "metadata": {},
   "outputs": [
    {
     "data": {
      "text/plain": [
       "Index(['YEAR_', 'STATE', 'AGENCY', 'UNIT_ID', 'FIRE_NAME', 'INC_NUM',\n",
       "       'IRWINID', 'ALARM_DATE', 'CONT_DATE', 'C_METHOD', 'CAUSE', 'OBJECTIVE',\n",
       "       'GIS_ACRES', 'COMPLEX_NA', 'COMPLEX_ID', 'COMMENTS', 'FIRE_NUM',\n",
       "       'Shape_Leng', 'Shape_Area', 'lon', 'lat', 'distance'],\n",
       "      dtype='object')"
      ]
     },
     "execution_count": 95,
     "metadata": {},
     "output_type": "execute_result"
    }
   ],
   "source": [
    "fire_data.columns"
   ]
  },
  {
   "cell_type": "code",
   "execution_count": 242,
   "metadata": {},
   "outputs": [],
   "source": [
    "cols = ['YEAR_','ALARM_DATE','FIRE_NAME','GIS_ACRES','Shape_Area','lon','lat']\n",
    "fire_data_sub = fire_data[cols]"
   ]
  },
  {
   "cell_type": "code",
   "execution_count": 243,
   "metadata": {},
   "outputs": [
    {
     "data": {
      "text/plain": [
       "0"
      ]
     },
     "execution_count": 243,
     "metadata": {},
     "output_type": "execute_result"
    }
   ],
   "source": [
    "# check if fire_data_sub has duplicates\n",
    "fire_data_sub.duplicated().sum()"
   ]
  },
  {
   "cell_type": "code",
   "execution_count": 244,
   "metadata": {},
   "outputs": [
    {
     "name": "stderr",
     "output_type": "stream",
     "text": [
      "C:\\Users\\fangshuye\\AppData\\Local\\Temp\\ipykernel_36592\\2931090539.py:1: SettingWithCopyWarning: \n",
      "A value is trying to be set on a copy of a slice from a DataFrame.\n",
      "Try using .loc[row_indexer,col_indexer] = value instead\n",
      "\n",
      "See the caveats in the documentation: https://pandas.pydata.org/pandas-docs/stable/user_guide/indexing.html#returning-a-view-versus-a-copy\n",
      "  fire_data_sub['index'] = fire_data_sub.index\n",
      "C:\\Users\\fangshuye\\AppData\\Local\\Temp\\ipykernel_36592\\2931090539.py:2: SettingWithCopyWarning: \n",
      "A value is trying to be set on a copy of a slice from a DataFrame.\n",
      "Try using .loc[row_indexer,col_indexer] = value instead\n",
      "\n",
      "See the caveats in the documentation: https://pandas.pydata.org/pandas-docs/stable/user_guide/indexing.html#returning-a-view-versus-a-copy\n",
      "  fire_data_sub['index'] = 'fire_data' + fire_data_sub['index'].astype(str)\n"
     ]
    }
   ],
   "source": [
    "fire_data_sub['index'] = fire_data_sub.index\n",
    "fire_data_sub['index'] = 'fire_data' + fire_data_sub['index'].astype(str)"
   ]
  },
  {
   "cell_type": "code",
   "execution_count": 245,
   "metadata": {},
   "outputs": [
    {
     "data": {
      "text/html": [
       "<div>\n",
       "<style scoped>\n",
       "    .dataframe tbody tr th:only-of-type {\n",
       "        vertical-align: middle;\n",
       "    }\n",
       "\n",
       "    .dataframe tbody tr th {\n",
       "        vertical-align: top;\n",
       "    }\n",
       "\n",
       "    .dataframe thead th {\n",
       "        text-align: right;\n",
       "    }\n",
       "</style>\n",
       "<table border=\"1\" class=\"dataframe\">\n",
       "  <thead>\n",
       "    <tr style=\"text-align: right;\">\n",
       "      <th></th>\n",
       "      <th>YEAR_</th>\n",
       "      <th>ALARM_DATE</th>\n",
       "      <th>FIRE_NAME</th>\n",
       "      <th>GIS_ACRES</th>\n",
       "      <th>Shape_Area</th>\n",
       "      <th>lon</th>\n",
       "      <th>lat</th>\n",
       "      <th>index</th>\n",
       "    </tr>\n",
       "  </thead>\n",
       "  <tbody>\n",
       "    <tr>\n",
       "      <th>0</th>\n",
       "      <td>2023</td>\n",
       "      <td>2023-06-17</td>\n",
       "      <td>WHITWORTH</td>\n",
       "      <td>5.72913</td>\n",
       "      <td>23184.946763</td>\n",
       "      <td>-122.891667</td>\n",
       "      <td>41.525000</td>\n",
       "      <td>fire_data0</td>\n",
       "    </tr>\n",
       "    <tr>\n",
       "      <th>1</th>\n",
       "      <td>2023</td>\n",
       "      <td>2023-06-02</td>\n",
       "      <td>KAISER</td>\n",
       "      <td>13.60240</td>\n",
       "      <td>55046.898792</td>\n",
       "      <td>-121.975000</td>\n",
       "      <td>39.816667</td>\n",
       "      <td>fire_data1</td>\n",
       "    </tr>\n",
       "    <tr>\n",
       "      <th>2</th>\n",
       "      <td>2023</td>\n",
       "      <td>2023-07-01</td>\n",
       "      <td>JACKSON</td>\n",
       "      <td>27.81450</td>\n",
       "      <td>112561.147688</td>\n",
       "      <td>-120.891667</td>\n",
       "      <td>38.275000</td>\n",
       "      <td>fire_data2</td>\n",
       "    </tr>\n",
       "    <tr>\n",
       "      <th>3</th>\n",
       "      <td>2023</td>\n",
       "      <td>2023-07-11</td>\n",
       "      <td>CARBON</td>\n",
       "      <td>58.76020</td>\n",
       "      <td>237794.210367</td>\n",
       "      <td>-120.975000</td>\n",
       "      <td>38.441667</td>\n",
       "      <td>fire_data3</td>\n",
       "    </tr>\n",
       "    <tr>\n",
       "      <th>4</th>\n",
       "      <td>2023</td>\n",
       "      <td>2023-07-11</td>\n",
       "      <td>LIBERTY</td>\n",
       "      <td>70.97900</td>\n",
       "      <td>287241.810389</td>\n",
       "      <td>-121.016667</td>\n",
       "      <td>38.233333</td>\n",
       "      <td>fire_data4</td>\n",
       "    </tr>\n",
       "  </tbody>\n",
       "</table>\n",
       "</div>"
      ],
      "text/plain": [
       "   YEAR_  ALARM_DATE  FIRE_NAME  GIS_ACRES     Shape_Area         lon  \\\n",
       "0   2023  2023-06-17  WHITWORTH    5.72913   23184.946763 -122.891667   \n",
       "1   2023  2023-06-02     KAISER   13.60240   55046.898792 -121.975000   \n",
       "2   2023  2023-07-01    JACKSON   27.81450  112561.147688 -120.891667   \n",
       "3   2023  2023-07-11     CARBON   58.76020  237794.210367 -120.975000   \n",
       "4   2023  2023-07-11    LIBERTY   70.97900  287241.810389 -121.016667   \n",
       "\n",
       "         lat       index  \n",
       "0  41.525000  fire_data0  \n",
       "1  39.816667  fire_data1  \n",
       "2  38.275000  fire_data2  \n",
       "3  38.441667  fire_data3  \n",
       "4  38.233333  fire_data4  "
      ]
     },
     "execution_count": 245,
     "metadata": {},
     "output_type": "execute_result"
    }
   ],
   "source": [
    "fire_data_sub.head()"
   ]
  },
  {
   "cell_type": "code",
   "execution_count": 246,
   "metadata": {},
   "outputs": [],
   "source": [
    "# check fire names that is in fod_fpa but not in matched_df\n",
    "fod_fpa_names = fod_fpa_sub['FIRE_NAME'].unique()\n",
    "fire_names_full = fire_data_sub['FIRE_NAME'].unique()\n",
    "# get fire names that are in both fod_fpa and fire_data\n",
    "fire_names = set(fod_fpa_names).intersection(fire_names_full)\n",
    "# convert to list\n",
    "fire_names = list(fire_names)"
   ]
  },
  {
   "cell_type": "code",
   "execution_count": 247,
   "metadata": {},
   "outputs": [
    {
     "data": {
      "text/plain": [
       "(638, 834, 4190)"
      ]
     },
     "execution_count": 247,
     "metadata": {},
     "output_type": "execute_result"
    }
   ],
   "source": [
    "len(fire_names), len(fod_fpa_names), len(fire_names_full)"
   ]
  },
  {
   "cell_type": "code",
   "execution_count": 248,
   "metadata": {},
   "outputs": [
    {
     "name": "stdout",
     "output_type": "stream",
     "text": [
      "There are 1056 rows in fod_fpa_sub\n",
      "After filtering fire names in fire_data_sub, there are 809 rows in fod_fpa_sub\n"
     ]
    }
   ],
   "source": [
    "# print sentence saying the # of rows in fod_fpa_sub\n",
    "print(f'There are {fod_fpa_sub.shape[0]} rows in fod_fpa_sub')\n",
    "# in fod_fpa_sub data, only keep the fire names that are in fire_data_sub\n",
    "fod_fpa_sub = fod_fpa_sub[fod_fpa_sub['FIRE_NAME'].isin(fire_names)]\n",
    "# print sentence saying the # of rows in fod_fpa_sub after filtering fire names in fire_data_sub\n",
    "print(f'After filtering fire names in fire_data_sub, there are {fod_fpa_sub.shape[0]} rows in fod_fpa_sub')"
   ]
  },
  {
   "cell_type": "code",
   "execution_count": 249,
   "metadata": {},
   "outputs": [
    {
     "data": {
      "text/html": [
       "<div>\n",
       "<style scoped>\n",
       "    .dataframe tbody tr th:only-of-type {\n",
       "        vertical-align: middle;\n",
       "    }\n",
       "\n",
       "    .dataframe tbody tr th {\n",
       "        vertical-align: top;\n",
       "    }\n",
       "\n",
       "    .dataframe thead th {\n",
       "        text-align: right;\n",
       "    }\n",
       "</style>\n",
       "<table border=\"1\" class=\"dataframe\">\n",
       "  <thead>\n",
       "    <tr style=\"text-align: right;\">\n",
       "      <th></th>\n",
       "      <th>FIRE_NAME</th>\n",
       "      <th>DISCOVERY_DATE</th>\n",
       "      <th>CONT_DATE</th>\n",
       "      <th>FIRE_SIZE</th>\n",
       "      <th>LONGITUDE</th>\n",
       "      <th>LATITUDE</th>\n",
       "      <th>FIRE_YEAR</th>\n",
       "      <th>index_fpa_fod</th>\n",
       "      <th>YEAR_</th>\n",
       "      <th>ALARM_DATE</th>\n",
       "      <th>GIS_ACRES</th>\n",
       "      <th>Shape_Area</th>\n",
       "      <th>lon</th>\n",
       "      <th>lat</th>\n",
       "      <th>index</th>\n",
       "    </tr>\n",
       "  </thead>\n",
       "  <tbody>\n",
       "    <tr>\n",
       "      <th>0</th>\n",
       "      <td>POWER</td>\n",
       "      <td>10/6/2004</td>\n",
       "      <td>10/21/2004</td>\n",
       "      <td>16823.0</td>\n",
       "      <td>-120.211667</td>\n",
       "      <td>38.523333</td>\n",
       "      <td>2004</td>\n",
       "      <td>fod_fpa0</td>\n",
       "      <td>2023</td>\n",
       "      <td>2023-09-07</td>\n",
       "      <td>60.4371</td>\n",
       "      <td>243103.799966</td>\n",
       "      <td>-120.683333</td>\n",
       "      <td>36.566667</td>\n",
       "      <td>fire_data181</td>\n",
       "    </tr>\n",
       "    <tr>\n",
       "      <th>1</th>\n",
       "      <td>POWER</td>\n",
       "      <td>10/6/2004</td>\n",
       "      <td>10/21/2004</td>\n",
       "      <td>16823.0</td>\n",
       "      <td>-120.211667</td>\n",
       "      <td>38.523333</td>\n",
       "      <td>2004</td>\n",
       "      <td>fod_fpa0</td>\n",
       "      <td>2022</td>\n",
       "      <td>2022-09-06</td>\n",
       "      <td>133.7540</td>\n",
       "      <td>541281.652317</td>\n",
       "      <td>-119.516667</td>\n",
       "      <td>37.150000</td>\n",
       "      <td>fire_data353</td>\n",
       "    </tr>\n",
       "    <tr>\n",
       "      <th>2</th>\n",
       "      <td>POWER</td>\n",
       "      <td>10/6/2004</td>\n",
       "      <td>10/21/2004</td>\n",
       "      <td>16823.0</td>\n",
       "      <td>-120.211667</td>\n",
       "      <td>38.523333</td>\n",
       "      <td>2004</td>\n",
       "      <td>fod_fpa0</td>\n",
       "      <td>2022</td>\n",
       "      <td>2022-10-23</td>\n",
       "      <td>21.0131</td>\n",
       "      <td>85036.984789</td>\n",
       "      <td>-121.141667</td>\n",
       "      <td>38.358333</td>\n",
       "      <td>fire_data516</td>\n",
       "    </tr>\n",
       "    <tr>\n",
       "      <th>3</th>\n",
       "      <td>POWER</td>\n",
       "      <td>10/6/2004</td>\n",
       "      <td>10/21/2004</td>\n",
       "      <td>16823.0</td>\n",
       "      <td>-120.211667</td>\n",
       "      <td>38.523333</td>\n",
       "      <td>2004</td>\n",
       "      <td>fod_fpa0</td>\n",
       "      <td>2020</td>\n",
       "      <td>2020-07-11</td>\n",
       "      <td>151.5490</td>\n",
       "      <td>613298.938547</td>\n",
       "      <td>-119.516667</td>\n",
       "      <td>37.150000</td>\n",
       "      <td>fire_data1055</td>\n",
       "    </tr>\n",
       "    <tr>\n",
       "      <th>4</th>\n",
       "      <td>POWER</td>\n",
       "      <td>10/6/2004</td>\n",
       "      <td>10/21/2004</td>\n",
       "      <td>16823.0</td>\n",
       "      <td>-120.211667</td>\n",
       "      <td>38.523333</td>\n",
       "      <td>2004</td>\n",
       "      <td>fod_fpa0</td>\n",
       "      <td>2020</td>\n",
       "      <td>2020-05-29</td>\n",
       "      <td>17.0457</td>\n",
       "      <td>68981.331370</td>\n",
       "      <td>-114.600000</td>\n",
       "      <td>32.733333</td>\n",
       "      <td>fire_data1330</td>\n",
       "    </tr>\n",
       "  </tbody>\n",
       "</table>\n",
       "</div>"
      ],
      "text/plain": [
       "  FIRE_NAME DISCOVERY_DATE   CONT_DATE  FIRE_SIZE   LONGITUDE   LATITUDE  \\\n",
       "0     POWER      10/6/2004  10/21/2004    16823.0 -120.211667  38.523333   \n",
       "1     POWER      10/6/2004  10/21/2004    16823.0 -120.211667  38.523333   \n",
       "2     POWER      10/6/2004  10/21/2004    16823.0 -120.211667  38.523333   \n",
       "3     POWER      10/6/2004  10/21/2004    16823.0 -120.211667  38.523333   \n",
       "4     POWER      10/6/2004  10/21/2004    16823.0 -120.211667  38.523333   \n",
       "\n",
       "   FIRE_YEAR index_fpa_fod  YEAR_  ALARM_DATE  GIS_ACRES     Shape_Area  \\\n",
       "0       2004      fod_fpa0   2023  2023-09-07    60.4371  243103.799966   \n",
       "1       2004      fod_fpa0   2022  2022-09-06   133.7540  541281.652317   \n",
       "2       2004      fod_fpa0   2022  2022-10-23    21.0131   85036.984789   \n",
       "3       2004      fod_fpa0   2020  2020-07-11   151.5490  613298.938547   \n",
       "4       2004      fod_fpa0   2020  2020-05-29    17.0457   68981.331370   \n",
       "\n",
       "          lon        lat          index  \n",
       "0 -120.683333  36.566667   fire_data181  \n",
       "1 -119.516667  37.150000   fire_data353  \n",
       "2 -121.141667  38.358333   fire_data516  \n",
       "3 -119.516667  37.150000  fire_data1055  \n",
       "4 -114.600000  32.733333  fire_data1330  "
      ]
     },
     "execution_count": 249,
     "metadata": {},
     "output_type": "execute_result"
    }
   ],
   "source": [
    "merged_df = pd.merge(fod_fpa_sub, fire_data_sub, on='FIRE_NAME', suffixes=('_fpa_fod', ''), how='inner')\n",
    "merged_df.head()"
   ]
  },
  {
   "cell_type": "code",
   "execution_count": 250,
   "metadata": {},
   "outputs": [
    {
     "data": {
      "text/plain": [
       "(4463, 15)"
      ]
     },
     "execution_count": 250,
     "metadata": {},
     "output_type": "execute_result"
    }
   ],
   "source": [
    "merged_df.shape"
   ]
  },
  {
   "cell_type": "code",
   "execution_count": 251,
   "metadata": {},
   "outputs": [],
   "source": [
    "# assign DISCOVERY_DATE to datetime\n",
    "merged_df['DISCOVERY_DATE'] = pd.to_datetime(merged_df['DISCOVERY_DATE'])\n",
    "merged_df['ALARM_DATE'] = pd.to_datetime(merged_df['ALARM_DATE'])"
   ]
  },
  {
   "cell_type": "code",
   "execution_count": 252,
   "metadata": {},
   "outputs": [],
   "source": [
    "# filter rows where DISCOVERY_DATE and ALARM_DATE are the same or only 1 day apart\n",
    "merged_df['date_diff'] = (merged_df['ALARM_DATE'] - merged_df['DISCOVERY_DATE']).dt.days\n",
    "merged_df['date_diff'] = merged_df['date_diff'].abs()\n",
    "# calcuate the difference between FIRE_SIZE and GIS_ACRES\n",
    "merged_df['size_diff'] = (merged_df['FIRE_SIZE'] - merged_df['GIS_ACRES']).abs()"
   ]
  },
  {
   "cell_type": "code",
   "execution_count": 260,
   "metadata": {},
   "outputs": [],
   "source": [
    "# for each index_fpa_fod, only keep the row with the smallest date_diff\n",
    "matched_df = merged_df.sort_values('date_diff', ascending=True).groupby('index_fpa_fod').head(1)"
   ]
  },
  {
   "cell_type": "code",
   "execution_count": 261,
   "metadata": {},
   "outputs": [
    {
     "data": {
      "text/plain": [
       "(809, 17)"
      ]
     },
     "execution_count": 261,
     "metadata": {},
     "output_type": "execute_result"
    }
   ],
   "source": [
    "matched_df.shape"
   ]
  },
  {
   "cell_type": "code",
   "execution_count": 263,
   "metadata": {},
   "outputs": [],
   "source": [
    "matched_df['YEAR_'] = matched_df['YEAR_'].astype(int)\n",
    "matched_df['FIRE_YEAR'] = matched_df['FIRE_YEAR'].astype(int)\n",
    "matched_df['year_diff'] = (matched_df['YEAR_'] - matched_df['FIRE_YEAR']).abs()"
   ]
  },
  {
   "cell_type": "code",
   "execution_count": 264,
   "metadata": {},
   "outputs": [
    {
     "data": {
      "text/plain": [
       "year_diff\n",
       "0     748\n",
       "1      15\n",
       "3       9\n",
       "2       8\n",
       "8       6\n",
       "4       4\n",
       "6       4\n",
       "9       3\n",
       "15      3\n",
       "7       2\n",
       "13      2\n",
       "16      2\n",
       "10      1\n",
       "11      1\n",
       "19      1\n",
       "Name: count, dtype: int64"
      ]
     },
     "execution_count": 264,
     "metadata": {},
     "output_type": "execute_result"
    }
   ],
   "source": [
    "# value counts of year_diff\n",
    "matched_df['year_diff'].value_counts()"
   ]
  },
  {
   "cell_type": "code",
   "execution_count": 266,
   "metadata": {},
   "outputs": [
    {
     "data": {
      "text/plain": [
       "count        61.000000\n",
       "mean      10760.656847\n",
       "std       31809.716276\n",
       "min          47.275300\n",
       "25%         987.717500\n",
       "50%        1843.605000\n",
       "75%        4834.271440\n",
       "max      192556.200000\n",
       "Name: size_diff, dtype: float64"
      ]
     },
     "execution_count": 266,
     "metadata": {},
     "output_type": "execute_result"
    }
   ],
   "source": [
    "# check the range of size_diff when year_diff > 0\n",
    "matched_df[matched_df['year_diff'] > 0]['size_diff'].describe()"
   ]
  },
  {
   "cell_type": "code",
   "execution_count": 267,
   "metadata": {},
   "outputs": [],
   "source": [
    "# only keep rows where year_diff = 0\n",
    "matched_df = matched_df[matched_df['year_diff'] == 0]"
   ]
  },
  {
   "cell_type": "code",
   "execution_count": 268,
   "metadata": {},
   "outputs": [
    {
     "data": {
      "text/plain": [
       "(748, 18)"
      ]
     },
     "execution_count": 268,
     "metadata": {},
     "output_type": "execute_result"
    }
   ],
   "source": [
    "matched_df.shape"
   ]
  },
  {
   "cell_type": "code",
   "execution_count": 269,
   "metadata": {},
   "outputs": [
    {
     "data": {
      "text/plain": [
       "count    7.480000e+02\n",
       "mean     1.185271e+04\n",
       "std      9.724764e+04\n",
       "min      0.000000e+00\n",
       "25%      1.707500e+00\n",
       "50%      2.310000e+01\n",
       "75%      1.786500e+02\n",
       "max      1.031480e+06\n",
       "Name: size_diff, dtype: float64"
      ]
     },
     "execution_count": 269,
     "metadata": {},
     "output_type": "execute_result"
    }
   ],
   "source": [
    "# check the range of size_diff\n",
    "matched_df['size_diff'].describe()"
   ]
  },
  {
   "cell_type": "code",
   "execution_count": 270,
   "metadata": {},
   "outputs": [
    {
     "data": {
      "text/plain": [
       "22"
      ]
     },
     "execution_count": 270,
     "metadata": {},
     "output_type": "execute_result"
    }
   ],
   "source": [
    "matched_df['index'].duplicated().sum() # in original fire data, each row should only be matched once"
   ]
  },
  {
   "cell_type": "code",
   "execution_count": 271,
   "metadata": {},
   "outputs": [
    {
     "data": {
      "text/plain": [
       "['fire_data3412',\n",
       " 'fire_data1271',\n",
       " 'fire_data1197',\n",
       " 'fire_data1271',\n",
       " 'fire_data3579',\n",
       " 'fire_data2114',\n",
       " 'fire_data6153',\n",
       " 'fire_data1271',\n",
       " 'fire_data4930',\n",
       " 'fire_data1271',\n",
       " 'fire_data1271',\n",
       " 'fire_data1271',\n",
       " 'fire_data2665',\n",
       " 'fire_data1271',\n",
       " 'fire_data3220',\n",
       " 'fire_data2665',\n",
       " 'fire_data3344',\n",
       " 'fire_data5441',\n",
       " 'fire_data5441',\n",
       " 'fire_data2054',\n",
       " 'fire_data6182',\n",
       " 'fire_data2662']"
      ]
     },
     "execution_count": 271,
     "metadata": {},
     "output_type": "execute_result"
    }
   ],
   "source": [
    "duplicated_index = matched_df[matched_df['index'].duplicated()]['index'].tolist()\n",
    "duplicated_index"
   ]
  },
  {
   "cell_type": "code",
   "execution_count": 272,
   "metadata": {},
   "outputs": [
    {
     "data": {
      "text/html": [
       "<div>\n",
       "<style scoped>\n",
       "    .dataframe tbody tr th:only-of-type {\n",
       "        vertical-align: middle;\n",
       "    }\n",
       "\n",
       "    .dataframe tbody tr th {\n",
       "        vertical-align: top;\n",
       "    }\n",
       "\n",
       "    .dataframe thead th {\n",
       "        text-align: right;\n",
       "    }\n",
       "</style>\n",
       "<table border=\"1\" class=\"dataframe\">\n",
       "  <thead>\n",
       "    <tr style=\"text-align: right;\">\n",
       "      <th></th>\n",
       "      <th>FIRE_NAME</th>\n",
       "      <th>DISCOVERY_DATE</th>\n",
       "      <th>CONT_DATE</th>\n",
       "      <th>FIRE_SIZE</th>\n",
       "      <th>LONGITUDE</th>\n",
       "      <th>LATITUDE</th>\n",
       "      <th>FIRE_YEAR</th>\n",
       "      <th>index_fpa_fod</th>\n",
       "      <th>YEAR_</th>\n",
       "      <th>ALARM_DATE</th>\n",
       "      <th>GIS_ACRES</th>\n",
       "      <th>Shape_Area</th>\n",
       "      <th>lon</th>\n",
       "      <th>lat</th>\n",
       "      <th>index</th>\n",
       "      <th>date_diff</th>\n",
       "      <th>size_diff</th>\n",
       "      <th>year_diff</th>\n",
       "    </tr>\n",
       "  </thead>\n",
       "  <tbody>\n",
       "    <tr>\n",
       "      <th>2629</th>\n",
       "      <td>SHIELL</td>\n",
       "      <td>2015-07-30</td>\n",
       "      <td>10/30/2015</td>\n",
       "      <td>8669.0</td>\n",
       "      <td>-123.160556</td>\n",
       "      <td>40.495000</td>\n",
       "      <td>2015</td>\n",
       "      <td>fod_fpa708</td>\n",
       "      <td>2015</td>\n",
       "      <td>2015-07-30</td>\n",
       "      <td>15390.6</td>\n",
       "      <td>6.228375e+07</td>\n",
       "      <td>-123.016667</td>\n",
       "      <td>40.441667</td>\n",
       "      <td>fire_data3412</td>\n",
       "      <td>0.0</td>\n",
       "      <td>6721.6</td>\n",
       "      <td>0</td>\n",
       "    </tr>\n",
       "    <tr>\n",
       "      <th>2649</th>\n",
       "      <td>SHIELL</td>\n",
       "      <td>2015-07-30</td>\n",
       "      <td>10/30/2015</td>\n",
       "      <td>15378.0</td>\n",
       "      <td>-123.053889</td>\n",
       "      <td>40.465278</td>\n",
       "      <td>2015</td>\n",
       "      <td>fod_fpa710</td>\n",
       "      <td>2015</td>\n",
       "      <td>2015-07-30</td>\n",
       "      <td>15390.6</td>\n",
       "      <td>6.228375e+07</td>\n",
       "      <td>-123.016667</td>\n",
       "      <td>40.441667</td>\n",
       "      <td>fire_data3412</td>\n",
       "      <td>0.0</td>\n",
       "      <td>12.6</td>\n",
       "      <td>0</td>\n",
       "    </tr>\n",
       "  </tbody>\n",
       "</table>\n",
       "</div>"
      ],
      "text/plain": [
       "     FIRE_NAME DISCOVERY_DATE   CONT_DATE  FIRE_SIZE   LONGITUDE   LATITUDE  \\\n",
       "2629    SHIELL     2015-07-30  10/30/2015     8669.0 -123.160556  40.495000   \n",
       "2649    SHIELL     2015-07-30  10/30/2015    15378.0 -123.053889  40.465278   \n",
       "\n",
       "      FIRE_YEAR index_fpa_fod  YEAR_ ALARM_DATE  GIS_ACRES    Shape_Area  \\\n",
       "2629       2015    fod_fpa708   2015 2015-07-30    15390.6  6.228375e+07   \n",
       "2649       2015    fod_fpa710   2015 2015-07-30    15390.6  6.228375e+07   \n",
       "\n",
       "             lon        lat          index  date_diff  size_diff  year_diff  \n",
       "2629 -123.016667  40.441667  fire_data3412        0.0     6721.6          0  \n",
       "2649 -123.016667  40.441667  fire_data3412        0.0       12.6          0  "
      ]
     },
     "execution_count": 272,
     "metadata": {},
     "output_type": "execute_result"
    }
   ],
   "source": [
    "matched_df[matched_df['index'] == \"fire_data3412\"]"
   ]
  },
  {
   "cell_type": "code",
   "execution_count": 273,
   "metadata": {},
   "outputs": [
    {
     "data": {
      "text/plain": [
       "(748, 18)"
      ]
     },
     "execution_count": 273,
     "metadata": {},
     "output_type": "execute_result"
    }
   ],
   "source": [
    "matched_df.shape"
   ]
  },
  {
   "cell_type": "code",
   "execution_count": 274,
   "metadata": {},
   "outputs": [
    {
     "data": {
      "text/plain": [
       "(726, 18)"
      ]
     },
     "execution_count": 274,
     "metadata": {},
     "output_type": "execute_result"
    }
   ],
   "source": [
    "# for each index, only keep the row with the smallest size_diff\n",
    "matched_df = matched_df.sort_values('size_diff', ascending=True).groupby('index').head(1)\n",
    "matched_df.shape"
   ]
  },
  {
   "cell_type": "code",
   "execution_count": 275,
   "metadata": {},
   "outputs": [
    {
     "data": {
      "text/plain": [
       "count       726.000000\n",
       "mean       1267.312960\n",
       "std       16743.956465\n",
       "min           0.000000\n",
       "25%           1.632500\n",
       "50%          20.435000\n",
       "75%         158.972500\n",
       "max      443332.000000\n",
       "Name: size_diff, dtype: float64"
      ]
     },
     "execution_count": 275,
     "metadata": {},
     "output_type": "execute_result"
    }
   ],
   "source": [
    "matched_df['size_diff'].describe()"
   ]
  },
  {
   "cell_type": "code",
   "execution_count": 278,
   "metadata": {},
   "outputs": [
    {
     "data": {
      "text/plain": [
       "0"
      ]
     },
     "execution_count": 278,
     "metadata": {},
     "output_type": "execute_result"
    }
   ],
   "source": [
    "# confirm both index are unique\n",
    "matched_df['index'].duplicated().sum()"
   ]
  },
  {
   "cell_type": "code",
   "execution_count": 279,
   "metadata": {},
   "outputs": [
    {
     "data": {
      "text/plain": [
       "0"
      ]
     },
     "execution_count": 279,
     "metadata": {},
     "output_type": "execute_result"
    }
   ],
   "source": [
    "matched_df['index_fpa_fod'].duplicated().sum()"
   ]
  },
  {
   "cell_type": "code",
   "execution_count": 276,
   "metadata": {},
   "outputs": [],
   "source": [
    "# order by size_diff\n",
    "matched_df = matched_df.sort_values('size_diff', ascending=False)"
   ]
  },
  {
   "cell_type": "code",
   "execution_count": 287,
   "metadata": {},
   "outputs": [
    {
     "data": {
      "text/plain": [
       "Index(['YEAR_', 'STATE', 'AGENCY', 'UNIT_ID', 'FIRE_NAME', 'INC_NUM',\n",
       "       'IRWINID', 'ALARM_DATE', 'CONT_DATE', 'C_METHOD', 'CAUSE', 'OBJECTIVE',\n",
       "       'GIS_ACRES', 'COMPLEX_NA', 'COMPLEX_ID', 'COMMENTS', 'FIRE_NUM',\n",
       "       'Shape_Leng', 'Shape_Area', 'lon', 'lat', 'distance'],\n",
       "      dtype='object')"
      ]
     },
     "execution_count": 287,
     "metadata": {},
     "output_type": "execute_result"
    }
   ],
   "source": [
    "fire_data.columns"
   ]
  },
  {
   "cell_type": "code",
   "execution_count": 300,
   "metadata": {},
   "outputs": [
    {
     "data": {
      "text/html": [
       "<div>\n",
       "<style scoped>\n",
       "    .dataframe tbody tr th:only-of-type {\n",
       "        vertical-align: middle;\n",
       "    }\n",
       "\n",
       "    .dataframe tbody tr th {\n",
       "        vertical-align: top;\n",
       "    }\n",
       "\n",
       "    .dataframe thead th {\n",
       "        text-align: right;\n",
       "    }\n",
       "</style>\n",
       "<table border=\"1\" class=\"dataframe\">\n",
       "  <thead>\n",
       "    <tr style=\"text-align: right;\">\n",
       "      <th></th>\n",
       "      <th>AGENCY</th>\n",
       "      <th>UNIT_ID</th>\n",
       "      <th>FIRE_NAME</th>\n",
       "      <th>INC_NUM</th>\n",
       "      <th>IRWINID</th>\n",
       "      <th>ALARM_DATE</th>\n",
       "      <th>CONT_DATE</th>\n",
       "      <th>GIS_ACRES</th>\n",
       "      <th>Shape_Leng</th>\n",
       "      <th>Shape_Area</th>\n",
       "      <th>lon</th>\n",
       "      <th>lat</th>\n",
       "      <th>distance</th>\n",
       "    </tr>\n",
       "  </thead>\n",
       "  <tbody>\n",
       "    <tr>\n",
       "      <th>1271</th>\n",
       "      <td>USF</td>\n",
       "      <td>MNF</td>\n",
       "      <td>AUGUST COMPLEX</td>\n",
       "      <td>00000753</td>\n",
       "      <td>{EE343B88-0ADB-4C25-B744-6B4CE9DCC6DA}</td>\n",
       "      <td>2020-08-16</td>\n",
       "      <td>2020-11-11</td>\n",
       "      <td>1032700.0</td>\n",
       "      <td>1.298407e+06</td>\n",
       "      <td>4.179187e+09</td>\n",
       "      <td>-123.016667</td>\n",
       "      <td>39.941667</td>\n",
       "      <td>1.983027</td>\n",
       "    </tr>\n",
       "  </tbody>\n",
       "</table>\n",
       "</div>"
      ],
      "text/plain": [
       "     AGENCY UNIT_ID       FIRE_NAME   INC_NUM  \\\n",
       "1271    USF     MNF  AUGUST COMPLEX  00000753   \n",
       "\n",
       "                                     IRWINID  ALARM_DATE   CONT_DATE  \\\n",
       "1271  {EE343B88-0ADB-4C25-B744-6B4CE9DCC6DA}  2020-08-16  2020-11-11   \n",
       "\n",
       "      GIS_ACRES    Shape_Leng    Shape_Area         lon        lat  distance  \n",
       "1271  1032700.0  1.298407e+06  4.179187e+09 -123.016667  39.941667  1.983027  "
      ]
     },
     "execution_count": 300,
     "metadata": {},
     "output_type": "execute_result"
    }
   ],
   "source": [
    "# in fire_data, show rows w FIRE_NAME  == AUGUST COMPLEX\n",
    "col_to_show  = ['AGENCY', 'UNIT_ID', 'FIRE_NAME', 'INC_NUM',\n",
    "       'IRWINID', 'ALARM_DATE', 'CONT_DATE', 'GIS_ACRES', \n",
    "       'Shape_Leng', 'Shape_Area', 'lon', 'lat', 'distance']\t\n",
    "fire_data[fire_data['FIRE_NAME'] == 'AUGUST COMPLEX'][col_to_show]"
   ]
  },
  {
   "cell_type": "code",
   "execution_count": 291,
   "metadata": {},
   "outputs": [
    {
     "data": {
      "text/plain": [
       "Index(['OBJECTID', 'FOD_ID', 'FPA_ID', 'SOURCE_SYSTEM_TYPE', 'SOURCE_SYSTEM',\n",
       "       'NWCG_REPORTING_AGENCY', 'NWCG_REPORTING_UNIT_ID',\n",
       "       'NWCG_REPORTING_UNIT_NAME', 'SOURCE_REPORTING_UNIT_NAME',\n",
       "       'LOCAL_FIRE_REPORT_ID', 'FIRE_CODE', 'FIRE_NAME',\n",
       "       'ICS_209_PLUS_INCIDENT_JOIN_ID', 'ICS_209_PLUS_COMPLEX_JOIN_ID',\n",
       "       'MTBS_ID', 'MTBS_FIRE_NAME', 'COMPLEX_NAME', 'FIRE_YEAR',\n",
       "       'DISCOVERY_DATE', 'DISCOVERY_DOY', 'NWCG_CAUSE_CLASSIFICATION',\n",
       "       'NWCG_GENERAL_CAUSE', 'NWCG_CAUSE_AGE_CATEGORY', 'CONT_DATE',\n",
       "       'CONT_DOY', 'FIRE_SIZE', 'FIRE_SIZE_CLASS', 'LATITUDE', 'LONGITUDE',\n",
       "       'OWNER_DESCR', 'STATE', 'COUNTY', 'FIPS_NAME'],\n",
       "      dtype='object')"
      ]
     },
     "execution_count": 291,
     "metadata": {},
     "output_type": "execute_result"
    }
   ],
   "source": [
    "fod_fpa.columns"
   ]
  },
  {
   "cell_type": "code",
   "execution_count": 299,
   "metadata": {},
   "outputs": [
    {
     "data": {
      "text/html": [
       "<div>\n",
       "<style scoped>\n",
       "    .dataframe tbody tr th:only-of-type {\n",
       "        vertical-align: middle;\n",
       "    }\n",
       "\n",
       "    .dataframe tbody tr th {\n",
       "        vertical-align: top;\n",
       "    }\n",
       "\n",
       "    .dataframe thead th {\n",
       "        text-align: right;\n",
       "    }\n",
       "</style>\n",
       "<table border=\"1\" class=\"dataframe\">\n",
       "  <thead>\n",
       "    <tr style=\"text-align: right;\">\n",
       "      <th></th>\n",
       "      <th>NWCG_REPORTING_UNIT_ID</th>\n",
       "      <th>NWCG_REPORTING_UNIT_NAME</th>\n",
       "      <th>SOURCE_REPORTING_UNIT_NAME</th>\n",
       "      <th>FIRE_NAME</th>\n",
       "      <th>ICS_209_PLUS_INCIDENT_JOIN_ID</th>\n",
       "      <th>MTBS_FIRE_NAME</th>\n",
       "      <th>DISCOVERY_DATE</th>\n",
       "      <th>NWCG_GENERAL_CAUSE</th>\n",
       "      <th>CONT_DATE</th>\n",
       "      <th>CONT_DOY</th>\n",
       "      <th>FIRE_SIZE</th>\n",
       "      <th>FIRE_SIZE_CLASS</th>\n",
       "      <th>LATITUDE</th>\n",
       "      <th>LONGITUDE</th>\n",
       "      <th>OWNER_DESCR</th>\n",
       "    </tr>\n",
       "  </thead>\n",
       "  <tbody>\n",
       "    <tr>\n",
       "      <th>1019</th>\n",
       "      <td>USCASHF</td>\n",
       "      <td>Shasta-Trinity National Forest</td>\n",
       "      <td>Shasta-Trinity National Forest</td>\n",
       "      <td>SHF ELKHORN</td>\n",
       "      <td>2020_11923345_SHF ELKHORN</td>\n",
       "      <td>AUGUST COMPLEX</td>\n",
       "      <td>8/18/2020</td>\n",
       "      <td>Natural</td>\n",
       "      <td>NaN</td>\n",
       "      <td>NaN</td>\n",
       "      <td>51576.70</td>\n",
       "      <td>G</td>\n",
       "      <td>40.096175</td>\n",
       "      <td>-122.734014</td>\n",
       "      <td>PRIVATE</td>\n",
       "    </tr>\n",
       "    <tr>\n",
       "      <th>1020</th>\n",
       "      <td>USCAMNF</td>\n",
       "      <td>Mendocino National Forest</td>\n",
       "      <td>Mendocino National Forest</td>\n",
       "      <td>DOE</td>\n",
       "      <td>2020_11885771_DOE</td>\n",
       "      <td>AUGUST COMPLEX</td>\n",
       "      <td>8/16/2020</td>\n",
       "      <td>Natural</td>\n",
       "      <td>11/11/2020</td>\n",
       "      <td>316.0</td>\n",
       "      <td>589368.00</td>\n",
       "      <td>G</td>\n",
       "      <td>39.765255</td>\n",
       "      <td>-122.672914</td>\n",
       "      <td>USFS</td>\n",
       "    </tr>\n",
       "    <tr>\n",
       "      <th>1021</th>\n",
       "      <td>USCAMNF</td>\n",
       "      <td>Mendocino National Forest</td>\n",
       "      <td>Mendocino National Forest</td>\n",
       "      <td>GLADE</td>\n",
       "      <td>2020_11843929_AUGUST COMPLEX</td>\n",
       "      <td>AUGUST COMPLEX</td>\n",
       "      <td>8/19/2020</td>\n",
       "      <td>Natural</td>\n",
       "      <td>NaN</td>\n",
       "      <td>NaN</td>\n",
       "      <td>26196.70</td>\n",
       "      <td>G</td>\n",
       "      <td>39.944075</td>\n",
       "      <td>-122.916814</td>\n",
       "      <td>USFS</td>\n",
       "    </tr>\n",
       "    <tr>\n",
       "      <th>1023</th>\n",
       "      <td>USCAMNF</td>\n",
       "      <td>Mendocino National Forest</td>\n",
       "      <td>Mendocino National Forest</td>\n",
       "      <td>CORBIN</td>\n",
       "      <td>2020_11843929_AUGUST COMPLEX</td>\n",
       "      <td>AUGUST COMPLEX</td>\n",
       "      <td>8/16/2020</td>\n",
       "      <td>Natural</td>\n",
       "      <td>NaN</td>\n",
       "      <td>NaN</td>\n",
       "      <td>6061.25</td>\n",
       "      <td>G</td>\n",
       "      <td>39.544815</td>\n",
       "      <td>-122.742813</td>\n",
       "      <td>USFS</td>\n",
       "    </tr>\n",
       "    <tr>\n",
       "      <th>1024</th>\n",
       "      <td>USCAMNF</td>\n",
       "      <td>Mendocino National Forest</td>\n",
       "      <td>Mendocino National Forest</td>\n",
       "      <td>HULL</td>\n",
       "      <td>2020_11873463_HULL</td>\n",
       "      <td>AUGUST COMPLEX</td>\n",
       "      <td>8/19/2020</td>\n",
       "      <td>Natural</td>\n",
       "      <td>NaN</td>\n",
       "      <td>NaN</td>\n",
       "      <td>12283.80</td>\n",
       "      <td>G</td>\n",
       "      <td>39.536375</td>\n",
       "      <td>-122.938913</td>\n",
       "      <td>USFS</td>\n",
       "    </tr>\n",
       "    <tr>\n",
       "      <th>1025</th>\n",
       "      <td>USCAMNF</td>\n",
       "      <td>Mendocino National Forest</td>\n",
       "      <td>Mendocino National Forest</td>\n",
       "      <td>PINE KOP</td>\n",
       "      <td>2020_11843929_AUGUST COMPLEX</td>\n",
       "      <td>AUGUST COMPLEX</td>\n",
       "      <td>8/16/2020</td>\n",
       "      <td>Natural</td>\n",
       "      <td>11/11/2020</td>\n",
       "      <td>316.0</td>\n",
       "      <td>1221.90</td>\n",
       "      <td>F</td>\n",
       "      <td>39.596394</td>\n",
       "      <td>-122.747513</td>\n",
       "      <td>USFS</td>\n",
       "    </tr>\n",
       "    <tr>\n",
       "      <th>1026</th>\n",
       "      <td>USCAMNF</td>\n",
       "      <td>Mendocino National Forest</td>\n",
       "      <td>Mendocino National Forest</td>\n",
       "      <td>HOPKINS</td>\n",
       "      <td>2020_11923345_SHF ELKHORN</td>\n",
       "      <td>AUGUST COMPLEX</td>\n",
       "      <td>8/17/2020</td>\n",
       "      <td>Natural</td>\n",
       "      <td>NaN</td>\n",
       "      <td>NaN</td>\n",
       "      <td>328363.00</td>\n",
       "      <td>G</td>\n",
       "      <td>40.125375</td>\n",
       "      <td>-123.072714</td>\n",
       "      <td>USFS</td>\n",
       "    </tr>\n",
       "    <tr>\n",
       "      <th>1027</th>\n",
       "      <td>USCAMNF</td>\n",
       "      <td>Mendocino National Forest</td>\n",
       "      <td>Mendocino National Forest</td>\n",
       "      <td>WILLOW BASIN</td>\n",
       "      <td>2020_11923345_SHF ELKHORN</td>\n",
       "      <td>AUGUST COMPLEX</td>\n",
       "      <td>8/19/2020</td>\n",
       "      <td>Natural</td>\n",
       "      <td>NaN</td>\n",
       "      <td>NaN</td>\n",
       "      <td>1220.00</td>\n",
       "      <td>F</td>\n",
       "      <td>40.087235</td>\n",
       "      <td>-122.984014</td>\n",
       "      <td>USFS</td>\n",
       "    </tr>\n",
       "  </tbody>\n",
       "</table>\n",
       "</div>"
      ],
      "text/plain": [
       "     NWCG_REPORTING_UNIT_ID        NWCG_REPORTING_UNIT_NAME  \\\n",
       "1019                USCASHF  Shasta-Trinity National Forest   \n",
       "1020                USCAMNF       Mendocino National Forest   \n",
       "1021                USCAMNF       Mendocino National Forest   \n",
       "1023                USCAMNF       Mendocino National Forest   \n",
       "1024                USCAMNF       Mendocino National Forest   \n",
       "1025                USCAMNF       Mendocino National Forest   \n",
       "1026                USCAMNF       Mendocino National Forest   \n",
       "1027                USCAMNF       Mendocino National Forest   \n",
       "\n",
       "          SOURCE_REPORTING_UNIT_NAME     FIRE_NAME  \\\n",
       "1019  Shasta-Trinity National Forest   SHF ELKHORN   \n",
       "1020       Mendocino National Forest           DOE   \n",
       "1021       Mendocino National Forest         GLADE   \n",
       "1023       Mendocino National Forest        CORBIN   \n",
       "1024       Mendocino National Forest          HULL   \n",
       "1025       Mendocino National Forest      PINE KOP   \n",
       "1026       Mendocino National Forest       HOPKINS   \n",
       "1027       Mendocino National Forest  WILLOW BASIN   \n",
       "\n",
       "     ICS_209_PLUS_INCIDENT_JOIN_ID  MTBS_FIRE_NAME DISCOVERY_DATE  \\\n",
       "1019     2020_11923345_SHF ELKHORN  AUGUST COMPLEX      8/18/2020   \n",
       "1020             2020_11885771_DOE  AUGUST COMPLEX      8/16/2020   \n",
       "1021  2020_11843929_AUGUST COMPLEX  AUGUST COMPLEX      8/19/2020   \n",
       "1023  2020_11843929_AUGUST COMPLEX  AUGUST COMPLEX      8/16/2020   \n",
       "1024            2020_11873463_HULL  AUGUST COMPLEX      8/19/2020   \n",
       "1025  2020_11843929_AUGUST COMPLEX  AUGUST COMPLEX      8/16/2020   \n",
       "1026     2020_11923345_SHF ELKHORN  AUGUST COMPLEX      8/17/2020   \n",
       "1027     2020_11923345_SHF ELKHORN  AUGUST COMPLEX      8/19/2020   \n",
       "\n",
       "     NWCG_GENERAL_CAUSE   CONT_DATE  CONT_DOY  FIRE_SIZE FIRE_SIZE_CLASS  \\\n",
       "1019            Natural         NaN       NaN   51576.70               G   \n",
       "1020            Natural  11/11/2020     316.0  589368.00               G   \n",
       "1021            Natural         NaN       NaN   26196.70               G   \n",
       "1023            Natural         NaN       NaN    6061.25               G   \n",
       "1024            Natural         NaN       NaN   12283.80               G   \n",
       "1025            Natural  11/11/2020     316.0    1221.90               F   \n",
       "1026            Natural         NaN       NaN  328363.00               G   \n",
       "1027            Natural         NaN       NaN    1220.00               F   \n",
       "\n",
       "       LATITUDE   LONGITUDE OWNER_DESCR  \n",
       "1019  40.096175 -122.734014     PRIVATE  \n",
       "1020  39.765255 -122.672914        USFS  \n",
       "1021  39.944075 -122.916814        USFS  \n",
       "1023  39.544815 -122.742813        USFS  \n",
       "1024  39.536375 -122.938913        USFS  \n",
       "1025  39.596394 -122.747513        USFS  \n",
       "1026  40.125375 -123.072714        USFS  \n",
       "1027  40.087235 -122.984014        USFS  "
      ]
     },
     "execution_count": 299,
     "metadata": {},
     "output_type": "execute_result"
    }
   ],
   "source": [
    "col_to_show  = [ 'NWCG_REPORTING_UNIT_ID',\n",
    "       'NWCG_REPORTING_UNIT_NAME', 'SOURCE_REPORTING_UNIT_NAME',\n",
    "       'FIRE_NAME',\n",
    "       'ICS_209_PLUS_INCIDENT_JOIN_ID', \n",
    "        'MTBS_FIRE_NAME', \n",
    "       'DISCOVERY_DATE', \n",
    "       'NWCG_GENERAL_CAUSE', 'CONT_DATE',\n",
    "       'CONT_DOY', 'FIRE_SIZE', 'FIRE_SIZE_CLASS', 'LATITUDE', 'LONGITUDE',\n",
    "       'OWNER_DESCR']\n",
    "fod_fpa[fod_fpa['MTBS_FIRE_NAME'] == 'AUGUST COMPLEX'][col_to_show]"
   ]
  },
  {
   "cell_type": "code",
   "execution_count": 277,
   "metadata": {},
   "outputs": [
    {
     "data": {
      "text/html": [
       "<div>\n",
       "<style scoped>\n",
       "    .dataframe tbody tr th:only-of-type {\n",
       "        vertical-align: middle;\n",
       "    }\n",
       "\n",
       "    .dataframe tbody tr th {\n",
       "        vertical-align: top;\n",
       "    }\n",
       "\n",
       "    .dataframe thead th {\n",
       "        text-align: right;\n",
       "    }\n",
       "</style>\n",
       "<table border=\"1\" class=\"dataframe\">\n",
       "  <thead>\n",
       "    <tr style=\"text-align: right;\">\n",
       "      <th></th>\n",
       "      <th>FIRE_NAME</th>\n",
       "      <th>DISCOVERY_DATE</th>\n",
       "      <th>CONT_DATE</th>\n",
       "      <th>FIRE_SIZE</th>\n",
       "      <th>LONGITUDE</th>\n",
       "      <th>LATITUDE</th>\n",
       "      <th>FIRE_YEAR</th>\n",
       "      <th>index_fpa_fod</th>\n",
       "      <th>YEAR_</th>\n",
       "      <th>ALARM_DATE</th>\n",
       "      <th>GIS_ACRES</th>\n",
       "      <th>Shape_Area</th>\n",
       "      <th>lon</th>\n",
       "      <th>lat</th>\n",
       "      <th>index</th>\n",
       "      <th>date_diff</th>\n",
       "      <th>size_diff</th>\n",
       "      <th>year_diff</th>\n",
       "    </tr>\n",
       "  </thead>\n",
       "  <tbody>\n",
       "    <tr>\n",
       "      <th>4328</th>\n",
       "      <td>AUGUST COMPLEX</td>\n",
       "      <td>2020-08-16</td>\n",
       "      <td>11/11/2020</td>\n",
       "      <td>589368.0</td>\n",
       "      <td>-122.672914</td>\n",
       "      <td>39.765255</td>\n",
       "      <td>2020</td>\n",
       "      <td>fod_fpa1020</td>\n",
       "      <td>2020</td>\n",
       "      <td>2020-08-16</td>\n",
       "      <td>1.032700e+06</td>\n",
       "      <td>4.179187e+09</td>\n",
       "      <td>-123.016667</td>\n",
       "      <td>39.941667</td>\n",
       "      <td>fire_data1271</td>\n",
       "      <td>0.0</td>\n",
       "      <td>443332.0000</td>\n",
       "      <td>0</td>\n",
       "    </tr>\n",
       "    <tr>\n",
       "      <th>3035</th>\n",
       "      <td>OAK</td>\n",
       "      <td>2017-08-11</td>\n",
       "      <td>NaN</td>\n",
       "      <td>45403.0</td>\n",
       "      <td>-123.475000</td>\n",
       "      <td>41.786389</td>\n",
       "      <td>2017</td>\n",
       "      <td>fod_fpa781</td>\n",
       "      <td>2017</td>\n",
       "      <td>2017-08-11</td>\n",
       "      <td>9.112530e+04</td>\n",
       "      <td>3.687711e+08</td>\n",
       "      <td>-123.600000</td>\n",
       "      <td>41.733333</td>\n",
       "      <td>fire_data2665</td>\n",
       "      <td>0.0</td>\n",
       "      <td>45722.3000</td>\n",
       "      <td>0</td>\n",
       "    </tr>\n",
       "    <tr>\n",
       "      <th>2146</th>\n",
       "      <td>NORTH PASS</td>\n",
       "      <td>2012-08-18</td>\n",
       "      <td>10/16/2012</td>\n",
       "      <td>41983.0</td>\n",
       "      <td>-123.129167</td>\n",
       "      <td>39.866111</td>\n",
       "      <td>2012</td>\n",
       "      <td>fod_fpa589</td>\n",
       "      <td>2012</td>\n",
       "      <td>2012-08-18</td>\n",
       "      <td>5.369700e+00</td>\n",
       "      <td>2.173039e+04</td>\n",
       "      <td>-123.016667</td>\n",
       "      <td>39.900000</td>\n",
       "      <td>fire_data4243</td>\n",
       "      <td>0.0</td>\n",
       "      <td>41977.6303</td>\n",
       "      <td>0</td>\n",
       "    </tr>\n",
       "    <tr>\n",
       "      <th>274</th>\n",
       "      <td>WITCH</td>\n",
       "      <td>2007-10-21</td>\n",
       "      <td>10/31/2007</td>\n",
       "      <td>197990.0</td>\n",
       "      <td>-116.711111</td>\n",
       "      <td>33.074444</td>\n",
       "      <td>2007</td>\n",
       "      <td>fod_fpa61</td>\n",
       "      <td>2007</td>\n",
       "      <td>2007-10-21</td>\n",
       "      <td>1.620700e+05</td>\n",
       "      <td>6.558759e+08</td>\n",
       "      <td>-116.850000</td>\n",
       "      <td>33.066667</td>\n",
       "      <td>fire_data5879</td>\n",
       "      <td>0.0</td>\n",
       "      <td>35920.0000</td>\n",
       "      <td>0</td>\n",
       "    </tr>\n",
       "    <tr>\n",
       "      <th>2669</th>\n",
       "      <td>LAKE</td>\n",
       "      <td>2015-06-17</td>\n",
       "      <td>NaN</td>\n",
       "      <td>51000.0</td>\n",
       "      <td>-116.900833</td>\n",
       "      <td>34.156944</td>\n",
       "      <td>2015</td>\n",
       "      <td>fod_fpa719</td>\n",
       "      <td>2015</td>\n",
       "      <td>2015-06-17</td>\n",
       "      <td>3.128440e+04</td>\n",
       "      <td>1.266036e+08</td>\n",
       "      <td>-116.766667</td>\n",
       "      <td>34.150000</td>\n",
       "      <td>fire_data3354</td>\n",
       "      <td>0.0</td>\n",
       "      <td>19715.6000</td>\n",
       "      <td>0</td>\n",
       "    </tr>\n",
       "  </tbody>\n",
       "</table>\n",
       "</div>"
      ],
      "text/plain": [
       "           FIRE_NAME DISCOVERY_DATE   CONT_DATE  FIRE_SIZE   LONGITUDE  \\\n",
       "4328  AUGUST COMPLEX     2020-08-16  11/11/2020   589368.0 -122.672914   \n",
       "3035             OAK     2017-08-11         NaN    45403.0 -123.475000   \n",
       "2146      NORTH PASS     2012-08-18  10/16/2012    41983.0 -123.129167   \n",
       "274            WITCH     2007-10-21  10/31/2007   197990.0 -116.711111   \n",
       "2669            LAKE     2015-06-17         NaN    51000.0 -116.900833   \n",
       "\n",
       "       LATITUDE  FIRE_YEAR index_fpa_fod  YEAR_ ALARM_DATE     GIS_ACRES  \\\n",
       "4328  39.765255       2020   fod_fpa1020   2020 2020-08-16  1.032700e+06   \n",
       "3035  41.786389       2017    fod_fpa781   2017 2017-08-11  9.112530e+04   \n",
       "2146  39.866111       2012    fod_fpa589   2012 2012-08-18  5.369700e+00   \n",
       "274   33.074444       2007     fod_fpa61   2007 2007-10-21  1.620700e+05   \n",
       "2669  34.156944       2015    fod_fpa719   2015 2015-06-17  3.128440e+04   \n",
       "\n",
       "        Shape_Area         lon        lat          index  date_diff  \\\n",
       "4328  4.179187e+09 -123.016667  39.941667  fire_data1271        0.0   \n",
       "3035  3.687711e+08 -123.600000  41.733333  fire_data2665        0.0   \n",
       "2146  2.173039e+04 -123.016667  39.900000  fire_data4243        0.0   \n",
       "274   6.558759e+08 -116.850000  33.066667  fire_data5879        0.0   \n",
       "2669  1.266036e+08 -116.766667  34.150000  fire_data3354        0.0   \n",
       "\n",
       "        size_diff  year_diff  \n",
       "4328  443332.0000          0  \n",
       "3035   45722.3000          0  \n",
       "2146   41977.6303          0  \n",
       "274    35920.0000          0  \n",
       "2669   19715.6000          0  "
      ]
     },
     "execution_count": 277,
     "metadata": {},
     "output_type": "execute_result"
    }
   ],
   "source": [
    "matched_df.head()"
   ]
  },
  {
   "cell_type": "code",
   "execution_count": 301,
   "metadata": {},
   "outputs": [
    {
     "data": {
      "text/plain": [
       "(726, 18)"
      ]
     },
     "execution_count": 301,
     "metadata": {},
     "output_type": "execute_result"
    }
   ],
   "source": [
    "matched_df.shape"
   ]
  },
  {
   "cell_type": "code",
   "execution_count": 303,
   "metadata": {},
   "outputs": [
    {
     "data": {
      "text/plain": [
       "(2818, 22)"
      ]
     },
     "execution_count": 303,
     "metadata": {},
     "output_type": "execute_result"
    }
   ],
   "source": [
    "# check # of rows in fire_data that have GIS_ACRES > 100\n",
    "fire_data[fire_data['GIS_ACRES'] > 100].shape"
   ]
  },
  {
   "cell_type": "code",
   "execution_count": 304,
   "metadata": {},
   "outputs": [
    {
     "data": {
      "text/plain": [
       "(711, 18)"
      ]
     },
     "execution_count": 304,
     "metadata": {},
     "output_type": "execute_result"
    }
   ],
   "source": [
    "# check # of rows in matched_df that have GIS_ACRES > 100\n",
    "matched_df[matched_df['GIS_ACRES'] > 100].shape"
   ]
  },
  {
   "cell_type": "code",
   "execution_count": 321,
   "metadata": {},
   "outputs": [
    {
     "data": {
      "text/plain": [
       "count    7.260000e+02\n",
       "mean     1.712262e+04\n",
       "std      5.526208e+04\n",
       "min      2.579980e+00\n",
       "0%       2.579980e+00\n",
       "10%      1.020160e+03\n",
       "25%      1.508438e+03\n",
       "50%      3.118740e+03\n",
       "75%      1.114065e+04\n",
       "90%      3.702410e+04\n",
       "100%     1.032700e+06\n",
       "max      1.032700e+06\n",
       "Name: GIS_ACRES, dtype: float64"
      ]
     },
     "execution_count": 321,
     "metadata": {},
     "output_type": "execute_result"
    }
   ],
   "source": [
    "# check description of GIS_ACRES in fire_data, get quantile 0, 0.1, 0.25, 0.5, 0.75, 0.9, 1\n",
    "matched_df['GIS_ACRES'].describe(percentiles=[0, 0.1, 0.25, 0.5, 0.75, 0.9, 1])"
   ]
  },
  {
   "cell_type": "code",
   "execution_count": 322,
   "metadata": {},
   "outputs": [
    {
     "data": {
      "text/plain": [
       "0.9793388429752066"
      ]
     },
     "execution_count": 322,
     "metadata": {},
     "output_type": "execute_result"
    }
   ],
   "source": [
    "711/len(matched_df)"
   ]
  },
  {
   "cell_type": "code",
   "execution_count": 312,
   "metadata": {},
   "outputs": [],
   "source": [
    "def big_fire_pct(cutoff):\n",
    "    # check # of rows in fire_data that have GIS_ACRES > cutoff\n",
    "    n_fire_data_big = fire_data[fire_data['GIS_ACRES'] > cutoff].shape[0]\n",
    "    # check # of rows in matched_df that have GIS_ACRES > cutoff\n",
    "    n_matched_big = matched_df[matched_df['GIS_ACRES'] > cutoff].shape[0]\n",
    "    # calculate the percentage\n",
    "    pct = n_matched_big / n_fire_data_big * 100\n",
    "    # print the sentence to summary n_matched_big and n_fire_data_big\n",
    "    print(f'{n_matched_big} fires in matched_df have GIS_ACRES > {cutoff}')\n",
    "    print(f'{n_fire_data_big} fires in fire_data have GIS_ACRES > {cutoff}')\n",
    "    # return the percentage in a sentence\n",
    "    return f'{pct:.2f}% of fires in fire_data have GIS_ACRES > {cutoff}'"
   ]
  },
  {
   "cell_type": "code",
   "execution_count": 313,
   "metadata": {},
   "outputs": [
    {
     "name": "stdout",
     "output_type": "stream",
     "text": [
      "711 fires in matched_df have GIS_ACRES > 100\n",
      "2818 fires in fire_data have GIS_ACRES > 100\n"
     ]
    },
    {
     "data": {
      "text/plain": [
       "'25.23% of fires in fire_data have GIS_ACRES > 100'"
      ]
     },
     "execution_count": 313,
     "metadata": {},
     "output_type": "execute_result"
    }
   ],
   "source": [
    "big_fire_pct(100)"
   ]
  },
  {
   "cell_type": "code",
   "execution_count": 314,
   "metadata": {},
   "outputs": [
    {
     "name": "stdout",
     "output_type": "stream",
     "text": [
      "663 fires in matched_df have GIS_ACRES > 1000\n",
      "1023 fires in fire_data have GIS_ACRES > 1000\n"
     ]
    },
    {
     "data": {
      "text/plain": [
       "'64.81% of fires in fire_data have GIS_ACRES > 1000'"
      ]
     },
     "execution_count": 314,
     "metadata": {},
     "output_type": "execute_result"
    }
   ],
   "source": [
    "big_fire_pct(1000)"
   ]
  },
  {
   "cell_type": "code",
   "execution_count": 315,
   "metadata": {},
   "outputs": [
    {
     "name": "stdout",
     "output_type": "stream",
     "text": [
      "194 fires in matched_df have GIS_ACRES > 10000\n",
      "294 fires in fire_data have GIS_ACRES > 10000\n"
     ]
    },
    {
     "data": {
      "text/plain": [
       "'65.99% of fires in fire_data have GIS_ACRES > 10000'"
      ]
     },
     "execution_count": 315,
     "metadata": {},
     "output_type": "execute_result"
    }
   ],
   "source": [
    "big_fire_pct(10000)"
   ]
  },
  {
   "cell_type": "code",
   "execution_count": 316,
   "metadata": {},
   "outputs": [
    {
     "name": "stdout",
     "output_type": "stream",
     "text": [
      "50 fires in matched_df have GIS_ACRES > 50000\n",
      "82 fires in fire_data have GIS_ACRES > 50000\n"
     ]
    },
    {
     "data": {
      "text/plain": [
       "'60.98% of fires in fire_data have GIS_ACRES > 50000'"
      ]
     },
     "execution_count": 316,
     "metadata": {},
     "output_type": "execute_result"
    }
   ],
   "source": [
    "big_fire_pct(50000)"
   ]
  },
  {
   "cell_type": "code",
   "execution_count": 317,
   "metadata": {},
   "outputs": [
    {
     "name": "stdout",
     "output_type": "stream",
     "text": [
      "22 fires in matched_df have GIS_ACRES > 100000\n",
      "34 fires in fire_data have GIS_ACRES > 100000\n"
     ]
    },
    {
     "data": {
      "text/plain": [
       "'64.71% of fires in fire_data have GIS_ACRES > 100000'"
      ]
     },
     "execution_count": 317,
     "metadata": {},
     "output_type": "execute_result"
    }
   ],
   "source": [
    "big_fire_pct(100000)"
   ]
  },
  {
   "cell_type": "code",
   "execution_count": null,
   "metadata": {},
   "outputs": [],
   "source": []
  }
 ],
 "metadata": {
  "kernelspec": {
   "display_name": "py311",
   "language": "python",
   "name": "python3"
  },
  "language_info": {
   "codemirror_mode": {
    "name": "ipython",
    "version": 3
   },
   "file_extension": ".py",
   "mimetype": "text/x-python",
   "name": "python",
   "nbconvert_exporter": "python",
   "pygments_lexer": "ipython3",
   "version": "3.11.9"
  }
 },
 "nbformat": 4,
 "nbformat_minor": 2
}
