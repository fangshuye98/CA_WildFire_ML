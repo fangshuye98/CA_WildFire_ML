{
 "cells": [
  {
   "cell_type": "code",
   "execution_count": 1,
   "metadata": {},
   "outputs": [],
   "source": [
    "import pandas as pd\n",
    "import geopandas as gpd\n",
    "import xarray as xr\n",
    "import pyproj\n",
    "from tqdm import tqdm\n",
    "# import numpy as np\n",
    "# import os\n",
    "# import matplotlib.pyplot as plt\n",
    "# import cartopy.crs as ccrs\n",
    "# import cartopy.feature as cfeature"
   ]
  },
  {
   "cell_type": "code",
   "execution_count": 2,
   "metadata": {},
   "outputs": [
    {
     "name": "stdout",
     "output_type": "stream",
     "text": [
      "Python version\n",
      "3.11.9 | packaged by Anaconda, Inc. | (main, Apr 19 2024, 16:40:41) [MSC v.1916 64 bit (AMD64)]\n",
      "Pandas version\n",
      "2.2.2\n",
      "Pyproj version\n",
      "3.6.1\n"
     ]
    }
   ],
   "source": [
    "# check python version and all packages version\n",
    "def check_python_version():\n",
    "    import sys\n",
    "    print(\"Python version\")\n",
    "    print (sys.version)\n",
    "    print(\"Pandas version\")\n",
    "    print(pd.__version__)\n",
    "    print(\"Pyproj version\")\n",
    "    print(pyproj.__version__)\n",
    "\n",
    "check_python_version()"
   ]
  },
  {
   "cell_type": "code",
   "execution_count": 3,
   "metadata": {},
   "outputs": [
    {
     "data": {
      "text/plain": [
       "0"
      ]
     },
     "execution_count": 3,
     "metadata": {},
     "output_type": "execute_result"
    }
   ],
   "source": [
    "# Force garbage collection\n",
    "import gc\n",
    "gc.collect()"
   ]
  },
  {
   "cell_type": "code",
   "execution_count": 4,
   "metadata": {},
   "outputs": [],
   "source": [
    "features = pd.read_parquet('../Clean_Data/Weather_Data_w_Veg_Filter_FOD_FPA_Fire_12KM_Merged_Cleaned_Completed_LogDensity_2001_2020.parquet')"
   ]
  },
  {
   "cell_type": "code",
   "execution_count": 5,
   "metadata": {},
   "outputs": [
    {
     "data": {
      "text/plain": [
       "lon                                                 float64\n",
       "lat                                                 float64\n",
       "day                                          datetime64[ns]\n",
       "dead_fuel_moisture_1000hr                           float32\n",
       "dead_fuel_moisture_100hr                            float32\n",
       "pdsi_pre_interpolated                               float32\n",
       "pdsi_class                                          float32\n",
       "max_air_temperature                                 float64\n",
       "max_relative_humidity                               float32\n",
       "max_wind_speed                                      float32\n",
       "min_air_temperature                                 float64\n",
       "min_relative_humidity                               float32\n",
       "precipitation_amount                                float32\n",
       "specific_humidity                                   float32\n",
       "surface_downwelling_shortwave_flux_in_air           float32\n",
       "wind_from_direction                                 float32\n",
       "wind_speed                                          float32\n",
       "wind_direction_category                            category\n",
       "SWE                                                 float32\n",
       "Band1                                               float32\n",
       "LAI                                                 float32\n",
       "pdsi                                                float32\n",
       "population_density_log                              float32\n",
       "dtype: object"
      ]
     },
     "execution_count": 5,
     "metadata": {},
     "output_type": "execute_result"
    }
   ],
   "source": [
    "features.dtypes"
   ]
  },
  {
   "cell_type": "code",
   "execution_count": null,
   "metadata": {},
   "outputs": [
    {
     "data": {
      "image/png": "[encoded data removed]",
      "text/plain": [
       "<Figure size 640x480 with 1 Axes>"
      ]
     },
     "metadata": {},
     "output_type": "display_data"
    }
   ],
   "source": [
    "# sample 1347276 rows for plotting\n",
    "# features_plot = features.sample(1347276)\n",
    "# fig, ax = plt.subplots()\n",
    "# features_plot.plot.scatter(x='pdsi', y='pdsi_class', ax=ax)\n",
    "# plt.show()"
   ]
  },
  {
   "cell_type": "code",
   "execution_count": 6,
   "metadata": {},
   "outputs": [
    {
     "data": {
      "text/plain": [
       "(126317000, 23)"
      ]
     },
     "execution_count": 6,
     "metadata": {},
     "output_type": "execute_result"
    }
   ],
   "source": [
    "features.shape"
   ]
  },
  {
   "cell_type": "code",
   "execution_count": null,
   "metadata": {},
   "outputs": [
    {
     "data": {
      "text/plain": [
       "(128056650, 22)"
      ]
     },
     "execution_count": 6,
     "metadata": {},
     "output_type": "execute_result"
    }
   ],
   "source": [
    "# features.shape"
   ]
  },
  {
   "cell_type": "code",
   "execution_count": 7,
   "metadata": {},
   "outputs": [
    {
     "data": {
      "text/plain": [
       "lon                                          0.0\n",
       "lat                                          0.0\n",
       "day                                          0.0\n",
       "dead_fuel_moisture_1000hr                    0.0\n",
       "dead_fuel_moisture_100hr                     0.0\n",
       "pdsi_pre_interpolated                        0.0\n",
       "pdsi_class                                   0.0\n",
       "max_air_temperature                          0.0\n",
       "max_relative_humidity                        0.0\n",
       "max_wind_speed                               0.0\n",
       "min_air_temperature                          0.0\n",
       "min_relative_humidity                        0.0\n",
       "precipitation_amount                         0.0\n",
       "specific_humidity                            0.0\n",
       "surface_downwelling_shortwave_flux_in_air    0.0\n",
       "wind_from_direction                          0.0\n",
       "wind_speed                                   0.0\n",
       "wind_direction_category                      0.0\n",
       "SWE                                          0.0\n",
       "Band1                                        0.0\n",
       "LAI                                          0.0\n",
       "pdsi                                         0.0\n",
       "population_density_log                       0.0\n",
       "dtype: float64"
      ]
     },
     "execution_count": 7,
     "metadata": {},
     "output_type": "execute_result"
    }
   ],
   "source": [
    "# check missing rate\n",
    "features.isnull().sum() / features.shape[0]"
   ]
  },
  {
   "cell_type": "markdown",
   "metadata": {},
   "source": [
    "## Merge weather feature w other features and label"
   ]
  },
  {
   "cell_type": "code",
   "execution_count": 39,
   "metadata": {},
   "outputs": [],
   "source": [
    "veg_data = pd.read_parquet('../Clean_Data/lon_lat_pair_weather_match_veg_v2.parquet')\n",
    "slope_data = pd.read_parquet('../Clean_Data/lon_lat_pair_weather_match_slope.parquet')\n",
    "road_density_data = pd.read_parquet('../Clean_Data/road_density_match_weather_grid.parquet')"
   ]
  },
  {
   "cell_type": "code",
   "execution_count": 40,
   "metadata": {},
   "outputs": [
    {
     "data": {
      "text/plain": [
       "((17703, 7), (62160, 5), (17703, 4))"
      ]
     },
     "execution_count": 40,
     "metadata": {},
     "output_type": "execute_result"
    }
   ],
   "source": [
    "veg_data.shape, slope_data.shape, road_density_data.shape"
   ]
  },
  {
   "cell_type": "code",
   "execution_count": 41,
   "metadata": {},
   "outputs": [],
   "source": [
    "# only keep lon, lat, and fire_attribute\n",
    "veg_data = veg_data[['lon', 'lat','veg_type_details','fire_attribute','veg']]\n",
    "# only keep lon, lat, slope_avg and slope_max\n",
    "slope_data = slope_data[['lon', 'lat', 'slope_avg', 'slope_max']]"
   ]
  },
  {
   "cell_type": "code",
   "execution_count": 42,
   "metadata": {},
   "outputs": [
    {
     "data": {
      "text/plain": [
       "(0, 0, 0)"
      ]
     },
     "execution_count": 42,
     "metadata": {},
     "output_type": "execute_result"
    }
   ],
   "source": [
    "# confirm there is no duplicated rows\n",
    "veg_data.duplicated().sum(), slope_data.duplicated().sum(), road_density_data.duplicated().sum()"
   ]
  },
  {
   "cell_type": "code",
   "execution_count": 25,
   "metadata": {},
   "outputs": [
    {
     "data": {
      "text/plain": [
       "(Index(['lon', 'lat', 'veg_type_details', 'fire_attribute', 'veg'], dtype='object'),\n",
       " Index(['lon', 'lat', 'slope_avg', 'slope_max'], dtype='object'),\n",
       " Index(['lon', 'lat', 'road_density_km_km2', 'road_density_km_km2_log'], dtype='object'))"
      ]
     },
     "execution_count": 25,
     "metadata": {},
     "output_type": "execute_result"
    }
   ],
   "source": [
    "veg_data.columns, slope_data.columns, road_density_data.columns"
   ]
  },
  {
   "cell_type": "code",
   "execution_count": 26,
   "metadata": {},
   "outputs": [
    {
     "data": {
      "text/plain": [
       "Index(['lon', 'lat', 'day', 'dead_fuel_moisture_1000hr',\n",
       "       'dead_fuel_moisture_100hr', 'pdsi_pre_interpolated', 'pdsi_class',\n",
       "       'max_air_temperature', 'max_relative_humidity', 'max_wind_speed',\n",
       "       'min_air_temperature', 'min_relative_humidity', 'precipitation_amount',\n",
       "       'specific_humidity', 'surface_downwelling_shortwave_flux_in_air',\n",
       "       'wind_from_direction', 'wind_speed', 'wind_direction_category', 'SWE',\n",
       "       'Band1', 'LAI', 'pdsi', 'population_density_log'],\n",
       "      dtype='object')"
      ]
     },
     "execution_count": 26,
     "metadata": {},
     "output_type": "execute_result"
    }
   ],
   "source": [
    "features.columns"
   ]
  },
  {
   "cell_type": "markdown",
   "metadata": {},
   "source": [
    "Downsample"
   ]
  },
  {
   "cell_type": "code",
   "execution_count": 27,
   "metadata": {},
   "outputs": [],
   "source": [
    "fire_label = pd.read_parquet('../Clean_Data/Model_Data/Downsample/Fire_Label/calfire_fod_fpa_2001_2020_fire_label_w_size_downsample.parquet')"
   ]
  },
  {
   "cell_type": "code",
   "execution_count": 28,
   "metadata": {},
   "outputs": [],
   "source": [
    "# drop column Year\n",
    "fire_label = fire_label.drop(columns=['Year'])"
   ]
  },
  {
   "cell_type": "code",
   "execution_count": null,
   "metadata": {},
   "outputs": [],
   "source": [
    "mod_data = pd.merge(features, fire_label, on=['lon', 'lat', 'day'], how='inner')\n",
    "# join veg_data\n",
    "mod_data = pd.merge(mod_data, veg_data, on=['lon', 'lat'], how='inner')\n",
    "# join slope_data\n",
    "mod_data = pd.merge(mod_data, slope_data, on=['lon', 'lat'], how='inner')\n",
    "# join road_density_data\n",
    "mod_data = pd.merge(mod_data, road_density_data, on=['lon', 'lat'], how='inner')\n",
    "# save to parquet\n",
    "mod_data.to_parquet(f\"../Clean_Data/Model_Data/Downsample/Features_w_Label/features_w_label_downsample_completed_2001_2020.parquet\")"
   ]
  },
  {
   "cell_type": "code",
   "execution_count": 42,
   "metadata": {},
   "outputs": [],
   "source": [
    "# read the mod_data\n",
    "mod_data = pd.read_parquet(\"../Clean_Data/Model_Data/Downsample/Features_w_Label/features_w_label_downsample_completed_2001_2020.parquet\")"
   ]
  },
  {
   "cell_type": "code",
   "execution_count": 43,
   "metadata": {},
   "outputs": [],
   "source": [
    "# convert NWCG_CAUSE_CLASSIFICATION to string\n",
    "mod_data['NWCG_CAUSE_CLASSIFICATION'] = mod_data['NWCG_CAUSE_CLASSIFICATION'].astype(str)\n",
    "mod_Human = mod_data[(mod_data['NWCG_CAUSE_CLASSIFICATION'].str.contains('Human')) | (mod_data['IS_FIRE'] == 0)]"
   ]
  },
  {
   "cell_type": "code",
   "execution_count": 44,
   "metadata": {},
   "outputs": [
    {
     "data": {
      "text/plain": [
       "((15126439, 34), (15078176, 34))"
      ]
     },
     "execution_count": 44,
     "metadata": {},
     "output_type": "execute_result"
    }
   ],
   "source": [
    "mod_data.shape, mod_Human.shape"
   ]
  },
  {
   "cell_type": "code",
   "execution_count": 45,
   "metadata": {},
   "outputs": [
    {
     "data": {
      "text/plain": [
       "NWCG_CAUSE_CLASSIFICATION\n",
       "None                                                  14975104\n",
       "'Human'                                                 102232\n",
       "'Human', 'Missing data/not specified/undetermined'         738\n",
       "'Human', 'Natural'                                         102\n",
       "Name: count, dtype: int64"
      ]
     },
     "execution_count": 45,
     "metadata": {},
     "output_type": "execute_result"
    }
   ],
   "source": [
    "mod_Human['NWCG_CAUSE_CLASSIFICATION'].value_counts()"
   ]
  },
  {
   "cell_type": "code",
   "execution_count": 46,
   "metadata": {},
   "outputs": [],
   "source": [
    "mod_Human.to_parquet(f\"../Clean_Data/Model_Data/Downsample/Features_w_Label/features_w_label_downsample_completed_human_2001_2020.parquet\")"
   ]
  },
  {
   "cell_type": "code",
   "execution_count": 30,
   "metadata": {},
   "outputs": [
    {
     "data": {
      "text/plain": [
       "1737"
      ]
     },
     "execution_count": 30,
     "metadata": {},
     "output_type": "execute_result"
    }
   ],
   "source": [
    "# Force garbage collection\n",
    "import gc\n",
    "gc.collect()"
   ]
  },
  {
   "cell_type": "code",
   "execution_count": 31,
   "metadata": {},
   "outputs": [],
   "source": [
    "# read the mod_data\n",
    "mod_data = pd.read_parquet(\"../Clean_Data/Model_Data/Downsample/Features_w_Label/features_w_label_downsample_completed_human_2001_2020.parquet\")"
   ]
  },
  {
   "cell_type": "code",
   "execution_count": 33,
   "metadata": {},
   "outputs": [
    {
     "data": {
      "text/plain": [
       "(15078176, 34)"
      ]
     },
     "execution_count": 33,
     "metadata": {},
     "output_type": "execute_result"
    }
   ],
   "source": [
    "mod_data.shape"
   ]
  },
  {
   "cell_type": "code",
   "execution_count": 34,
   "metadata": {},
   "outputs": [
    {
     "name": "stdout",
     "output_type": "stream",
     "text": [
      "Agriculture \n",
      "Urban \n",
      "Water \n"
     ]
    }
   ],
   "source": [
    "original_veg = mod_data['veg'].unique()\n",
    "# drop veg if veg contains Water, Urban, Agriculture\n",
    "mod_data = mod_data[~mod_data['veg'].str.contains('Water|Urban|Agriculture')]\n",
    "new_veg = mod_data['veg'].unique()\n",
    "\n",
    "for veg in original_veg:\n",
    "    if veg not in new_veg:\n",
    "        print(veg)"
   ]
  },
  {
   "cell_type": "code",
   "execution_count": 35,
   "metadata": {},
   "outputs": [
    {
     "data": {
      "text/plain": [
       "(12227485, 34)"
      ]
     },
     "execution_count": 35,
     "metadata": {},
     "output_type": "execute_result"
    }
   ],
   "source": [
    "mod_data.shape"
   ]
  },
  {
   "cell_type": "code",
   "execution_count": 36,
   "metadata": {},
   "outputs": [
    {
     "data": {
      "text/plain": [
       "IS_FIRE\n",
       "0    0.993948\n",
       "1    0.006052\n",
       "Name: proportion, dtype: float64"
      ]
     },
     "execution_count": 36,
     "metadata": {},
     "output_type": "execute_result"
    }
   ],
   "source": [
    "mod_data['IS_FIRE'].value_counts(normalize=True)"
   ]
  },
  {
   "cell_type": "code",
   "execution_count": 38,
   "metadata": {},
   "outputs": [],
   "source": [
    "mod_data.to_parquet(f\"../Clean_Data/Model_Data/Downsample/Features_w_Label/features_w_label_downsample_completed_human_filter_veg_2001_2020.parquet\")"
   ]
  },
  {
   "cell_type": "markdown",
   "metadata": {},
   "source": [
    "Raw %"
   ]
  },
  {
   "cell_type": "code",
   "execution_count": null,
   "metadata": {},
   "outputs": [
    {
     "name": "stderr",
     "output_type": "stream",
     "text": [
      "Processing years: 100%|██████████| 20/20 [23:29<00:00, 70.48s/it]\n"
     ]
    }
   ],
   "source": [
    "def generate_fire_name(year):\n",
    "    return f\"../Clean_Data/Model_Data/Evaluation/Features_w_Label/{year}_features_w_label.parquet\"\n",
    "\n",
    "for year in tqdm(range(2001, 2021), desc=\"Processing years\"):\n",
    "    fire_name = generate_fire_name(year)\n",
    "    # print begin processing\n",
    "    # print(f\"Processing {fire_name}\")\n",
    "    fire_label = pd.read_parquet(fire_name)\n",
    "    mod_data = pd.merge(features, fire_label, on=['lon', 'lat', 'day'], how='inner')\n",
    "    # join veg_data\n",
    "    mod_data = pd.merge(mod_data, veg_data, on=['lon', 'lat'], how='inner')\n",
    "    # join slope_data\n",
    "    mod_data = pd.merge(mod_data, slope_data, on=['lon', 'lat'], how='inner')\n",
    "    # join road_density_data\n",
    "    mod_data = pd.merge(mod_data, road_density_data, on=['lon', 'lat'], how='inner')\n",
    "    # save to parquet\n",
    "    mod_data.to_parquet(f\"../Clean_Data/Model_Data/Evaluation/Features_w_Label/Filter_Veg/{year}_features_w_label.parquet\")\n",
    "\n",
    "    mod_data['NWCG_CAUSE_CLASSIFICATION'] = mod_data['NWCG_CAUSE_CLASSIFICATION'].astype(str)\n",
    "    mod_Human = mod_data[(mod_data['NWCG_CAUSE_CLASSIFICATION'].str.contains('Human')) | (mod_data['IS_FIRE'] == 0)]\n",
    "    mod_Human.to_parquet(f\"../Clean_Data/Model_Data/Evaluation/Features_w_Label/Human_Fire/{year}_features_w_label.parquet\")\n",
    "\n",
    "    gc.collect()\n",
    "    # print \"data saved\" and print its shape in one sentence\n",
    "    # print(\"Data Saved\")\n",
    "    # print(f\"Shape: {mod_data.shape}\")\n",
    "    # print sep line\n",
    "    # print(\"=\"*80)"
   ]
  },
  {
   "cell_type": "code",
   "execution_count": 8,
   "metadata": {},
   "outputs": [
    {
     "name": "stderr",
     "output_type": "stream",
     "text": [
      "Processing Water Years: 100%|██████████| 19/19 [06:31<00:00, 20.61s/it]\n"
     ]
    }
   ],
   "source": [
    "log_messages = []\n",
    "# append current timestamp to log_messages\n",
    "log_messages.append(f\"Log messages for processing water years: {pd.Timestamp.now()}\")\n",
    "\n",
    "for year in tqdm(range(2002, 2021), desc=\"Processing Water Years\"):\n",
    "    prev_year = year - 1\n",
    "\n",
    "    # Load data for both years\n",
    "    prev_data_path = f\"../Clean_Data/Model_Data/Evaluation/Features_w_Label/Human_Fire/{prev_year}_features_w_label.parquet\"\n",
    "    curr_data_path = f\"../Clean_Data/Model_Data/Evaluation/Features_w_Label/Human_Fire/{year}_features_w_label.parquet\"\n",
    "\n",
    "    prev_data = pd.read_parquet(prev_data_path)\n",
    "    curr_data = pd.read_parquet(curr_data_path)\n",
    "\n",
    "    # Combine both years' data\n",
    "    mod_data = pd.concat([prev_data, curr_data], ignore_index=True)\n",
    "\n",
    "    # Filter for the water year range (Oct 1 - Sep 30)\n",
    "    mod_data = mod_data[(mod_data['day'] >= f\"{prev_year}-10-01\") & (mod_data['day'] <= f\"{year}-09-30\")]\n",
    "\n",
    "    # Save with water year notation\n",
    "    mod_data.to_parquet(f\"../Clean_Data/Model_Data/Evaluation/Features_w_Label/Human_Fire_Water_Year/{year}_features_w_label.parquet\")\n",
    "\n",
    "    # create a log message showing the min and max day of saved data\n",
    "    log_message = f\"Data for Water Year {year} saved, min day: {mod_data['day'].min()}, max day: {mod_data['day'].max()}\"\n",
    "    log_messages.append(log_message)\n",
    "\n",
    "    gc.collect()"
   ]
  },
  {
   "cell_type": "code",
   "execution_count": 9,
   "metadata": {},
   "outputs": [
    {
     "name": "stdout",
     "output_type": "stream",
     "text": [
      "Log file saved to '../Logs/water_year_evaluation_data_log.txt'\n"
     ]
    }
   ],
   "source": [
    "# Save the log messages to a log file\n",
    "with open('../Logs/water_year_evaluation_data_log.txt', 'w') as log_file:\n",
    "    log_file.write('\\n'.join(log_messages))\n",
    "\n",
    "print(\"Log file saved to '../Logs/water_year_evaluation_data_log.txt'\")"
   ]
  },
  {
   "cell_type": "code",
   "execution_count": 47,
   "metadata": {},
   "outputs": [
    {
     "name": "stderr",
     "output_type": "stream",
     "text": [
      "Processing Water Years: 100%|██████████| 19/19 [06:30<00:00, 20.56s/it]\n"
     ]
    }
   ],
   "source": [
    "log_messages = []\n",
    "# append current timestamp to log_messages\n",
    "log_messages.append(f\"Log messages for filtering veg types: {pd.Timestamp.now()}\")\n",
    "\n",
    "for year in tqdm(range(2002, 2021), desc=\"Processing Water Years\"):\n",
    "\n",
    "    # log the year being processed\n",
    "    log_message = f\"Processing year: {year}\"\n",
    "    log_messages.append(log_message)\n",
    "\n",
    "    # Load data for current years\n",
    "    curr_data_path = f\"../Clean_Data/Model_Data/Evaluation/Features_w_Label/Human_Fire_Water_Year/{year}_features_w_label.parquet\"\n",
    "    mod_data = pd.read_parquet(curr_data_path)\n",
    "\n",
    "    # log the shape of the data before filtering\n",
    "    log_message = f\"Data shape before filtering veg types for year {year}: {mod_data.shape}\"\n",
    "    log_messages.append(log_message)\n",
    "\n",
    "    original_veg = mod_data['veg'].unique()\n",
    "    # drop veg if veg contains Water, Urban, Agriculture\n",
    "    mod_data = mod_data[~mod_data['veg'].str.contains('Water|Urban|Agriculture')]\n",
    "    new_veg = mod_data['veg'].unique()\n",
    "\n",
    "    # log the veg types that are dropped\n",
    "    for veg in original_veg:\n",
    "        if veg not in new_veg:\n",
    "            log_message = f\"Dropped veg type: {veg} from year {year}\"\n",
    "            log_messages.append(log_message)\n",
    "\n",
    "    # log the shape of the data after filtering\n",
    "    log_message = f\"Data shape after filtering veg types for year {year}: {mod_data.shape}\"\n",
    "    log_messages.append(log_message)\n",
    "\n",
    "    # Save the filtered data\n",
    "    mod_data.to_parquet(f\"../Clean_Data/Model_Data/Evaluation/Features_w_Label/Human_Fire_Water_Year_Filter_Veg/{year}_features_w_label.parquet\")\n",
    "\n",
    "    # free up memory\n",
    "    del mod_data\n",
    "\n",
    "    gc.collect()"
   ]
  },
  {
   "cell_type": "code",
   "execution_count": 48,
   "metadata": {},
   "outputs": [
    {
     "name": "stdout",
     "output_type": "stream",
     "text": [
      "Log file saved to '../Logs/filter_veg_evaluation_data_log.txt'\n"
     ]
    }
   ],
   "source": [
    "# Save the log messages to a log file\n",
    "with open('../Logs/filter_veg_evaluation_data_log.txt', 'w') as log_file:\n",
    "    log_file.write('\\n'.join(log_messages))\n",
    "\n",
    "print(\"Log file saved to '../Logs/filter_veg_evaluation_data_log.txt'\")"
   ]
  },
  {
   "cell_type": "code",
   "execution_count": null,
   "metadata": {},
   "outputs": [
    {
     "name": "stderr",
     "output_type": "stream",
     "text": [
      "Processing years: 100%|██████████| 20/20 [04:41<00:00, 14.07s/it]\n"
     ]
    }
   ],
   "source": [
    "# for year in tqdm(range(2001, 2021), desc=\"Processing years\"):\n",
    "#     mod_data = pd.read_parquet(f\"../Clean_Data/Model_Data/Evaluation/Features_w_Label/{year}_features_w_label.parquet\")\n",
    "\n",
    "#     mod_data['NWCG_CAUSE_CLASSIFICATION'] = mod_data['NWCG_CAUSE_CLASSIFICATION'].astype(str)\n",
    "#     mod_Human = mod_data[(mod_data['NWCG_CAUSE_CLASSIFICATION'].str.contains('Human')) | (mod_data['IS_FIRE'] == 0)]\n",
    "\n",
    "#     # save to parquet\n",
    "#     mod_Human.to_parquet(f\"../Clean_Data/Model_Data/Evaluation/Features_w_Label/Human_Fire/{year}_features_w_label.parquet\")\n",
    "\n",
    "#     gc.collect()"
   ]
  },
  {
   "cell_type": "code",
   "execution_count": 49,
   "metadata": {},
   "outputs": [
    {
     "data": {
      "text/plain": [
       "Index(['lon', 'lat', 'day', 'dead_fuel_moisture_1000hr',\n",
       "       'dead_fuel_moisture_100hr', 'pdsi_pre_interpolated', 'pdsi_class',\n",
       "       'max_air_temperature', 'max_relative_humidity', 'max_wind_speed',\n",
       "       'min_air_temperature', 'min_relative_humidity', 'precipitation_amount',\n",
       "       'specific_humidity', 'surface_downwelling_shortwave_flux_in_air',\n",
       "       'wind_from_direction', 'wind_speed', 'wind_direction_category', 'SWE',\n",
       "       'Band1', 'LAI', 'pdsi', 'population_density_log', 'IS_FIRE',\n",
       "       'NWCG_CAUSE_CLASSIFICATION', 'min_FIRE_SIZE', 'max_FIRE_SIZE', 'Year',\n",
       "       'veg_type_details', 'fire_attribute', 'veg', 'slope_avg', 'slope_max',\n",
       "       'road_density_km_km2', 'road_density_km_km2_log'],\n",
       "      dtype='object')"
      ]
     },
     "execution_count": 49,
     "metadata": {},
     "output_type": "execute_result"
    }
   ],
   "source": [
    "mod_Human.columns"
   ]
  },
  {
   "cell_type": "code",
   "execution_count": 50,
   "metadata": {},
   "outputs": [
    {
     "data": {
      "text/plain": [
       "lon                                                 float64\n",
       "lat                                                 float64\n",
       "day                                          datetime64[ns]\n",
       "dead_fuel_moisture_1000hr                           float32\n",
       "dead_fuel_moisture_100hr                            float32\n",
       "pdsi_pre_interpolated                               float32\n",
       "pdsi_class                                          float32\n",
       "max_air_temperature                                 float64\n",
       "max_relative_humidity                               float32\n",
       "max_wind_speed                                      float32\n",
       "min_air_temperature                                 float64\n",
       "min_relative_humidity                               float32\n",
       "precipitation_amount                                float32\n",
       "specific_humidity                                   float32\n",
       "surface_downwelling_shortwave_flux_in_air           float32\n",
       "wind_from_direction                                 float32\n",
       "wind_speed                                          float32\n",
       "wind_direction_category                            category\n",
       "SWE                                                 float32\n",
       "Band1                                               float32\n",
       "LAI                                                 float32\n",
       "pdsi                                                float32\n",
       "population_density_log                              float32\n",
       "IS_FIRE                                               int32\n",
       "NWCG_CAUSE_CLASSIFICATION                            object\n",
       "min_FIRE_SIZE                                       float64\n",
       "max_FIRE_SIZE                                       float64\n",
       "Year                                                  int32\n",
       "veg_type_details                                     object\n",
       "fire_attribute                                       object\n",
       "veg                                                  object\n",
       "slope_avg                                           float32\n",
       "slope_max                                           float32\n",
       "road_density_km_km2                                 float64\n",
       "road_density_km_km2_log                             float64\n",
       "dtype: object"
      ]
     },
     "execution_count": 50,
     "metadata": {},
     "output_type": "execute_result"
    }
   ],
   "source": [
    "mod_Human.dtypes"
   ]
  },
  {
   "cell_type": "code",
   "execution_count": null,
   "metadata": {},
   "outputs": [],
   "source": [
    "\n"
   ]
  }
 ],
 "metadata": {
  "kernelspec": {
   "display_name": "py311",
   "language": "python",
   "name": "python3"
  },
  "language_info": {
   "codemirror_mode": {
    "name": "ipython",
    "version": 3
   },
   "file_extension": ".py",
   "mimetype": "text/x-python",
   "name": "python",
   "nbconvert_exporter": "python",
   "pygments_lexer": "ipython3",
   "version": "3.11.9"
  }
 },
 "nbformat": 4,
 "nbformat_minor": 2
}
