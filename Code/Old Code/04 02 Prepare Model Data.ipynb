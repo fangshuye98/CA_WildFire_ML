{
 "cells": [
  {
   "cell_type": "code",
   "execution_count": 1,
   "metadata": {},
   "outputs": [],
   "source": [
    "import pandas as pd\n",
    "import geopandas as gpd\n",
    "import xarray as xr\n",
    "import pyproj\n",
    "from tqdm import tqdm\n",
    "import numpy as np"
   ]
  },
  {
   "cell_type": "code",
   "execution_count": 2,
   "metadata": {},
   "outputs": [],
   "source": [
    "import os\n",
    "import matplotlib.pyplot as plt\n",
    "import cartopy.crs as ccrs\n",
    "import cartopy.feature as cfeature"
   ]
  },
  {
   "cell_type": "code",
   "execution_count": 4,
   "metadata": {},
   "outputs": [
    {
     "name": "stdout",
     "output_type": "stream",
     "text": [
      "Python version\n",
      "3.11.9 | packaged by Anaconda, Inc. | (main, Apr 19 2024, 16:40:41) [MSC v.1916 64 bit (AMD64)]\n",
      "Pandas version\n",
      "2.2.2\n",
      "Geopandas version\n",
      "0.14.2\n",
      "Xarray version\n",
      "2023.6.0\n",
      "Pyproj version\n",
      "3.6.1\n"
     ]
    }
   ],
   "source": [
    "# check python version and all packages version\n",
    "def check_python_version():\n",
    "    import sys\n",
    "    print(\"Python version\")\n",
    "    print (sys.version)\n",
    "    print(\"Pandas version\")\n",
    "    print(pd.__version__)\n",
    "    print(\"Geopandas version\")\n",
    "    print(gpd.__version__)\n",
    "    print(\"Xarray version\")\n",
    "    print(xr.__version__)\n",
    "    print(\"Pyproj version\")\n",
    "    print(pyproj.__version__)\n",
    "\n",
    "check_python_version()"
   ]
  },
  {
   "cell_type": "code",
   "execution_count": 7,
   "metadata": {},
   "outputs": [],
   "source": [
    "fire_label = pd.read_parquet('../Clean_Data/Model_Data/fire_label_downsample.parquet')\n",
    "fire_label_OOT = pd.read_parquet('../Clean_Data/Model_Data/fire_label_data_2023_OOT.parquet')"
   ]
  },
  {
   "cell_type": "code",
   "execution_count": 8,
   "metadata": {},
   "outputs": [
    {
     "data": {
      "text/plain": [
       "((649228, 5),\n",
       " lon               float64\n",
       " lat               float64\n",
       " day        datetime64[ns]\n",
       " IS_FIRE             int32\n",
       " month               int32\n",
       " dtype: object)"
      ]
     },
     "execution_count": 8,
     "metadata": {},
     "output_type": "execute_result"
    }
   ],
   "source": [
    "fire_label.shape, fire_label.dtypes"
   ]
  },
  {
   "cell_type": "code",
   "execution_count": 9,
   "metadata": {},
   "outputs": [
    {
     "data": {
      "text/plain": [
       "((5834976, 4),\n",
       " lon               float64\n",
       " lat               float64\n",
       " day        datetime64[ns]\n",
       " IS_FIRE             int32\n",
       " dtype: object)"
      ]
     },
     "execution_count": 9,
     "metadata": {},
     "output_type": "execute_result"
    }
   ],
   "source": [
    "fire_label_OOT.shape, fire_label_OOT.dtypes"
   ]
  },
  {
   "cell_type": "code",
   "execution_count": 10,
   "metadata": {},
   "outputs": [
    {
     "data": {
      "text/html": [
       "<div>\n",
       "<style scoped>\n",
       "    .dataframe tbody tr th:only-of-type {\n",
       "        vertical-align: middle;\n",
       "    }\n",
       "\n",
       "    .dataframe tbody tr th {\n",
       "        vertical-align: top;\n",
       "    }\n",
       "\n",
       "    .dataframe thead th {\n",
       "        text-align: right;\n",
       "    }\n",
       "</style>\n",
       "<table border=\"1\" class=\"dataframe\">\n",
       "  <thead>\n",
       "    <tr style=\"text-align: right;\">\n",
       "      <th></th>\n",
       "      <th>lon</th>\n",
       "      <th>lat</th>\n",
       "      <th>day</th>\n",
       "      <th>IS_FIRE</th>\n",
       "      <th>month</th>\n",
       "    </tr>\n",
       "  </thead>\n",
       "  <tbody>\n",
       "    <tr>\n",
       "      <th>164175</th>\n",
       "      <td>-124.308333</td>\n",
       "      <td>40.233333</td>\n",
       "      <td>2013-07-12</td>\n",
       "      <td>1</td>\n",
       "      <td>7</td>\n",
       "    </tr>\n",
       "    <tr>\n",
       "      <th>203998</th>\n",
       "      <td>-124.266667</td>\n",
       "      <td>40.316667</td>\n",
       "      <td>2007-07-27</td>\n",
       "      <td>1</td>\n",
       "      <td>7</td>\n",
       "    </tr>\n",
       "    <tr>\n",
       "      <th>228923</th>\n",
       "      <td>-124.266667</td>\n",
       "      <td>40.191667</td>\n",
       "      <td>2007-10-25</td>\n",
       "      <td>1</td>\n",
       "      <td>10</td>\n",
       "    </tr>\n",
       "    <tr>\n",
       "      <th>230275</th>\n",
       "      <td>-124.266667</td>\n",
       "      <td>40.191667</td>\n",
       "      <td>2011-07-08</td>\n",
       "      <td>1</td>\n",
       "      <td>7</td>\n",
       "    </tr>\n",
       "    <tr>\n",
       "      <th>230695</th>\n",
       "      <td>-124.266667</td>\n",
       "      <td>40.191667</td>\n",
       "      <td>2012-08-31</td>\n",
       "      <td>1</td>\n",
       "      <td>8</td>\n",
       "    </tr>\n",
       "  </tbody>\n",
       "</table>\n",
       "</div>"
      ],
      "text/plain": [
       "               lon        lat        day  IS_FIRE  month\n",
       "164175 -124.308333  40.233333 2013-07-12        1      7\n",
       "203998 -124.266667  40.316667 2007-07-27        1      7\n",
       "228923 -124.266667  40.191667 2007-10-25        1     10\n",
       "230275 -124.266667  40.191667 2011-07-08        1      7\n",
       "230695 -124.266667  40.191667 2012-08-31        1      8"
      ]
     },
     "execution_count": 10,
     "metadata": {},
     "output_type": "execute_result"
    }
   ],
   "source": [
    "fire_label.head()"
   ]
  },
  {
   "cell_type": "code",
   "execution_count": 3,
   "metadata": {},
   "outputs": [
    {
     "data": {
      "text/plain": [
       "54"
      ]
     },
     "execution_count": 3,
     "metadata": {},
     "output_type": "execute_result"
    }
   ],
   "source": [
    "# Force garbage collection\n",
    "import gc\n",
    "gc.collect()"
   ]
  },
  {
   "cell_type": "code",
   "execution_count": 11,
   "metadata": {},
   "outputs": [],
   "source": [
    "features = pd.read_parquet('../Clean_Data/Weather_Data_w_Veg_Filter_Fire_12KM_Merged.parquet')"
   ]
  },
  {
   "cell_type": "code",
   "execution_count": 11,
   "metadata": {},
   "outputs": [
    {
     "data": {
      "text/plain": [
       "(134727600, 17)"
      ]
     },
     "execution_count": 11,
     "metadata": {},
     "output_type": "execute_result"
    }
   ],
   "source": [
    "features.shape"
   ]
  },
  {
   "cell_type": "code",
   "execution_count": 12,
   "metadata": {},
   "outputs": [
    {
     "data": {
      "text/plain": [
       "(649228, 19)"
      ]
     },
     "execution_count": 12,
     "metadata": {},
     "output_type": "execute_result"
    }
   ],
   "source": [
    "# merge the fire_label and features, inner join on the lon, lat, and day\n",
    "mod_data = pd.merge(features, fire_label, on=['lon', 'lat', 'day'], how='inner')\n",
    "mod_data.shape"
   ]
  },
  {
   "cell_type": "code",
   "execution_count": 13,
   "metadata": {},
   "outputs": [],
   "source": [
    "# remove column 'month'\n",
    "mod_data = mod_data.drop(columns=['month'])"
   ]
  },
  {
   "cell_type": "code",
   "execution_count": 14,
   "metadata": {},
   "outputs": [
    {
     "data": {
      "text/plain": [
       "Index(['lon', 'lat', 'day', 'dead_fuel_moisture_1000hr',\n",
       "       'dead_fuel_moisture_100hr', 'pdsi', 'category', 'air_temperature_x',\n",
       "       'relative_humidity_x', 'max_wind_speed', 'air_temperature_y',\n",
       "       'relative_humidity_y', 'precipitation_amount', 'specific_humidity',\n",
       "       'surface_downwelling_shortwave_flux_in_air', 'wind_from_direction',\n",
       "       'wind_speed', 'IS_FIRE'],\n",
       "      dtype='object')"
      ]
     },
     "execution_count": 14,
     "metadata": {},
     "output_type": "execute_result"
    }
   ],
   "source": [
    "mod_data.columns"
   ]
  },
  {
   "cell_type": "code",
   "execution_count": 15,
   "metadata": {},
   "outputs": [],
   "source": [
    "# write the merged data to parquet\n",
    "mod_data.to_parquet('../Clean_Data/Model_Data/fire_label_weather_downsampled.parquet')"
   ]
  },
  {
   "cell_type": "code",
   "execution_count": 16,
   "metadata": {},
   "outputs": [
    {
     "data": {
      "text/plain": [
       "(5834976, 18)"
      ]
     },
     "execution_count": 16,
     "metadata": {},
     "output_type": "execute_result"
    }
   ],
   "source": [
    "mod_data_OOT = pd.merge(features, fire_label_OOT, on=['lon', 'lat', 'day'], how='inner')\n",
    "mod_data_OOT.shape"
   ]
  },
  {
   "cell_type": "code",
   "execution_count": 18,
   "metadata": {},
   "outputs": [
    {
     "data": {
      "text/plain": [
       "Index(['lon', 'lat', 'day', 'dead_fuel_moisture_1000hr',\n",
       "       'dead_fuel_moisture_100hr', 'pdsi', 'category', 'air_temperature_x',\n",
       "       'relative_humidity_x', 'max_wind_speed', 'air_temperature_y',\n",
       "       'relative_humidity_y', 'precipitation_amount', 'specific_humidity',\n",
       "       'surface_downwelling_shortwave_flux_in_air', 'wind_from_direction',\n",
       "       'wind_speed', 'IS_FIRE'],\n",
       "      dtype='object')"
      ]
     },
     "execution_count": 18,
     "metadata": {},
     "output_type": "execute_result"
    }
   ],
   "source": [
    "mod_data_OOT.columns"
   ]
  },
  {
   "cell_type": "code",
   "execution_count": 19,
   "metadata": {},
   "outputs": [],
   "source": [
    "mod_data_OOT.to_parquet('../Clean_Data/Model_Data/fire_label_weather_2023_OOT.parquet')"
   ]
  },
  {
   "cell_type": "markdown",
   "metadata": {},
   "source": [
    "--- merge all features and label together ----"
   ]
  },
  {
   "cell_type": "code",
   "execution_count": 21,
   "metadata": {},
   "outputs": [],
   "source": [
    "fire_label_weather_downsampled = pd.read_parquet('../Clean_Data/Model_Data/fire_label_weather_downsampled.parquet')\n",
    "fire_label_weather_2023_OOT = pd.read_parquet('../Clean_Data/Model_Data/fire_label_weather_2023_OOT.parquet')"
   ]
  },
  {
   "cell_type": "code",
   "execution_count": 20,
   "metadata": {},
   "outputs": [],
   "source": [
    "veg_data = pd.read_parquet('../Clean_Data/lon_lat_pair_weather_match_veg.parquet')\n",
    "slope_data = pd.read_parquet('../Clean_Data/lon_lat_pair_weather_match_slope.parquet')"
   ]
  },
  {
   "cell_type": "code",
   "execution_count": 22,
   "metadata": {},
   "outputs": [
    {
     "data": {
      "text/plain": [
       "(lon         float64\n",
       " lat         float64\n",
       " type        float32\n",
       " distance    float64\n",
       " dtype: object,\n",
       " lon          float64\n",
       " lat          float64\n",
       " slope_avg    float32\n",
       " slope_max    float32\n",
       " distance     float64\n",
       " dtype: object)"
      ]
     },
     "execution_count": 22,
     "metadata": {},
     "output_type": "execute_result"
    }
   ],
   "source": [
    "veg_data.dtypes, slope_data.dtypes"
   ]
  },
  {
   "cell_type": "code",
   "execution_count": 23,
   "metadata": {},
   "outputs": [],
   "source": [
    "# drop column 'distance' and assign type to str\n",
    "veg_data = veg_data.drop(columns=['distance'])\n",
    "veg_data['type'] = veg_data['type'].astype(str)"
   ]
  },
  {
   "cell_type": "code",
   "execution_count": 24,
   "metadata": {},
   "outputs": [],
   "source": [
    "# drop column 'distance'\n",
    "slope_data = slope_data.drop(columns=['distance'])"
   ]
  },
  {
   "cell_type": "code",
   "execution_count": 25,
   "metadata": {},
   "outputs": [
    {
     "data": {
      "text/plain": [
       "0"
      ]
     },
     "execution_count": 25,
     "metadata": {},
     "output_type": "execute_result"
    }
   ],
   "source": [
    "# check if any duplicated rows\n",
    "veg_data.duplicated().sum()"
   ]
  },
  {
   "cell_type": "code",
   "execution_count": 26,
   "metadata": {},
   "outputs": [
    {
     "data": {
      "text/plain": [
       "0"
      ]
     },
     "execution_count": 26,
     "metadata": {},
     "output_type": "execute_result"
    }
   ],
   "source": [
    "# check if any duplicated rows\n",
    "slope_data.duplicated().sum()"
   ]
  },
  {
   "cell_type": "code",
   "execution_count": 27,
   "metadata": {},
   "outputs": [
    {
     "data": {
      "text/plain": [
       "((649228, 18), (5834976, 18), (17703, 3), (62160, 4))"
      ]
     },
     "execution_count": 27,
     "metadata": {},
     "output_type": "execute_result"
    }
   ],
   "source": [
    "fire_label_weather_downsampled.shape, fire_label_weather_2023_OOT.shape, veg_data.shape, slope_data.shape"
   ]
  },
  {
   "cell_type": "code",
   "execution_count": 28,
   "metadata": {},
   "outputs": [
    {
     "data": {
      "text/plain": [
       "(649228, 21)"
      ]
     },
     "execution_count": 28,
     "metadata": {},
     "output_type": "execute_result"
    }
   ],
   "source": [
    "# left join the mod_data and veg_data on lon and lat\n",
    "mod_data_downsampled = pd.merge(fire_label_weather_downsampled, veg_data, on=['lon', 'lat'], how='left')\n",
    "# left join the mod_data and slope_data on lon and lat\n",
    "mod_data_downsampled = pd.merge(mod_data_downsampled, slope_data, on=['lon', 'lat'], how='left')\n",
    "mod_data_downsampled.shape"
   ]
  },
  {
   "cell_type": "code",
   "execution_count": 29,
   "metadata": {},
   "outputs": [
    {
     "data": {
      "text/plain": [
       "(5834976, 21)"
      ]
     },
     "execution_count": 29,
     "metadata": {},
     "output_type": "execute_result"
    }
   ],
   "source": [
    "mod_data_OOT = pd.merge(fire_label_weather_2023_OOT, veg_data, on=['lon', 'lat'], how='left')\n",
    "mod_data_OOT = pd.merge(mod_data_OOT, slope_data, on=['lon', 'lat'], how='left')\n",
    "mod_data_OOT.shape"
   ]
  },
  {
   "cell_type": "code",
   "execution_count": 30,
   "metadata": {},
   "outputs": [],
   "source": [
    "# drop lon, lat\n",
    "mod_data_downsampled = mod_data_downsampled.drop(columns=['lon', 'lat'])\n",
    "mod_data_downsampled.to_parquet('../Clean_Data/Model_Data/Features_w_Label_downsampled.parquet')"
   ]
  },
  {
   "cell_type": "code",
   "execution_count": 31,
   "metadata": {},
   "outputs": [],
   "source": [
    "mod_data_OOT = mod_data_OOT.drop(columns=['lon', 'lat'])\n",
    "mod_data_OOT.to_parquet('../Clean_Data/Model_Data/Features_w_Label_2023_OOT.parquet')"
   ]
  }
 ],
 "metadata": {
  "kernelspec": {
   "display_name": "py311",
   "language": "python",
   "name": "python3"
  },
  "language_info": {
   "codemirror_mode": {
    "name": "ipython",
    "version": 3
   },
   "file_extension": ".py",
   "mimetype": "text/x-python",
   "name": "python",
   "nbconvert_exporter": "python",
   "pygments_lexer": "ipython3",
   "version": "3.11.9"
  }
 },
 "nbformat": 4,
 "nbformat_minor": 2
}
