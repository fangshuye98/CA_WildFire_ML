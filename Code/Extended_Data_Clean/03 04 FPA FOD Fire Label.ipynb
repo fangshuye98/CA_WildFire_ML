{
 "cells": [
  {
   "cell_type": "markdown",
   "metadata": {},
   "source": [
    "Input Data:\n",
    "- '../../Clean_Data/Weather_Data/Combined_Weather_Data_w_Veg_SubRegion_Filter/SWE.parquet' (from code 02 05)\n",
    "- '../../Clean_Data/Fire_Data/Extended_Fire_Data/calfire_fod_fpa_1994_2020_dedup_map_weather_grid.parquet' (from code 01)\n",
    "\n",
    "Output Data:\n",
    "- '../../Clean_Data/Fire_Data/Extended_Fire_Data/calfire_fod_fpa_1994_2020_fire_label_w_size.parquet'\n"
   ]
  },
  {
   "cell_type": "code",
   "execution_count": 2,
   "metadata": {},
   "outputs": [],
   "source": [
    "import pandas as pd\n",
    "import geopandas as gpd\n",
    "import xarray as xr\n",
    "import pyproj\n",
    "from tqdm import tqdm\n",
    "import numpy as np"
   ]
  },
  {
   "cell_type": "code",
   "execution_count": 3,
   "metadata": {},
   "outputs": [],
   "source": [
    "import re"
   ]
  },
  {
   "cell_type": "code",
   "execution_count": 4,
   "metadata": {},
   "outputs": [],
   "source": [
    "import os\n",
    "import matplotlib.pyplot as plt\n",
    "#import cartopy.crs as ccrs\n",
    "#import cartopy.feature as cfeature"
   ]
  },
  {
   "cell_type": "code",
   "execution_count": 5,
   "metadata": {},
   "outputs": [
    {
     "name": "stdout",
     "output_type": "stream",
     "text": [
      "Python version\n",
      "3.11.9 | packaged by Anaconda, Inc. | (main, Apr 19 2024, 16:40:41) [MSC v.1916 64 bit (AMD64)]\n",
      "Pandas version\n",
      "2.2.2\n",
      "Geopandas version\n",
      "0.14.2\n",
      "Xarray version\n",
      "2023.6.0\n",
      "Pyproj version\n",
      "3.6.1\n"
     ]
    }
   ],
   "source": [
    "# check python version and all packages version\n",
    "def check_python_version():\n",
    "    import sys\n",
    "    print(\"Python version\")\n",
    "    print (sys.version)\n",
    "    print(\"Pandas version\")\n",
    "    print(pd.__version__)\n",
    "    print(\"Geopandas version\")\n",
    "    print(gpd.__version__)\n",
    "    print(\"Xarray version\")\n",
    "    print(xr.__version__)\n",
    "    print(\"Pyproj version\")\n",
    "    print(pyproj.__version__)\n",
    "\n",
    "check_python_version()"
   ]
  },
  {
   "cell_type": "code",
   "execution_count": 9,
   "metadata": {},
   "outputs": [],
   "source": [
    "path_to_read = '../../Clean_Data/Weather_Data/Combined_Weather_Data_w_Veg_SubRegion_Filter/'\n",
    "file = 'wind_speed.parquet'\n",
    "weather_data = pd.read_parquet(os.path.join(path_to_read, file))"
   ]
  },
  {
   "cell_type": "code",
   "execution_count": 10,
   "metadata": {},
   "outputs": [
    {
     "data": {
      "text/plain": [
       "day           datetime64[ns]\n",
       "lon                  float64\n",
       "lat                  float64\n",
       "wind_speed           float32\n",
       "year                   int32\n",
       "dtype: object"
      ]
     },
     "execution_count": 10,
     "metadata": {},
     "output_type": "execute_result"
    }
   ],
   "source": [
    "weather_data.dtypes"
   ]
  },
  {
   "cell_type": "code",
   "execution_count": 11,
   "metadata": {},
   "outputs": [],
   "source": [
    "weather_data = weather_data[['lon', 'lat', 'day']].drop_duplicates().reset_index(drop=True)"
   ]
  },
  {
   "cell_type": "code",
   "execution_count": 12,
   "metadata": {},
   "outputs": [
    {
     "data": {
      "text/plain": [
       "(142966936, 3)"
      ]
     },
     "execution_count": 12,
     "metadata": {},
     "output_type": "execute_result"
    }
   ],
   "source": [
    "weather_data.shape # this weather data is after inner join with vegetation data and subregion filter"
   ]
  },
  {
   "cell_type": "code",
   "execution_count": 13,
   "metadata": {},
   "outputs": [
    {
     "data": {
      "text/plain": [
       "lon    0\n",
       "lat    0\n",
       "day    0\n",
       "dtype: int64"
      ]
     },
     "execution_count": 13,
     "metadata": {},
     "output_type": "execute_result"
    }
   ],
   "source": [
    "# check if there is any missing value\n",
    "weather_data.isnull().sum()"
   ]
  },
  {
   "cell_type": "code",
   "execution_count": 15,
   "metadata": {},
   "outputs": [],
   "source": [
    "input_fire_dir = '../../Clean_Data/Fire_Data/Extended_Fire_Data/'\n",
    "file_name = 'calfire_fod_fpa_1994_2020_dedup_map_weather_grid.parquet'\n",
    "fire_data = pd.read_parquet(os.path.join(input_fire_dir, file_name))"
   ]
  },
  {
   "cell_type": "code",
   "execution_count": 16,
   "metadata": {},
   "outputs": [
    {
     "data": {
      "text/html": [
       "<div>\n",
       "<style scoped>\n",
       "    .dataframe tbody tr th:only-of-type {\n",
       "        vertical-align: middle;\n",
       "    }\n",
       "\n",
       "    .dataframe tbody tr th {\n",
       "        vertical-align: top;\n",
       "    }\n",
       "\n",
       "    .dataframe thead th {\n",
       "        text-align: right;\n",
       "    }\n",
       "</style>\n",
       "<table border=\"1\" class=\"dataframe\">\n",
       "  <thead>\n",
       "    <tr style=\"text-align: right;\">\n",
       "      <th></th>\n",
       "      <th>LONGITUDE</th>\n",
       "      <th>LATITUDE</th>\n",
       "      <th>DISCOVERY_DATE</th>\n",
       "      <th>CONT_DATE</th>\n",
       "      <th>max_FIRE_SIZE</th>\n",
       "      <th>min_FIRE_SIZE</th>\n",
       "      <th>FOD_ID_cnt</th>\n",
       "      <th>diff_FIRE_SIZE</th>\n",
       "      <th>NEAREST_LAT</th>\n",
       "      <th>NEAREST_LON</th>\n",
       "      <th>DISTANCE_KM</th>\n",
       "    </tr>\n",
       "  </thead>\n",
       "  <tbody>\n",
       "    <tr>\n",
       "      <th>0</th>\n",
       "      <td>-122.315000</td>\n",
       "      <td>41.298889</td>\n",
       "      <td>1995-08-10</td>\n",
       "      <td>1995-08-26</td>\n",
       "      <td>0.1</td>\n",
       "      <td>0.1</td>\n",
       "      <td>91</td>\n",
       "      <td>0.0</td>\n",
       "      <td>41.316667</td>\n",
       "      <td>-122.308333</td>\n",
       "      <td>2.051812</td>\n",
       "    </tr>\n",
       "    <tr>\n",
       "      <th>1</th>\n",
       "      <td>-116.834700</td>\n",
       "      <td>32.584800</td>\n",
       "      <td>1996-04-15</td>\n",
       "      <td>1996-04-15</td>\n",
       "      <td>1402.0</td>\n",
       "      <td>0.1</td>\n",
       "      <td>64</td>\n",
       "      <td>1401.9</td>\n",
       "      <td>32.566667</td>\n",
       "      <td>-116.850000</td>\n",
       "      <td>2.471389</td>\n",
       "    </tr>\n",
       "    <tr>\n",
       "      <th>2</th>\n",
       "      <td>-116.834700</td>\n",
       "      <td>32.584800</td>\n",
       "      <td>1996-05-17</td>\n",
       "      <td>1996-05-17</td>\n",
       "      <td>0.2</td>\n",
       "      <td>0.1</td>\n",
       "      <td>36</td>\n",
       "      <td>0.1</td>\n",
       "      <td>32.566667</td>\n",
       "      <td>-116.850000</td>\n",
       "      <td>2.471389</td>\n",
       "    </tr>\n",
       "    <tr>\n",
       "      <th>3</th>\n",
       "      <td>-117.128889</td>\n",
       "      <td>33.218889</td>\n",
       "      <td>1997-07-22</td>\n",
       "      <td>1997-08-07</td>\n",
       "      <td>80.0</td>\n",
       "      <td>1.0</td>\n",
       "      <td>21</td>\n",
       "      <td>79.0</td>\n",
       "      <td>33.233333</td>\n",
       "      <td>-117.141667</td>\n",
       "      <td>1.996268</td>\n",
       "    </tr>\n",
       "    <tr>\n",
       "      <th>4</th>\n",
       "      <td>-116.834700</td>\n",
       "      <td>32.584800</td>\n",
       "      <td>1996-06-10</td>\n",
       "      <td>1996-06-10</td>\n",
       "      <td>0.3</td>\n",
       "      <td>0.3</td>\n",
       "      <td>19</td>\n",
       "      <td>0.0</td>\n",
       "      <td>32.566667</td>\n",
       "      <td>-116.850000</td>\n",
       "      <td>2.471389</td>\n",
       "    </tr>\n",
       "  </tbody>\n",
       "</table>\n",
       "</div>"
      ],
      "text/plain": [
       "    LONGITUDE   LATITUDE DISCOVERY_DATE  CONT_DATE  max_FIRE_SIZE  \\\n",
       "0 -122.315000  41.298889     1995-08-10 1995-08-26            0.1   \n",
       "1 -116.834700  32.584800     1996-04-15 1996-04-15         1402.0   \n",
       "2 -116.834700  32.584800     1996-05-17 1996-05-17            0.2   \n",
       "3 -117.128889  33.218889     1997-07-22 1997-08-07           80.0   \n",
       "4 -116.834700  32.584800     1996-06-10 1996-06-10            0.3   \n",
       "\n",
       "   min_FIRE_SIZE  FOD_ID_cnt  diff_FIRE_SIZE  NEAREST_LAT  NEAREST_LON  \\\n",
       "0            0.1          91             0.0    41.316667  -122.308333   \n",
       "1            0.1          64          1401.9    32.566667  -116.850000   \n",
       "2            0.1          36             0.1    32.566667  -116.850000   \n",
       "3            1.0          21            79.0    33.233333  -117.141667   \n",
       "4            0.3          19             0.0    32.566667  -116.850000   \n",
       "\n",
       "   DISTANCE_KM  \n",
       "0     2.051812  \n",
       "1     2.471389  \n",
       "2     2.471389  \n",
       "3     1.996268  \n",
       "4     2.471389  "
      ]
     },
     "execution_count": 16,
     "metadata": {},
     "output_type": "execute_result"
    }
   ],
   "source": [
    "fire_data.head()"
   ]
  },
  {
   "cell_type": "code",
   "execution_count": 17,
   "metadata": {},
   "outputs": [
    {
     "data": {
      "text/plain": [
       "LONGITUDE         0.0\n",
       "LATITUDE          0.0\n",
       "DISCOVERY_DATE    0.0\n",
       "CONT_DATE         0.0\n",
       "max_FIRE_SIZE     0.0\n",
       "min_FIRE_SIZE     0.0\n",
       "FOD_ID_cnt        0.0\n",
       "diff_FIRE_SIZE    0.0\n",
       "NEAREST_LAT       0.0\n",
       "NEAREST_LON       0.0\n",
       "DISTANCE_KM       0.0\n",
       "dtype: float64"
      ]
     },
     "execution_count": 17,
     "metadata": {},
     "output_type": "execute_result"
    }
   ],
   "source": [
    "fire_data.isnull().mean()"
   ]
  },
  {
   "cell_type": "code",
   "execution_count": 19,
   "metadata": {},
   "outputs": [
    {
     "data": {
      "text/plain": [
       "LONGITUDE                float64\n",
       "LATITUDE                 float64\n",
       "DISCOVERY_DATE    datetime64[ns]\n",
       "CONT_DATE         datetime64[ns]\n",
       "max_FIRE_SIZE            float64\n",
       "min_FIRE_SIZE            float64\n",
       "FOD_ID_cnt                 int64\n",
       "diff_FIRE_SIZE           float64\n",
       "NEAREST_LAT              float64\n",
       "NEAREST_LON              float64\n",
       "DISTANCE_KM              float64\n",
       "dtype: object"
      ]
     },
     "execution_count": 19,
     "metadata": {},
     "output_type": "execute_result"
    }
   ],
   "source": [
    "fire_data.dtypes"
   ]
  },
  {
   "cell_type": "code",
   "execution_count": 22,
   "metadata": {},
   "outputs": [
    {
     "data": {
      "text/plain": [
       "0"
      ]
     },
     "execution_count": 22,
     "metadata": {},
     "output_type": "execute_result"
    }
   ],
   "source": [
    "# check if there is rows that have CONT_DATE < DISCOVERY_DATE\n",
    "(fire_data['CONT_DATE'] < fire_data['DISCOVERY_DATE']).sum()"
   ]
  },
  {
   "cell_type": "code",
   "execution_count": 21,
   "metadata": {},
   "outputs": [
    {
     "data": {
      "text/plain": [
       "0"
      ]
     },
     "execution_count": 21,
     "metadata": {},
     "output_type": "execute_result"
    }
   ],
   "source": [
    "columns_to_show = ['LONGITUDE','LATITUDE','DISCOVERY_DATE','CONT_DATE']\n",
    "fire_data[columns_to_show].duplicated().sum()"
   ]
  },
  {
   "cell_type": "code",
   "execution_count": 20,
   "metadata": {},
   "outputs": [
    {
     "data": {
      "text/plain": [
       "3280"
      ]
     },
     "execution_count": 20,
     "metadata": {},
     "output_type": "execute_result"
    }
   ],
   "source": [
    "columns_to_show = ['NEAREST_LON','NEAREST_LAT','DISCOVERY_DATE','CONT_DATE']\n",
    "fire_data[columns_to_show].duplicated().sum()"
   ]
  },
  {
   "cell_type": "markdown",
   "metadata": {},
   "source": [
    "this means some fire events which happen to be in the same dates and are pretty close so being matched to the same weather grid."
   ]
  },
  {
   "cell_type": "markdown",
   "metadata": {},
   "source": [
    "## Dedup"
   ]
  },
  {
   "cell_type": "code",
   "execution_count": 23,
   "metadata": {},
   "outputs": [
    {
     "name": "stdout",
     "output_type": "stream",
     "text": [
      "before deduplication, the shape of fire data is (164506, 11)\n",
      "after deduplication, the shape of fire data is (161226, 6)\n"
     ]
    }
   ],
   "source": [
    "print(f\"before deduplication, the shape of fire data is {fire_data.shape}\")\n",
    "\n",
    "column_to_group = ['NEAREST_LON','NEAREST_LAT','DISCOVERY_DATE','CONT_DATE']\n",
    "# group by ['NEAREST_LON','NEAREST_LAT','DISCOVERY_DATE','CONT_DATE'], and get min of column 'min_FIRE_SIZE', max of column 'max_FIRE_SIZE'\n",
    "fire_data = fire_data.groupby(column_to_group).agg({'min_FIRE_SIZE': 'min', 'max_FIRE_SIZE': 'max'}).reset_index()\n",
    "\n",
    "print(f\"after deduplication, the shape of fire data is {fire_data.shape}\")"
   ]
  },
  {
   "cell_type": "code",
   "execution_count": 25,
   "metadata": {},
   "outputs": [],
   "source": [
    "fire_data = fire_data.rename(columns={'NEAREST_LON': 'lon', 'NEAREST_LAT': 'lat'})"
   ]
  },
  {
   "cell_type": "code",
   "execution_count": 26,
   "metadata": {},
   "outputs": [
    {
     "data": {
      "text/html": [
       "<div>\n",
       "<style scoped>\n",
       "    .dataframe tbody tr th:only-of-type {\n",
       "        vertical-align: middle;\n",
       "    }\n",
       "\n",
       "    .dataframe tbody tr th {\n",
       "        vertical-align: top;\n",
       "    }\n",
       "\n",
       "    .dataframe thead th {\n",
       "        text-align: right;\n",
       "    }\n",
       "</style>\n",
       "<table border=\"1\" class=\"dataframe\">\n",
       "  <thead>\n",
       "    <tr style=\"text-align: right;\">\n",
       "      <th></th>\n",
       "      <th>lon</th>\n",
       "      <th>lat</th>\n",
       "      <th>DISCOVERY_DATE</th>\n",
       "      <th>CONT_DATE</th>\n",
       "      <th>min_FIRE_SIZE</th>\n",
       "      <th>max_FIRE_SIZE</th>\n",
       "    </tr>\n",
       "  </thead>\n",
       "  <tbody>\n",
       "    <tr>\n",
       "      <th>0</th>\n",
       "      <td>-124.391667</td>\n",
       "      <td>40.400000</td>\n",
       "      <td>2007-07-14</td>\n",
       "      <td>2007-07-14</td>\n",
       "      <td>0.1</td>\n",
       "      <td>0.1</td>\n",
       "    </tr>\n",
       "    <tr>\n",
       "      <th>1</th>\n",
       "      <td>-124.391667</td>\n",
       "      <td>40.441667</td>\n",
       "      <td>1998-10-05</td>\n",
       "      <td>1998-10-21</td>\n",
       "      <td>7.0</td>\n",
       "      <td>7.0</td>\n",
       "    </tr>\n",
       "    <tr>\n",
       "      <th>2</th>\n",
       "      <td>-124.391667</td>\n",
       "      <td>40.441667</td>\n",
       "      <td>2001-07-17</td>\n",
       "      <td>2001-07-17</td>\n",
       "      <td>0.1</td>\n",
       "      <td>0.1</td>\n",
       "    </tr>\n",
       "    <tr>\n",
       "      <th>3</th>\n",
       "      <td>-124.391667</td>\n",
       "      <td>40.441667</td>\n",
       "      <td>2005-09-24</td>\n",
       "      <td>2005-09-24</td>\n",
       "      <td>0.1</td>\n",
       "      <td>0.1</td>\n",
       "    </tr>\n",
       "    <tr>\n",
       "      <th>4</th>\n",
       "      <td>-124.391667</td>\n",
       "      <td>40.441667</td>\n",
       "      <td>2012-10-20</td>\n",
       "      <td>2012-11-05</td>\n",
       "      <td>0.1</td>\n",
       "      <td>0.1</td>\n",
       "    </tr>\n",
       "  </tbody>\n",
       "</table>\n",
       "</div>"
      ],
      "text/plain": [
       "          lon        lat DISCOVERY_DATE  CONT_DATE  min_FIRE_SIZE  \\\n",
       "0 -124.391667  40.400000     2007-07-14 2007-07-14            0.1   \n",
       "1 -124.391667  40.441667     1998-10-05 1998-10-21            7.0   \n",
       "2 -124.391667  40.441667     2001-07-17 2001-07-17            0.1   \n",
       "3 -124.391667  40.441667     2005-09-24 2005-09-24            0.1   \n",
       "4 -124.391667  40.441667     2012-10-20 2012-11-05            0.1   \n",
       "\n",
       "   max_FIRE_SIZE  \n",
       "0            0.1  \n",
       "1            7.0  \n",
       "2            0.1  \n",
       "3            0.1  \n",
       "4            0.1  "
      ]
     },
     "execution_count": 26,
     "metadata": {},
     "output_type": "execute_result"
    }
   ],
   "source": [
    "fire_data.head()"
   ]
  },
  {
   "cell_type": "markdown",
   "metadata": {},
   "source": [
    "## Assign Fire Label to each grid on each day"
   ]
  },
  {
   "cell_type": "markdown",
   "metadata": {},
   "source": [
    "For each location, for days\n",
    "- DISCOVERY_DATE date -4, DISCOVERY_DATE date -1: remove\n",
    "- DISCOVERY_DATE date: label 1\n",
    "- DISCOVERY_DATE date - cont date: remove"
   ]
  },
  {
   "cell_type": "code",
   "execution_count": 27,
   "metadata": {},
   "outputs": [
    {
     "data": {
      "text/plain": [
       "0"
      ]
     },
     "execution_count": 27,
     "metadata": {},
     "output_type": "execute_result"
    }
   ],
   "source": [
    "# check if there is any duplicate\n",
    "fire_data.duplicated().sum()"
   ]
  },
  {
   "cell_type": "code",
   "execution_count": 28,
   "metadata": {},
   "outputs": [
    {
     "data": {
      "text/plain": [
       "lon                      float64\n",
       "lat                      float64\n",
       "DISCOVERY_DATE    datetime64[ns]\n",
       "CONT_DATE         datetime64[ns]\n",
       "min_FIRE_SIZE            float64\n",
       "max_FIRE_SIZE            float64\n",
       "dtype: object"
      ]
     },
     "execution_count": 28,
     "metadata": {},
     "output_type": "execute_result"
    }
   ],
   "source": [
    "fire_data.dtypes"
   ]
  },
  {
   "cell_type": "code",
   "execution_count": 29,
   "metadata": {},
   "outputs": [
    {
     "data": {
      "text/plain": [
       "(161226, 6)"
      ]
     },
     "execution_count": 29,
     "metadata": {},
     "output_type": "execute_result"
    }
   ],
   "source": [
    "fire_data.shape"
   ]
  },
  {
   "cell_type": "code",
   "execution_count": 30,
   "metadata": {},
   "outputs": [],
   "source": [
    "# Function to expand each row\n",
    "def expand_dates(row):\n",
    "    start_date = row['DISCOVERY_DATE'] - pd.Timedelta(days=4)\n",
    "    end_date = row['CONT_DATE']\n",
    "    date_range = pd.date_range(start=start_date, end=end_date)\n",
    "    return pd.DataFrame({\n",
    "        'lon': row['lon'],\n",
    "        'lat': row['lat'],\n",
    "        'min_FIRE_SIZE': row['min_FIRE_SIZE'],\n",
    "        'max_FIRE_SIZE': row['max_FIRE_SIZE'],\n",
    "        'DATE': date_range,\n",
    "        'IS_DISCOVERY_DATE': date_range == row['DISCOVERY_DATE']\n",
    "    })\n",
    "\n",
    "# Apply the function to each row and concatenate the results\n",
    "expanded_fire_data = pd.concat(fire_data.apply(expand_dates, axis=1).to_list(), ignore_index=True)"
   ]
  },
  {
   "cell_type": "code",
   "execution_count": 35,
   "metadata": {},
   "outputs": [
    {
     "data": {
      "text/html": [
       "<div>\n",
       "<style scoped>\n",
       "    .dataframe tbody tr th:only-of-type {\n",
       "        vertical-align: middle;\n",
       "    }\n",
       "\n",
       "    .dataframe tbody tr th {\n",
       "        vertical-align: top;\n",
       "    }\n",
       "\n",
       "    .dataframe thead th {\n",
       "        text-align: right;\n",
       "    }\n",
       "</style>\n",
       "<table border=\"1\" class=\"dataframe\">\n",
       "  <thead>\n",
       "    <tr style=\"text-align: right;\">\n",
       "      <th></th>\n",
       "      <th>lon</th>\n",
       "      <th>lat</th>\n",
       "      <th>DISCOVERY_DATE</th>\n",
       "      <th>CONT_DATE</th>\n",
       "      <th>min_FIRE_SIZE</th>\n",
       "      <th>max_FIRE_SIZE</th>\n",
       "    </tr>\n",
       "  </thead>\n",
       "  <tbody>\n",
       "    <tr>\n",
       "      <th>0</th>\n",
       "      <td>-124.391667</td>\n",
       "      <td>40.400000</td>\n",
       "      <td>2007-07-14</td>\n",
       "      <td>2007-07-14</td>\n",
       "      <td>0.1</td>\n",
       "      <td>0.1</td>\n",
       "    </tr>\n",
       "    <tr>\n",
       "      <th>1</th>\n",
       "      <td>-124.391667</td>\n",
       "      <td>40.441667</td>\n",
       "      <td>1998-10-05</td>\n",
       "      <td>1998-10-21</td>\n",
       "      <td>7.0</td>\n",
       "      <td>7.0</td>\n",
       "    </tr>\n",
       "    <tr>\n",
       "      <th>2</th>\n",
       "      <td>-124.391667</td>\n",
       "      <td>40.441667</td>\n",
       "      <td>2001-07-17</td>\n",
       "      <td>2001-07-17</td>\n",
       "      <td>0.1</td>\n",
       "      <td>0.1</td>\n",
       "    </tr>\n",
       "  </tbody>\n",
       "</table>\n",
       "</div>"
      ],
      "text/plain": [
       "          lon        lat DISCOVERY_DATE  CONT_DATE  min_FIRE_SIZE  \\\n",
       "0 -124.391667  40.400000     2007-07-14 2007-07-14            0.1   \n",
       "1 -124.391667  40.441667     1998-10-05 1998-10-21            7.0   \n",
       "2 -124.391667  40.441667     2001-07-17 2001-07-17            0.1   \n",
       "\n",
       "   max_FIRE_SIZE  \n",
       "0            0.1  \n",
       "1            7.0  \n",
       "2            0.1  "
      ]
     },
     "execution_count": 35,
     "metadata": {},
     "output_type": "execute_result"
    }
   ],
   "source": [
    "fire_data.head(3)"
   ]
  },
  {
   "cell_type": "code",
   "execution_count": 34,
   "metadata": {},
   "outputs": [
    {
     "data": {
      "text/html": [
       "<div>\n",
       "<style scoped>\n",
       "    .dataframe tbody tr th:only-of-type {\n",
       "        vertical-align: middle;\n",
       "    }\n",
       "\n",
       "    .dataframe tbody tr th {\n",
       "        vertical-align: top;\n",
       "    }\n",
       "\n",
       "    .dataframe thead th {\n",
       "        text-align: right;\n",
       "    }\n",
       "</style>\n",
       "<table border=\"1\" class=\"dataframe\">\n",
       "  <thead>\n",
       "    <tr style=\"text-align: right;\">\n",
       "      <th></th>\n",
       "      <th>lon</th>\n",
       "      <th>lat</th>\n",
       "      <th>min_FIRE_SIZE</th>\n",
       "      <th>max_FIRE_SIZE</th>\n",
       "      <th>DATE</th>\n",
       "      <th>IS_DISCOVERY_DATE</th>\n",
       "    </tr>\n",
       "  </thead>\n",
       "  <tbody>\n",
       "    <tr>\n",
       "      <th>0</th>\n",
       "      <td>-124.391667</td>\n",
       "      <td>40.400000</td>\n",
       "      <td>0.1</td>\n",
       "      <td>0.1</td>\n",
       "      <td>2007-07-10</td>\n",
       "      <td>False</td>\n",
       "    </tr>\n",
       "    <tr>\n",
       "      <th>1</th>\n",
       "      <td>-124.391667</td>\n",
       "      <td>40.400000</td>\n",
       "      <td>0.1</td>\n",
       "      <td>0.1</td>\n",
       "      <td>2007-07-11</td>\n",
       "      <td>False</td>\n",
       "    </tr>\n",
       "    <tr>\n",
       "      <th>2</th>\n",
       "      <td>-124.391667</td>\n",
       "      <td>40.400000</td>\n",
       "      <td>0.1</td>\n",
       "      <td>0.1</td>\n",
       "      <td>2007-07-12</td>\n",
       "      <td>False</td>\n",
       "    </tr>\n",
       "    <tr>\n",
       "      <th>3</th>\n",
       "      <td>-124.391667</td>\n",
       "      <td>40.400000</td>\n",
       "      <td>0.1</td>\n",
       "      <td>0.1</td>\n",
       "      <td>2007-07-13</td>\n",
       "      <td>False</td>\n",
       "    </tr>\n",
       "    <tr>\n",
       "      <th>4</th>\n",
       "      <td>-124.391667</td>\n",
       "      <td>40.400000</td>\n",
       "      <td>0.1</td>\n",
       "      <td>0.1</td>\n",
       "      <td>2007-07-14</td>\n",
       "      <td>True</td>\n",
       "    </tr>\n",
       "    <tr>\n",
       "      <th>5</th>\n",
       "      <td>-124.391667</td>\n",
       "      <td>40.441667</td>\n",
       "      <td>7.0</td>\n",
       "      <td>7.0</td>\n",
       "      <td>1998-10-01</td>\n",
       "      <td>False</td>\n",
       "    </tr>\n",
       "    <tr>\n",
       "      <th>6</th>\n",
       "      <td>-124.391667</td>\n",
       "      <td>40.441667</td>\n",
       "      <td>7.0</td>\n",
       "      <td>7.0</td>\n",
       "      <td>1998-10-02</td>\n",
       "      <td>False</td>\n",
       "    </tr>\n",
       "    <tr>\n",
       "      <th>7</th>\n",
       "      <td>-124.391667</td>\n",
       "      <td>40.441667</td>\n",
       "      <td>7.0</td>\n",
       "      <td>7.0</td>\n",
       "      <td>1998-10-03</td>\n",
       "      <td>False</td>\n",
       "    </tr>\n",
       "    <tr>\n",
       "      <th>8</th>\n",
       "      <td>-124.391667</td>\n",
       "      <td>40.441667</td>\n",
       "      <td>7.0</td>\n",
       "      <td>7.0</td>\n",
       "      <td>1998-10-04</td>\n",
       "      <td>False</td>\n",
       "    </tr>\n",
       "    <tr>\n",
       "      <th>9</th>\n",
       "      <td>-124.391667</td>\n",
       "      <td>40.441667</td>\n",
       "      <td>7.0</td>\n",
       "      <td>7.0</td>\n",
       "      <td>1998-10-05</td>\n",
       "      <td>True</td>\n",
       "    </tr>\n",
       "    <tr>\n",
       "      <th>10</th>\n",
       "      <td>-124.391667</td>\n",
       "      <td>40.441667</td>\n",
       "      <td>7.0</td>\n",
       "      <td>7.0</td>\n",
       "      <td>1998-10-06</td>\n",
       "      <td>False</td>\n",
       "    </tr>\n",
       "    <tr>\n",
       "      <th>11</th>\n",
       "      <td>-124.391667</td>\n",
       "      <td>40.441667</td>\n",
       "      <td>7.0</td>\n",
       "      <td>7.0</td>\n",
       "      <td>1998-10-07</td>\n",
       "      <td>False</td>\n",
       "    </tr>\n",
       "    <tr>\n",
       "      <th>12</th>\n",
       "      <td>-124.391667</td>\n",
       "      <td>40.441667</td>\n",
       "      <td>7.0</td>\n",
       "      <td>7.0</td>\n",
       "      <td>1998-10-08</td>\n",
       "      <td>False</td>\n",
       "    </tr>\n",
       "    <tr>\n",
       "      <th>13</th>\n",
       "      <td>-124.391667</td>\n",
       "      <td>40.441667</td>\n",
       "      <td>7.0</td>\n",
       "      <td>7.0</td>\n",
       "      <td>1998-10-09</td>\n",
       "      <td>False</td>\n",
       "    </tr>\n",
       "    <tr>\n",
       "      <th>14</th>\n",
       "      <td>-124.391667</td>\n",
       "      <td>40.441667</td>\n",
       "      <td>7.0</td>\n",
       "      <td>7.0</td>\n",
       "      <td>1998-10-10</td>\n",
       "      <td>False</td>\n",
       "    </tr>\n",
       "    <tr>\n",
       "      <th>15</th>\n",
       "      <td>-124.391667</td>\n",
       "      <td>40.441667</td>\n",
       "      <td>7.0</td>\n",
       "      <td>7.0</td>\n",
       "      <td>1998-10-11</td>\n",
       "      <td>False</td>\n",
       "    </tr>\n",
       "    <tr>\n",
       "      <th>16</th>\n",
       "      <td>-124.391667</td>\n",
       "      <td>40.441667</td>\n",
       "      <td>7.0</td>\n",
       "      <td>7.0</td>\n",
       "      <td>1998-10-12</td>\n",
       "      <td>False</td>\n",
       "    </tr>\n",
       "    <tr>\n",
       "      <th>17</th>\n",
       "      <td>-124.391667</td>\n",
       "      <td>40.441667</td>\n",
       "      <td>7.0</td>\n",
       "      <td>7.0</td>\n",
       "      <td>1998-10-13</td>\n",
       "      <td>False</td>\n",
       "    </tr>\n",
       "    <tr>\n",
       "      <th>18</th>\n",
       "      <td>-124.391667</td>\n",
       "      <td>40.441667</td>\n",
       "      <td>7.0</td>\n",
       "      <td>7.0</td>\n",
       "      <td>1998-10-14</td>\n",
       "      <td>False</td>\n",
       "    </tr>\n",
       "    <tr>\n",
       "      <th>19</th>\n",
       "      <td>-124.391667</td>\n",
       "      <td>40.441667</td>\n",
       "      <td>7.0</td>\n",
       "      <td>7.0</td>\n",
       "      <td>1998-10-15</td>\n",
       "      <td>False</td>\n",
       "    </tr>\n",
       "    <tr>\n",
       "      <th>20</th>\n",
       "      <td>-124.391667</td>\n",
       "      <td>40.441667</td>\n",
       "      <td>7.0</td>\n",
       "      <td>7.0</td>\n",
       "      <td>1998-10-16</td>\n",
       "      <td>False</td>\n",
       "    </tr>\n",
       "    <tr>\n",
       "      <th>21</th>\n",
       "      <td>-124.391667</td>\n",
       "      <td>40.441667</td>\n",
       "      <td>7.0</td>\n",
       "      <td>7.0</td>\n",
       "      <td>1998-10-17</td>\n",
       "      <td>False</td>\n",
       "    </tr>\n",
       "    <tr>\n",
       "      <th>22</th>\n",
       "      <td>-124.391667</td>\n",
       "      <td>40.441667</td>\n",
       "      <td>7.0</td>\n",
       "      <td>7.0</td>\n",
       "      <td>1998-10-18</td>\n",
       "      <td>False</td>\n",
       "    </tr>\n",
       "    <tr>\n",
       "      <th>23</th>\n",
       "      <td>-124.391667</td>\n",
       "      <td>40.441667</td>\n",
       "      <td>7.0</td>\n",
       "      <td>7.0</td>\n",
       "      <td>1998-10-19</td>\n",
       "      <td>False</td>\n",
       "    </tr>\n",
       "    <tr>\n",
       "      <th>24</th>\n",
       "      <td>-124.391667</td>\n",
       "      <td>40.441667</td>\n",
       "      <td>7.0</td>\n",
       "      <td>7.0</td>\n",
       "      <td>1998-10-20</td>\n",
       "      <td>False</td>\n",
       "    </tr>\n",
       "    <tr>\n",
       "      <th>25</th>\n",
       "      <td>-124.391667</td>\n",
       "      <td>40.441667</td>\n",
       "      <td>7.0</td>\n",
       "      <td>7.0</td>\n",
       "      <td>1998-10-21</td>\n",
       "      <td>False</td>\n",
       "    </tr>\n",
       "    <tr>\n",
       "      <th>26</th>\n",
       "      <td>-124.391667</td>\n",
       "      <td>40.441667</td>\n",
       "      <td>0.1</td>\n",
       "      <td>0.1</td>\n",
       "      <td>2001-07-13</td>\n",
       "      <td>False</td>\n",
       "    </tr>\n",
       "  </tbody>\n",
       "</table>\n",
       "</div>"
      ],
      "text/plain": [
       "           lon        lat  min_FIRE_SIZE  max_FIRE_SIZE       DATE  \\\n",
       "0  -124.391667  40.400000            0.1            0.1 2007-07-10   \n",
       "1  -124.391667  40.400000            0.1            0.1 2007-07-11   \n",
       "2  -124.391667  40.400000            0.1            0.1 2007-07-12   \n",
       "3  -124.391667  40.400000            0.1            0.1 2007-07-13   \n",
       "4  -124.391667  40.400000            0.1            0.1 2007-07-14   \n",
       "5  -124.391667  40.441667            7.0            7.0 1998-10-01   \n",
       "6  -124.391667  40.441667            7.0            7.0 1998-10-02   \n",
       "7  -124.391667  40.441667            7.0            7.0 1998-10-03   \n",
       "8  -124.391667  40.441667            7.0            7.0 1998-10-04   \n",
       "9  -124.391667  40.441667            7.0            7.0 1998-10-05   \n",
       "10 -124.391667  40.441667            7.0            7.0 1998-10-06   \n",
       "11 -124.391667  40.441667            7.0            7.0 1998-10-07   \n",
       "12 -124.391667  40.441667            7.0            7.0 1998-10-08   \n",
       "13 -124.391667  40.441667            7.0            7.0 1998-10-09   \n",
       "14 -124.391667  40.441667            7.0            7.0 1998-10-10   \n",
       "15 -124.391667  40.441667            7.0            7.0 1998-10-11   \n",
       "16 -124.391667  40.441667            7.0            7.0 1998-10-12   \n",
       "17 -124.391667  40.441667            7.0            7.0 1998-10-13   \n",
       "18 -124.391667  40.441667            7.0            7.0 1998-10-14   \n",
       "19 -124.391667  40.441667            7.0            7.0 1998-10-15   \n",
       "20 -124.391667  40.441667            7.0            7.0 1998-10-16   \n",
       "21 -124.391667  40.441667            7.0            7.0 1998-10-17   \n",
       "22 -124.391667  40.441667            7.0            7.0 1998-10-18   \n",
       "23 -124.391667  40.441667            7.0            7.0 1998-10-19   \n",
       "24 -124.391667  40.441667            7.0            7.0 1998-10-20   \n",
       "25 -124.391667  40.441667            7.0            7.0 1998-10-21   \n",
       "26 -124.391667  40.441667            0.1            0.1 2001-07-13   \n",
       "\n",
       "    IS_DISCOVERY_DATE  \n",
       "0               False  \n",
       "1               False  \n",
       "2               False  \n",
       "3               False  \n",
       "4                True  \n",
       "5               False  \n",
       "6               False  \n",
       "7               False  \n",
       "8               False  \n",
       "9                True  \n",
       "10              False  \n",
       "11              False  \n",
       "12              False  \n",
       "13              False  \n",
       "14              False  \n",
       "15              False  \n",
       "16              False  \n",
       "17              False  \n",
       "18              False  \n",
       "19              False  \n",
       "20              False  \n",
       "21              False  \n",
       "22              False  \n",
       "23              False  \n",
       "24              False  \n",
       "25              False  \n",
       "26              False  "
      ]
     },
     "execution_count": 34,
     "metadata": {},
     "output_type": "execute_result"
    }
   ],
   "source": [
    "# check row 1: row 6\n",
    "expanded_fire_data.head(27)"
   ]
  },
  {
   "cell_type": "code",
   "execution_count": 36,
   "metadata": {},
   "outputs": [
    {
     "data": {
      "text/plain": [
       "(1978630, 6)"
      ]
     },
     "execution_count": 36,
     "metadata": {},
     "output_type": "execute_result"
    }
   ],
   "source": [
    "expanded_fire_data.shape"
   ]
  },
  {
   "cell_type": "code",
   "execution_count": 37,
   "metadata": {},
   "outputs": [
    {
     "data": {
      "text/html": [
       "<div>\n",
       "<style scoped>\n",
       "    .dataframe tbody tr th:only-of-type {\n",
       "        vertical-align: middle;\n",
       "    }\n",
       "\n",
       "    .dataframe tbody tr th {\n",
       "        vertical-align: top;\n",
       "    }\n",
       "\n",
       "    .dataframe thead th {\n",
       "        text-align: right;\n",
       "    }\n",
       "</style>\n",
       "<table border=\"1\" class=\"dataframe\">\n",
       "  <thead>\n",
       "    <tr style=\"text-align: right;\">\n",
       "      <th></th>\n",
       "      <th>lon</th>\n",
       "      <th>lat</th>\n",
       "      <th>min_FIRE_SIZE</th>\n",
       "      <th>max_FIRE_SIZE</th>\n",
       "      <th>DATE</th>\n",
       "      <th>IS_DISCOVERY_DATE</th>\n",
       "    </tr>\n",
       "  </thead>\n",
       "  <tbody>\n",
       "    <tr>\n",
       "      <th>0</th>\n",
       "      <td>-124.391667</td>\n",
       "      <td>40.4</td>\n",
       "      <td>0.1</td>\n",
       "      <td>0.1</td>\n",
       "      <td>2007-07-10</td>\n",
       "      <td>False</td>\n",
       "    </tr>\n",
       "    <tr>\n",
       "      <th>1</th>\n",
       "      <td>-124.391667</td>\n",
       "      <td>40.4</td>\n",
       "      <td>0.1</td>\n",
       "      <td>0.1</td>\n",
       "      <td>2007-07-11</td>\n",
       "      <td>False</td>\n",
       "    </tr>\n",
       "    <tr>\n",
       "      <th>2</th>\n",
       "      <td>-124.391667</td>\n",
       "      <td>40.4</td>\n",
       "      <td>0.1</td>\n",
       "      <td>0.1</td>\n",
       "      <td>2007-07-12</td>\n",
       "      <td>False</td>\n",
       "    </tr>\n",
       "  </tbody>\n",
       "</table>\n",
       "</div>"
      ],
      "text/plain": [
       "          lon   lat  min_FIRE_SIZE  max_FIRE_SIZE       DATE  \\\n",
       "0 -124.391667  40.4            0.1            0.1 2007-07-10   \n",
       "1 -124.391667  40.4            0.1            0.1 2007-07-11   \n",
       "2 -124.391667  40.4            0.1            0.1 2007-07-12   \n",
       "\n",
       "   IS_DISCOVERY_DATE  \n",
       "0              False  \n",
       "1              False  \n",
       "2              False  "
      ]
     },
     "execution_count": 37,
     "metadata": {},
     "output_type": "execute_result"
    }
   ],
   "source": [
    "expanded_fire_data.head(3)"
   ]
  },
  {
   "cell_type": "code",
   "execution_count": null,
   "metadata": {},
   "outputs": [],
   "source": [
    "# further dedup, even if some fire event have different end date, as long as they have the same lon, lat, and start date, we can consider them as the same event\n",
    "expanded_fire_data = expanded_fire_data.groupby(['lon', 'lat', 'DATE']).agg(\n",
    "    IS_DISCOVERY_DATE=('IS_DISCOVERY_DATE', 'any'),\n",
    "    min_FIRE_SIZE=('min_FIRE_SIZE', 'min'),\n",
    "    max_FIRE_SIZE=('max_FIRE_SIZE', 'max')\n",
    ").reset_index()"
   ]
  },
  {
   "cell_type": "code",
   "execution_count": 39,
   "metadata": {},
   "outputs": [
    {
     "data": {
      "text/plain": [
       "(1789496, 6)"
      ]
     },
     "execution_count": 39,
     "metadata": {},
     "output_type": "execute_result"
    }
   ],
   "source": [
    "expanded_fire_data.shape"
   ]
  },
  {
   "cell_type": "code",
   "execution_count": 40,
   "metadata": {},
   "outputs": [
    {
     "data": {
      "text/plain": [
       "lon                  0\n",
       "lat                  0\n",
       "DATE                 0\n",
       "IS_DISCOVERY_DATE    0\n",
       "min_FIRE_SIZE        0\n",
       "max_FIRE_SIZE        0\n",
       "dtype: int64"
      ]
     },
     "execution_count": 40,
     "metadata": {},
     "output_type": "execute_result"
    }
   ],
   "source": [
    "# check if there is any missing value\n",
    "expanded_fire_data.isnull().sum()"
   ]
  },
  {
   "cell_type": "code",
   "execution_count": 41,
   "metadata": {},
   "outputs": [
    {
     "data": {
      "text/plain": [
       "0"
      ]
     },
     "execution_count": 41,
     "metadata": {},
     "output_type": "execute_result"
    }
   ],
   "source": [
    "# check if there is any duplicate  \n",
    "expanded_fire_data.duplicated().sum()"
   ]
  },
  {
   "cell_type": "code",
   "execution_count": 42,
   "metadata": {},
   "outputs": [],
   "source": [
    "expanded_fire_data = expanded_fire_data.rename(columns={'DATE': 'day'})"
   ]
  },
  {
   "cell_type": "code",
   "execution_count": 43,
   "metadata": {},
   "outputs": [
    {
     "data": {
      "text/plain": [
       "IS_DISCOVERY_DATE\n",
       "False    1629185\n",
       "True      160311\n",
       "Name: count, dtype: int64"
      ]
     },
     "execution_count": 43,
     "metadata": {},
     "output_type": "execute_result"
    }
   ],
   "source": [
    "# freq table of IS_ALARM_DATE\n",
    "expanded_fire_data['IS_DISCOVERY_DATE'].value_counts()"
   ]
  },
  {
   "cell_type": "code",
   "execution_count": 45,
   "metadata": {},
   "outputs": [
    {
     "data": {
      "text/plain": [
       "lon                         float64\n",
       "lat                         float64\n",
       "day                  datetime64[ns]\n",
       "IS_DISCOVERY_DATE              bool\n",
       "min_FIRE_SIZE               float64\n",
       "max_FIRE_SIZE               float64\n",
       "dtype: object"
      ]
     },
     "execution_count": 45,
     "metadata": {},
     "output_type": "execute_result"
    }
   ],
   "source": [
    "expanded_fire_data.dtypes"
   ]
  },
  {
   "cell_type": "markdown",
   "metadata": {},
   "source": [
    "#### pre-investigation on why # of fire event decreased by half after joining w weather grid"
   ]
  },
  {
   "cell_type": "code",
   "execution_count": null,
   "metadata": {},
   "outputs": [],
   "source": [
    "fire_data_location = expanded_fire_data.merge(\n",
    "    weather_data,\n",
    "    on=['lon', 'lat', 'day'],\n",
    "    how='left',\n",
    "    indicator='in_weather_data'\n",
    ")\n",
    "\n",
    "fire_data_location['in_weather_data'] = fire_data_location['in_weather_data'] == 'both'\n",
    "\n",
    "fire_data_location = fire_data_location.groupby(['lon', 'lat']).agg({\n",
    "    'in_weather_data': 'any',\n",
    "}).reset_index()"
   ]
  },
  {
   "cell_type": "code",
   "execution_count": 61,
   "metadata": {},
   "outputs": [
    {
     "data": {
      "image/png": "[encoded data removed]",
      "text/plain": [
       "<Figure size 1000x1000 with 1 Axes>"
      ]
     },
     "metadata": {},
     "output_type": "display_data"
    }
   ],
   "source": [
    "# plot a map to show lon, lat with in_weather_data True\n",
    "plt.figure(figsize=(10, 10))\n",
    "plt.scatter(\n",
    "    fire_data_location[fire_data_location['in_weather_data']]['lon'],\n",
    "    fire_data_location[fire_data_location['in_weather_data']]['lat'],\n",
    "    c='blue',\n",
    "    s=1,\n",
    "    label='In Weather Data'\n",
    ")\n",
    "plt.scatter(\n",
    "    fire_data_location[~fire_data_location['in_weather_data']]['lon'],\n",
    "    fire_data_location[~fire_data_location['in_weather_data']]['lat'],\n",
    "    c='red',\n",
    "    s=1,\n",
    "    label='Not In Weather Data'\n",
    ")\n",
    "plt.xlabel('Longitude')\n",
    "plt.ylabel('Latitude')\n",
    "plt.title('Fire Data Locations with Weather + Veg + SubRegion Data Availability')\n",
    "plt.legend()\n",
    "plt.grid(True)\n",
    "plt.show()"
   ]
  },
  {
   "cell_type": "code",
   "execution_count": 58,
   "metadata": {},
   "outputs": [
    {
     "data": {
      "text/plain": [
       "in_weather_data\n",
       "True     9049\n",
       "False    5419\n",
       "Name: count, dtype: int64"
      ]
     },
     "execution_count": 58,
     "metadata": {},
     "output_type": "execute_result"
    }
   ],
   "source": [
    "fire_data_location['in_weather_data'].value_counts()"
   ]
  },
  {
   "cell_type": "markdown",
   "metadata": {},
   "source": [
    "#### Merge"
   ]
  },
  {
   "cell_type": "code",
   "execution_count": 46,
   "metadata": {},
   "outputs": [
    {
     "name": "stdout",
     "output_type": "stream",
     "text": [
      "weather_data has 142966936 rows and 3 columns before merging\n",
      "weather_data has 142966936 rows and 6 columns after merging\n"
     ]
    }
   ],
   "source": [
    "print(f'weather_data has {weather_data.shape[0]} rows and {weather_data.shape[1]} columns before merging')\n",
    "weather_data = weather_data.merge(expanded_fire_data, on=['lon', 'lat', 'day'], how='left')\n",
    "print(f'weather_data has {weather_data.shape[0]} rows and {weather_data.shape[1]} columns after merging')"
   ]
  },
  {
   "cell_type": "code",
   "execution_count": 62,
   "metadata": {},
   "outputs": [
    {
     "data": {
      "text/plain": [
       "IS_DISCOVERY_DATE\n",
       "False    846085\n",
       "True      92000\n",
       "Name: count, dtype: int64"
      ]
     },
     "execution_count": 62,
     "metadata": {},
     "output_type": "execute_result"
    }
   ],
   "source": [
    "weather_data['IS_DISCOVERY_DATE'].value_counts()"
   ]
  },
  {
   "cell_type": "code",
   "execution_count": 63,
   "metadata": {},
   "outputs": [
    {
     "name": "stdout",
     "output_type": "stream",
     "text": [
      "weather_data has 142966936 rows before removing IS_DISCOVERY_DATE is False\n",
      "weather_data has 142120851 rows after removing IS_DISCOVERY_DATE is False\n"
     ]
    }
   ],
   "source": [
    "# remove rows when IS_DISCOVERY_DATE is False bc we are not sure if there is a fire event on that day\n",
    "print(f'weather_data has {weather_data.shape[0]} rows before removing IS_DISCOVERY_DATE is False')\n",
    "# only keep rows when IS_DISCOVERY_DATE is True or NA\n",
    "weather_data = weather_data[weather_data['IS_DISCOVERY_DATE'].isna() | weather_data['IS_DISCOVERY_DATE']]\n",
    "print(f'weather_data has {weather_data.shape[0]} rows after removing IS_DISCOVERY_DATE is False')"
   ]
  },
  {
   "cell_type": "code",
   "execution_count": 66,
   "metadata": {},
   "outputs": [
    {
     "data": {
      "text/plain": [
       "846085"
      ]
     },
     "execution_count": 66,
     "metadata": {},
     "output_type": "execute_result"
    }
   ],
   "source": [
    "142966936-142120851 "
   ]
  },
  {
   "cell_type": "code",
   "execution_count": 64,
   "metadata": {},
   "outputs": [
    {
     "data": {
      "text/plain": [
       "IS_DISCOVERY_DATE\n",
       "True    92000\n",
       "Name: count, dtype: int64"
      ]
     },
     "execution_count": 64,
     "metadata": {},
     "output_type": "execute_result"
    }
   ],
   "source": [
    "# check IS_ALARM_DATE freq table\n",
    "weather_data['IS_DISCOVERY_DATE'].value_counts()"
   ]
  },
  {
   "cell_type": "code",
   "execution_count": 67,
   "metadata": {},
   "outputs": [],
   "source": [
    "# if IS_ALARM_DATE is NA, fill it with 0, else fill it with 1\n",
    "weather_data['IS_DISCOVERY_DATE'] = weather_data['IS_DISCOVERY_DATE'].fillna(0).astype(int)"
   ]
  },
  {
   "cell_type": "code",
   "execution_count": 68,
   "metadata": {},
   "outputs": [],
   "source": [
    "# rename IS_ALARM_DATE to IS_FIRE\n",
    "weather_data = weather_data.rename(columns={'IS_DISCOVERY_DATE': 'IS_FIRE'})"
   ]
  },
  {
   "cell_type": "code",
   "execution_count": 69,
   "metadata": {},
   "outputs": [
    {
     "data": {
      "text/plain": [
       "IS_FIRE\n",
       "0    142028851\n",
       "1        92000\n",
       "Name: count, dtype: int64"
      ]
     },
     "execution_count": 69,
     "metadata": {},
     "output_type": "execute_result"
    }
   ],
   "source": [
    "weather_data['IS_FIRE'].value_counts()"
   ]
  },
  {
   "cell_type": "code",
   "execution_count": 71,
   "metadata": {},
   "outputs": [
    {
     "data": {
      "text/plain": [
       "0.06473363996392056"
      ]
     },
     "execution_count": 71,
     "metadata": {},
     "output_type": "execute_result"
    }
   ],
   "source": [
    "92000*100/weather_data.shape[0] # fire event %: 0.065%"
   ]
  },
  {
   "cell_type": "code",
   "execution_count": 73,
   "metadata": {},
   "outputs": [
    {
     "data": {
      "text/plain": [
       "(Timestamp('1994-01-01 00:00:00'), Timestamp('2023-12-31 00:00:00'))"
      ]
     },
     "execution_count": 73,
     "metadata": {},
     "output_type": "execute_result"
    }
   ],
   "source": [
    "# check day range\n",
    "weather_data['day'].min(), weather_data['day'].max()"
   ]
  },
  {
   "cell_type": "code",
   "execution_count": 74,
   "metadata": {},
   "outputs": [
    {
     "name": "stdout",
     "output_type": "stream",
     "text": [
      "weather_data has 142120851 rows before filtering dates\n",
      "weather_data has 127833607 rows after filtering dates\n"
     ]
    }
   ],
   "source": [
    "# print current shape before filtering dates\n",
    "print(f'weather_data has {weather_data.shape[0]} rows before filtering dates')\n",
    "weather_data = weather_data[weather_data['day'] <= '2020-12-31']\n",
    "print(f'weather_data has {weather_data.shape[0]} rows after filtering dates')"
   ]
  },
  {
   "cell_type": "code",
   "execution_count": 75,
   "metadata": {},
   "outputs": [
    {
     "data": {
      "text/plain": [
       "(Timestamp('1994-01-01 00:00:00'), Timestamp('2020-12-31 00:00:00'))"
      ]
     },
     "execution_count": 75,
     "metadata": {},
     "output_type": "execute_result"
    }
   ],
   "source": [
    "# check day range\n",
    "weather_data['day'].min(), weather_data['day'].max()"
   ]
  },
  {
   "cell_type": "code",
   "execution_count": 76,
   "metadata": {},
   "outputs": [
    {
     "data": {
      "text/html": [
       "<div>\n",
       "<style scoped>\n",
       "    .dataframe tbody tr th:only-of-type {\n",
       "        vertical-align: middle;\n",
       "    }\n",
       "\n",
       "    .dataframe tbody tr th {\n",
       "        vertical-align: top;\n",
       "    }\n",
       "\n",
       "    .dataframe thead th {\n",
       "        text-align: right;\n",
       "    }\n",
       "</style>\n",
       "<table border=\"1\" class=\"dataframe\">\n",
       "  <thead>\n",
       "    <tr style=\"text-align: right;\">\n",
       "      <th></th>\n",
       "      <th>lon</th>\n",
       "      <th>lat</th>\n",
       "      <th>day</th>\n",
       "      <th>IS_FIRE</th>\n",
       "      <th>min_FIRE_SIZE</th>\n",
       "      <th>max_FIRE_SIZE</th>\n",
       "    </tr>\n",
       "  </thead>\n",
       "  <tbody>\n",
       "    <tr>\n",
       "      <th>0</th>\n",
       "      <td>-124.391667</td>\n",
       "      <td>40.441667</td>\n",
       "      <td>1994-01-01</td>\n",
       "      <td>0</td>\n",
       "      <td>NaN</td>\n",
       "      <td>NaN</td>\n",
       "    </tr>\n",
       "    <tr>\n",
       "      <th>1</th>\n",
       "      <td>-124.391667</td>\n",
       "      <td>40.441667</td>\n",
       "      <td>1994-01-02</td>\n",
       "      <td>0</td>\n",
       "      <td>NaN</td>\n",
       "      <td>NaN</td>\n",
       "    </tr>\n",
       "    <tr>\n",
       "      <th>2</th>\n",
       "      <td>-124.391667</td>\n",
       "      <td>40.441667</td>\n",
       "      <td>1994-01-03</td>\n",
       "      <td>0</td>\n",
       "      <td>NaN</td>\n",
       "      <td>NaN</td>\n",
       "    </tr>\n",
       "    <tr>\n",
       "      <th>3</th>\n",
       "      <td>-124.391667</td>\n",
       "      <td>40.441667</td>\n",
       "      <td>1994-01-04</td>\n",
       "      <td>0</td>\n",
       "      <td>NaN</td>\n",
       "      <td>NaN</td>\n",
       "    </tr>\n",
       "    <tr>\n",
       "      <th>4</th>\n",
       "      <td>-124.391667</td>\n",
       "      <td>40.441667</td>\n",
       "      <td>1994-01-05</td>\n",
       "      <td>0</td>\n",
       "      <td>NaN</td>\n",
       "      <td>NaN</td>\n",
       "    </tr>\n",
       "  </tbody>\n",
       "</table>\n",
       "</div>"
      ],
      "text/plain": [
       "          lon        lat        day  IS_FIRE  min_FIRE_SIZE  max_FIRE_SIZE\n",
       "0 -124.391667  40.441667 1994-01-01        0            NaN            NaN\n",
       "1 -124.391667  40.441667 1994-01-02        0            NaN            NaN\n",
       "2 -124.391667  40.441667 1994-01-03        0            NaN            NaN\n",
       "3 -124.391667  40.441667 1994-01-04        0            NaN            NaN\n",
       "4 -124.391667  40.441667 1994-01-05        0            NaN            NaN"
      ]
     },
     "execution_count": 76,
     "metadata": {},
     "output_type": "execute_result"
    }
   ],
   "source": [
    "weather_data.head()"
   ]
  },
  {
   "cell_type": "code",
   "execution_count": 77,
   "metadata": {},
   "outputs": [],
   "source": [
    "# fill NA with 0 for column min_FIRE_SIZE and max_FIRE_SIZE\n",
    "weather_data['min_FIRE_SIZE'] = weather_data['min_FIRE_SIZE'].fillna(0)\n",
    "weather_data['max_FIRE_SIZE'] = weather_data['max_FIRE_SIZE'].fillna(0)"
   ]
  },
  {
   "cell_type": "code",
   "execution_count": 78,
   "metadata": {},
   "outputs": [
    {
     "data": {
      "text/html": [
       "<div>\n",
       "<style scoped>\n",
       "    .dataframe tbody tr th:only-of-type {\n",
       "        vertical-align: middle;\n",
       "    }\n",
       "\n",
       "    .dataframe tbody tr th {\n",
       "        vertical-align: top;\n",
       "    }\n",
       "\n",
       "    .dataframe thead th {\n",
       "        text-align: right;\n",
       "    }\n",
       "</style>\n",
       "<table border=\"1\" class=\"dataframe\">\n",
       "  <thead>\n",
       "    <tr style=\"text-align: right;\">\n",
       "      <th></th>\n",
       "      <th>min_FIRE_SIZE</th>\n",
       "      <th>max_FIRE_SIZE</th>\n",
       "    </tr>\n",
       "    <tr>\n",
       "      <th>IS_FIRE</th>\n",
       "      <th></th>\n",
       "      <th></th>\n",
       "    </tr>\n",
       "  </thead>\n",
       "  <tbody>\n",
       "    <tr>\n",
       "      <th>0</th>\n",
       "      <td>0.000</td>\n",
       "      <td>0.000</td>\n",
       "    </tr>\n",
       "    <tr>\n",
       "      <th>1</th>\n",
       "      <td>8718974.062</td>\n",
       "      <td>9411871.792</td>\n",
       "    </tr>\n",
       "  </tbody>\n",
       "</table>\n",
       "</div>"
      ],
      "text/plain": [
       "         min_FIRE_SIZE  max_FIRE_SIZE\n",
       "IS_FIRE                              \n",
       "0                0.000          0.000\n",
       "1          8718974.062    9411871.792"
      ]
     },
     "execution_count": 78,
     "metadata": {},
     "output_type": "execute_result"
    }
   ],
   "source": [
    "# check the sum of min_FIRE_SIZE and max_FIRE_SIZE grouped by IS_FIRE\n",
    "weather_data.groupby('IS_FIRE').agg({'min_FIRE_SIZE': 'sum', 'max_FIRE_SIZE': 'sum'})"
   ]
  },
  {
   "cell_type": "code",
   "execution_count": 79,
   "metadata": {},
   "outputs": [],
   "source": [
    "input_fire_dir = '../../Clean_Data/Fire_Data/Extended_Fire_Data/'\n",
    "file_name = 'calfire_fod_fpa_1994_2020_fire_label.parquet'\n",
    "weather_data.to_parquet(os.path.join(input_fire_dir, file_name), index=False)"
   ]
  }
 ],
 "metadata": {
  "kernelspec": {
   "display_name": "py311",
   "language": "python",
   "name": "python3"
  },
  "language_info": {
   "codemirror_mode": {
    "name": "ipython",
    "version": 3
   },
   "file_extension": ".py",
   "mimetype": "text/x-python",
   "name": "python",
   "nbconvert_exporter": "python",
   "pygments_lexer": "ipython3",
   "version": "3.11.9"
  }
 },
 "nbformat": 4,
 "nbformat_minor": 2
}
